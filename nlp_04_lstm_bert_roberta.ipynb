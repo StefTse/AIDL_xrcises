{
  "cells": [
    {
      "cell_type": "markdown",
      "metadata": {
        "id": "view-in-github",
        "colab_type": "text"
      },
      "source": [
        "<a href=\"https://colab.research.google.com/github/StefTse/AIDL_xrcises/blob/main/nlp_04_lstm_bert_roberta.ipynb\" target=\"_parent\"><img src=\"https://colab.research.google.com/assets/colab-badge.svg\" alt=\"Open In Colab\"/></a>"
      ]
    },
    {
      "cell_type": "markdown",
      "metadata": {
        "id": "hfJ5-x1CUA29"
      },
      "source": [
        "##Assignment for AIDL_B_C021 (NLP): Intent Classification for Q&As\n",
        "####Stefanos_Tsemperlidis_0035"
      ]
    },
    {
      "cell_type": "markdown",
      "metadata": {
        "id": "YBJj3dHqUdUC"
      },
      "source": [
        "1. Preprocessing"
      ]
    },
    {
      "cell_type": "code",
      "execution_count": 1,
      "metadata": {
        "colab": {
          "base_uri": "https://localhost:8080/"
        },
        "id": "x2xbIQmqGcIa",
        "outputId": "915e2bff-bd91-4cd1-eec1-014550ccb0ac"
      },
      "outputs": [
        {
          "output_type": "stream",
          "name": "stdout",
          "text": [
            "Index(['ID', 'Question', 'Intent'], dtype='object')\n",
            "\n",
            "(4482, 3)\n",
            "         ID                                         Question      Intent\n",
            "0  000_0018                          Is there a parking lot?  Irrelevant\n",
            "1  001_0018                            Is this program easy?  Irrelevant\n",
            "2  002_0018                 Do most students pass the exams?  Irrelevant\n",
            "3  003_0018        How many students are currently enrolled?  Irrelevant\n",
            "4  004_0018  Are there any buses from university to Piraeus?  Irrelevant\n",
            "\n"
          ]
        },
        {
          "output_type": "execute_result",
          "data": {
            "text/plain": [
              "ID          object\n",
              "Question    object\n",
              "Intent      object\n",
              "dtype: object"
            ]
          },
          "metadata": {},
          "execution_count": 1
        }
      ],
      "source": [
        "#Import modules and data\n",
        "import pandas as pd\n",
        "import numpy as np\n",
        "import tensorflow as tf\n",
        "from sklearn.model_selection import train_test_split\n",
        "from tensorflow.keras.preprocessing.text import Tokenizer\n",
        "from tensorflow.keras.preprocessing.sequence import pad_sequences\n",
        "from tensorflow.keras.layers import Embedding, LSTM, Dense, Dropout\n",
        "from tensorflow.keras.optimizers import Adam\n",
        "from tensorflow.keras.models import Sequential\n",
        "from sklearn.metrics import classification_report\n",
        "\n",
        "data=pd.read_csv('/content/cs01_dataset.csv')\n",
        "\n",
        "print(data.columns)\n",
        "print('')\n",
        "print(data.shape)\n",
        "print(data.head())\n",
        "print('')\n",
        "data.dtypes"
      ]
    },
    {
      "cell_type": "code",
      "execution_count": 2,
      "metadata": {
        "colab": {
          "base_uri": "https://localhost:8080/",
          "height": 204
        },
        "id": "R94DaiP5HAKd",
        "outputId": "c9b8a5f2-d7b4-4f84-ef94-2b74525919f6"
      },
      "outputs": [
        {
          "output_type": "execute_result",
          "data": {
            "text/plain": [
              "                                          Question      Intent\n",
              "0                          Is there a parking lot?  Irrelevant\n",
              "1                            Is this program easy?  Irrelevant\n",
              "2                 Do most students pass the exams?  Irrelevant\n",
              "3        How many students are currently enrolled?  Irrelevant\n",
              "4  Are there any buses from university to Piraeus?  Irrelevant"
            ],
            "text/html": [
              "\n",
              "  <div id=\"df-cc0c0a5f-13de-4a84-927c-f7c6e54fb894\">\n",
              "    <div class=\"colab-df-container\">\n",
              "      <div>\n",
              "<style scoped>\n",
              "    .dataframe tbody tr th:only-of-type {\n",
              "        vertical-align: middle;\n",
              "    }\n",
              "\n",
              "    .dataframe tbody tr th {\n",
              "        vertical-align: top;\n",
              "    }\n",
              "\n",
              "    .dataframe thead th {\n",
              "        text-align: right;\n",
              "    }\n",
              "</style>\n",
              "<table border=\"1\" class=\"dataframe\">\n",
              "  <thead>\n",
              "    <tr style=\"text-align: right;\">\n",
              "      <th></th>\n",
              "      <th>Question</th>\n",
              "      <th>Intent</th>\n",
              "    </tr>\n",
              "  </thead>\n",
              "  <tbody>\n",
              "    <tr>\n",
              "      <th>0</th>\n",
              "      <td>Is there a parking lot?</td>\n",
              "      <td>Irrelevant</td>\n",
              "    </tr>\n",
              "    <tr>\n",
              "      <th>1</th>\n",
              "      <td>Is this program easy?</td>\n",
              "      <td>Irrelevant</td>\n",
              "    </tr>\n",
              "    <tr>\n",
              "      <th>2</th>\n",
              "      <td>Do most students pass the exams?</td>\n",
              "      <td>Irrelevant</td>\n",
              "    </tr>\n",
              "    <tr>\n",
              "      <th>3</th>\n",
              "      <td>How many students are currently enrolled?</td>\n",
              "      <td>Irrelevant</td>\n",
              "    </tr>\n",
              "    <tr>\n",
              "      <th>4</th>\n",
              "      <td>Are there any buses from university to Piraeus?</td>\n",
              "      <td>Irrelevant</td>\n",
              "    </tr>\n",
              "  </tbody>\n",
              "</table>\n",
              "</div>\n",
              "      <button class=\"colab-df-convert\" onclick=\"convertToInteractive('df-cc0c0a5f-13de-4a84-927c-f7c6e54fb894')\"\n",
              "              title=\"Convert this dataframe to an interactive table.\"\n",
              "              style=\"display:none;\">\n",
              "        \n",
              "  <svg xmlns=\"http://www.w3.org/2000/svg\" height=\"24px\"viewBox=\"0 0 24 24\"\n",
              "       width=\"24px\">\n",
              "    <path d=\"M0 0h24v24H0V0z\" fill=\"none\"/>\n",
              "    <path d=\"M18.56 5.44l.94 2.06.94-2.06 2.06-.94-2.06-.94-.94-2.06-.94 2.06-2.06.94zm-11 1L8.5 8.5l.94-2.06 2.06-.94-2.06-.94L8.5 2.5l-.94 2.06-2.06.94zm10 10l.94 2.06.94-2.06 2.06-.94-2.06-.94-.94-2.06-.94 2.06-2.06.94z\"/><path d=\"M17.41 7.96l-1.37-1.37c-.4-.4-.92-.59-1.43-.59-.52 0-1.04.2-1.43.59L10.3 9.45l-7.72 7.72c-.78.78-.78 2.05 0 2.83L4 21.41c.39.39.9.59 1.41.59.51 0 1.02-.2 1.41-.59l7.78-7.78 2.81-2.81c.8-.78.8-2.07 0-2.86zM5.41 20L4 18.59l7.72-7.72 1.47 1.35L5.41 20z\"/>\n",
              "  </svg>\n",
              "      </button>\n",
              "      \n",
              "  <style>\n",
              "    .colab-df-container {\n",
              "      display:flex;\n",
              "      flex-wrap:wrap;\n",
              "      gap: 12px;\n",
              "    }\n",
              "\n",
              "    .colab-df-convert {\n",
              "      background-color: #E8F0FE;\n",
              "      border: none;\n",
              "      border-radius: 50%;\n",
              "      cursor: pointer;\n",
              "      display: none;\n",
              "      fill: #1967D2;\n",
              "      height: 32px;\n",
              "      padding: 0 0 0 0;\n",
              "      width: 32px;\n",
              "    }\n",
              "\n",
              "    .colab-df-convert:hover {\n",
              "      background-color: #E2EBFA;\n",
              "      box-shadow: 0px 1px 2px rgba(60, 64, 67, 0.3), 0px 1px 3px 1px rgba(60, 64, 67, 0.15);\n",
              "      fill: #174EA6;\n",
              "    }\n",
              "\n",
              "    [theme=dark] .colab-df-convert {\n",
              "      background-color: #3B4455;\n",
              "      fill: #D2E3FC;\n",
              "    }\n",
              "\n",
              "    [theme=dark] .colab-df-convert:hover {\n",
              "      background-color: #434B5C;\n",
              "      box-shadow: 0px 1px 3px 1px rgba(0, 0, 0, 0.15);\n",
              "      filter: drop-shadow(0px 1px 2px rgba(0, 0, 0, 0.3));\n",
              "      fill: #FFFFFF;\n",
              "    }\n",
              "  </style>\n",
              "\n",
              "      <script>\n",
              "        const buttonEl =\n",
              "          document.querySelector('#df-cc0c0a5f-13de-4a84-927c-f7c6e54fb894 button.colab-df-convert');\n",
              "        buttonEl.style.display =\n",
              "          google.colab.kernel.accessAllowed ? 'block' : 'none';\n",
              "\n",
              "        async function convertToInteractive(key) {\n",
              "          const element = document.querySelector('#df-cc0c0a5f-13de-4a84-927c-f7c6e54fb894');\n",
              "          const dataTable =\n",
              "            await google.colab.kernel.invokeFunction('convertToInteractive',\n",
              "                                                     [key], {});\n",
              "          if (!dataTable) return;\n",
              "\n",
              "          const docLinkHtml = 'Like what you see? Visit the ' +\n",
              "            '<a target=\"_blank\" href=https://colab.research.google.com/notebooks/data_table.ipynb>data table notebook</a>'\n",
              "            + ' to learn more about interactive tables.';\n",
              "          element.innerHTML = '';\n",
              "          dataTable['output_type'] = 'display_data';\n",
              "          await google.colab.output.renderOutput(dataTable, element);\n",
              "          const docLink = document.createElement('div');\n",
              "          docLink.innerHTML = docLinkHtml;\n",
              "          element.appendChild(docLink);\n",
              "        }\n",
              "      </script>\n",
              "    </div>\n",
              "  </div>\n",
              "  "
            ]
          },
          "metadata": {},
          "execution_count": 2
        }
      ],
      "source": [
        "#Remove \"ID\"\n",
        "data_01=data[[\"Question\",'Intent']]\n",
        "data_01.head()"
      ]
    },
    {
      "cell_type": "code",
      "execution_count": 3,
      "metadata": {
        "colab": {
          "base_uri": "https://localhost:8080/"
        },
        "id": "BNFHEqhvHh28",
        "outputId": "dac2594c-e870-48fa-f104-fb31b8e569e7"
      },
      "outputs": [
        {
          "output_type": "execute_result",
          "data": {
            "text/plain": [
              "Question    0\n",
              "Intent      0\n",
              "dtype: int64"
            ]
          },
          "metadata": {},
          "execution_count": 3
        }
      ],
      "source": [
        "data_01.isnull().sum()"
      ]
    },
    {
      "cell_type": "code",
      "execution_count": 4,
      "metadata": {
        "colab": {
          "base_uri": "https://localhost:8080/"
        },
        "id": "PXUE_EWFEZYF",
        "outputId": "129f5c97-ecef-4f71-d696-e827365d9daa"
      },
      "outputs": [
        {
          "output_type": "execute_result",
          "data": {
            "text/plain": [
              "(4403, 2)"
            ]
          },
          "metadata": {},
          "execution_count": 4
        }
      ],
      "source": [
        "#Remove duplicates\n",
        "data_02=data_01.drop_duplicates(subset=['Question'])\n",
        "data_02.shape"
      ]
    },
    {
      "cell_type": "code",
      "execution_count": 5,
      "metadata": {
        "colab": {
          "base_uri": "https://localhost:8080/"
        },
        "id": "qRbs76q6Hkc0",
        "outputId": "94ef2ee7-c26f-4df3-fe6b-a7f09e2c6685"
      },
      "outputs": [
        {
          "output_type": "stream",
          "name": "stdout",
          "text": [
            "Instances per intent\n",
            "Instructors     571\n",
            "Curriculum      529\n",
            "Irrelevant      445\n",
            "Applications    440\n",
            "Schedule        437\n",
            "Documents       430\n",
            "Contact         424\n",
            "Fees            397\n",
            "Invited         365\n",
            "Registry        365\n",
            "Name: Intent, dtype: int64\n",
            "\n",
            "Intent percentage (%)\n",
            "Instructors     13.0\n",
            "Curriculum      12.0\n",
            "Irrelevant      10.0\n",
            "Applications    10.0\n",
            "Schedule        10.0\n",
            "Documents       10.0\n",
            "Contact         10.0\n",
            "Fees             9.0\n",
            "Invited          8.0\n",
            "Registry         8.0\n",
            "Name: Intent, dtype: float64\n"
          ]
        }
      ],
      "source": [
        "#Check instances \n",
        "print('Instances per intent')\n",
        "print(data_02['Intent'].value_counts())\n",
        "x=data_02['Intent'].value_counts()\n",
        "y=(x/4403)*100\n",
        "print('')\n",
        "print('Intent percentage (%)')\n",
        "print(round(y,0))"
      ]
    },
    {
      "cell_type": "code",
      "execution_count": 6,
      "metadata": {
        "colab": {
          "base_uri": "https://localhost:8080/",
          "height": 204
        },
        "id": "J_iYZ2QiHnRN",
        "outputId": "5c8c8367-2025-4ba5-dffb-a23ab7f40c10"
      },
      "outputs": [
        {
          "output_type": "execute_result",
          "data": {
            "text/plain": [
              "                                          Question      Intent\n",
              "0                          Is there a parking lot?  Irrelevant\n",
              "1                            Is this program easy?  Irrelevant\n",
              "2                 Do most students pass the exams?  Irrelevant\n",
              "3        How many students are currently enrolled?  Irrelevant\n",
              "4  Are there any buses from university to Piraeus?  Irrelevant"
            ],
            "text/html": [
              "\n",
              "  <div id=\"df-b02fd1fc-146a-4c48-bfcd-f0e22dc7a76f\">\n",
              "    <div class=\"colab-df-container\">\n",
              "      <div>\n",
              "<style scoped>\n",
              "    .dataframe tbody tr th:only-of-type {\n",
              "        vertical-align: middle;\n",
              "    }\n",
              "\n",
              "    .dataframe tbody tr th {\n",
              "        vertical-align: top;\n",
              "    }\n",
              "\n",
              "    .dataframe thead th {\n",
              "        text-align: right;\n",
              "    }\n",
              "</style>\n",
              "<table border=\"1\" class=\"dataframe\">\n",
              "  <thead>\n",
              "    <tr style=\"text-align: right;\">\n",
              "      <th></th>\n",
              "      <th>Question</th>\n",
              "      <th>Intent</th>\n",
              "    </tr>\n",
              "  </thead>\n",
              "  <tbody>\n",
              "    <tr>\n",
              "      <th>0</th>\n",
              "      <td>Is there a parking lot?</td>\n",
              "      <td>Irrelevant</td>\n",
              "    </tr>\n",
              "    <tr>\n",
              "      <th>1</th>\n",
              "      <td>Is this program easy?</td>\n",
              "      <td>Irrelevant</td>\n",
              "    </tr>\n",
              "    <tr>\n",
              "      <th>2</th>\n",
              "      <td>Do most students pass the exams?</td>\n",
              "      <td>Irrelevant</td>\n",
              "    </tr>\n",
              "    <tr>\n",
              "      <th>3</th>\n",
              "      <td>How many students are currently enrolled?</td>\n",
              "      <td>Irrelevant</td>\n",
              "    </tr>\n",
              "    <tr>\n",
              "      <th>4</th>\n",
              "      <td>Are there any buses from university to Piraeus?</td>\n",
              "      <td>Irrelevant</td>\n",
              "    </tr>\n",
              "  </tbody>\n",
              "</table>\n",
              "</div>\n",
              "      <button class=\"colab-df-convert\" onclick=\"convertToInteractive('df-b02fd1fc-146a-4c48-bfcd-f0e22dc7a76f')\"\n",
              "              title=\"Convert this dataframe to an interactive table.\"\n",
              "              style=\"display:none;\">\n",
              "        \n",
              "  <svg xmlns=\"http://www.w3.org/2000/svg\" height=\"24px\"viewBox=\"0 0 24 24\"\n",
              "       width=\"24px\">\n",
              "    <path d=\"M0 0h24v24H0V0z\" fill=\"none\"/>\n",
              "    <path d=\"M18.56 5.44l.94 2.06.94-2.06 2.06-.94-2.06-.94-.94-2.06-.94 2.06-2.06.94zm-11 1L8.5 8.5l.94-2.06 2.06-.94-2.06-.94L8.5 2.5l-.94 2.06-2.06.94zm10 10l.94 2.06.94-2.06 2.06-.94-2.06-.94-.94-2.06-.94 2.06-2.06.94z\"/><path d=\"M17.41 7.96l-1.37-1.37c-.4-.4-.92-.59-1.43-.59-.52 0-1.04.2-1.43.59L10.3 9.45l-7.72 7.72c-.78.78-.78 2.05 0 2.83L4 21.41c.39.39.9.59 1.41.59.51 0 1.02-.2 1.41-.59l7.78-7.78 2.81-2.81c.8-.78.8-2.07 0-2.86zM5.41 20L4 18.59l7.72-7.72 1.47 1.35L5.41 20z\"/>\n",
              "  </svg>\n",
              "      </button>\n",
              "      \n",
              "  <style>\n",
              "    .colab-df-container {\n",
              "      display:flex;\n",
              "      flex-wrap:wrap;\n",
              "      gap: 12px;\n",
              "    }\n",
              "\n",
              "    .colab-df-convert {\n",
              "      background-color: #E8F0FE;\n",
              "      border: none;\n",
              "      border-radius: 50%;\n",
              "      cursor: pointer;\n",
              "      display: none;\n",
              "      fill: #1967D2;\n",
              "      height: 32px;\n",
              "      padding: 0 0 0 0;\n",
              "      width: 32px;\n",
              "    }\n",
              "\n",
              "    .colab-df-convert:hover {\n",
              "      background-color: #E2EBFA;\n",
              "      box-shadow: 0px 1px 2px rgba(60, 64, 67, 0.3), 0px 1px 3px 1px rgba(60, 64, 67, 0.15);\n",
              "      fill: #174EA6;\n",
              "    }\n",
              "\n",
              "    [theme=dark] .colab-df-convert {\n",
              "      background-color: #3B4455;\n",
              "      fill: #D2E3FC;\n",
              "    }\n",
              "\n",
              "    [theme=dark] .colab-df-convert:hover {\n",
              "      background-color: #434B5C;\n",
              "      box-shadow: 0px 1px 3px 1px rgba(0, 0, 0, 0.15);\n",
              "      filter: drop-shadow(0px 1px 2px rgba(0, 0, 0, 0.3));\n",
              "      fill: #FFFFFF;\n",
              "    }\n",
              "  </style>\n",
              "\n",
              "      <script>\n",
              "        const buttonEl =\n",
              "          document.querySelector('#df-b02fd1fc-146a-4c48-bfcd-f0e22dc7a76f button.colab-df-convert');\n",
              "        buttonEl.style.display =\n",
              "          google.colab.kernel.accessAllowed ? 'block' : 'none';\n",
              "\n",
              "        async function convertToInteractive(key) {\n",
              "          const element = document.querySelector('#df-b02fd1fc-146a-4c48-bfcd-f0e22dc7a76f');\n",
              "          const dataTable =\n",
              "            await google.colab.kernel.invokeFunction('convertToInteractive',\n",
              "                                                     [key], {});\n",
              "          if (!dataTable) return;\n",
              "\n",
              "          const docLinkHtml = 'Like what you see? Visit the ' +\n",
              "            '<a target=\"_blank\" href=https://colab.research.google.com/notebooks/data_table.ipynb>data table notebook</a>'\n",
              "            + ' to learn more about interactive tables.';\n",
              "          element.innerHTML = '';\n",
              "          dataTable['output_type'] = 'display_data';\n",
              "          await google.colab.output.renderOutput(dataTable, element);\n",
              "          const docLink = document.createElement('div');\n",
              "          docLink.innerHTML = docLinkHtml;\n",
              "          element.appendChild(docLink);\n",
              "        }\n",
              "      </script>\n",
              "    </div>\n",
              "  </div>\n",
              "  "
            ]
          },
          "metadata": {},
          "execution_count": 6
        }
      ],
      "source": [
        "data_02.head()"
      ]
    },
    {
      "cell_type": "code",
      "execution_count": 7,
      "metadata": {
        "colab": {
          "base_uri": "https://localhost:8080/",
          "height": 204
        },
        "id": "3wjLJyOkHpsy",
        "outputId": "d3767613-c47d-416e-f029-ae88006efc8c"
      },
      "outputs": [
        {
          "output_type": "execute_result",
          "data": {
            "text/plain": [
              "                                          Question  Intent\n",
              "0                          Is there a parking lot?       2\n",
              "1                            Is this program easy?       2\n",
              "2                 Do most students pass the exams?       2\n",
              "3        How many students are currently enrolled?       2\n",
              "4  Are there any buses from university to Piraeus?       2"
            ],
            "text/html": [
              "\n",
              "  <div id=\"df-c410879e-45dd-4b47-bedf-a06bb39cc2e1\">\n",
              "    <div class=\"colab-df-container\">\n",
              "      <div>\n",
              "<style scoped>\n",
              "    .dataframe tbody tr th:only-of-type {\n",
              "        vertical-align: middle;\n",
              "    }\n",
              "\n",
              "    .dataframe tbody tr th {\n",
              "        vertical-align: top;\n",
              "    }\n",
              "\n",
              "    .dataframe thead th {\n",
              "        text-align: right;\n",
              "    }\n",
              "</style>\n",
              "<table border=\"1\" class=\"dataframe\">\n",
              "  <thead>\n",
              "    <tr style=\"text-align: right;\">\n",
              "      <th></th>\n",
              "      <th>Question</th>\n",
              "      <th>Intent</th>\n",
              "    </tr>\n",
              "  </thead>\n",
              "  <tbody>\n",
              "    <tr>\n",
              "      <th>0</th>\n",
              "      <td>Is there a parking lot?</td>\n",
              "      <td>2</td>\n",
              "    </tr>\n",
              "    <tr>\n",
              "      <th>1</th>\n",
              "      <td>Is this program easy?</td>\n",
              "      <td>2</td>\n",
              "    </tr>\n",
              "    <tr>\n",
              "      <th>2</th>\n",
              "      <td>Do most students pass the exams?</td>\n",
              "      <td>2</td>\n",
              "    </tr>\n",
              "    <tr>\n",
              "      <th>3</th>\n",
              "      <td>How many students are currently enrolled?</td>\n",
              "      <td>2</td>\n",
              "    </tr>\n",
              "    <tr>\n",
              "      <th>4</th>\n",
              "      <td>Are there any buses from university to Piraeus?</td>\n",
              "      <td>2</td>\n",
              "    </tr>\n",
              "  </tbody>\n",
              "</table>\n",
              "</div>\n",
              "      <button class=\"colab-df-convert\" onclick=\"convertToInteractive('df-c410879e-45dd-4b47-bedf-a06bb39cc2e1')\"\n",
              "              title=\"Convert this dataframe to an interactive table.\"\n",
              "              style=\"display:none;\">\n",
              "        \n",
              "  <svg xmlns=\"http://www.w3.org/2000/svg\" height=\"24px\"viewBox=\"0 0 24 24\"\n",
              "       width=\"24px\">\n",
              "    <path d=\"M0 0h24v24H0V0z\" fill=\"none\"/>\n",
              "    <path d=\"M18.56 5.44l.94 2.06.94-2.06 2.06-.94-2.06-.94-.94-2.06-.94 2.06-2.06.94zm-11 1L8.5 8.5l.94-2.06 2.06-.94-2.06-.94L8.5 2.5l-.94 2.06-2.06.94zm10 10l.94 2.06.94-2.06 2.06-.94-2.06-.94-.94-2.06-.94 2.06-2.06.94z\"/><path d=\"M17.41 7.96l-1.37-1.37c-.4-.4-.92-.59-1.43-.59-.52 0-1.04.2-1.43.59L10.3 9.45l-7.72 7.72c-.78.78-.78 2.05 0 2.83L4 21.41c.39.39.9.59 1.41.59.51 0 1.02-.2 1.41-.59l7.78-7.78 2.81-2.81c.8-.78.8-2.07 0-2.86zM5.41 20L4 18.59l7.72-7.72 1.47 1.35L5.41 20z\"/>\n",
              "  </svg>\n",
              "      </button>\n",
              "      \n",
              "  <style>\n",
              "    .colab-df-container {\n",
              "      display:flex;\n",
              "      flex-wrap:wrap;\n",
              "      gap: 12px;\n",
              "    }\n",
              "\n",
              "    .colab-df-convert {\n",
              "      background-color: #E8F0FE;\n",
              "      border: none;\n",
              "      border-radius: 50%;\n",
              "      cursor: pointer;\n",
              "      display: none;\n",
              "      fill: #1967D2;\n",
              "      height: 32px;\n",
              "      padding: 0 0 0 0;\n",
              "      width: 32px;\n",
              "    }\n",
              "\n",
              "    .colab-df-convert:hover {\n",
              "      background-color: #E2EBFA;\n",
              "      box-shadow: 0px 1px 2px rgba(60, 64, 67, 0.3), 0px 1px 3px 1px rgba(60, 64, 67, 0.15);\n",
              "      fill: #174EA6;\n",
              "    }\n",
              "\n",
              "    [theme=dark] .colab-df-convert {\n",
              "      background-color: #3B4455;\n",
              "      fill: #D2E3FC;\n",
              "    }\n",
              "\n",
              "    [theme=dark] .colab-df-convert:hover {\n",
              "      background-color: #434B5C;\n",
              "      box-shadow: 0px 1px 3px 1px rgba(0, 0, 0, 0.15);\n",
              "      filter: drop-shadow(0px 1px 2px rgba(0, 0, 0, 0.3));\n",
              "      fill: #FFFFFF;\n",
              "    }\n",
              "  </style>\n",
              "\n",
              "      <script>\n",
              "        const buttonEl =\n",
              "          document.querySelector('#df-c410879e-45dd-4b47-bedf-a06bb39cc2e1 button.colab-df-convert');\n",
              "        buttonEl.style.display =\n",
              "          google.colab.kernel.accessAllowed ? 'block' : 'none';\n",
              "\n",
              "        async function convertToInteractive(key) {\n",
              "          const element = document.querySelector('#df-c410879e-45dd-4b47-bedf-a06bb39cc2e1');\n",
              "          const dataTable =\n",
              "            await google.colab.kernel.invokeFunction('convertToInteractive',\n",
              "                                                     [key], {});\n",
              "          if (!dataTable) return;\n",
              "\n",
              "          const docLinkHtml = 'Like what you see? Visit the ' +\n",
              "            '<a target=\"_blank\" href=https://colab.research.google.com/notebooks/data_table.ipynb>data table notebook</a>'\n",
              "            + ' to learn more about interactive tables.';\n",
              "          element.innerHTML = '';\n",
              "          dataTable['output_type'] = 'display_data';\n",
              "          await google.colab.output.renderOutput(dataTable, element);\n",
              "          const docLink = document.createElement('div');\n",
              "          docLink.innerHTML = docLinkHtml;\n",
              "          element.appendChild(docLink);\n",
              "        }\n",
              "      </script>\n",
              "    </div>\n",
              "  </div>\n",
              "  "
            ]
          },
          "metadata": {},
          "execution_count": 7
        }
      ],
      "source": [
        "# Replacing intent text values to numerical \n",
        "data_03=data_02.replace({\"Instructors\":0,\"Curriculum\":1,\"Irrelevant\":2, \"Applications\":3, \"Schedule\":4, \n",
        "                         \"Documents\":5, \"Contact\":6, \"Fees\":7, \"Invited\":8, \"Registry\":9 })\n",
        "data_03.head()"
      ]
    },
    {
      "cell_type": "code",
      "execution_count": 8,
      "metadata": {
        "id": "mwgWsdtRHuj8"
      },
      "outputs": [],
      "source": [
        "# train, validation and test split dataset\n",
        "x_train, x_test, y_train, y_test = train_test_split(data_03[\"Question\"], data_03[\"Intent\"], test_size = 0.1, shuffle=True, random_state = 1)\n",
        "x_train, x_val, y_train, y_val = train_test_split(x_train, y_train, test_size = 0.1, shuffle=True, random_state = 1) \n"
      ]
    },
    {
      "cell_type": "code",
      "execution_count": 9,
      "metadata": {
        "colab": {
          "base_uri": "https://localhost:8080/"
        },
        "id": "mV0URyymNL13",
        "outputId": "719b90e9-6c0a-47ec-cebd-8e1df0ea19df"
      },
      "outputs": [
        {
          "output_type": "execute_result",
          "data": {
            "text/plain": [
              "((3565,), (397,), (441,), (3565,), (397,), (441,))"
            ]
          },
          "metadata": {},
          "execution_count": 9
        }
      ],
      "source": [
        "x_train.shape, x_val.shape, x_test.shape, y_train.shape, y_val.shape, y_test.shape"
      ]
    },
    {
      "cell_type": "code",
      "execution_count": 10,
      "metadata": {
        "colab": {
          "base_uri": "https://localhost:8080/"
        },
        "id": "mNE8SoynHvUH",
        "outputId": "fd1c853d-ff6e-4292-b412-e30ed04bd3a4"
      },
      "outputs": [
        {
          "output_type": "stream",
          "name": "stderr",
          "text": [
            "[nltk_data] Downloading package stopwords to /root/nltk_data...\n",
            "[nltk_data]   Unzipping corpora/stopwords.zip.\n",
            "[nltk_data] Downloading package punkt to /root/nltk_data...\n",
            "[nltk_data]   Unzipping tokenizers/punkt.zip.\n"
          ]
        },
        {
          "output_type": "stream",
          "name": "stdout",
          "text": [
            "['i', 'me', 'my', 'myself', 'we', 'our', 'ours', 'ourselves', 'you', \"you're\", \"you've\", \"you'll\", \"you'd\", 'your', 'yours', 'yourself', 'yourselves', 'he', 'him', 'his', 'himself', 'she', \"she's\", 'her', 'hers', 'herself', 'it', \"it's\", 'its', 'itself', 'they', 'them', 'their', 'theirs', 'themselves', 'what', 'which', 'who', 'whom', 'this', 'that', \"that'll\", 'these', 'those', 'am', 'is', 'are', 'was', 'were', 'be', 'been', 'being', 'have', 'has', 'had', 'having', 'do', 'does', 'did', 'doing', 'a', 'an', 'the', 'and', 'but', 'if', 'or', 'because', 'as', 'until', 'while', 'of', 'at', 'by', 'for', 'with', 'about', 'against', 'between', 'into', 'through', 'during', 'before', 'after', 'above', 'below', 'to', 'from', 'up', 'down', 'in', 'out', 'on', 'off', 'over', 'under', 'again', 'further', 'then', 'once', 'here', 'there', 'when', 'where', 'why', 'how', 'all', 'any', 'both', 'each', 'few', 'more', 'most', 'other', 'some', 'such', 'no', 'nor', 'not', 'only', 'own', 'same', 'so', 'than', 'too', 'very', 's', 't', 'can', 'will', 'just', 'don', \"don't\", 'should', \"should've\", 'now', 'd', 'll', 'm', 'o', 're', 've', 'y', 'ain', 'aren', \"aren't\", 'couldn', \"couldn't\", 'didn', \"didn't\", 'doesn', \"doesn't\", 'hadn', \"hadn't\", 'hasn', \"hasn't\", 'haven', \"haven't\", 'isn', \"isn't\", 'ma', 'mightn', \"mightn't\", 'mustn', \"mustn't\", 'needn', \"needn't\", 'shan', \"shan't\", 'shouldn', \"shouldn't\", 'wasn', \"wasn't\", 'weren', \"weren't\", 'won', \"won't\", 'wouldn', \"wouldn't\"]\n"
          ]
        }
      ],
      "source": [
        "import re\n",
        "from collections import Counter\n",
        "import nltk\n",
        "nltk.download('stopwords')\n",
        "from nltk.corpus import stopwords\n",
        "nltk.download('punkt')\n",
        "from nltk.tokenize import word_tokenize\n",
        "print(stopwords.words('english'))\n",
        "stop_words = stopwords.words('english')"
      ]
    },
    {
      "cell_type": "code",
      "execution_count": 11,
      "metadata": {
        "colab": {
          "base_uri": "https://localhost:8080/"
        },
        "id": "_AynjBj1H9GL",
        "outputId": "28b17119-b45a-44b1-c735-d47e9d21a1c2"
      },
      "outputs": [
        {
          "output_type": "execute_result",
          "data": {
            "text/plain": [
              "164      send spring semester schedule \n",
              "3048                            hunrgy \n",
              "3812       tell papageorgas panagiotis \n",
              "2311    find list classes m registered \n",
              "3783                   excused tuition \n",
              "Name: Question, dtype: object"
            ]
          },
          "metadata": {},
          "execution_count": 11
        }
      ],
      "source": [
        "def preprocess(text):\n",
        "  text = nltk.word_tokenize(text.lower()) #lower case\n",
        "  text = [w for w in text if not w in stop_words]\n",
        "  text = (\" \").join(text)\n",
        "  text = re.sub(r\"[^a-zA-Z0-9.!?]+\", r\" \", text)\n",
        "  text = re.sub(r\"\\s+\", r\" \", text).strip()\n",
        "  text = re.sub(r'[^\\w\\s]', '', text)\n",
        "  \n",
        "  return text\n",
        "\n",
        "x_train = x_train.apply(preprocess)\n",
        "x_val =x_val.apply(preprocess)\n",
        "x_test = x_test.apply(preprocess)\n",
        "\n",
        "x_train.head()"
      ]
    },
    {
      "cell_type": "code",
      "execution_count": 12,
      "metadata": {
        "colab": {
          "base_uri": "https://localhost:8080/"
        },
        "id": "5E2kI_4ZXccc",
        "outputId": "2e3f5d00-0f86-417b-c9f6-bf029b3753e1"
      },
      "outputs": [
        {
          "output_type": "execute_result",
          "data": {
            "text/plain": [
              "Counter({'send spring semester schedule ': 1,\n",
              "         'hunrgy ': 1,\n",
              "         'tell papageorgas panagiotis ': 1,\n",
              "         'find list classes m registered ': 1,\n",
              "         'excused tuition ': 1,\n",
              "         'rearrange interview date': 1,\n",
              "         'may call info ': 1,\n",
              "         'want information week scheduling ': 1,\n",
              "         'buses university piraeus ': 1,\n",
              "         'phone number mr patrikakis ': 1,\n",
              "         'applicants invitation': 1,\n",
              "         'd like see list instructors ': 1,\n",
              "         'get application course modification ': 1,\n",
              "         'courses minor autonomous system include ': 1,\n",
              "         'astrological sign ': 1,\n",
              "         'courses professor papadopoulos teaching ': 1,\n",
              "         'email address mr kasnesis ': 1,\n",
              "         'non eu national need pay ': 1,\n",
              "         'read tuition fees regulations ': 1,\n",
              "         'email adress mr kasnesis ': 1,\n",
              "         'check grades ': 1,\n",
              "         'see exams dates': 1,\n",
              "         'courses professor ganetsos teaching ': 1,\n",
              "         'contact details': 1,\n",
              "         'long curriculum available internet ': 1,\n",
              "         'dimitrios piromalis s email ': 1,\n",
              "         'possible reach someone phone ': 1,\n",
              "         'contact ask info': 1,\n",
              "         'evaluate instructors ': 2,\n",
              "         'many credits get first semester ': 1,\n",
              "         'offer choice minors ': 1,\n",
              "         'find information autonomous systems ': 1,\n",
              "         'call apllications announced ': 1,\n",
              "         'given wearables supports use artificial intelligence ': 1,\n",
              "         'lecturers invited courses ': 1,\n",
              "         'according official document msc msc study regulation ': 1,\n",
              "         'contact details theodore ganetsos ': 1,\n",
              "         'scientific field kassesis conducting research ': 1,\n",
              "         'see ects class ': 1,\n",
              "         'pay tuition fees via e banking ': 1,\n",
              "         'modules date current advancements ': 1,\n",
              "         'give info instructors ': 1,\n",
              "         'instructions tuition fee payments ': 1,\n",
              "         'restaurant ': 1,\n",
              "         'ca n t find contact information': 1,\n",
              "         'see many times absent course aidl b cs03 ': 1,\n",
              "         'find personal information ': 1,\n",
              "         'topics program focus ': 1,\n",
              "         'paraskevi zacharia s email ': 1,\n",
              "         'classes courses scheduled thursday ': 1,\n",
              "         'show grade average ': 1,\n",
              "         'want submit course registration ': 1,\n",
              "         'topics invited address ': 1,\n",
              "         'sould pay tutionfees ': 1,\n",
              "         'prof patrikakis phone number contact': 1,\n",
              "         'msc free ': 2,\n",
              "         'grade aidl a06': 1,\n",
              "         'find exams calendar ': 1,\n",
              "         'prove knowledge english ': 1,\n",
              "         'ancient ancient olive grove ': 1,\n",
              "         'price msc program ': 1,\n",
              "         'instructors every semester ': 1,\n",
              "         'course wearable affective computing ': 2,\n",
              "         'obtain documents applications ': 1,\n",
              "         'find postgrad related documents ': 1,\n",
              "         'volley ': 1,\n",
              "         'days courses ': 1,\n",
              "         'tuition fees ': 2,\n",
              "         'find student details ': 1,\n",
              "         'studied course natural language processing deep learning ': 1,\n",
              "         'looking waiver document ': 1,\n",
              "         'speak someone person ': 1,\n",
              "         'days lessons take place ': 1,\n",
              "         'charalampos z patrikakis resume ': 1,\n",
              "         'grade diploma ': 1,\n",
              "         'michael kounavis attend program guest speaker': 1,\n",
              "         'submit documents along submission application form ': 1,\n",
              "         'forgot exam candidate number find ': 1,\n",
              "         'istructor s capability conducting lesson via ms teams ': 1,\n",
              "         'contact istructor order extend assignment submission ': 1,\n",
              "         'meaning life ': 1,\n",
              "         'interview process involve ': 1,\n",
              "         'get documents regulation ': 1,\n",
              "         'get details registration application ': 1,\n",
              "         'get contact ': 1,\n",
              "         'campus': 1,\n",
              "         'need info courses': 1,\n",
              "         'wait next year apply program ': 1,\n",
              "         'visit ask question': 1,\n",
              "         'find courses program includes ': 1,\n",
              "         'verveniotis studied ': 1,\n",
              "         'big data courses included': 1,\n",
              "         'many semesters master consist ': 1,\n",
              "         'contact form ': 3,\n",
              "         'sorin adam mateiattend invited lecturer year ': 1,\n",
              "         'winter semester classes end ': 1,\n",
              "         'phone number prof papageorgas panagiotis ': 1,\n",
              "         'interview prospective students ': 1,\n",
              "         'number charalampos z patrikakis ': 1,\n",
              "         'available tests curriculum comprehension many questions available ': 1,\n",
              "         'find information applying course ': 1,\n",
              "         'get go vacation ': 1,\n",
              "         'affective computing ': 1,\n",
              "         'submit application ': 3,\n",
              "         'interview assessed ': 1,\n",
              "         'applications open right': 1,\n",
              "         'grading scale ': 1,\n",
              "         'still possible apply msc ': 1,\n",
              "         'timetable courses ': 1,\n",
              "         'n t mean': 1,\n",
              "         'contact lecturer invited today ': 1,\n",
              "         'many women teaching master ': 1,\n",
              "         'university closed xmas ': 1,\n",
              "         'master s easy ': 1,\n",
              "         'would like see research work guest lecturers ': 1,\n",
              "         'student identification number': 1,\n",
              "         'steps selection process': 1,\n",
              "         'courses exist minor cognitive systems ': 1,\n",
              "         'much money program cost ': 1,\n",
              "         'ask questions ': 2,\n",
              "         'spyros polykalas electrical computer engineer ': 1,\n",
              "         'services available student portal ': 1,\n",
              "         'want contact info mr nikolaou': 1,\n",
              "         'courses professor patrikakis teaching ': 1,\n",
              "         'install linux ': 1,\n",
              "         'courses available people disabilities ': 1,\n",
              "         'applications open ': 3,\n",
              "         'day course platforms ai python programming take place ': 1,\n",
              "         'ca n t find anything': 1,\n",
              "         'supposed class ': 1,\n",
              "         'attend program free ': 1,\n",
              "         'change courses already selected': 1,\n",
              "         'many installments pay first semester ': 1,\n",
              "         'program many visiting professors part ': 1,\n",
              "         'check many ects collected far ': 1,\n",
              "         'email adress mrs leligkou ': 1,\n",
              "         'vegetarian eat ': 1,\n",
              "         'classes courses scheduled tuesday ': 1,\n",
              "         'apply program ': 5,\n",
              "         'time classes end christmas ': 1,\n",
              "         'make payments advance': 1,\n",
              "         'application form modifying selected courses ': 1,\n",
              "         'participate online case living abroad ': 1,\n",
              "         'many students get tuition fee waiver ': 2,\n",
              "         'find research studies instructors ': 1,\n",
              "         'academic semester ': 1,\n",
              "         'possible contact guest lecturer ': 1,\n",
              "         'choose classes take semester ': 1,\n",
              "         'pay tuition fees advance ': 1,\n",
              "         'michalis feidakis among instructors msc ': 1,\n",
              "         'documents submit successfully apply program ': 1,\n",
              "         'applicationss aidl program open ': 1,\n",
              "         'ammount fees depend individual income ': 1,\n",
              "         'total cost programme ': 1,\n",
              "         'university near means transportation ': 1,\n",
              "         'find list supplementary documents need submit along thesis ': 1,\n",
              "         'much cost program ': 1,\n",
              "         'many students university ': 2,\n",
              "         'need conduct interview join msc ': 1,\n",
              "         'admission fees ': 1,\n",
              "         'syllabus natural language processing deep learning ': 1,\n",
              "         'find information professor papadopoulos ': 1,\n",
              "         'access student record ': 2,\n",
              "         'dealing computer vision ': 1,\n",
              "         'type course examination ': 1,\n",
              "         'tuition fee 3000 euros ofr aidl ': 1,\n",
              "         'thesis application proposal please ': 1,\n",
              "         'contact information ': 2,\n",
              "         'find information professor feidakis ': 1,\n",
              "         'classes take place every day ': 1,\n",
              "         'machine learning related courses program ': 1,\n",
              "         'lessons autonomous systems ': 1,\n",
              "         'access people special needs ': 1,\n",
              "         'course regarding application ai wearables': 1,\n",
              "         'assesment application process': 1,\n",
              "         'need form apply ': 1,\n",
              "         'georgios priniotakis instructor ': 1,\n",
              "         'need application document modify course selection': 1,\n",
              "         'courses fail ': 1,\n",
              "         'contact details kaminaris stavros': 1,\n",
              "         'would like know lecturers coming workshops': 1,\n",
              "         'possible someone disabillities apply ': 1,\n",
              "         'application file contain ': 1,\n",
              "         'mr papadopoulos teach course mathematics machine learning ': 1,\n",
              "         'want send email professor vassiliadis ': 1,\n",
              "         'want know hour b cs01 course starts ': 1,\n",
              "         'well educated pericles papadopoulos ': 1,\n",
              "         'wifi connection available courses ': 1,\n",
              "         'address information program ': 1,\n",
              "         'find results exams ': 1,\n",
              "         'many ects course aidl a05 ': 1,\n",
              "         'guest speakers universities abroad ': 1,\n",
              "         'would like information ect courses ': 1,\n",
              "         'many modules delivered one semester ': 1,\n",
              "         'regulation preparing master s thesis ': 1,\n",
              "         'find schedule ': 1,\n",
              "         'n t recieved bachelor yet want apply': 1,\n",
              "         'find latest advances field ai ': 1,\n",
              "         'master thesis ': 1,\n",
              "         'much cost ': 1,\n",
              "         'register spring semester ': 1,\n",
              "         'semester admition ': 1,\n",
              "         'want know michael kounavis': 1,\n",
              "         'lessons take place ': 1,\n",
              "         'room artificial intelligence healthcare biometrics take place ': 1,\n",
              "         'teaches aidl 03 ': 1,\n",
              "         'many invited lecturers ther ': 1,\n",
              "         'contact instructor ': 2,\n",
              "         'get application msc thesis': 1,\n",
              "         'subjects studied semester ': 1,\n",
              "         'visitor university england ': 1,\n",
              "         'today aidl a05 aidl a06 ': 1,\n",
              "         'check available scholarships ': 1,\n",
              "         'thesis evaluated ': 2,\n",
              "         'music department ': 1,\n",
              "         'weather ': 1,\n",
              "         'pay master programme s fees front ': 1,\n",
              "         'semesters like ': 1,\n",
              "         'cat ': 1,\n",
              "         'get application thesis submition': 1,\n",
              "         'find templates order submit thesis ': 1,\n",
              "         'applications deadline': 1,\n",
              "         's price ': 1,\n",
              "         'jeff bezos list invited lecturers ': 1,\n",
              "         'classes christmas period ': 1,\n",
              "         'courses available program': 1,\n",
              "         'maximum number students attend program year ': 1,\n",
              "         'official regulation document aidl ': 1,\n",
              "         'find certificate includes scores courses ': 1,\n",
              "         'weather like ': 1,\n",
              "         'want speak bot speak real person guidance ': 1,\n",
              "         'access grades ': 1,\n",
              "         'find announced thesis topics ': 1,\n",
              "         'find charalampos patrikakis ': 1,\n",
              "         'many instructors program ': 1,\n",
              "         'contact professor leligou': 1,\n",
              "         'swimming pool ': 1,\n",
              "         'stavros kaminaris s email ': 1,\n",
              "         'ways contact university ': 1,\n",
              "         'passed courses presented thesis need apply graduation': 1,\n",
              "         'nelly leligou research work ': 1,\n",
              "         'room fundamentals ai machine learning take place ': 1,\n",
              "         'criteria must met qualify fee exemption ': 1,\n",
              "         'study cycle start ': 1,\n",
              "         'artificial intelligence healthcare biometrics ': 1,\n",
              "         'courses included third semester ': 1,\n",
              "         'courses included autonomous systems ': 1,\n",
              "         'find student number ': 1,\n",
              "         'see external specialists invited lecture msc ': 1,\n",
              "         'progam regulations ': 1,\n",
              "         'many credits module ': 2,\n",
              "         'learning objectives course ': 1,\n",
              "         'schedule includes holidays ': 1,\n",
              "         'cantact see m eligible 30 discount ': 1,\n",
              "         'matsopoulos teaching biometrics ': 1,\n",
              "         's semester ': 1,\n",
              "         'campus map ': 1,\n",
              "         'use portal': 1,\n",
              "         'many courses mr ganetsos care ': 1,\n",
              "         'information confirm graduation application ': 1,\n",
              "         'find information jim kyung soo liew ': 1,\n",
              "         'email aidl ': 1,\n",
              "         'tell name invited lecturer ': 1,\n",
              "         'apply even though n t c1 english ': 1,\n",
              "         'new schedule released ': 1,\n",
              "         'class arrangment per course ': 1,\n",
              "         'certificate studies ': 1,\n",
              "         'view average grade ': 1,\n",
              "         's telephone number ': 1,\n",
              "         'location msc held ': 1,\n",
              "         'need apply course ': 1,\n",
              "         'find template documents assignments submission ': 1,\n",
              "         'subjects guest speakers experts ': 1,\n",
              "         'rights aidl students ': 1,\n",
              "         'many instructors program men ': 1,\n",
              "         'professors universities': 1,\n",
              "         'could please inform selection process ': 1,\n",
              "         'academic level maria rangoussi ': 1,\n",
              "         'find courses selected semester ': 1,\n",
              "         'get touch professor invited last week ': 1,\n",
              "         'want download course timetable winter semester ': 1,\n",
              "         'master s degree enrollments begin ': 1,\n",
              "         'subjects covered second semester s curriculum ': 1,\n",
              "         'separated tuition fees course msc program ': 1,\n",
              "         'much program cost ': 2,\n",
              "         'find instructors linkedin profiles ': 1,\n",
              "         'tell joke': 1,\n",
              "         'teaching hours ': 2,\n",
              "         'apply engish courses ': 1,\n",
              "         'send message mr spyros polykalas ': 1,\n",
              "         'mother ': 1,\n",
              "         'map showing university ': 1,\n",
              "         'way see declared courses': 1,\n",
              "         'contact feidakis ': 1,\n",
              "         'find information student profile ': 1,\n",
              "         'course autonomus driving': 1,\n",
              "         'institution professor polykalas': 1,\n",
              "         'ready graduate ': 1,\n",
              "         'want see courses succesfully completed': 1,\n",
              "         'want info maria rangoussi ': 1,\n",
              "         'see information studies ': 1,\n",
              "         'much pay ': 1,\n",
              "         'mathematical concepts taught ': 1,\n",
              "         'invited speakers program ': 1,\n",
              "         'get paid study program': 1,\n",
              "         'possibility ceo nvidia visit us lecture ': 1,\n",
              "         'wealthiest person earth ': 1,\n",
              "         'many students current academic year ': 1,\n",
              "         'curriculum available somewhere ': 1,\n",
              "         'semester learn autonomous vehicles ': 1,\n",
              "         'online gateway access student information ': 1,\n",
              "         'view lessons ': 1,\n",
              "         'anyfees exemptions ': 1,\n",
              "         'view history course enrollments ': 1,\n",
              "         'possible contact mail ': 1,\n",
              "         'see cv invited lecturers': 1,\n",
              "         'registry ': 1,\n",
              "         'paper need application ': 1,\n",
              "         'see examination period passed aidl a03 ': 1,\n",
              "         'want detailes invited lecturers ': 1,\n",
              "         'factors graded interview ': 1,\n",
              "         'obtain templates applications ': 1,\n",
              "         'download thesis submission evaluation document ': 1,\n",
              "         'hours call postgraduate program secretariat ': 1,\n",
              "         'tuition fees cover ': 1,\n",
              "         'lalalalala': 1,\n",
              "         'ketchup smoothie ': 1,\n",
              "         'link thesis proposal template': 1,\n",
              "         'course robotics ': 1,\n",
              "         'find msc thesis internal regulation templates ': 1,\n",
              "         'aidl secret weapon mass destruction ': 1,\n",
              "         'prepare msc dissertation english ': 1,\n",
              "         'minors degree': 1,\n",
              "         'aidl courses': 2,\n",
              "         'much time student id last ': 1,\n",
              "         'many semesters program consist ': 1,\n",
              "         'tools ll working aidl b01 ': 1,\n",
              "         'd like info artificial intelligence today course ': 1,\n",
              "         'thesis instructions ': 1,\n",
              "         'find additional information program ': 1,\n",
              "         'many ects per course': 2,\n",
              "         'apply phd ': 1,\n",
              "         'background sorin adam matei ': 1,\n",
              "         'procedure choosing graduate students ': 1,\n",
              "         'find relevant templates': 1,\n",
              "         'could review lecturers ': 1,\n",
              "         'theinvited teachers ': 1,\n",
              "         'much pay master program ': 1,\n",
              "         'registrations master s degree start ': 1,\n",
              "         'many recommendation letters need ': 1,\n",
              "         'learn chinese ': 1,\n",
              "         'dimitrios piromalis sufficient teaching experience ': 1,\n",
              "         'way get report grades': 1,\n",
              "         'master free ': 1,\n",
              "         'possible reach someone email ': 1,\n",
              "         'professors nice ': 1,\n",
              "         'msc thesis templates': 1,\n",
              "         'call applications': 1,\n",
              "         'price aidl master ': 1,\n",
              "         'contact information available ': 1,\n",
              "         'taught signal processing': 1,\n",
              "         'know topic chose msc thesis': 1,\n",
              "         'rangoussi receive doctorate ': 1,\n",
              "         'course pattern recognition ': 1,\n",
              "         ' life endless sprint treadmill always hoping reach place happiness never existed ': 1,\n",
              "         'attend master s program much money need pay ': 1,\n",
              "         'reach university campus ': 1,\n",
              "         'research experience professors ': 1,\n",
              "         'registration requires payment ': 1,\n",
              "         'mr cleese founder artificial intelligence ': 1,\n",
              "         'summer schedule': 1,\n",
              "         'spring exams ': 1,\n",
              "         'find course curriculum ': 1,\n",
              "         'many ects course aidl b as03 ': 1,\n",
              "         'need post letter administration office zip code ': 1,\n",
              "         'accepted master s n t complete undergraduate studies ': 1,\n",
              "         'campus safe ': 1,\n",
              "         'courses included cognitive systems ': 1,\n",
              "         'bearaucratic fees involved ': 1,\n",
              "         'talk human ': 1,\n",
              "         'phone line constantly busy  communicate differently ': 1,\n",
              "         'head instructor ': 1,\n",
              "         'current ects ': 1,\n",
              "         'implement ai specific platform aidl a03 ': 1,\n",
              "         'would like see time duration lectures semester ': 1,\n",
              "         'many hours lectures semester ': 1,\n",
              "         'aidl 02 course taking place ': 1,\n",
              "         'courses core curriculum scheduled ': 1,\n",
              "         'michael papoutsidakis graduated somewhere abroad ': 1,\n",
              "         'projects neural networks deep learning course ': 1,\n",
              "         'degrees need applying ': 1,\n",
              "         'many students studying university ': 1,\n",
              "         'program offer thesis ': 1,\n",
              "         'find information charalampos patrikakis ': 1,\n",
              "         'courses letter aidl first semester ': 1,\n",
              "         'many ect autonomous vehicles drones ': 1,\n",
              "         'find information sorin adam matei ': 1,\n",
              "         'many courses second semester ': 1,\n",
              "         'phone number program ': 1,\n",
              "         'find info invited lecturer ': 1,\n",
              "         'second semester courses offered ': 1,\n",
              "         'michalis feidakis s email ': 1,\n",
              "         'next application cycle': 1,\n",
              "         'park car university ': 1,\n",
              "         'deadline first installment ': 1,\n",
              "         'courses taught dimitrios piromalis ': 1,\n",
              "         'instructors telephone numbers direct communication ': 1,\n",
              "         'objectives advanced topics deep learning ': 1,\n",
              "         'want view list courses taken ': 1,\n",
              "         'subjects teaches pericles papadopoulos ': 1,\n",
              "         'christmas holidays begin ': 1,\n",
              "         'send research work sorin adam matei ': 1,\n",
              "         'phone number contact paraskevi zacharia ': 1,\n",
              "         'find details aboit program s ects credits ': 1,\n",
              "         'supporting documents required application file ': 1,\n",
              "         'would like speak someone ask questions master': 1,\n",
              "         'contact details nelly leligou ': 1,\n",
              "         'nikolaou s contact details ': 1,\n",
              "         'course nlp ': 1,\n",
              "         'elon musk among invited speakers ': 1,\n",
              "         'official form thesis evaluation ': 1,\n",
              "         'find application graduation ': 1,\n",
              "         'administrative office ': 1,\n",
              "         'email adress mr patrikakis ': 1,\n",
              "         'apply ': 4,\n",
              "         'expenses covered tuition ': 1,\n",
              "         'criteria accepting new students ': 1,\n",
              "         'fee installments scheduled paid ': 1,\n",
              "         'would like read information lecturers coming unis': 1,\n",
              "         'neuroscience course program': 1,\n",
              "         'contact details charalampos patrikakis ': 1,\n",
              "         'learn university ': 1,\n",
              "         'get etc thesis ': 1,\n",
              "         'course content ': 1,\n",
              "         'program s total cost ': 1,\n",
              "         'price per semester ': 1,\n",
              "         'lesson san murugesan invited ': 1,\n",
              "         'hello applied aidl msc program s next ': 1,\n",
              "         'find msc thesis application proposal ': 1,\n",
              "         'master require recommendation letters submitted directly via email ': 1,\n",
              "         's favourite movie ': 1,\n",
              "         'change courses doc ': 1,\n",
              "         'matsopoulos interested medical image reconstruction ': 1,\n",
              "         'find information grigorios nikolaou ': 1,\n",
              "         'days hours course aidl b as03 taught ': 1,\n",
              "         'give info applications ': 1,\n",
              "         'address send supporting documents ': 1,\n",
              "         'find contact info': 1,\n",
              "         'change course selected ': 1,\n",
              "         'academic degrees teaching staff ': 1,\n",
              "         'pay semester part fees ': 1,\n",
              "         'courses area expertise invited speakers teach ': 1,\n",
              "         'exactly wearable affective computing course deal ': 1,\n",
              "         'still get offer m graded equally lowest admitted grade ': 1,\n",
              "         'where s msc taking place ': 1,\n",
              "         'university located ': 2,\n",
              "         'class slated begin ': 1,\n",
              "         'domain expertise kasnesis ': 1,\n",
              "         'paying whole amount beginning master ': 1,\n",
              "         'discount person disability ': 1,\n",
              "         'best place earth ': 1,\n",
              "         'm looking list classes signed previous semester ': 1,\n",
              "         'aidl b b01 class ': 1,\n",
              "         'class today': 1,\n",
              "         'date classes end ': 1,\n",
              "         'sign classes ': 1,\n",
              "         'apply semester extension submission thesis ': 2,\n",
              "         'find application form ': 1,\n",
              "         'role professor prasad ieee': 1,\n",
              "         'cook dinner ': 1,\n",
              "         'cafeteria close ': 1,\n",
              "         'find documents ': 1,\n",
              "         'much money installment ': 1,\n",
              "         'enrolment take place ': 1,\n",
              "         's website student services portal ': 1,\n",
              "         'postal code university ': 1,\n",
              "         'bank holidays spring semester ': 1,\n",
              "         'secretary open afternoon ': 1,\n",
              "         'may contact professor nikolaou': 1,\n",
              "         'director aidl ': 1,\n",
              "         'long semester last': 1,\n",
              "         'background vassilios tzerpos ': 1,\n",
              "         'semester start msc thesis writing': 1,\n",
              "         'possible make call via signal ': 1,\n",
              "         'email georgios priniotakis ': 1,\n",
              "         'documents must send assessment want apply ': 1,\n",
              "         'lessons day greek independence ': 1,\n",
              "         'many euros fee installment ': 1,\n",
              "         'find weekly schedule winter semester ': 1,\n",
              "         'need apply ': 1,\n",
              "         'm interested information teaching faculty research experience': 1,\n",
              "         'email address send message guest lecturer ': 1,\n",
              "         'pay first installment ': 1,\n",
              "         'applications page': 1,\n",
              "         'find information system ': 1,\n",
              "         'george verveniotis attend invited lecturer year ': 1,\n",
              "         'morning classes ': 2,\n",
              "         'many days week need attend courses ': 1,\n",
              "         'time minor autonomous systems scheduled ': 1,\n",
              "         'faculty page ': 1,\n",
              "         'find application semester extension submission msc thesis ': 1,\n",
              "         'information kaminaris stavros': 1,\n",
              "         'contact info available ': 1,\n",
              "         'thesis proposal template ': 1,\n",
              "         'tell san murugesan ': 1,\n",
              "         'vaccinated apply ': 1,\n",
              "         'possible enter university case forget student card': 1,\n",
              "         'apply aidl': 2,\n",
              "         'expenses covered master s degrees ': 1,\n",
              "         'apply certification ': 1,\n",
              "         'course taught': 1,\n",
              "         'charalampos maria rangoussi s email ': 1,\n",
              "         'contigency plan case ': 1,\n",
              "         'programme admission fees ': 1,\n",
              "         'write thesis ieee style': 1,\n",
              "         'find evaluation questionaire': 1,\n",
              "         'progam secretariat': 1,\n",
              "         'luke skywalker ': 1,\n",
              "         'contact instructors directly': 1,\n",
              "         'send application doduments ': 1,\n",
              "         'contact director aidl': 1,\n",
              "         'patrikakis ieee member ': 1,\n",
              "         'phd ': 1,\n",
              "         'contact details pericles papadopoulos ': 1,\n",
              "         'access aidl portal': 1,\n",
              "         'necessary write expression interest text application ': 1,\n",
              "         'join ': 1,\n",
              "         'domains director specialize ': 1,\n",
              "         'information minors ': 1,\n",
              "         'find assignment cover page form ': 1,\n",
              "         'many lessons every tuesday ': 1,\n",
              "         'main content deep learning course ': 1,\n",
              "         'room go knowledge representation big data': 1,\n",
              "         'find contact hours master programme ': 1,\n",
              "         'select elective courses ': 1,\n",
              "         'studies related documents ': 1,\n",
              "         'phone number ': 2,\n",
              "         'cretiria tuition fee waiver': 1,\n",
              "         'many courses master total ': 1,\n",
              "         'hello ': 2,\n",
              "         'searching spyros polykalas curriculum vitae': 1,\n",
              "         'address ': 1,\n",
              "         'shall learn aidl ': 1,\n",
              "         'teaches big data semester': 1,\n",
              "         'aidl msc program invited guest lecturers ': 1,\n",
              "         'admissions announced ': 1,\n",
              "         'course accredited greek government ': 1,\n",
              "         'need research experience applying': 1,\n",
              "         'tell professor charalampos patrikakis ': 1,\n",
              "         'room aidl b as02 held ': 1,\n",
              "         'invited lectures ntua': 1,\n",
              "         'change course selection already submitted ': 1,\n",
              "         'want see law programme founded ': 1,\n",
              "         'necessary campus everyday lesson ': 1,\n",
              "         'many years dimitrios kogias teaching ': 1,\n",
              "         'secretary s office phone number ': 1,\n",
              "         'schedule includes national holidays ': 1,\n",
              "         'potential topics projects deep learning course ': 1,\n",
              "         'application courses modification': 1,\n",
              "         'candidates called interview ': 1,\n",
              "         'reimbursements tuition ': 1,\n",
              "         'want know many lessons succeeded': 1,\n",
              "         'find information msc authorization ': 1,\n",
              "         'major use cases dealing big data aidl b01 ': 1,\n",
              "         'selected course among elective courses ': 1,\n",
              "         'register courses ': 1,\n",
              "         'ok thanks': 1,\n",
              "         'apply new semester ': 1,\n",
              "         'make course declarations ': 1,\n",
              "         'contact someone information ': 1,\n",
              "         'language master thesis written ': 1,\n",
              "         'many courses dr kasnesis teach ': 1,\n",
              "         'courses saturday': 1,\n",
              "         'reach msc secretariat information ': 1,\n",
              "         's link student portal ': 1,\n",
              "         'need prove knowledge english language order apply aidl ': 1,\n",
              "         'find optional courses available ': 1,\n",
              "         'need fill form submit thesis ': 1,\n",
              "         'exams begin ': 1,\n",
              "         'much money pay attend first semester ': 1,\n",
              "         'campus restaurant ': 1,\n",
              "         'check professor s matsopoulos research experience ': 1,\n",
              "         'make up period missed classes ': 1,\n",
              "         'see scores ': 1,\n",
              "         'necessary send documents via post': 1,\n",
              "         'courses ': 1,\n",
              "         'changed mind courses chose ': 1,\n",
              "         'many courses semester ': 2,\n",
              "         'contact lecturers ': 1,\n",
              "         'find thesis documents ': 1,\n",
              "         'way obtain certificate studies ': 1,\n",
              "         'assignments submit follow specific format ': 1,\n",
              "         'much ect master thesis ': 1,\n",
              "         'course today': 1,\n",
              "         'days courses conducted ': 1,\n",
              "         'many documents need folder order apply ': 1,\n",
              "         'speak directly person ask questions ': 1,\n",
              "         'bot good': 1,\n",
              "         'apply master n t certification english language ': 1,\n",
              "         'need help contact university administration ': 1,\n",
              "         'kind music like ': 1,\n",
              "         'room planning ': 2,\n",
              "         'courses registered semester ': 1,\n",
              "         'invited lecturers names ': 1,\n",
              "         'teaching wearables ': 1,\n",
              "         'bus coming ': 1,\n",
              "         'rules master ': 1,\n",
              "         'academic level instuctors ': 1,\n",
              "         'file assessment based ': 1,\n",
              "         'apply examination msc thesis ': 1,\n",
              "         'attend classes 3 semesters ': 1,\n",
              "         'find contact info invited lecturers ': 1,\n",
              "         'pay total fees': 2,\n",
              "         'bursaries ': 1,\n",
              "         'want check schedule please ': 1,\n",
              "         'get touch alumni ': 1,\n",
              "         'invited professor teaches blockchain ': 1,\n",
              "         'zip code secretariat ': 1,\n",
              "         'colaborations invited lectures': 1,\n",
              "         'lessons invited lecturers ': 1,\n",
              "         'hardware complete program': 1,\n",
              "         'affective computing aidl b cs03 dl techniques used recognize emotions ': 1,\n",
              "         'use university labs ': 1,\n",
              "         'days courses cancelled due bank holidays winter semester ': 1,\n",
              "         'content aidl 01 ': 1,\n",
              "         'available theses ': 1,\n",
              "         'place park car ': 1,\n",
              "         'parking station inside campus ': 1,\n",
              "         'easter break ': 2,\n",
              "         'instructors fundamentals ai ml ': 1,\n",
              "         'courses professor kakkos teaching ': 1,\n",
              "         'careers recent graduates gone ': 1,\n",
              "         'find forms msc ': 1,\n",
              "         'room taking class ': 2,\n",
              "         'staff personal pages ': 1,\n",
              "         'many ects taken drom msc thesis': 1,\n",
              "         'tuition fees correspond semester ': 1,\n",
              "         'whre find aidl regulation ': 1,\n",
              "         'request get certificate study': 1,\n",
              "         'find information tuition fees ': 2,\n",
              "         'candidate selection criteria ': 1,\n",
              "         'student registry ': 2,\n",
              "         'grade point average ': 1,\n",
              "         'want apply graduation ': 1,\n",
              "         'document evaluation msc thesis ': 1,\n",
              "         'find email professor neeli r prasad ': 1,\n",
              "         'invited lecturers ': 3,\n",
              "         'case foreigners possible apply without supporting documents ': 1,\n",
              "         'instructors autonomous vehicles course ': 1,\n",
              "         'find regulation templates ': 1,\n",
              "         'lessons summer ': 1,\n",
              "         'looking info nelly leligou ': 1,\n",
              "         'many lectures total aidl a05 ': 1,\n",
              "         'contact invited researchers': 1,\n",
              "         'many ects course natural language processing deep learning ': 1,\n",
              "         'find lecturers contact info': 1,\n",
              "         'courses online ': 1,\n",
              "         'student elections ': 1,\n",
              "         'within areas guest speakers provide expertise ': 1,\n",
              "         'mandatory courses second semester ': 1,\n",
              "         'many recommendation letters needed apply ': 1,\n",
              "         'c faster python ': 1,\n",
              "         'course specific price ': 1,\n",
              "         'find classroom scheduling': 1,\n",
              "         'criteria tuition fee waiver ': 1,\n",
              "         'michalis feidakis major ': 1,\n",
              "         'requirments fee waiver ': 1,\n",
              "         'see submitted assignments ': 1,\n",
              "         'course wearable affecting computing one instructors ': 1,\n",
              "         'email mr matsopoulos ': 1,\n",
              "         'call secretariat afternoon ': 1,\n",
              "         'would like phd': 1,\n",
              "         'bus station near campus ': 1,\n",
              "         'find information spyros polykalas ': 1,\n",
              "         'student portal ': 1,\n",
              "         'age boundary candidates ': 1,\n",
              "         'mr saeid abolfazli s research focused ': 1,\n",
              "         'need make payment first semester begins ': 1,\n",
              "         'holiday ': 1,\n",
              "         'contact msc secretariat ': 2,\n",
              "         'master help evolve career wise ': 1,\n",
              "         'contact details papageorgas panagiotis': 1,\n",
              "         'many weeks current semester ': 1,\n",
              "         'courses charalampos patrikakis teach ': 1,\n",
              "         'tell many courses left graduation ': 1,\n",
              "         'url student portal ': 1,\n",
              "         'metro near campus ': 1,\n",
              "         'get information regarding program ': 1,\n",
              "         'aidl social media accounts ': 1,\n",
              "         'need know texmoda': 1,\n",
              "         'anything eat ancient olive grove campus ': 1,\n",
              "         'best institution greece': 1,\n",
              "         'publications instructor available ': 1,\n",
              "         'george verneniotis ': 1,\n",
              "         'documents application contain ': 1,\n",
              "         'courses got 7 ': 1,\n",
              "         'live presentation neeli r prasad lecturer ': 1,\n",
              "         'director msc': 1,\n",
              "         'many people get accepted ': 1,\n",
              "         'many courses overall ': 1,\n",
              "         'examination period current semester': 1,\n",
              "         'examination period ': 1,\n",
              "         'programs lectures conducted ': 1,\n",
              "         'find contact form': 2,\n",
              "         'invited ': 1,\n",
              "         'lessons kasnesis teaches ': 1,\n",
              "         'many ects course aidl b cs02 ': 1,\n",
              "         'many installments use paying program ': 1,\n",
              "         'many installments pay second semester ': 1,\n",
              "         'degree gpa count master ': 1,\n",
              "         'apply easmus ': 1,\n",
              "         'colab': 1,\n",
              "         'semester advanced intelligent control robotic systems course ': 1,\n",
              "         'guest australia ': 1,\n",
              "         'absence counts lessons total number case participating invited lecturer s presentation ': 1,\n",
              "         'ii apply graduation ': 1,\n",
              "         'bring dog ': 1,\n",
              "         'link msc thesis applications': 1,\n",
              "         'lelodlafgfvxsnx': 1,\n",
              "         'contact msc ': 1,\n",
              "         'choose minor ': 2,\n",
              "         'invited lecturers experts topics related course ': 1,\n",
              "         'language study ': 1,\n",
              "         'work using nlp': 1,\n",
              "         'regular evaluation professors ': 1,\n",
              "         'time classes end easter holidays ': 2,\n",
              "         'find regulation documents program ': 1,\n",
              "         'apply admission master s degree second consecutive year ': 1,\n",
              "         'research methodology ethics personal data protection ': 1,\n",
              "         'check got scholarship ': 1,\n",
              "         'student residences ': 1,\n",
              "         'charalampos z patrikakis s phone number ': 1,\n",
              "         'background aidl faculty ': 1,\n",
              "         'telephone number call information ': 1,\n",
              "         'registry services ': 1,\n",
              "         'courses conducted every monday ': 1,\n",
              "         'contact information mr kogias ': 1,\n",
              "         'contact box program': 1,\n",
              "         'find template cover page assignment ': 1,\n",
              "         'find mr kasnesis personal page': 1,\n",
              "         'registration page respond  ': 1,\n",
              "         'msc thesis proposal': 1,\n",
              "         'dimitrios kogias cv ': 1,\n",
              "         'bank national public holidays affect conduct courses ': 1,\n",
              "         'tell story ': 1,\n",
              "         'schedule change case massive labor strike ': 1,\n",
              "         'teaching aidl b cs03 ': 1,\n",
              "         'complete courses ratings': 1,\n",
              "         'make thesis proposal ': 1,\n",
              "         'fill applications thesis ': 1,\n",
              "         'far allou fun park ': 1,\n",
              "         'courses taught cognitive systems': 1,\n",
              "         'find building z ': 1,\n",
              "         'get tuition fees waiver document ': 1,\n",
              "         'find evaluation document dissertation ': 1,\n",
              "         'many ects course aidl b as02 ': 1,\n",
              "         'learn applying course ': 1,\n",
              "         'd like know aidl a03 ': 1,\n",
              "         'cinema near campus ': 1,\n",
              "         'sumit admission': 1,\n",
              "         'find scientific publications pericles papadopoulos ': 1,\n",
              "         'link thesis extension': 1,\n",
              "         'outline visiting faculty areas expertise ': 1,\n",
              "         'want download regulation postgraduate thesis ': 1,\n",
              "         'jim kyung soo liew one invited lecturers ': 1,\n",
              "         'program s address': 1,\n",
              "         'possible join program without submitting tuition fees ': 1,\n",
              "         'want know nvidia courses': 1,\n",
              "         'participate online case living far province ': 1,\n",
              "         'bank holidays ': 1,\n",
              "         'show faculty ': 1,\n",
              "         'learn professor matei ': 1,\n",
              "         'test': 1,\n",
              "         'd like find george matsopoulos': 1,\n",
              "         'latest class scheduled ': 1,\n",
              "         'postgraduate degree good recognition industry ': 1,\n",
              "         'savvas vassiliadis s email ': 1,\n",
              "         'administration ': 1,\n",
              "         'like trains ': 1,\n",
              "         'courses professor leligou teaching ': 1,\n",
              "         'room aidl b as03 taught ': 1,\n",
              "         'email adress mr nikolaou ': 1,\n",
              "         'fee waiver ': 2,\n",
              "         'program s email address': 1,\n",
              "         'courses professor papoutsidakis teaching ': 1,\n",
              "         'much money pay second semester ': 1,\n",
              "         'knowledge representation big data scheduled monday tuesday ': 1,\n",
              "         'many books borrow library ': 1,\n",
              "         'professor kaminaris stavros relate field energy management storage ': 1,\n",
              "         'n room class ': 1,\n",
              "         'want chang registration password ': 1,\n",
              "         'tuition fees studying program': 1,\n",
              "         'installment plan program ': 1,\n",
              "         'darth vader father ': 1,\n",
              "         'address campus': 1,\n",
              "         'find availiable thesis': 1,\n",
              "         'd like apply msc ': 1,\n",
              "         'alter class enrollment ': 1,\n",
              "         'invited lecturers research work ': 1,\n",
              "         'university ': 2,\n",
              "         'fax number send submission ': 1,\n",
              "         'hi': 1,\n",
              "         'examination period begins winter semester ': 1,\n",
              "         'affective computing aidl b cs02 ': 1,\n",
              "         'need certificate student msc program': 1,\n",
              "         'classes november ': 1,\n",
              "         'go university athens ': 1,\n",
              "         'case course cancellation new schedule issued ': 1,\n",
              "         'many ects credits one semester corresponds ': 1,\n",
              "         'head program': 1,\n",
              "         'instructors abroad deliver guest lectures ': 1,\n",
              "         'third semester courses offered ': 1,\n",
              "         'see invited lectures': 1,\n",
              "         'attent lessons aidl ': 1,\n",
              "         's weather today ': 1,\n",
              "         'research methodology course curriculum': 1,\n",
              "         'want get information msc thesis regultions docs please ': 1,\n",
              "         'attend lessons 1st semester ': 1,\n",
              "         'days hours attend signal processing course ': 1,\n",
              "         'classes tuesdays': 1,\n",
              "         'would like ask necessary documents need send ': 1,\n",
              "         'want learn evaluation system msc thesis ': 1,\n",
              "         'hours call secretariat': 1,\n",
              "         'need program s authorization document': 1,\n",
              "         'get ': 1,\n",
              "         'want extend semester ': 1,\n",
              "         'need contact one professors find contact info ': 1,\n",
              "         'courses take place': 1,\n",
              "         'find template documents ': 1,\n",
              "         'pay ': 2,\n",
              "         'many courses third semester ': 1,\n",
              "         'winter schedule available ': 1,\n",
              "         'request secretariate analytic grades': 1,\n",
              "         'pay tuition fees ': 3,\n",
              "         'application open ': 1,\n",
              "         'templates need use submit project proposal ': 1,\n",
              "         'campus address ': 1,\n",
              "         'could let know time knowledge representation big data ': 1,\n",
              "         'interview part application procedure master s degree ': 1,\n",
              "         'check personal data ': 1,\n",
              "         'academics greek universities invited ': 1,\n",
              "         'contact details invited speakers ': 1,\n",
              "         'city campus located ': 1,\n",
              "         'student services eclass canvas ': 1,\n",
              "         'contact details panagiotis papageorgas ': 1,\n",
              "         'find course content minors ': 1,\n",
              "         'ready submit thesis ': 1,\n",
              "         'aidl accept students universities': 1,\n",
              "         'view available scholarships academic year ': 1,\n",
              "         'laboratories available support educational process ': 1,\n",
              "         'pay installments ': 2,\n",
              "         'much workload master program require ': 1,\n",
              "         'research interest professor prasad': 1,\n",
              "         'exam calendar ': 1,\n",
              "         'application deadline course ': 1,\n",
              "         'study regulations available ': 1,\n",
              "         'applying course include additional documents prove previous work experience stated cv ': 1,\n",
              "         'find academic number ': 1,\n",
              "         'want apply msc ': 1,\n",
              "         'demetrios cantzos research work ': 1,\n",
              "         'prerequisites enrollment ': 1,\n",
              "         'purchase usually made instalments ': 1,\n",
              "         'ending date applications ': 1,\n",
              "         'obtain documents regulation ': 1,\n",
              "         'easter exam dates ': 1,\n",
              "         'sorin adam matei list invited lecturers ': 1,\n",
              "         'app sucks ': 1,\n",
              "         'aidl b01 taught fridays ': 1,\n",
              "         'george verveniotis list invited lecturers ': 1,\n",
              "         'registrar s office available ': 1,\n",
              "         'guest professors teach ': 1,\n",
              "         'looking info michalis feidakis ': 1,\n",
              "         'winter exam period ': 1,\n",
              "         'hi ': 1,\n",
              "         'cv template ready fill ': 1,\n",
              "         'address posting letter administration office ': 1,\n",
              "         'jim kyung soo liew attend program guest speaker': 1,\n",
              "         'give mrs neeli r prasad mail ': 1,\n",
              "         'way check student active inactive ': 1,\n",
              "         'find teaching course ': 1,\n",
              "         'curriculum master ': 1,\n",
              "         'master s degree registration period begin ': 1,\n",
              "         'find information constantinos psomopoulos ': 1,\n",
              "         'pay beginning semester ': 1,\n",
              "         'scheduled courses spring semester ': 1,\n",
              "         'dstudy regulation ': 1,\n",
              "         'prasad teaching aidl': 1,\n",
              "         'daily schedule courses ': 1,\n",
              "         'learn nlp ': 1,\n",
              "         'change modify courses ': 1,\n",
              "         'number thivon str campus ': 1,\n",
              "         'timetable spring semester ': 1,\n",
              "         'enroll program': 1,\n",
              "         'canditate file assesed ': 1,\n",
              "         'deadline tuition fees payment ': 1,\n",
              "         'get info vassiliadis savas ': 1,\n",
              "         'winter semester room planning': 1,\n",
              "         'prepay tuition fees ': 1,\n",
              "         'want access google scholar professor matsopoulos': 1,\n",
              "         'many invited lecturers per semester ': 1,\n",
              "         'way reach mail ': 1,\n",
              "         'student administration offices open saturday ': 1,\n",
              "         'template cover page available ': 1,\n",
              "         'many lessons attend 2nd semester ': 1,\n",
              "         'need instructors e mail address': 1,\n",
              "         'want arduino tinyml kit one projects': 1,\n",
              "         'curriculum available hard copy ': 2,\n",
              "         'michalis feidakis s resume ': 1,\n",
              "         'free parking area campus ': 1,\n",
              "         'marketing campaign': 1,\n",
              "         'description aidl b cs03 course ': 1,\n",
              "         'd like speak telephone ': 1,\n",
              "         'want linkedin profile professor psomopoulos': 1,\n",
              "         'course even real ': 1,\n",
              "         'course advanced topics deep learning scheduled ': 1,\n",
              "         'fields invited lecturers experts ': 1,\n",
              "         'available form contacting secretary ': 1,\n",
              "         'lessons give ects units ': 1,\n",
              "         'semester end ': 1,\n",
              "         'see programme outline ': 1,\n",
              "         'guest lecture held campus university online ': 1,\n",
              "         'courses offered ': 1,\n",
              "         'see passed exams ': 2,\n",
              "         'telephone number aidl': 1,\n",
              "         'pre enrollment requirements ': 1,\n",
              "         'find kasnesis personal page ': 1,\n",
              "         'program s curriculum': 1,\n",
              "         'nlp course mondays fridays ': 1,\n",
              "         'download application form ': 2,\n",
              "         'exactly university located ': 1,\n",
              "         'time aidl b cs01 ': 1,\n",
              "         'need candidate file ': 1,\n",
              "         'buy laptop university ': 1,\n",
              "         'taught ': 1,\n",
              "         'favorite color ': 1,\n",
              "         'class selections flexible ': 1,\n",
              "         'george matsopoulos cv ': 1,\n",
              "         'contact stelios mitilineos ': 1,\n",
              "         'find courses ve signed ': 1,\n",
              "         'way check student performance ': 1,\n",
              "         'program stop spring break ': 1,\n",
              "         'deep learning used aidl b as01 ': 1,\n",
              "         'companies hire people graduated artificial intelligence deep learning ': 1,\n",
              "         'need find application ': 1,\n",
              "         'application procedure msc aidl': 1,\n",
              "         'enrollment options': 1,\n",
              "         'subject invited lectures ': 1,\n",
              "         'believe love ': 1,\n",
              "         'want see grades first semester': 1,\n",
              "         'postgraduate programs offered uniwa ': 1,\n",
              "         'instructors bio available ': 1,\n",
              "         'first installment scheduled ': 1,\n",
              "         'educational background papageorgas ': 1,\n",
              "         'teaches nmathematics ': 1,\n",
              "         'go attend aidl b01 course ': 1,\n",
              "         'find examination sschedule ': 1,\n",
              "         'uniwa services ': 1,\n",
              "         'many weeks schedule ': 1,\n",
              "         'learn use robots ': 1,\n",
              "         'list invited professors': 1,\n",
              "         'see rooms lessons take place ': 1,\n",
              "         'document apply extension complete thesis ': 1,\n",
              "         'fee ': 1,\n",
              "         'many words write expression interest text ': 1,\n",
              "         'konstantinos psomopoulos receive doctorate ': 1,\n",
              "         'get additional information ': 1,\n",
              "         'love m feeling': 1,\n",
              "         'guest lecturer harvard ': 1,\n",
              "         'information theodore ganetsos': 1,\n",
              "         'examination period scheduled ': 1,\n",
              "         'find results exams course aidl 01 ': 1,\n",
              "         'find info cantzos': 1,\n",
              "         'want submit proposal thesis ': 1,\n",
              "         'information georgios priniotakis': 1,\n",
              "         'need make cover pages university supply templates ': 1,\n",
              "         'find information concerning guest lecturers ': 1,\n",
              "         'panagiotis papageorgas s email ': 1,\n",
              "         'job positions available students ': 1,\n",
              "         'much pay second semester ': 1,\n",
              "         'much entire cost msc program total ': 1,\n",
              "         'tell advanced topics deep learning ': 1,\n",
              "         'tuition fees required enrolment ': 1,\n",
              "         'courses scheduled thursday ': 1,\n",
              "         'want see student profile ': 1,\n",
              "         'aidlinvited lecturers': 1,\n",
              "         'check failed exams ': 1,\n",
              "         'made mistake selected wrong course ': 1,\n",
              "         'd like send e mail ': 1,\n",
              "         'job vaccancies ': 1,\n",
              "         'get discount pay upfront ': 1,\n",
              "         'current total grades ': 1,\n",
              "         'lessons held public transportation strikes ': 1,\n",
              "         'aware costs ': 1,\n",
              "         'eminent academicians practicing professionals invited guest lectures ': 1,\n",
              "         'become machine learning expert mlops master ': 1,\n",
              "         'professor kaminaris teach math ': 1,\n",
              "         'aidl a01 taught': 1,\n",
              "         'hello want apply program ': 1,\n",
              "         'email contact ': 2,\n",
              "         'find information instructors ': 2,\n",
              "         ...})"
            ]
          },
          "metadata": {},
          "execution_count": 12
        }
      ],
      "source": [
        "word_to_counts = Counter(x_train)\n",
        "word_to_counts\n"
      ]
    },
    {
      "cell_type": "code",
      "execution_count": 13,
      "metadata": {
        "colab": {
          "base_uri": "https://localhost:8080/"
        },
        "id": "WZBuhx-ek0G1",
        "outputId": "efa04cc2-7331-4d37-b55b-0ded843a1fa2"
      },
      "outputs": [
        {
          "output_type": "execute_result",
          "data": {
            "text/plain": [
              "3457"
            ]
          },
          "metadata": {},
          "execution_count": 13
        }
      ],
      "source": [
        "# Get the number of unique words in the text data\n",
        "n_words = len(word_to_counts)\n",
        "n_words"
      ]
    },
    {
      "cell_type": "code",
      "execution_count": 14,
      "metadata": {
        "id": "xvV8o2TaIghi"
      },
      "outputs": [],
      "source": [
        "\n",
        "#create a word-to-index dictionary\n",
        "tokenizer = Tokenizer(num_words=n_words, oov_token=\"<OOV>\")\n",
        "tokenizer.fit_on_texts(x_train)\n",
        "word_index = tokenizer.word_index\n",
        "\n",
        "#convert the text data to numerical data\n",
        "x_train_seq = tokenizer.texts_to_sequences(x_train)\n",
        "x_val_seq = tokenizer.texts_to_sequences(x_val)\n",
        "x_test_seq = tokenizer.texts_to_sequences(x_test)"
      ]
    },
    {
      "cell_type": "code",
      "execution_count": 15,
      "metadata": {
        "id": "BRaCUnVjcLy5"
      },
      "outputs": [],
      "source": [
        "#Pad the sequences to have the same length\n",
        "max_length = max([len(s) for s in x_train_seq + x_val_seq + x_test_seq])\n",
        "x_train_pad = pad_sequences(x_train_seq, maxlen=max_length)\n",
        "x_val_pad = pad_sequences(x_val_seq, maxlen=max_length)\n",
        "x_test_pad = pad_sequences(x_test_seq, maxlen=max_length)\n"
      ]
    },
    {
      "cell_type": "code",
      "execution_count": 16,
      "metadata": {
        "colab": {
          "base_uri": "https://localhost:8080/"
        },
        "id": "Ddabp8yiA-IH",
        "outputId": "98ed2301-d11a-4b38-977b-d76e031cd219"
      },
      "outputs": [
        {
          "output_type": "execute_result",
          "data": {
            "text/plain": [
              "(3565, 13)"
            ]
          },
          "metadata": {},
          "execution_count": 16
        }
      ],
      "source": [
        "x_train_pad.shape"
      ]
    },
    {
      "cell_type": "code",
      "execution_count": 17,
      "metadata": {
        "colab": {
          "base_uri": "https://localhost:8080/"
        },
        "id": "WKJjqFxQXglB",
        "outputId": "382b3d6b-930f-4da4-bdec-657773f999a4"
      },
      "outputs": [
        {
          "output_type": "execute_result",
          "data": {
            "text/plain": [
              "10"
            ]
          },
          "metadata": {},
          "execution_count": 17
        }
      ],
      "source": [
        "#Define the number of unique classes\n",
        "n_classes = len(np.unique(y_train))\n",
        "n_classes"
      ]
    },
    {
      "cell_type": "code",
      "execution_count": 18,
      "metadata": {
        "id": "6oWN42k0iqMb"
      },
      "outputs": [],
      "source": [
        "# Convert the class labels to one-hot encoded vectors\n",
        "y_train_enc = tf.keras.utils.to_categorical(y_train, n_classes)\n",
        "y_val_enc = tf.keras.utils.to_categorical(y_val, n_classes)\n",
        "y_test_enc = tf.keras.utils.to_categorical(y_test, n_classes)"
      ]
    },
    {
      "cell_type": "code",
      "execution_count": 19,
      "metadata": {
        "colab": {
          "base_uri": "https://localhost:8080/"
        },
        "id": "zdRUlSOpjgIF",
        "outputId": "a7efb8cb-297a-43bd-c325-7a272d63257f"
      },
      "outputs": [
        {
          "output_type": "execute_result",
          "data": {
            "text/plain": [
              "(3565, 10)"
            ]
          },
          "metadata": {},
          "execution_count": 19
        }
      ],
      "source": [
        "y_train_enc.shape"
      ]
    },
    {
      "cell_type": "markdown",
      "metadata": {
        "id": "7QW115ICVIDI"
      },
      "source": [
        "2. LSTM without pre-trained embeddings"
      ]
    },
    {
      "cell_type": "code",
      "execution_count": 20,
      "metadata": {
        "colab": {
          "base_uri": "https://localhost:8080/"
        },
        "id": "gc7zrU4dizoJ",
        "outputId": "981e33ea-a8ff-48b7-e548-ee28afc0e6c1"
      },
      "outputs": [
        {
          "output_type": "stream",
          "name": "stdout",
          "text": [
            "Model: \"sequential\"\n",
            "_________________________________________________________________\n",
            " Layer (type)                Output Shape              Param #   \n",
            "=================================================================\n",
            " embedding (Embedding)       (None, 13, 64)            221248    \n",
            "                                                                 \n",
            " lstm (LSTM)                 (None, 64)                33024     \n",
            "                                                                 \n",
            " dropout (Dropout)           (None, 64)                0         \n",
            "                                                                 \n",
            " dense (Dense)               (None, 10)                650       \n",
            "                                                                 \n",
            "=================================================================\n",
            "Total params: 254,922\n",
            "Trainable params: 254,922\n",
            "Non-trainable params: 0\n",
            "_________________________________________________________________\n"
          ]
        }
      ],
      "source": [
        "# Define the LSTM model\n",
        "model_01 = Sequential()\n",
        "model_01.add(Embedding(input_dim=n_words, output_dim=64, input_length=max_length))\n",
        "model_01.add(LSTM(64))\n",
        "model_01.add(Dropout(0.5))\n",
        "model_01.add(Dense(n_classes, activation='softmax'))\n",
        "model_01.summary()"
      ]
    },
    {
      "cell_type": "code",
      "execution_count": 21,
      "metadata": {
        "colab": {
          "base_uri": "https://localhost:8080/"
        },
        "id": "ZE8bnyEzi8b2",
        "outputId": "de56a0d3-a6f3-4c93-e375-72bcb393b066"
      },
      "outputs": [
        {
          "output_type": "stream",
          "name": "stdout",
          "text": [
            "Epoch 1/10\n",
            "112/112 [==============================] - 9s 8ms/step - loss: 2.1906 - accuracy: 0.2121 - val_loss: 1.8063 - val_accuracy: 0.3350\n",
            "Epoch 2/10\n",
            "112/112 [==============================] - 1s 5ms/step - loss: 1.1679 - accuracy: 0.6303 - val_loss: 0.8412 - val_accuracy: 0.7708\n",
            "Epoch 3/10\n",
            "112/112 [==============================] - 1s 5ms/step - loss: 0.6133 - accuracy: 0.8258 - val_loss: 0.5780 - val_accuracy: 0.8287\n",
            "Epoch 4/10\n",
            "112/112 [==============================] - 1s 5ms/step - loss: 0.4031 - accuracy: 0.8917 - val_loss: 0.5153 - val_accuracy: 0.8514\n",
            "Epoch 5/10\n",
            "112/112 [==============================] - 1s 5ms/step - loss: 0.3045 - accuracy: 0.9178 - val_loss: 0.5211 - val_accuracy: 0.8237\n",
            "Epoch 6/10\n",
            "112/112 [==============================] - 1s 5ms/step - loss: 0.2253 - accuracy: 0.9425 - val_loss: 0.4548 - val_accuracy: 0.8615\n",
            "Epoch 7/10\n",
            "112/112 [==============================] - 1s 5ms/step - loss: 0.1837 - accuracy: 0.9534 - val_loss: 0.4767 - val_accuracy: 0.8514\n",
            "Epoch 8/10\n",
            "112/112 [==============================] - 1s 5ms/step - loss: 0.1518 - accuracy: 0.9588 - val_loss: 0.4662 - val_accuracy: 0.8539\n",
            "Epoch 9/10\n",
            "112/112 [==============================] - 1s 5ms/step - loss: 0.1246 - accuracy: 0.9697 - val_loss: 0.4716 - val_accuracy: 0.8615\n",
            "Epoch 10/10\n",
            "112/112 [==============================] - 1s 4ms/step - loss: 0.1117 - accuracy: 0.9691 - val_loss: 0.4825 - val_accuracy: 0.8438\n"
          ]
        }
      ],
      "source": [
        " # Compile and fit the model\n",
        "model_01.compile(optimizer='adam', loss='categorical_crossentropy', metrics=['accuracy'])\n",
        "history = model_01.fit(x_train_pad, y_train_enc, batch_size=32, epochs=10, validation_data=(x_val_pad, y_val_enc))"
      ]
    },
    {
      "cell_type": "code",
      "execution_count": 22,
      "metadata": {
        "colab": {
          "base_uri": "https://localhost:8080/",
          "height": 295
        },
        "id": "i1q_vYaEma5r",
        "outputId": "b948c34a-b78f-4235-8aa3-df46b7621eb1"
      },
      "outputs": [
        {
          "output_type": "display_data",
          "data": {
            "text/plain": [
              "<Figure size 432x288 with 1 Axes>"
            ],
            "image/png": "[encoded data removed]"
          },
          "metadata": {
            "needs_background": "light"
          }
        }
      ],
      "source": [
        "%matplotlib inline\n",
        "import matplotlib.pyplot as plt\n",
        "\n",
        "# summarize history for loss\n",
        "plt.plot(history.history['loss'])\n",
        "plt.plot(history.history['val_loss'])\n",
        "plt.title('model loss')\n",
        "plt.ylabel('loss')\n",
        "plt.xlabel('epoch')\n",
        "plt.legend(['train', 'val'], loc='upper right')\n",
        "plt.show()"
      ]
    },
    {
      "cell_type": "code",
      "execution_count": 23,
      "metadata": {
        "colab": {
          "base_uri": "https://localhost:8080/",
          "height": 295
        },
        "id": "3D-u1y0SnIqb",
        "outputId": "e1bcc36a-383f-428b-eecc-3921bd30aab8"
      },
      "outputs": [
        {
          "output_type": "display_data",
          "data": {
            "text/plain": [
              "<Figure size 432x288 with 1 Axes>"
            ],
            "image/png": "[encoded data removed]"
          },
          "metadata": {
            "needs_background": "light"
          }
        }
      ],
      "source": [
        "# summarize history for accuracy\n",
        "plt.plot(history.history['accuracy'])\n",
        "plt.plot(history.history['val_accuracy'])\n",
        "plt.title('model accuracy')\n",
        "plt.ylabel('accuracy')\n",
        "plt.xlabel('epoch')\n",
        "plt.legend(['train', 'val'], loc='upper left')\n",
        "plt.show()"
      ]
    },
    {
      "cell_type": "code",
      "execution_count": 24,
      "metadata": {
        "colab": {
          "base_uri": "https://localhost:8080/"
        },
        "id": "qO8W-q-_jG1m",
        "outputId": "a07724e7-ddc8-4af6-e307-d8e26fb6a93e"
      },
      "outputs": [
        {
          "output_type": "stream",
          "name": "stdout",
          "text": [
            "14/14 [==============================] - 0s 2ms/step - loss: 0.6003 - accuracy: 0.8345\n",
            "Test score: 0.6003196239471436\n",
            "Test accuracy: 0.8344671130180359\n"
          ]
        }
      ],
      "source": [
        " # Evaluate the model on the test data\n",
        "score, acc = model_01.evaluate(x_test_pad, y_test_enc, batch_size=32)\n",
        "print(\"Test score:\", score)\n",
        "print(\"Test accuracy:\", acc)"
      ]
    },
    {
      "cell_type": "code",
      "execution_count": 25,
      "metadata": {
        "colab": {
          "base_uri": "https://localhost:8080/"
        },
        "id": "ci_Z3zxPjMBx",
        "outputId": "cf6a030e-b4ec-427d-fb8f-691bb4c13fc4"
      },
      "outputs": [
        {
          "output_type": "stream",
          "name": "stdout",
          "text": [
            "14/14 [==============================] - 0s 2ms/step\n",
            "              precision    recall  f1-score   support\n",
            "\n",
            "           0       0.91      0.94      0.92        64\n",
            "           1       0.81      0.86      0.84        59\n",
            "           2       0.73      0.67      0.70        45\n",
            "           3       0.78      0.78      0.78        41\n",
            "           4       0.70      0.88      0.78        26\n",
            "           5       0.86      0.79      0.82        47\n",
            "           6       0.82      0.89      0.86        37\n",
            "           7       0.93      0.95      0.94        40\n",
            "           8       0.88      0.86      0.87        42\n",
            "           9       0.88      0.70      0.78        40\n",
            "\n",
            "    accuracy                           0.83       441\n",
            "   macro avg       0.83      0.83      0.83       441\n",
            "weighted avg       0.84      0.83      0.83       441\n",
            "\n"
          ]
        }
      ],
      "source": [
        "# Generate the classification report\n",
        "y_pred = model_01.predict(x_test_pad)\n",
        "y_pred = np.argmax(y_pred, axis=1)\n",
        "print(classification_report(y_test, y_pred))"
      ]
    },
    {
      "cell_type": "code",
      "execution_count": 26,
      "metadata": {
        "colab": {
          "base_uri": "https://localhost:8080/",
          "height": 300
        },
        "id": "3JJ6InqVRhVO",
        "outputId": "7b4a9e11-5c8a-4ba2-89c0-504e1adda1e9"
      },
      "outputs": [
        {
          "output_type": "display_data",
          "data": {
            "text/plain": [
              "<Figure size 720x720 with 0 Axes>"
            ]
          },
          "metadata": {}
        },
        {
          "output_type": "display_data",
          "data": {
            "text/plain": [
              "<Figure size 432x288 with 2 Axes>"
            ],
            "image/png": "[encoded data removed]"
          },
          "metadata": {
            "needs_background": "light"
          }
        }
      ],
      "source": [
        "from sklearn.metrics import confusion_matrix, ConfusionMatrixDisplay\n",
        "\n",
        "conf_matrix = confusion_matrix(y_test, y_pred)\n",
        "cm_display = ConfusionMatrixDisplay(confusion_matrix = conf_matrix, display_labels = [0,1,2,3,4,5,6,7,8,9])\n",
        "plt.figure(figsize=(10,10))\n",
        "cm_display.plot()\n",
        "plt.show()"
      ]
    },
    {
      "cell_type": "code",
      "execution_count": 27,
      "metadata": {
        "colab": {
          "base_uri": "https://localhost:8080/"
        },
        "id": "Tsq3Mp0roEC8",
        "outputId": "d06b3a43-4912-4354-aad6-2d2fa4e95739"
      },
      "outputs": [
        {
          "output_type": "stream",
          "name": "stdout",
          "text": [
            "Model: \"sequential_1\"\n",
            "_________________________________________________________________\n",
            " Layer (type)                Output Shape              Param #   \n",
            "=================================================================\n",
            " embedding_1 (Embedding)     (None, 13, 64)            221248    \n",
            "                                                                 \n",
            " lstm_1 (LSTM)               (None, 13, 64)            33024     \n",
            "                                                                 \n",
            " dropout_1 (Dropout)         (None, 13, 64)            0         \n",
            "                                                                 \n",
            " lstm_2 (LSTM)               (None, 13, 64)            33024     \n",
            "                                                                 \n",
            " dropout_2 (Dropout)         (None, 13, 64)            0         \n",
            "                                                                 \n",
            " flatten (Flatten)           (None, 832)               0         \n",
            "                                                                 \n",
            " dense_1 (Dense)             (None, 10)                8330      \n",
            "                                                                 \n",
            "=================================================================\n",
            "Total params: 295,626\n",
            "Trainable params: 295,626\n",
            "Non-trainable params: 0\n",
            "_________________________________________________________________\n"
          ]
        }
      ],
      "source": [
        "# Define LSTM model_02\n",
        "from keras.layers import Flatten\n",
        "\n",
        "model_02 = Sequential()\n",
        "model_02.add(Embedding(input_dim=n_words, output_dim=64, input_length=max_length))\n",
        "model_02.add(LSTM(64,return_sequences=True))\n",
        "model_02.add(Dropout(0.5))\n",
        "model_02.add(LSTM(64, return_sequences=True))\n",
        "model_02.add(Dropout(0.5))\n",
        "model_02.add(Flatten())\n",
        "model_02.add(Dense(n_classes, activation='softmax'))\n",
        "model_02.summary()\n"
      ]
    },
    {
      "cell_type": "code",
      "execution_count": 28,
      "metadata": {
        "colab": {
          "base_uri": "https://localhost:8080/"
        },
        "id": "r_2brxneWcIc",
        "outputId": "685ccf6e-d513-496b-de21-9a69a57e9c38"
      },
      "outputs": [
        {
          "output_type": "stream",
          "name": "stdout",
          "text": [
            "Epoch 1/10\n",
            "112/112 [==============================] - 4s 12ms/step - loss: 2.2896 - accuracy: 0.1299 - val_loss: 2.2686 - val_accuracy: 0.1209\n",
            "Epoch 2/10\n",
            "112/112 [==============================] - 1s 6ms/step - loss: 1.7214 - accuracy: 0.3921 - val_loss: 1.1877 - val_accuracy: 0.6247\n",
            "Epoch 3/10\n",
            "112/112 [==============================] - 1s 6ms/step - loss: 0.9297 - accuracy: 0.6999 - val_loss: 0.8147 - val_accuracy: 0.7733\n",
            "Epoch 4/10\n",
            "112/112 [==============================] - 1s 6ms/step - loss: 0.5912 - accuracy: 0.8210 - val_loss: 0.6870 - val_accuracy: 0.8086\n",
            "Epoch 5/10\n",
            "112/112 [==============================] - 1s 6ms/step - loss: 0.4073 - accuracy: 0.8811 - val_loss: 0.6154 - val_accuracy: 0.8262\n",
            "Epoch 6/10\n",
            "112/112 [==============================] - 1s 6ms/step - loss: 0.3063 - accuracy: 0.9128 - val_loss: 0.5851 - val_accuracy: 0.8489\n",
            "Epoch 7/10\n",
            "112/112 [==============================] - 1s 6ms/step - loss: 0.2537 - accuracy: 0.9304 - val_loss: 0.5639 - val_accuracy: 0.8564\n",
            "Epoch 8/10\n",
            "112/112 [==============================] - 1s 6ms/step - loss: 0.2136 - accuracy: 0.9349 - val_loss: 0.6055 - val_accuracy: 0.8539\n",
            "Epoch 9/10\n",
            "112/112 [==============================] - 1s 6ms/step - loss: 0.1824 - accuracy: 0.9475 - val_loss: 0.5861 - val_accuracy: 0.8363\n",
            "Epoch 10/10\n",
            "112/112 [==============================] - 1s 6ms/step - loss: 0.1609 - accuracy: 0.9560 - val_loss: 0.6162 - val_accuracy: 0.8489\n"
          ]
        }
      ],
      "source": [
        "# Compile and fit the model\n",
        "model_02.compile(optimizer='adam', loss='categorical_crossentropy', metrics=['accuracy'])\n",
        "history = model_02.fit(x_train_pad, y_train_enc, batch_size=32, epochs=10, validation_data=(x_val_pad, y_val_enc))"
      ]
    },
    {
      "cell_type": "code",
      "execution_count": 29,
      "metadata": {
        "colab": {
          "base_uri": "https://localhost:8080/",
          "height": 295
        },
        "id": "L_z4nuH6XCf4",
        "outputId": "588a8a01-2e4b-49fd-fec0-4b6ebf2647a9"
      },
      "outputs": [
        {
          "output_type": "display_data",
          "data": {
            "text/plain": [
              "<Figure size 432x288 with 1 Axes>"
            ],
            "image/png": "[encoded data removed]"
          },
          "metadata": {
            "needs_background": "light"
          }
        }
      ],
      "source": [
        "# summarize history for loss\n",
        "plt.plot(history.history['loss'])\n",
        "plt.plot(history.history['val_loss'])\n",
        "plt.title('model loss')\n",
        "plt.ylabel('loss')\n",
        "plt.xlabel('epoch')\n",
        "plt.legend(['train', 'val'], loc='upper right')\n",
        "plt.show()"
      ]
    },
    {
      "cell_type": "code",
      "execution_count": 30,
      "metadata": {
        "colab": {
          "base_uri": "https://localhost:8080/",
          "height": 295
        },
        "id": "Elt3Ge1OYZiS",
        "outputId": "dcb90353-74b4-450d-e6ff-4dc52e405710"
      },
      "outputs": [
        {
          "output_type": "display_data",
          "data": {
            "text/plain": [
              "<Figure size 432x288 with 1 Axes>"
            ],
            "image/png": "[encoded data removed]"
          },
          "metadata": {
            "needs_background": "light"
          }
        }
      ],
      "source": [
        "# summarize history for accuracy\n",
        "plt.plot(history.history['accuracy'])\n",
        "plt.plot(history.history['val_accuracy'])\n",
        "plt.title('model accuracy')\n",
        "plt.ylabel('accuracy')\n",
        "plt.xlabel('epoch')\n",
        "plt.legend(['train', 'val'], loc='upper left')\n",
        "plt.show()"
      ]
    },
    {
      "cell_type": "code",
      "execution_count": 31,
      "metadata": {
        "colab": {
          "base_uri": "https://localhost:8080/"
        },
        "id": "arT3Z3zcBoeh",
        "outputId": "7b37cdb1-b328-41ce-987b-0eb40ad6a09f"
      },
      "outputs": [
        {
          "output_type": "stream",
          "name": "stdout",
          "text": [
            "14/14 [==============================] - 0s 3ms/step - loss: 0.6737 - accuracy: 0.8367\n",
            "Test score: 0.6736646890640259\n",
            "Test accuracy: 0.8367347121238708\n"
          ]
        }
      ],
      "source": [
        "# Evaluate the model on the test data\n",
        "score, acc = model_02.evaluate(x_test_pad, y_test_enc, batch_size=32)\n",
        "print(\"Test score:\", score)\n",
        "print(\"Test accuracy:\", acc)"
      ]
    },
    {
      "cell_type": "code",
      "execution_count": 32,
      "metadata": {
        "colab": {
          "base_uri": "https://localhost:8080/"
        },
        "id": "-NolLxdOBsDJ",
        "outputId": "9b9a9c66-9b71-4027-b448-900f02239e34"
      },
      "outputs": [
        {
          "output_type": "stream",
          "name": "stdout",
          "text": [
            "14/14 [==============================] - 1s 2ms/step\n",
            "              precision    recall  f1-score   support\n",
            "\n",
            "           0       0.85      0.97      0.91        64\n",
            "           1       0.85      0.86      0.86        59\n",
            "           2       0.85      0.62      0.72        45\n",
            "           3       0.72      0.80      0.76        41\n",
            "           4       0.67      0.85      0.75        26\n",
            "           5       0.86      0.77      0.81        47\n",
            "           6       0.87      0.89      0.88        37\n",
            "           7       1.00      1.00      1.00        40\n",
            "           8       0.89      0.81      0.85        42\n",
            "           9       0.79      0.75      0.77        40\n",
            "\n",
            "    accuracy                           0.84       441\n",
            "   macro avg       0.83      0.83      0.83       441\n",
            "weighted avg       0.84      0.84      0.84       441\n",
            "\n"
          ]
        }
      ],
      "source": [
        "# Generate the classification report\n",
        "y_pred = model_02.predict(x_test_pad)\n",
        "y_pred = np.argmax(y_pred, axis=1)\n",
        "print(classification_report(y_test, y_pred))"
      ]
    },
    {
      "cell_type": "code",
      "execution_count": 33,
      "metadata": {
        "colab": {
          "base_uri": "https://localhost:8080/",
          "height": 296
        },
        "id": "2_jNRtunBv9w",
        "outputId": "038e0ebc-36f7-47b7-ba9c-c08bd13288b3"
      },
      "outputs": [
        {
          "output_type": "display_data",
          "data": {
            "text/plain": [
              "<Figure size 720x720 with 0 Axes>"
            ]
          },
          "metadata": {}
        },
        {
          "output_type": "display_data",
          "data": {
            "text/plain": [
              "<Figure size 432x288 with 2 Axes>"
            ],
            "image/png": "[encoded data removed]"
          },
          "metadata": {
            "needs_background": "light"
          }
        }
      ],
      "source": [
        "conf_matrix = confusion_matrix(y_test, y_pred)\n",
        "cm_display = ConfusionMatrixDisplay(confusion_matrix = conf_matrix, display_labels = [0,1,2,3,4,5,6,7,8,9])\n",
        "plt.figure(figsize=(10,10))\n",
        "cm_display.plot()\n",
        "plt.show()"
      ]
    },
    {
      "cell_type": "markdown",
      "metadata": {
        "id": "9BtDTgNhEa4_"
      },
      "source": [
        "3. LSTM with Glove pre-trained word embeddings.\n",
        "\n",
        "> Indented block\n",
        "\n"
      ]
    },
    {
      "cell_type": "code",
      "execution_count": 34,
      "metadata": {
        "colab": {
          "base_uri": "https://localhost:8080/"
        },
        "id": "6KdyZ5RmIMf6",
        "outputId": "5cc69588-48b4-4472-d112-92febb3274a8"
      },
      "outputs": [
        {
          "output_type": "stream",
          "name": "stdout",
          "text": [
            "--2023-02-04 12:49:38--  http://nlp.stanford.edu/data/glove.6B.zip\n",
            "Resolving nlp.stanford.edu (nlp.stanford.edu)... 171.64.67.140\n",
            "Connecting to nlp.stanford.edu (nlp.stanford.edu)|171.64.67.140|:80... connected.\n",
            "HTTP request sent, awaiting response... 302 Found\n",
            "Location: https://nlp.stanford.edu/data/glove.6B.zip [following]\n",
            "--2023-02-04 12:49:39--  https://nlp.stanford.edu/data/glove.6B.zip\n",
            "Connecting to nlp.stanford.edu (nlp.stanford.edu)|171.64.67.140|:443... connected.\n",
            "HTTP request sent, awaiting response... 301 Moved Permanently\n",
            "Location: https://downloads.cs.stanford.edu/nlp/data/glove.6B.zip [following]\n",
            "--2023-02-04 12:49:39--  https://downloads.cs.stanford.edu/nlp/data/glove.6B.zip\n",
            "Resolving downloads.cs.stanford.edu (downloads.cs.stanford.edu)... 171.64.64.22\n",
            "Connecting to downloads.cs.stanford.edu (downloads.cs.stanford.edu)|171.64.64.22|:443... connected.\n",
            "HTTP request sent, awaiting response... 200 OK\n",
            "Length: 862182613 (822M) [application/zip]\n",
            "Saving to: ‘glove.6B.zip’\n",
            "\n",
            "glove.6B.zip        100%[===================>] 822.24M  5.07MB/s    in 2m 39s  \n",
            "\n",
            "2023-02-04 12:52:19 (5.18 MB/s) - ‘glove.6B.zip’ saved [862182613/862182613]\n",
            "\n"
          ]
        }
      ],
      "source": [
        "#Download Glove word embeddings\n",
        "!wget http://nlp.stanford.edu/data/glove.6B.zip\n",
        "!unzip -q glove.6B.zip\n"
      ]
    },
    {
      "cell_type": "code",
      "execution_count": 35,
      "metadata": {
        "id": "ncKXoNGVEam7"
      },
      "outputs": [],
      "source": [
        "#Create a dictionary with Glove embeddings\n",
        "embeddings_index = {}\n",
        "with open(\"/content/glove.6B.100d.txt\", 'r') as f:\n",
        "    for line in f:\n",
        "        values = line.split()\n",
        "        word = values[0]\n",
        "        coefs = np.asarray(values[1:], dtype='float32')\n",
        "        embeddings_index[word] = coefs"
      ]
    },
    {
      "cell_type": "code",
      "execution_count": 36,
      "metadata": {
        "id": "J1CYZBSDB3GH"
      },
      "outputs": [],
      "source": [
        "#Create embedding matrix. Words not found in embedding index will be all-zeros.\n",
        "embedding_matrix = np.zeros((n_words, 100))\n",
        "for word, i in word_index.items():\n",
        "    embedding_vector = embeddings_index.get(word)\n",
        "    if embedding_vector is not None:\n",
        "        embedding_matrix[i] = embedding_vector"
      ]
    },
    {
      "cell_type": "code",
      "execution_count": 38,
      "metadata": {
        "colab": {
          "base_uri": "https://localhost:8080/"
        },
        "id": "HxFp0Y0fMHVH",
        "outputId": "9faedd09-73f0-4d5a-bc16-b23ecabd7f46"
      },
      "outputs": [
        {
          "output_type": "stream",
          "name": "stdout",
          "text": [
            "Model: \"sequential_3\"\n",
            "_________________________________________________________________\n",
            " Layer (type)                Output Shape              Param #   \n",
            "=================================================================\n",
            " embedding_3 (Embedding)     (None, 13, 100)           345700    \n",
            "                                                                 \n",
            " lstm_4 (LSTM)               (None, 64)                42240     \n",
            "                                                                 \n",
            " dropout_4 (Dropout)         (None, 64)                0         \n",
            "                                                                 \n",
            " dense_3 (Dense)             (None, 10)                650       \n",
            "                                                                 \n",
            "=================================================================\n",
            "Total params: 388,590\n",
            "Trainable params: 42,890\n",
            "Non-trainable params: 345,700\n",
            "_________________________________________________________________\n"
          ]
        }
      ],
      "source": [
        "#first LSTM model\n",
        "model_03 = Sequential()\n",
        "model_03.add(Embedding(input_dim=n_words, output_dim=100, input_length=max_length, weights=[embedding_matrix], trainable=False))\n",
        "model_03.add(LSTM(64))\n",
        "model_03.add(Dropout(0.5))\n",
        "model_03.add(Dense(n_classes, activation='softmax'))\n",
        "model_03.summary()"
      ]
    },
    {
      "cell_type": "code",
      "execution_count": 39,
      "metadata": {
        "colab": {
          "base_uri": "https://localhost:8080/"
        },
        "id": "VxdS-H8OOtsC",
        "outputId": "7a151034-30fa-4548-e93a-526949497a55"
      },
      "outputs": [
        {
          "output_type": "stream",
          "name": "stdout",
          "text": [
            "Epoch 1/10\n",
            "112/112 [==============================] - 3s 10ms/step - loss: 1.8203 - accuracy: 0.4255 - val_loss: 1.2093 - val_accuracy: 0.6549\n",
            "Epoch 2/10\n",
            "112/112 [==============================] - 0s 4ms/step - loss: 1.1054 - accuracy: 0.6592 - val_loss: 0.9481 - val_accuracy: 0.7078\n",
            "Epoch 3/10\n",
            "112/112 [==============================] - 0s 4ms/step - loss: 0.8939 - accuracy: 0.7276 - val_loss: 0.8291 - val_accuracy: 0.7506\n",
            "Epoch 4/10\n",
            "112/112 [==============================] - 0s 4ms/step - loss: 0.7805 - accuracy: 0.7576 - val_loss: 0.7838 - val_accuracy: 0.7531\n",
            "Epoch 5/10\n",
            "112/112 [==============================] - 0s 4ms/step - loss: 0.7134 - accuracy: 0.7773 - val_loss: 0.7279 - val_accuracy: 0.7859\n",
            "Epoch 6/10\n",
            "112/112 [==============================] - 0s 4ms/step - loss: 0.6658 - accuracy: 0.7950 - val_loss: 0.6818 - val_accuracy: 0.7960\n",
            "Epoch 7/10\n",
            "112/112 [==============================] - 0s 4ms/step - loss: 0.6080 - accuracy: 0.8109 - val_loss: 0.7117 - val_accuracy: 0.7909\n",
            "Epoch 8/10\n",
            "112/112 [==============================] - 0s 4ms/step - loss: 0.5773 - accuracy: 0.8213 - val_loss: 0.6830 - val_accuracy: 0.8060\n",
            "Epoch 9/10\n",
            "112/112 [==============================] - 0s 4ms/step - loss: 0.5305 - accuracy: 0.8415 - val_loss: 0.6325 - val_accuracy: 0.8010\n",
            "Epoch 10/10\n",
            "112/112 [==============================] - 0s 4ms/step - loss: 0.5117 - accuracy: 0.8393 - val_loss: 0.6775 - val_accuracy: 0.8010\n"
          ]
        }
      ],
      "source": [
        "# Compile and fit the model\n",
        "model_03.compile(optimizer='adam', loss='categorical_crossentropy', metrics=['accuracy'])\n",
        "history = model_03.fit(x_train_pad, y_train_enc, batch_size=32, epochs=10, validation_data=(x_val_pad, y_val_enc))"
      ]
    },
    {
      "cell_type": "code",
      "execution_count": 40,
      "metadata": {
        "colab": {
          "base_uri": "https://localhost:8080/",
          "height": 295
        },
        "id": "Cceq8hD1PCMZ",
        "outputId": "b5f0fda7-782d-4aaf-d4dd-2f32235af0e9"
      },
      "outputs": [
        {
          "output_type": "display_data",
          "data": {
            "text/plain": [
              "<Figure size 432x288 with 1 Axes>"
            ],
            "image/png": "[encoded data removed]"
          },
          "metadata": {
            "needs_background": "light"
          }
        }
      ],
      "source": [
        "# summarize history for loss\n",
        "plt.plot(history.history['loss'])\n",
        "plt.plot(history.history['val_loss'])\n",
        "plt.title('model loss')\n",
        "plt.ylabel('loss')\n",
        "plt.xlabel('epoch')\n",
        "plt.legend(['train', 'val'], loc='upper right')\n",
        "plt.show()"
      ]
    },
    {
      "cell_type": "code",
      "execution_count": 41,
      "metadata": {
        "colab": {
          "base_uri": "https://localhost:8080/",
          "height": 295
        },
        "id": "mp2JRo60PTdX",
        "outputId": "13b0a8be-594e-490a-b143-c6f64019b3a5"
      },
      "outputs": [
        {
          "output_type": "display_data",
          "data": {
            "text/plain": [
              "<Figure size 432x288 with 1 Axes>"
            ],
            "image/png": "[encoded data removed]"
          },
          "metadata": {
            "needs_background": "light"
          }
        }
      ],
      "source": [
        "# summarize history for accuracy\n",
        "plt.plot(history.history['accuracy'])\n",
        "plt.plot(history.history['val_accuracy'])\n",
        "plt.title('model accuracy')\n",
        "plt.ylabel('accuracy')\n",
        "plt.xlabel('epoch')\n",
        "plt.legend(['train', 'val'], loc='upper left')\n",
        "plt.show()"
      ]
    },
    {
      "cell_type": "code",
      "execution_count": 43,
      "metadata": {
        "colab": {
          "base_uri": "https://localhost:8080/"
        },
        "id": "JRBwlfaZPYgm",
        "outputId": "4993b01d-fe25-4526-ade1-cb84d975e92f"
      },
      "outputs": [
        {
          "output_type": "stream",
          "name": "stdout",
          "text": [
            "14/14 [==============================] - 0s 3ms/step - loss: 0.6155 - accuracy: 0.7959\n",
            "Test score: 0.6155275106430054\n",
            "Test accuracy: 0.795918345451355\n"
          ]
        }
      ],
      "source": [
        " # Evaluate the model on the test data\n",
        "score, acc = model_03.evaluate(x_test_pad, y_test_enc, batch_size=32)\n",
        "print(\"Test score:\", score)\n",
        "print(\"Test accuracy:\", acc)"
      ]
    },
    {
      "cell_type": "code",
      "execution_count": 42,
      "metadata": {
        "colab": {
          "base_uri": "https://localhost:8080/"
        },
        "id": "5itqWteXPfYO",
        "outputId": "714458d8-d614-4019-d536-5579e89e5af1"
      },
      "outputs": [
        {
          "output_type": "stream",
          "name": "stdout",
          "text": [
            "14/14 [==============================] - 0s 2ms/step\n",
            "              precision    recall  f1-score   support\n",
            "\n",
            "           0       0.73      0.94      0.82        64\n",
            "           1       0.82      0.68      0.74        59\n",
            "           2       0.66      0.73      0.69        45\n",
            "           3       0.73      0.78      0.75        41\n",
            "           4       0.86      0.92      0.89        26\n",
            "           5       0.74      0.74      0.74        47\n",
            "           6       0.81      0.81      0.81        37\n",
            "           7       0.97      0.88      0.92        40\n",
            "           8       0.94      0.79      0.86        42\n",
            "           9       0.88      0.72      0.79        40\n",
            "\n",
            "    accuracy                           0.80       441\n",
            "   macro avg       0.81      0.80      0.80       441\n",
            "weighted avg       0.81      0.80      0.80       441\n",
            "\n"
          ]
        }
      ],
      "source": [
        "# Generate the classification report\n",
        "y_pred = model_03.predict(x_test_pad)\n",
        "y_pred = np.argmax(y_pred, axis=1)\n",
        "print(classification_report(y_test, y_pred))"
      ]
    },
    {
      "cell_type": "code",
      "execution_count": 44,
      "metadata": {
        "colab": {
          "base_uri": "https://localhost:8080/",
          "height": 300
        },
        "id": "gvqgjm_2PlQt",
        "outputId": "02daa728-9184-41d3-aea8-d31a82fe7a45"
      },
      "outputs": [
        {
          "output_type": "display_data",
          "data": {
            "text/plain": [
              "<Figure size 720x720 with 0 Axes>"
            ]
          },
          "metadata": {}
        },
        {
          "output_type": "display_data",
          "data": {
            "text/plain": [
              "<Figure size 432x288 with 2 Axes>"
            ],
            "image/png": "[encoded data removed]"
          },
          "metadata": {
            "needs_background": "light"
          }
        }
      ],
      "source": [
        "conf_matrix = confusion_matrix(y_test, y_pred)\n",
        "cm_display = ConfusionMatrixDisplay(confusion_matrix = conf_matrix, display_labels = [0,1,2,3,4,5,6,7,8,9])\n",
        "plt.figure(figsize=(10,10))\n",
        "cm_display.plot()\n",
        "plt.show()"
      ]
    },
    {
      "cell_type": "code",
      "execution_count": 45,
      "metadata": {
        "colab": {
          "base_uri": "https://localhost:8080/"
        },
        "id": "wh7r_8EQPrJE",
        "outputId": "dcec479d-fbfd-4801-cee1-0e5a67eda9da"
      },
      "outputs": [
        {
          "output_type": "stream",
          "name": "stdout",
          "text": [
            "Model: \"sequential_4\"\n",
            "_________________________________________________________________\n",
            " Layer (type)                Output Shape              Param #   \n",
            "=================================================================\n",
            " embedding_4 (Embedding)     (None, 13, 100)           345700    \n",
            "                                                                 \n",
            " lstm_5 (LSTM)               (None, 13, 64)            42240     \n",
            "                                                                 \n",
            " dropout_5 (Dropout)         (None, 13, 64)            0         \n",
            "                                                                 \n",
            " lstm_6 (LSTM)               (None, 13, 64)            33024     \n",
            "                                                                 \n",
            " dropout_6 (Dropout)         (None, 13, 64)            0         \n",
            "                                                                 \n",
            " flatten_1 (Flatten)         (None, 832)               0         \n",
            "                                                                 \n",
            " dense_4 (Dense)             (None, 10)                8330      \n",
            "                                                                 \n",
            "=================================================================\n",
            "Total params: 429,294\n",
            "Trainable params: 83,594\n",
            "Non-trainable params: 345,700\n",
            "_________________________________________________________________\n"
          ]
        }
      ],
      "source": [
        "# Define the LSTM model_02\n",
        "model_04 = Sequential()\n",
        "model_04.add(Embedding(input_dim=n_words, output_dim=100, input_length=max_length, weights=[embedding_matrix], trainable=False,input_shape=(max_length,)))\n",
        "model_04.add(LSTM(64,return_sequences=True))\n",
        "model_04.add(Dropout(0.5))\n",
        "model_04.add(LSTM(64, return_sequences=True))\n",
        "model_04.add(Dropout(0.5))\n",
        "model_04.add(Flatten())\n",
        "model_04.add(Dense(n_classes, activation='softmax'))\n",
        "model_04.summary()"
      ]
    },
    {
      "cell_type": "code",
      "execution_count": 46,
      "metadata": {
        "colab": {
          "base_uri": "https://localhost:8080/"
        },
        "id": "65icTHcSSMzn",
        "outputId": "1ef69494-efe6-4670-dbac-d9db4bc4b41e"
      },
      "outputs": [
        {
          "output_type": "stream",
          "name": "stdout",
          "text": [
            "Epoch 1/10\n",
            "112/112 [==============================] - 4s 12ms/step - loss: 1.9926 - accuracy: 0.3142 - val_loss: 1.4748 - val_accuracy: 0.5189\n",
            "Epoch 2/10\n",
            "112/112 [==============================] - 1s 6ms/step - loss: 1.3350 - accuracy: 0.5590 - val_loss: 1.1449 - val_accuracy: 0.6574\n",
            "Epoch 3/10\n",
            "112/112 [==============================] - 1s 6ms/step - loss: 1.0735 - accuracy: 0.6502 - val_loss: 0.9181 - val_accuracy: 0.7028\n",
            "Epoch 4/10\n",
            "112/112 [==============================] - 1s 6ms/step - loss: 0.9167 - accuracy: 0.7066 - val_loss: 0.8427 - val_accuracy: 0.7128\n",
            "Epoch 5/10\n",
            "112/112 [==============================] - 1s 6ms/step - loss: 0.8263 - accuracy: 0.7302 - val_loss: 0.7924 - val_accuracy: 0.7305\n",
            "Epoch 6/10\n",
            "112/112 [==============================] - 1s 6ms/step - loss: 0.7661 - accuracy: 0.7551 - val_loss: 0.7372 - val_accuracy: 0.7733\n",
            "Epoch 7/10\n",
            "112/112 [==============================] - 1s 6ms/step - loss: 0.7122 - accuracy: 0.7725 - val_loss: 0.7739 - val_accuracy: 0.7708\n",
            "Epoch 8/10\n",
            "112/112 [==============================] - 1s 6ms/step - loss: 0.6634 - accuracy: 0.7812 - val_loss: 0.6636 - val_accuracy: 0.7960\n",
            "Epoch 9/10\n",
            "112/112 [==============================] - 1s 6ms/step - loss: 0.6169 - accuracy: 0.8028 - val_loss: 0.6502 - val_accuracy: 0.8086\n",
            "Epoch 10/10\n",
            "112/112 [==============================] - 1s 6ms/step - loss: 0.5674 - accuracy: 0.8163 - val_loss: 0.6490 - val_accuracy: 0.8035\n"
          ]
        }
      ],
      "source": [
        "# Compile and fit the model\n",
        "model_04.compile(optimizer='adam', loss='categorical_crossentropy', metrics=['accuracy'])\n",
        "history = model_04.fit(x_train_pad, y_train_enc, batch_size=32, epochs=10, validation_data=(x_val_pad, y_val_enc))"
      ]
    },
    {
      "cell_type": "code",
      "execution_count": 47,
      "metadata": {
        "colab": {
          "base_uri": "https://localhost:8080/",
          "height": 295
        },
        "id": "F2F6aLtISjnr",
        "outputId": "8e961a41-b96b-450d-82c3-b79d5726aa40"
      },
      "outputs": [
        {
          "output_type": "display_data",
          "data": {
            "text/plain": [
              "<Figure size 432x288 with 1 Axes>"
            ],
            "image/png": "[encoded data removed]"
          },
          "metadata": {
            "needs_background": "light"
          }
        }
      ],
      "source": [
        "# summarize history for loss\n",
        "plt.plot(history.history['loss'])\n",
        "plt.plot(history.history['val_loss'])\n",
        "plt.title('model loss')\n",
        "plt.ylabel('loss')\n",
        "plt.xlabel('epoch')\n",
        "plt.legend(['train', 'val'], loc='upper right')\n",
        "plt.show()"
      ]
    },
    {
      "cell_type": "code",
      "execution_count": 48,
      "metadata": {
        "colab": {
          "base_uri": "https://localhost:8080/",
          "height": 295
        },
        "id": "-km9XaxHS2hS",
        "outputId": "6e114092-5625-4f44-c120-d96b762313f7"
      },
      "outputs": [
        {
          "output_type": "display_data",
          "data": {
            "text/plain": [
              "<Figure size 432x288 with 1 Axes>"
            ],
            "image/png": "[encoded data removed]"
          },
          "metadata": {
            "needs_background": "light"
          }
        }
      ],
      "source": [
        "# summarize history for accuracy\n",
        "plt.plot(history.history['accuracy'])\n",
        "plt.plot(history.history['val_accuracy'])\n",
        "plt.title('model accuracy')\n",
        "plt.ylabel('accuracy')\n",
        "plt.xlabel('epoch')\n",
        "plt.legend(['train', 'val'], loc='upper left')\n",
        "plt.show()"
      ]
    },
    {
      "cell_type": "code",
      "execution_count": 49,
      "metadata": {
        "colab": {
          "base_uri": "https://localhost:8080/"
        },
        "id": "xveFPhpnQBiz",
        "outputId": "2eed35a0-ff32-4531-afbb-7ccdaba83282"
      },
      "outputs": [
        {
          "output_type": "stream",
          "name": "stdout",
          "text": [
            "14/14 [==============================] - 0s 3ms/step - loss: 0.6420 - accuracy: 0.8005\n",
            "Test score: 0.6420438289642334\n",
            "Test accuracy: 0.8004535436630249\n"
          ]
        }
      ],
      "source": [
        " # Evaluate the model on the test data\n",
        "score, acc = model_04.evaluate(x_test_pad, y_test_enc, batch_size=32)\n",
        "print(\"Test score:\", score)\n",
        "print(\"Test accuracy:\", acc)"
      ]
    },
    {
      "cell_type": "code",
      "execution_count": 50,
      "metadata": {
        "colab": {
          "base_uri": "https://localhost:8080/"
        },
        "id": "kPlP17VTR1dB",
        "outputId": "18aff534-86b5-4277-feab-b7773583d7bc"
      },
      "outputs": [
        {
          "output_type": "stream",
          "name": "stdout",
          "text": [
            "14/14 [==============================] - 1s 3ms/step\n",
            "              precision    recall  f1-score   support\n",
            "\n",
            "           0       0.82      0.92      0.87        64\n",
            "           1       0.84      0.78      0.81        59\n",
            "           2       0.66      0.64      0.65        45\n",
            "           3       0.70      0.76      0.73        41\n",
            "           4       0.77      0.92      0.84        26\n",
            "           5       0.80      0.68      0.74        47\n",
            "           6       0.74      0.86      0.80        37\n",
            "           7       0.97      0.93      0.95        40\n",
            "           8       0.94      0.79      0.86        42\n",
            "           9       0.77      0.75      0.76        40\n",
            "\n",
            "    accuracy                           0.80       441\n",
            "   macro avg       0.80      0.80      0.80       441\n",
            "weighted avg       0.80      0.80      0.80       441\n",
            "\n"
          ]
        }
      ],
      "source": [
        "# Generate the classification report\n",
        "y_pred = model_04.predict(x_test_pad)\n",
        "y_pred = np.argmax(y_pred, axis=1)\n",
        "print(classification_report(y_test, y_pred))"
      ]
    },
    {
      "cell_type": "code",
      "execution_count": 51,
      "metadata": {
        "colab": {
          "base_uri": "https://localhost:8080/",
          "height": 296
        },
        "id": "nfJt3N-STF6D",
        "outputId": "ffbba437-9295-4916-db4e-a8c24cae414f"
      },
      "outputs": [
        {
          "output_type": "display_data",
          "data": {
            "text/plain": [
              "<Figure size 720x720 with 0 Axes>"
            ]
          },
          "metadata": {}
        },
        {
          "output_type": "display_data",
          "data": {
            "text/plain": [
              "<Figure size 432x288 with 2 Axes>"
            ],
            "image/png": "[encoded data removed]"
          },
          "metadata": {
            "needs_background": "light"
          }
        }
      ],
      "source": [
        "conf_matrix = confusion_matrix(y_test, y_pred)\n",
        "cm_display = ConfusionMatrixDisplay(confusion_matrix = conf_matrix, display_labels = [0,1,2,3,4,5,6,7,8,9])\n",
        "plt.figure(figsize=(10,10))\n",
        "cm_display.plot()\n",
        "plt.show()"
      ]
    },
    {
      "cell_type": "markdown",
      "metadata": {
        "id": "eJN60haeT4QN"
      },
      "source": [
        "4. Transformers"
      ]
    },
    {
      "cell_type": "code",
      "execution_count": 52,
      "metadata": {
        "colab": {
          "base_uri": "https://localhost:8080/"
        },
        "id": "_e-u6MQHYdAD",
        "outputId": "ea9cdcef-c1e7-472d-bbe4-dfcbf4beacaf"
      },
      "outputs": [
        {
          "output_type": "stream",
          "name": "stdout",
          "text": [
            "Looking in indexes: https://pypi.org/simple, https://us-python.pkg.dev/colab-wheels/public/simple/\n",
            "Collecting transformers\n",
            "  Downloading transformers-4.26.0-py3-none-any.whl (6.3 MB)\n",
            "\u001b[2K     \u001b[90m━━━━━━━━━━━━━━━━━━━━━━━━━━━━━━━━━━━━━━━━\u001b[0m \u001b[32m6.3/6.3 MB\u001b[0m \u001b[31m97.2 MB/s\u001b[0m eta \u001b[36m0:00:00\u001b[0m\n",
            "\u001b[?25hRequirement already satisfied: numpy>=1.17 in /usr/local/lib/python3.8/dist-packages (from transformers) (1.21.6)\n",
            "Requirement already satisfied: pyyaml>=5.1 in /usr/local/lib/python3.8/dist-packages (from transformers) (6.0)\n",
            "Requirement already satisfied: regex!=2019.12.17 in /usr/local/lib/python3.8/dist-packages (from transformers) (2022.6.2)\n",
            "Requirement already satisfied: requests in /usr/local/lib/python3.8/dist-packages (from transformers) (2.25.1)\n",
            "Requirement already satisfied: filelock in /usr/local/lib/python3.8/dist-packages (from transformers) (3.9.0)\n",
            "Requirement already satisfied: tqdm>=4.27 in /usr/local/lib/python3.8/dist-packages (from transformers) (4.64.1)\n",
            "Collecting tokenizers!=0.11.3,<0.14,>=0.11.1\n",
            "  Downloading tokenizers-0.13.2-cp38-cp38-manylinux_2_17_x86_64.manylinux2014_x86_64.whl (7.6 MB)\n",
            "\u001b[2K     \u001b[90m━━━━━━━━━━━━━━━━━━━━━━━━━━━━━━━━━━━━━━━━\u001b[0m \u001b[32m7.6/7.6 MB\u001b[0m \u001b[31m108.5 MB/s\u001b[0m eta \u001b[36m0:00:00\u001b[0m\n",
            "\u001b[?25hCollecting huggingface-hub<1.0,>=0.11.0\n",
            "  Downloading huggingface_hub-0.12.0-py3-none-any.whl (190 kB)\n",
            "\u001b[2K     \u001b[90m━━━━━━━━━━━━━━━━━━━━━━━━━━━━━━━━━━━━━━\u001b[0m \u001b[32m190.3/190.3 KB\u001b[0m \u001b[31m23.8 MB/s\u001b[0m eta \u001b[36m0:00:00\u001b[0m\n",
            "\u001b[?25hRequirement already satisfied: packaging>=20.0 in /usr/local/lib/python3.8/dist-packages (from transformers) (23.0)\n",
            "Requirement already satisfied: typing-extensions>=3.7.4.3 in /usr/local/lib/python3.8/dist-packages (from huggingface-hub<1.0,>=0.11.0->transformers) (4.4.0)\n",
            "Requirement already satisfied: chardet<5,>=3.0.2 in /usr/local/lib/python3.8/dist-packages (from requests->transformers) (4.0.0)\n",
            "Requirement already satisfied: certifi>=2017.4.17 in /usr/local/lib/python3.8/dist-packages (from requests->transformers) (2022.12.7)\n",
            "Requirement already satisfied: idna<3,>=2.5 in /usr/local/lib/python3.8/dist-packages (from requests->transformers) (2.10)\n",
            "Requirement already satisfied: urllib3<1.27,>=1.21.1 in /usr/local/lib/python3.8/dist-packages (from requests->transformers) (1.24.3)\n",
            "Installing collected packages: tokenizers, huggingface-hub, transformers\n",
            "Successfully installed huggingface-hub-0.12.0 tokenizers-0.13.2 transformers-4.26.0\n"
          ]
        }
      ],
      "source": [
        "!pip install transformers"
      ]
    },
    {
      "cell_type": "markdown",
      "source": [
        "###BERT\n"
      ],
      "metadata": {
        "id": "uvEyctVKPgtO"
      }
    },
    {
      "cell_type": "code",
      "execution_count": 53,
      "metadata": {
        "id": "O4lNMKq5TTaa"
      },
      "outputs": [],
      "source": [
        "from transformers import BertTokenizer, TFBertForSequenceClassification"
      ]
    },
    {
      "cell_type": "code",
      "execution_count": 54,
      "metadata": {
        "id": "XxfJUrEMjsvs"
      },
      "outputs": [],
      "source": [
        "# train, validation and test split dataset\n",
        "x_train, x_test, y_train, y_test = train_test_split(data_03[\"Question\"], data_03[\"Intent\"], test_size = 0.1, shuffle=True, random_state = 1)\n",
        "x_train, x_val, y_train, y_val = train_test_split(x_train, y_train, test_size = 0.1, shuffle=True, random_state = 1) \n"
      ]
    },
    {
      "cell_type": "code",
      "execution_count": 55,
      "metadata": {
        "colab": {
          "base_uri": "https://localhost:8080/"
        },
        "id": "l45iWa6Geatx",
        "outputId": "da877a03-58c2-4d5a-9f71-c0f2c0c3905e"
      },
      "outputs": [
        {
          "output_type": "execute_result",
          "data": {
            "text/plain": [
              "((3565,), (3565,), (441,), (441,), (397,), (397,))"
            ]
          },
          "metadata": {},
          "execution_count": 55
        }
      ],
      "source": [
        "x_train.shape, y_train.shape, x_test.shape, y_test.shape, x_val.shape, y_val.shape"
      ]
    },
    {
      "cell_type": "code",
      "source": [
        "#tokenize and pad\n",
        "#tokenizer = BertTokenizer.from_pretrained('bert-base-uncased')\n",
        "\n",
        "#x_train_pad = tokenizer.batch_encode_plus(x_train, return_tensors='tf', padding='longest')\n",
        "#x_val_pad = tokenizer.batch_encode_plus(x_val, return_tensors='tf', padding='longest')\n",
        "#x_test_pad = tokenizer.batch_encode_plus(x_test, return_tensors='tf', padding='longest')"
      ],
      "metadata": {
        "colab": {
          "base_uri": "https://localhost:8080/",
          "height": 113,
          "referenced_widgets": [
            "713b0b9abdee431bae27d0debc4c81d9",
            "059d507c2eee4cb1b2fe8bfb880ebd80",
            "23297a26811544a6a334c683c304f60e",
            "f0cc4c8d28e745abb5de677325468bd5",
            "81bde89419ae4e32b8a7e92d48fd5300",
            "6153b9c7a1b0491f97122de4e072c887",
            "a41e085f922f4a53881ff774015bc590",
            "c8e32e81dd2f432b90190574fc6d3090",
            "6a8483284827446285727eca56f9b691",
            "bb7994350f9c4c2886f7d36a77613c8e",
            "f6082d5221254545a0e0e7f1c8dd475a",
            "b5cb725badf645868b0c67fe2039d6e8",
            "3d8ec34494bd4f078bbba8d926f0a15f",
            "b5e58e1ffbb4471a8c8c4957de8f2864",
            "d7fc63d8a76f4cdfb50e61e9a87ba14d",
            "1930d5600909432e960c4a27e6e763a3",
            "ed082bd91070423fa611ed9575b0c2e2",
            "eee30c86116d4648b76652e847d4183c",
            "7a37a71b61094ad7836712f232a5c089",
            "80fe70ab17a948a3ba38bc42de381f87",
            "7f1a27d97f90450d98f4b9cbaaeaa63d",
            "9ca959aeee7e414b829d1e7d371c9cec",
            "cfd5fa6461584223b8bae7339637c91a",
            "8fb00d5ad723411291af59b9c1611628",
            "f0ec4ae3b0b043b98e6a4068e2c7fbbc",
            "4544b3bbc06040f4be01c99b48e467b1",
            "858752e886ab46caa44a56aedec062c4",
            "08268e58f46b4505a071ab870f2fecac",
            "eaeb58e8169247c1abcb4d792fa6637f",
            "125a6dda17d241d89ff88cac9c1053b8",
            "1e8e33a280ff40a3b81ed812a60c6d5f",
            "4e6b82edda704fa2bf12bfcbffb704cb",
            "0f5b710aec25409cad8209bdd0f19789"
          ]
        },
        "id": "7Mnu-ZhN1Z_f",
        "outputId": "06be8bb2-eddb-47f1-f597-9390e44e63a2"
      },
      "execution_count": null,
      "outputs": [
        {
          "output_type": "display_data",
          "data": {
            "text/plain": [
              "Downloading (…)solve/main/vocab.txt:   0%|          | 0.00/232k [00:00<?, ?B/s]"
            ],
            "application/vnd.jupyter.widget-view+json": {
              "version_major": 2,
              "version_minor": 0,
              "model_id": "713b0b9abdee431bae27d0debc4c81d9"
            }
          },
          "metadata": {}
        },
        {
          "output_type": "display_data",
          "data": {
            "text/plain": [
              "Downloading (…)okenizer_config.json:   0%|          | 0.00/28.0 [00:00<?, ?B/s]"
            ],
            "application/vnd.jupyter.widget-view+json": {
              "version_major": 2,
              "version_minor": 0,
              "model_id": "b5cb725badf645868b0c67fe2039d6e8"
            }
          },
          "metadata": {}
        },
        {
          "output_type": "display_data",
          "data": {
            "text/plain": [
              "Downloading (…)lve/main/config.json:   0%|          | 0.00/570 [00:00<?, ?B/s]"
            ],
            "application/vnd.jupyter.widget-view+json": {
              "version_major": 2,
              "version_minor": 0,
              "model_id": "cfd5fa6461584223b8bae7339637c91a"
            }
          },
          "metadata": {}
        }
      ]
    },
    {
      "cell_type": "code",
      "execution_count": 56,
      "metadata": {
        "id": "Q2lvomsU-Q-7",
        "colab": {
          "base_uri": "https://localhost:8080/",
          "height": 113,
          "referenced_widgets": [
            "30cde90dac3646f7b78b33ed67e75c2a",
            "7b96602e547c4b7db5e7da5628e92956",
            "b74b83d74e804d968e526b87f3e4be61",
            "2f656b891e394152b00993f933400729",
            "f95e2d71892e4f1fbec2abb7c51f66ce",
            "8720f880710e4728aa271e2dc0708afa",
            "beb81c8401534b80afad9a4a36059d75",
            "24f395dd707b4b74953277a0ec2a32db",
            "bcae31520c7648d4a6fe85c831da19f6",
            "434f87ca15504518b979f705086323b3",
            "a519581ccd1f4066b718a82d87ba1e97",
            "ba238b557c534e8bb0f414b219e30e67",
            "9f9815a69c6c4016af83d9f663454d4d",
            "c0900e90559642b59812d2dcbe67b0cb",
            "18c29e678c2f41229a9bc7d691290e4d",
            "4d1721c7a99f48738a535ebbb766fc2f",
            "8b7d6d734585448ca9f39867144d74c9",
            "c84fbca95e6e4d72bf131ff6109a68cd",
            "3866143d324740e1ac56e2a24b5515eb",
            "4aa8a1a9368f4cafb05bbf30e1b46a8e",
            "f31abc70d19b4722b9f156b45e784827",
            "7ec29ffc1c0249ff87a948b03b3277a6",
            "fb2e47b418334b6d87d6790f5a9b0c69",
            "35a7154a6c9f4c25a586170b4cad5e03",
            "6547d26442dc445ea7d0f3973d18953a",
            "cc13a574c1d44f888ca7296d35c5eeb5",
            "7597be04b8384ae5bbc87fa324f81ee2",
            "10101943b2dc43039e3419d974f3bf20",
            "6dc15e0c746b44b1a8da1da7fe4b53ee",
            "0a6ed3eea37745879534dc7a54a84d8e",
            "bef956819c03478ab17537645a360ae3",
            "5318844f60d149e487a17dc3654458ac",
            "ab17427de59943958a9128804cee03b3"
          ]
        },
        "outputId": "c990daf7-7ab1-4174-ad51-9d12676e9bf4"
      },
      "outputs": [
        {
          "output_type": "display_data",
          "data": {
            "text/plain": [
              "Downloading (…)solve/main/vocab.txt:   0%|          | 0.00/232k [00:00<?, ?B/s]"
            ],
            "application/vnd.jupyter.widget-view+json": {
              "version_major": 2,
              "version_minor": 0,
              "model_id": "30cde90dac3646f7b78b33ed67e75c2a"
            }
          },
          "metadata": {}
        },
        {
          "output_type": "display_data",
          "data": {
            "text/plain": [
              "Downloading (…)okenizer_config.json:   0%|          | 0.00/28.0 [00:00<?, ?B/s]"
            ],
            "application/vnd.jupyter.widget-view+json": {
              "version_major": 2,
              "version_minor": 0,
              "model_id": "ba238b557c534e8bb0f414b219e30e67"
            }
          },
          "metadata": {}
        },
        {
          "output_type": "display_data",
          "data": {
            "text/plain": [
              "Downloading (…)lve/main/config.json:   0%|          | 0.00/570 [00:00<?, ?B/s]"
            ],
            "application/vnd.jupyter.widget-view+json": {
              "version_major": 2,
              "version_minor": 0,
              "model_id": "fb2e47b418334b6d87d6790f5a9b0c69"
            }
          },
          "metadata": {}
        }
      ],
      "source": [
        "#tokenize and pad\n",
        "tokenizer = BertTokenizer.from_pretrained('bert-base-uncased')\n",
        "\n",
        "x_train_pad = tokenizer.batch_encode_plus(x_train, return_tensors='tf', padding='max_length')\n",
        "x_val_pad = tokenizer.batch_encode_plus(x_val, return_tensors='tf', padding='max_length')\n",
        "x_test_pad = tokenizer.batch_encode_plus(x_test, return_tensors='tf', padding='max_length')"
      ]
    },
    {
      "cell_type": "code",
      "execution_count": 57,
      "metadata": {
        "id": "_Cc5QFYebfLV"
      },
      "outputs": [],
      "source": [
        "#convert input to numpy array\n",
        "x_train_np = x_train_pad['input_ids'].numpy()\n",
        "x_val_np = x_val_pad['input_ids'].numpy()\n",
        "x_test_np = x_test_pad['input_ids'].numpy()"
      ]
    },
    {
      "cell_type": "code",
      "execution_count": 58,
      "metadata": {
        "colab": {
          "base_uri": "https://localhost:8080/"
        },
        "id": "Sru8vz77e0X_",
        "outputId": "a645ba8b-9e40-40ed-b20b-eeb5bf1bb423"
      },
      "outputs": [
        {
          "output_type": "execute_result",
          "data": {
            "text/plain": [
              "((3565, 512), (397, 512), (441, 512))"
            ]
          },
          "metadata": {},
          "execution_count": 58
        }
      ],
      "source": [
        "x_train_np.shape, x_val_np.shape, x_test_np.shape"
      ]
    },
    {
      "cell_type": "code",
      "execution_count": 59,
      "metadata": {
        "id": "hZcnE3M9T3gl"
      },
      "outputs": [],
      "source": [
        "#one-hot-encoding of classes\n",
        "n_classes = len(np.unique(y_train))\n",
        "y_train_np = y_train.values\n",
        "y_val_np = y_val.values\n",
        "y_test_np=y_test.values\n",
        "\n",
        "y_train_enc = tf.keras.utils.to_categorical(y_train_np, n_classes)\n",
        "y_val_enc = tf.keras.utils.to_categorical(y_val_np, n_classes)\n",
        "y_test_enc = tf.keras.utils.to_categorical(y_test_np, n_classes)"
      ]
    },
    {
      "cell_type": "code",
      "execution_count": 60,
      "metadata": {
        "colab": {
          "base_uri": "https://localhost:8080/"
        },
        "id": "5U9OLZrtkG-e",
        "outputId": "cf04ce66-16fc-4d4a-c138-ce38983fa4e1"
      },
      "outputs": [
        {
          "output_type": "execute_result",
          "data": {
            "text/plain": [
              "((3565, 10), (397, 10), array([[0., 0., 0., ..., 0., 0., 0.],\n",
              "        [1., 0., 0., ..., 0., 0., 0.],\n",
              "        [0., 0., 0., ..., 0., 0., 0.],\n",
              "        ...,\n",
              "        [0., 0., 1., ..., 0., 0., 0.],\n",
              "        [0., 0., 0., ..., 0., 1., 0.],\n",
              "        [0., 0., 0., ..., 0., 0., 0.]], dtype=float32))"
            ]
          },
          "metadata": {},
          "execution_count": 60
        }
      ],
      "source": [
        "y_train_enc.shape, y_val_enc.shape, y_test_enc"
      ]
    },
    {
      "cell_type": "code",
      "execution_count": 61,
      "metadata": {
        "colab": {
          "base_uri": "https://localhost:8080/",
          "height": 392,
          "referenced_widgets": [
            "d2fcc44f9568488a9ad9ae3f4211ca64",
            "57a29d0f0c3f4911ad5b259416ee397b",
            "69cf738c9f4f459cb8abe03596576100",
            "c1797e1632c14329a053997b7a8cad36",
            "ef7a9ba24e734362b2d2a787d0f7a569",
            "4993680623274b5884b45b1a04e7f073",
            "78398a10685a4f7abd640ce3f20a50b4",
            "36628b1f82a84ebda9fc81b1924c33b0",
            "a14137cf54c740719b3c79a341cbd822",
            "25a2e8de57684226a52c0b6d8093df71",
            "d4a60580cf134a86aaf9a2fd4c83e1f3"
          ]
        },
        "id": "jXZhCfrW80zA",
        "outputId": "cfe19c77-6d73-4dcb-dbda-fbd5d980c601"
      },
      "outputs": [
        {
          "output_type": "display_data",
          "data": {
            "text/plain": [
              "Downloading (…)\"tf_model.h5\";:   0%|          | 0.00/536M [00:00<?, ?B/s]"
            ],
            "application/vnd.jupyter.widget-view+json": {
              "version_major": 2,
              "version_minor": 0,
              "model_id": "d2fcc44f9568488a9ad9ae3f4211ca64"
            }
          },
          "metadata": {}
        },
        {
          "output_type": "stream",
          "name": "stderr",
          "text": [
            "All model checkpoint layers were used when initializing TFBertForSequenceClassification.\n",
            "\n",
            "Some layers of TFBertForSequenceClassification were not initialized from the model checkpoint at bert-base-uncased and are newly initialized: ['classifier']\n",
            "You should probably TRAIN this model on a down-stream task to be able to use it for predictions and inference.\n"
          ]
        },
        {
          "output_type": "stream",
          "name": "stdout",
          "text": [
            "Model: \"tf_bert_for_sequence_classification\"\n",
            "_________________________________________________________________\n",
            " Layer (type)                Output Shape              Param #   \n",
            "=================================================================\n",
            " bert (TFBertMainLayer)      multiple                  109482240 \n",
            "                                                                 \n",
            " dropout_44 (Dropout)        multiple                  0         \n",
            "                                                                 \n",
            " classifier (Dense)          multiple                  7690      \n",
            "                                                                 \n",
            "=================================================================\n",
            "Total params: 109,489,930\n",
            "Trainable params: 109,489,930\n",
            "Non-trainable params: 0\n",
            "_________________________________________________________________\n"
          ]
        }
      ],
      "source": [
        "#create BERT model\n",
        "model_BERT = TFBertForSequenceClassification.from_pretrained('bert-base-uncased', num_labels=10)\n",
        "model_BERT.summary()\n"
      ]
    },
    {
      "cell_type": "code",
      "source": [
        "from tensorflow.keras.callbacks import EarlyStopping\n",
        "\n",
        "#compile model\n",
        "optimizer = tf.keras.optimizers.Adam(learning_rate=1e-5)\n",
        "loss = tf.keras.losses.CategoricalCrossentropy()\n",
        "metric = tf.keras.metrics.CategoricalAccuracy()\n",
        "keras_callbacks = [EarlyStopping(monitor='val_loss', patience=20, mode='min', min_delta=0.0001)]\n",
        "model_BERT.compile(optimizer=optimizer, loss=loss, metrics=metric)"
      ],
      "metadata": {
        "id": "a55fsKJRQQF9"
      },
      "execution_count": 62,
      "outputs": []
    },
    {
      "cell_type": "code",
      "execution_count": null,
      "metadata": {
        "id": "yc0QB_J789-3"
      },
      "outputs": [],
      "source": [
        "#compile model\n",
        "#optimizer = tf.keras.optimizers.Adam(learning_rate=2e-5, epsilon=1e-08)\n",
        "#loss = tf.keras.losses.CategoricalCrossentropy()\n",
        "#metric = tf.keras.metrics.CategoricalAccuracy()\n",
        "#model_BERT.compile(optimizer=optimizer, loss=loss, metrics=metric)\n"
      ]
    },
    {
      "cell_type": "code",
      "source": [
        "# train model with callbacks. Have tried epochs=3,10,20,50. Always underperformance.\n",
        "\n",
        "history = model_BERT.fit(x_train_np, y_train_enc, batch_size=16, epochs=80, validation_data=(x_val_np, y_val_enc), callbacks=[keras_callbacks])\n",
        "\n"
      ],
      "metadata": {
        "colab": {
          "base_uri": "https://localhost:8080/"
        },
        "id": "FUoyOVx4OfYX",
        "outputId": "4ecb26e5-3173-4599-a02f-3be59eb79816"
      },
      "execution_count": 63,
      "outputs": [
        {
          "output_type": "stream",
          "name": "stdout",
          "text": [
            "Epoch 1/80\n",
            "223/223 [==============================] - 75s 254ms/step - loss: 7.9967 - categorical_accuracy: 0.0971 - val_loss: 8.7289 - val_categorical_accuracy: 0.0579\n",
            "Epoch 2/80\n",
            "223/223 [==============================] - 54s 243ms/step - loss: 7.9863 - categorical_accuracy: 0.1094 - val_loss: 8.7289 - val_categorical_accuracy: 0.1008\n",
            "Epoch 3/80\n",
            "223/223 [==============================] - 54s 243ms/step - loss: 8.1703 - categorical_accuracy: 0.1083 - val_loss: 7.3892 - val_categorical_accuracy: 0.0856\n",
            "Epoch 4/80\n",
            "223/223 [==============================] - 54s 243ms/step - loss: 8.0297 - categorical_accuracy: 0.1013 - val_loss: 8.7289 - val_categorical_accuracy: 0.1008\n",
            "Epoch 5/80\n",
            "223/223 [==============================] - 54s 242ms/step - loss: 8.0660 - categorical_accuracy: 0.1010 - val_loss: 7.3892 - val_categorical_accuracy: 0.1209\n",
            "Epoch 6/80\n",
            "223/223 [==============================] - 54s 242ms/step - loss: 8.4053 - categorical_accuracy: 0.1027 - val_loss: 8.7289 - val_categorical_accuracy: 0.0630\n",
            "Epoch 7/80\n",
            "223/223 [==============================] - 54s 242ms/step - loss: 8.1473 - categorical_accuracy: 0.0971 - val_loss: 7.3892 - val_categorical_accuracy: 0.1008\n",
            "Epoch 8/80\n",
            "223/223 [==============================] - 54s 242ms/step - loss: 8.1927 - categorical_accuracy: 0.0951 - val_loss: 8.7289 - val_categorical_accuracy: 0.1008\n",
            "Epoch 9/80\n",
            "223/223 [==============================] - 54s 242ms/step - loss: 8.1653 - categorical_accuracy: 0.0945 - val_loss: 7.1456 - val_categorical_accuracy: 0.1008\n",
            "Epoch 10/80\n",
            "223/223 [==============================] - 54s 242ms/step - loss: 8.0931 - categorical_accuracy: 0.1024 - val_loss: 8.7289 - val_categorical_accuracy: 0.1008\n",
            "Epoch 11/80\n",
            "223/223 [==============================] - 54s 242ms/step - loss: 8.0387 - categorical_accuracy: 0.1032 - val_loss: 7.3892 - val_categorical_accuracy: 0.1008\n",
            "Epoch 12/80\n",
            "223/223 [==============================] - 54s 242ms/step - loss: 7.7677 - categorical_accuracy: 0.1049 - val_loss: 8.7289 - val_categorical_accuracy: 0.1008\n",
            "Epoch 13/80\n",
            "223/223 [==============================] - 54s 242ms/step - loss: 8.0163 - categorical_accuracy: 0.0906 - val_loss: 7.3892 - val_categorical_accuracy: 0.1083\n",
            "Epoch 14/80\n",
            "223/223 [==============================] - 54s 242ms/step - loss: 8.2017 - categorical_accuracy: 0.0886 - val_loss: 7.3892 - val_categorical_accuracy: 0.1008\n",
            "Epoch 15/80\n",
            "223/223 [==============================] - 54s 242ms/step - loss: 7.9891 - categorical_accuracy: 0.0993 - val_loss: 8.7289 - val_categorical_accuracy: 0.1008\n",
            "Epoch 16/80\n",
            "223/223 [==============================] - 54s 242ms/step - loss: 7.9031 - categorical_accuracy: 0.1010 - val_loss: 7.3892 - val_categorical_accuracy: 0.0630\n",
            "Epoch 17/80\n",
            "223/223 [==============================] - 54s 242ms/step - loss: 7.7268 - categorical_accuracy: 0.0940 - val_loss: 8.7289 - val_categorical_accuracy: 0.0630\n",
            "Epoch 18/80\n",
            "223/223 [==============================] - 54s 242ms/step - loss: 8.2015 - categorical_accuracy: 0.1027 - val_loss: 8.7289 - val_categorical_accuracy: 0.0630\n",
            "Epoch 19/80\n",
            "223/223 [==============================] - 54s 243ms/step - loss: 8.1291 - categorical_accuracy: 0.1010 - val_loss: 8.7289 - val_categorical_accuracy: 0.0630\n",
            "Epoch 20/80\n",
            "223/223 [==============================] - 54s 243ms/step - loss: 8.1382 - categorical_accuracy: 0.0971 - val_loss: 8.7289 - val_categorical_accuracy: 0.0630\n",
            "Epoch 21/80\n",
            "223/223 [==============================] - 54s 243ms/step - loss: 8.1653 - categorical_accuracy: 0.0954 - val_loss: 8.7289 - val_categorical_accuracy: 0.0630\n",
            "Epoch 22/80\n",
            "223/223 [==============================] - 54s 243ms/step - loss: 8.0930 - categorical_accuracy: 0.0973 - val_loss: 8.7289 - val_categorical_accuracy: 0.0630\n",
            "Epoch 23/80\n",
            "223/223 [==============================] - 54s 243ms/step - loss: 8.0568 - categorical_accuracy: 0.0957 - val_loss: 8.7289 - val_categorical_accuracy: 0.0630\n",
            "Epoch 24/80\n",
            "223/223 [==============================] - 54s 242ms/step - loss: 8.1879 - categorical_accuracy: 0.0886 - val_loss: 8.7289 - val_categorical_accuracy: 0.0630\n",
            "Epoch 25/80\n",
            "223/223 [==============================] - 54s 243ms/step - loss: 7.9483 - categorical_accuracy: 0.0993 - val_loss: 8.7289 - val_categorical_accuracy: 0.0630\n",
            "Epoch 26/80\n",
            "223/223 [==============================] - 54s 242ms/step - loss: 8.2196 - categorical_accuracy: 0.0982 - val_loss: 8.7289 - val_categorical_accuracy: 0.0630\n",
            "Epoch 27/80\n",
            "223/223 [==============================] - 54s 243ms/step - loss: 7.6680 - categorical_accuracy: 0.0965 - val_loss: 8.7289 - val_categorical_accuracy: 0.0630\n",
            "Epoch 28/80\n",
            "223/223 [==============================] - 54s 242ms/step - loss: 8.2602 - categorical_accuracy: 0.0948 - val_loss: 8.7289 - val_categorical_accuracy: 0.0630\n",
            "Epoch 29/80\n",
            "223/223 [==============================] - 54s 243ms/step - loss: 8.0975 - categorical_accuracy: 0.0886 - val_loss: 8.7289 - val_categorical_accuracy: 0.0630\n"
          ]
        }
      ]
    },
    {
      "cell_type": "code",
      "execution_count": 64,
      "metadata": {
        "id": "RV_Sw2jo-nhU",
        "colab": {
          "base_uri": "https://localhost:8080/",
          "height": 295
        },
        "outputId": "43a0c906-8b05-44b1-dd3e-74550fc46918"
      },
      "outputs": [
        {
          "output_type": "display_data",
          "data": {
            "text/plain": [
              "<Figure size 432x288 with 1 Axes>"
            ],
            "image/png": "[encoded data removed]"
          },
          "metadata": {
            "needs_background": "light"
          }
        }
      ],
      "source": [
        "# summarize history for loss\n",
        "plt.plot(history.history['loss'])\n",
        "plt.plot(history.history['val_loss'])\n",
        "plt.title('model loss')\n",
        "plt.ylabel('loss')\n",
        "plt.xlabel('epoch')\n",
        "plt.legend(['train', 'val'], loc='upper right')\n",
        "plt.show()\n"
      ]
    },
    {
      "cell_type": "code",
      "execution_count": 65,
      "metadata": {
        "id": "xSYbpl0rBqiM",
        "colab": {
          "base_uri": "https://localhost:8080/",
          "height": 295
        },
        "outputId": "f2b91319-af0b-4909-8e64-51833706f775"
      },
      "outputs": [
        {
          "output_type": "display_data",
          "data": {
            "text/plain": [
              "<Figure size 432x288 with 1 Axes>"
            ],
            "image/png": "[encoded data removed]"
          },
          "metadata": {
            "needs_background": "light"
          }
        }
      ],
      "source": [
        "# summarize history for accuracy\n",
        "plt.plot(history.history['categorical_accuracy'])\n",
        "plt.plot(history.history['val_categorical_accuracy'])\n",
        "plt.title('Model Accuracy')\n",
        "plt.ylabel('Accuracy')\n",
        "plt.xlabel('Epochs')\n",
        "plt.legend(['Train', 'Validation'], loc='upper left')\n",
        "plt.show()\n"
      ]
    },
    {
      "cell_type": "code",
      "execution_count": 66,
      "metadata": {
        "id": "drLe1hcOBsB3",
        "colab": {
          "base_uri": "https://localhost:8080/"
        },
        "outputId": "45d4393e-6f94-4624-9a3b-727579aee5ff"
      },
      "outputs": [
        {
          "output_type": "stream",
          "name": "stdout",
          "text": [
            "14/14 [==============================] - 2s 145ms/step - loss: 7.6387 - categorical_accuracy: 0.0952\n",
            "Test score: 7.638734340667725\n",
            "Test accuracy: 0.095238097012043\n"
          ]
        }
      ],
      "source": [
        "# Evaluate the model on the test data\n",
        "score, acc = model_BERT.evaluate(x_test_np, y_test_enc, batch_size=32)\n",
        "print(\"Test score:\", score)\n",
        "print(\"Test accuracy:\", acc)"
      ]
    },
    {
      "cell_type": "code",
      "source": [
        "y_pred = model_BERT.predict(x_test_np)\n",
        "y_pred"
      ],
      "metadata": {
        "colab": {
          "base_uri": "https://localhost:8080/"
        },
        "id": "4ykBW3L4ecBZ",
        "outputId": "0986f57b-6fb2-448c-cc8e-56613823bb39"
      },
      "execution_count": 67,
      "outputs": [
        {
          "output_type": "stream",
          "name": "stdout",
          "text": [
            "14/14 [==============================] - 5s 143ms/step\n"
          ]
        },
        {
          "output_type": "execute_result",
          "data": {
            "text/plain": [
              "TFSequenceClassifierOutput(loss=None, logits=array([[ 1.1711407, -1.3075632,  1.2750517, ...,  1.2695129,  1.2840593,\n",
              "        -1.1506729],\n",
              "       [ 1.1811925, -1.3144385,  1.2743515, ...,  1.2667868,  1.2862766,\n",
              "        -1.1514854],\n",
              "       [ 1.1805377, -1.314057 ,  1.2774582, ...,  1.2709726,  1.2871885,\n",
              "        -1.1537346],\n",
              "       ...,\n",
              "       [ 1.1716444, -1.3076509,  1.2700534, ...,  1.2649838,  1.279373 ,\n",
              "        -1.1505703],\n",
              "       [ 1.1819997, -1.316481 ,  1.2736799, ...,  1.2664819,  1.2876173,\n",
              "        -1.1513398],\n",
              "       [ 1.189234 , -1.3232453,  1.2720195, ...,  1.2629328,  1.2877371,\n",
              "        -1.152188 ]], dtype=float32), hidden_states=None, attentions=None)"
            ]
          },
          "metadata": {},
          "execution_count": 67
        }
      ]
    },
    {
      "cell_type": "code",
      "source": [
        "#Classification report\n",
        "y_pred = model_BERT.predict(x_test_np)\n",
        "y_pred = y_pred.logits # Extract the logits from the TFSequenceClassifierOutput object\n",
        "y_pred = tf.nn.softmax(y_pred) # Convert the logits to probabilities\n",
        "y_pred_class = tf.argmax(y_pred, axis=1) # Get the class index with the highest probability for each sample\n",
        "print(classification_report(y_test_np, y_pred_class.numpy()))\n"
      ],
      "metadata": {
        "colab": {
          "base_uri": "https://localhost:8080/"
        },
        "id": "bqSXwyPahERv",
        "outputId": "1f0346da-d089-49b8-c103-e809be7d74f7"
      },
      "execution_count": 68,
      "outputs": [
        {
          "output_type": "stream",
          "name": "stdout",
          "text": [
            "14/14 [==============================] - 2s 142ms/step\n",
            "              precision    recall  f1-score   support\n",
            "\n",
            "           0       0.00      0.00      0.00        64\n",
            "           1       0.00      0.00      0.00        59\n",
            "           2       0.00      0.00      0.00        45\n",
            "           3       0.00      0.00      0.00        41\n",
            "           4       0.00      0.00      0.00        26\n",
            "           5       0.00      0.00      0.00        47\n",
            "           6       0.00      0.00      0.00        37\n",
            "           7       0.00      0.00      0.00        40\n",
            "           8       0.10      1.00      0.17        42\n",
            "           9       0.00      0.00      0.00        40\n",
            "\n",
            "    accuracy                           0.10       441\n",
            "   macro avg       0.01      0.10      0.02       441\n",
            "weighted avg       0.01      0.10      0.02       441\n",
            "\n"
          ]
        },
        {
          "output_type": "stream",
          "name": "stderr",
          "text": [
            "/usr/local/lib/python3.8/dist-packages/sklearn/metrics/_classification.py:1318: UndefinedMetricWarning: Precision and F-score are ill-defined and being set to 0.0 in labels with no predicted samples. Use `zero_division` parameter to control this behavior.\n",
            "  _warn_prf(average, modifier, msg_start, len(result))\n",
            "/usr/local/lib/python3.8/dist-packages/sklearn/metrics/_classification.py:1318: UndefinedMetricWarning: Precision and F-score are ill-defined and being set to 0.0 in labels with no predicted samples. Use `zero_division` parameter to control this behavior.\n",
            "  _warn_prf(average, modifier, msg_start, len(result))\n",
            "/usr/local/lib/python3.8/dist-packages/sklearn/metrics/_classification.py:1318: UndefinedMetricWarning: Precision and F-score are ill-defined and being set to 0.0 in labels with no predicted samples. Use `zero_division` parameter to control this behavior.\n",
            "  _warn_prf(average, modifier, msg_start, len(result))\n"
          ]
        }
      ]
    },
    {
      "cell_type": "code",
      "source": [
        "conf_matrix = confusion_matrix(y_test_np, y_pred_class)\n",
        "cm_display = ConfusionMatrixDisplay(confusion_matrix = conf_matrix, display_labels = [0,1,2,3,4,5,6,7,8,9])\n",
        "plt.figure(figsize=(10,10))\n",
        "cm_display.plot()\n",
        "plt.show()"
      ],
      "metadata": {
        "id": "3lxAuz0vujcn",
        "colab": {
          "base_uri": "https://localhost:8080/",
          "height": 296
        },
        "outputId": "7174bbd3-ca99-49b0-dd51-3e6690a93399"
      },
      "execution_count": 70,
      "outputs": [
        {
          "output_type": "display_data",
          "data": {
            "text/plain": [
              "<Figure size 720x720 with 0 Axes>"
            ]
          },
          "metadata": {}
        },
        {
          "output_type": "display_data",
          "data": {
            "text/plain": [
              "<Figure size 432x288 with 2 Axes>"
            ],
            "image/png": "[encoded data removed]"
          },
          "metadata": {
            "needs_background": "light"
          }
        }
      ]
    },
    {
      "cell_type": "markdown",
      "metadata": {
        "id": "oekLDi1FDFv5"
      },
      "source": [
        "###ROBERTa"
      ]
    },
    {
      "cell_type": "code",
      "execution_count": 71,
      "metadata": {
        "id": "5BR578yMCJ0X"
      },
      "outputs": [],
      "source": [
        "from transformers import RobertaTokenizer, TFRobertaForSequenceClassification\n"
      ]
    },
    {
      "cell_type": "code",
      "execution_count": 72,
      "metadata": {
        "id": "3xv3b1t6Di14"
      },
      "outputs": [],
      "source": [
        "# train, validation and test split dataset\n",
        "x_train, x_test, y_train, y_test = train_test_split(data_03[\"Question\"], data_03[\"Intent\"], test_size = 0.1, shuffle=True, random_state = 1)\n",
        "x_train, x_val, y_train, y_val = train_test_split(x_train, y_train, test_size = 0.1, shuffle=True, random_state = 1) \n"
      ]
    },
    {
      "cell_type": "code",
      "execution_count": 73,
      "metadata": {
        "id": "eUx-WoHnDKzv",
        "colab": {
          "base_uri": "https://localhost:8080/",
          "height": 113,
          "referenced_widgets": [
            "04dae77e174d4aefac089f8768464011",
            "50f3c392bcbf4279adab889501f732a4",
            "915fb505d84c44ab9710ab22f9f3dbbb",
            "e50fcd0306484aad9b1516900b066a3e",
            "fe76c58699584910ab784a7d01f7c16a",
            "61607fe059bd4d9fa0605033e87d6fbc",
            "7f73810b11d6450796ee033e47fb8711",
            "6e4b4a47b4eb4214842f2fd0c93d2337",
            "d6635d173a484cfc9b51ed3634f73b54",
            "13fdfb840ffa443281d12365fb6ce34e",
            "53816408cdf64904b91befbe6c5b29f2",
            "14e00eb621354d93acc83d5cd8392f4b",
            "b46fc6fbd93c4be595e162f008b036ca",
            "c02d9b83e4394622984e11b07e9c448b",
            "0e8edf6a663a4a298028d3e3175a8b3c",
            "0f77491a11104d268bb17ecc3e44e021",
            "acd9337aefff43d2a77a70c675c07c2c",
            "3c37f65cbc4340449ac699c127802ad7",
            "fcdd0d0f4e99419a8f7e5f8169315d74",
            "682928bd941d48ddb94c617d595f0e72",
            "ea3622a8f8f245318c3c02dfd4de5b14",
            "9d0f1fbb7f5a4ff090419f87fbaeab77",
            "70927055ff8741e88f02dd1eb766cc80",
            "107a7770dfdd48b385b3a4aa0f9035e7",
            "99b2b3b8ee924ac0ac69345ed5e96ca6",
            "a494e60ed6a946b9945547127c35f325",
            "65be72a0829a4064a448d702a88a6ce8",
            "0a6d387b7c9a4ebbb1dccd47b739a637",
            "d7b52446354c4a97975b47d950578694",
            "ca5d0679c22a4e7a96930b643d7d695f",
            "10f5b827c9de4fafa790e434ab18d39f",
            "e61c41aec56148278b3a1e9fec140a1c",
            "3b4ce6380b8d47a0bed8937f020a0c43"
          ]
        },
        "outputId": "10dce113-95a9-4ca6-c289-0d1c78bca3ad"
      },
      "outputs": [
        {
          "output_type": "display_data",
          "data": {
            "text/plain": [
              "Downloading (…)olve/main/vocab.json:   0%|          | 0.00/899k [00:00<?, ?B/s]"
            ],
            "application/vnd.jupyter.widget-view+json": {
              "version_major": 2,
              "version_minor": 0,
              "model_id": "04dae77e174d4aefac089f8768464011"
            }
          },
          "metadata": {}
        },
        {
          "output_type": "display_data",
          "data": {
            "text/plain": [
              "Downloading (…)olve/main/merges.txt:   0%|          | 0.00/456k [00:00<?, ?B/s]"
            ],
            "application/vnd.jupyter.widget-view+json": {
              "version_major": 2,
              "version_minor": 0,
              "model_id": "14e00eb621354d93acc83d5cd8392f4b"
            }
          },
          "metadata": {}
        },
        {
          "output_type": "display_data",
          "data": {
            "text/plain": [
              "Downloading (…)lve/main/config.json:   0%|          | 0.00/481 [00:00<?, ?B/s]"
            ],
            "application/vnd.jupyter.widget-view+json": {
              "version_major": 2,
              "version_minor": 0,
              "model_id": "70927055ff8741e88f02dd1eb766cc80"
            }
          },
          "metadata": {}
        }
      ],
      "source": [
        "#Tokenize and pad data\n",
        "tokenizer = RobertaTokenizer.from_pretrained('roberta-base')\n",
        "x_train_pad = tokenizer.batch_encode_plus(x_train, return_tensors='tf', padding='max_length')\n",
        "x_val_pad = tokenizer.batch_encode_plus(x_val, return_tensors='tf', padding='max_length')\n",
        "x_test_pad = tokenizer.batch_encode_plus(x_test, return_tensors='tf', padding='max_length')"
      ]
    },
    {
      "cell_type": "code",
      "execution_count": 74,
      "metadata": {
        "id": "uHyWEe8VDuk4"
      },
      "outputs": [],
      "source": [
        "x_train_np = x_train_pad['input_ids'].numpy()\n",
        "x_val_np = x_val_pad['input_ids'].numpy()\n",
        "x_test_np = x_test_pad['input_ids'].numpy()"
      ]
    },
    {
      "cell_type": "code",
      "execution_count": 75,
      "metadata": {
        "id": "5YoxB_lEEGmF"
      },
      "outputs": [],
      "source": [
        "#one-hot-encoding\n",
        "n_classes = len(np.unique(y_train))\n",
        "y_train_np = y_train.values\n",
        "y_val_np = y_val.values\n",
        "y_test_np=y_test.values\n",
        "\n",
        "y_train_enc = tf.keras.utils.to_categorical(y_train_np, n_classes)\n",
        "y_val_enc = tf.keras.utils.to_categorical(y_val_np, n_classes)\n",
        "y_test_enc = tf.keras.utils.to_categorical(y_test_np, n_classes)"
      ]
    },
    {
      "cell_type": "code",
      "execution_count": 78,
      "metadata": {
        "id": "IqyYsVNNEH2i",
        "colab": {
          "base_uri": "https://localhost:8080/"
        },
        "outputId": "bdff5dad-5a22-4cb4-ce74-8dce941c422c"
      },
      "outputs": [
        {
          "output_type": "stream",
          "name": "stderr",
          "text": [
            "All model checkpoint layers were used when initializing TFRobertaForSequenceClassification.\n",
            "\n",
            "Some layers of TFRobertaForSequenceClassification were not initialized from the model checkpoint at roberta-base and are newly initialized: ['classifier']\n",
            "You should probably TRAIN this model on a down-stream task to be able to use it for predictions and inference.\n"
          ]
        },
        {
          "output_type": "stream",
          "name": "stdout",
          "text": [
            "Model: \"tf_roberta_for_sequence_classification_1\"\n",
            "_________________________________________________________________\n",
            " Layer (type)                Output Shape              Param #   \n",
            "=================================================================\n",
            " roberta (TFRobertaMainLayer  multiple                 124055040 \n",
            " )                                                               \n",
            "                                                                 \n",
            " classifier (TFRobertaClassi  multiple                 598282    \n",
            " ficationHead)                                                   \n",
            "                                                                 \n",
            "=================================================================\n",
            "Total params: 124,653,322\n",
            "Trainable params: 124,653,322\n",
            "Non-trainable params: 0\n",
            "_________________________________________________________________\n"
          ]
        }
      ],
      "source": [
        "#Define & compile model\n",
        "model_Roberta = TFRobertaForSequenceClassification.from_pretrained('roberta-base', num_labels=10)\n",
        "\n",
        "optimizer = tf.keras.optimizers.Adam(learning_rate=1e-5, epsilon=1e-08)\n",
        "loss = tf.keras.losses.CategoricalCrossentropy()\n",
        "metric = tf.keras.metrics.CategoricalAccuracy()\n",
        "model_Roberta.compile(optimizer=optimizer, loss=loss, metrics=[metric])\n",
        "model_Roberta.summary()\n"
      ]
    },
    {
      "cell_type": "code",
      "execution_count": 77,
      "metadata": {
        "id": "JlSrcOl_EUQO",
        "colab": {
          "base_uri": "https://localhost:8080/"
        },
        "outputId": "65f9b33c-25d1-4740-8db2-2047a7ab4a3b"
      },
      "outputs": [
        {
          "output_type": "stream",
          "name": "stdout",
          "text": [
            "Epoch 1/20\n",
            "112/112 [==============================] - 70s 478ms/step - loss: 8.1042 - categorical_accuracy: 0.0985 - val_loss: 7.7545 - val_categorical_accuracy: 0.0932\n",
            "Epoch 2/20\n",
            "112/112 [==============================] - 50s 451ms/step - loss: 7.9245 - categorical_accuracy: 0.1150 - val_loss: 8.1605 - val_categorical_accuracy: 0.1058\n",
            "Epoch 3/20\n",
            "112/112 [==============================] - 50s 451ms/step - loss: 7.9954 - categorical_accuracy: 0.1069 - val_loss: 8.0793 - val_categorical_accuracy: 0.1083\n",
            "Epoch 4/20\n",
            "112/112 [==============================] - 50s 451ms/step - loss: 8.0308 - categorical_accuracy: 0.1038 - val_loss: 8.3229 - val_categorical_accuracy: 0.1159\n",
            "Epoch 5/20\n",
            "112/112 [==============================] - 50s 451ms/step - loss: 8.1304 - categorical_accuracy: 0.1083 - val_loss: 7.7951 - val_categorical_accuracy: 0.1083\n",
            "Epoch 6/20\n",
            "112/112 [==============================] - 50s 451ms/step - loss: 7.9081 - categorical_accuracy: 0.1072 - val_loss: 7.7951 - val_categorical_accuracy: 0.1134\n",
            "Epoch 7/20\n",
            "112/112 [==============================] - 50s 450ms/step - loss: 8.2927 - categorical_accuracy: 0.1074 - val_loss: 7.7545 - val_categorical_accuracy: 0.1108\n",
            "Epoch 8/20\n",
            "112/112 [==============================] - 51s 451ms/step - loss: 8.1025 - categorical_accuracy: 0.1102 - val_loss: 7.9169 - val_categorical_accuracy: 0.0982\n",
            "Epoch 9/20\n",
            "112/112 [==============================] - 50s 451ms/step - loss: 7.9536 - categorical_accuracy: 0.1010 - val_loss: 8.4447 - val_categorical_accuracy: 0.0907\n",
            "Epoch 10/20\n",
            "112/112 [==============================] - 50s 451ms/step - loss: 8.0343 - categorical_accuracy: 0.1055 - val_loss: 8.3635 - val_categorical_accuracy: 0.0907\n",
            "Epoch 11/20\n",
            "112/112 [==============================] - 50s 450ms/step - loss: 8.1748 - categorical_accuracy: 0.1164 - val_loss: 8.3635 - val_categorical_accuracy: 0.1108\n",
            "Epoch 12/20\n",
            "112/112 [==============================] - 50s 451ms/step - loss: 8.1340 - categorical_accuracy: 0.1136 - val_loss: 7.7545 - val_categorical_accuracy: 0.1033\n",
            "Epoch 13/20\n",
            "112/112 [==============================] - 50s 450ms/step - loss: 8.2016 - categorical_accuracy: 0.1105 - val_loss: 8.3229 - val_categorical_accuracy: 0.1033\n",
            "Epoch 14/20\n",
            "112/112 [==============================] - 50s 451ms/step - loss: 8.0705 - categorical_accuracy: 0.1111 - val_loss: 7.7545 - val_categorical_accuracy: 0.1134\n",
            "Epoch 15/20\n",
            "112/112 [==============================] - 51s 452ms/step - loss: 8.1068 - categorical_accuracy: 0.0999 - val_loss: 8.3635 - val_categorical_accuracy: 0.1259\n",
            "Epoch 16/20\n",
            "112/112 [==============================] - 51s 452ms/step - loss: 8.0072 - categorical_accuracy: 0.1007 - val_loss: 7.5922 - val_categorical_accuracy: 0.1108\n",
            "Epoch 17/20\n",
            "112/112 [==============================] - 50s 451ms/step - loss: 7.7856 - categorical_accuracy: 0.1058 - val_loss: 8.3229 - val_categorical_accuracy: 0.1108\n",
            "Epoch 18/20\n",
            "112/112 [==============================] - 50s 451ms/step - loss: 8.0298 - categorical_accuracy: 0.1105 - val_loss: 7.5516 - val_categorical_accuracy: 0.0982\n",
            "Epoch 19/20\n",
            "112/112 [==============================] - 50s 451ms/step - loss: 8.4638 - categorical_accuracy: 0.1072 - val_loss: 8.0387 - val_categorical_accuracy: 0.1033\n",
            "Epoch 20/20\n",
            "112/112 [==============================] - 50s 451ms/step - loss: 7.9079 - categorical_accuracy: 0.1049 - val_loss: 7.7545 - val_categorical_accuracy: 0.1033\n"
          ]
        }
      ],
      "source": [
        "#train model\n",
        "history = model_Roberta.fit(x_train_np, y_train_enc, batch_size=32, epochs=20, validation_data=(x_val_np, y_val_enc))"
      ]
    },
    {
      "cell_type": "code",
      "execution_count": 79,
      "metadata": {
        "id": "llsploJnEyfL",
        "colab": {
          "base_uri": "https://localhost:8080/",
          "height": 295
        },
        "outputId": "3e873228-1562-40f3-9527-0ecbe1bf0f30"
      },
      "outputs": [
        {
          "output_type": "display_data",
          "data": {
            "text/plain": [
              "<Figure size 432x288 with 1 Axes>"
            ],
            "image/png": "[encoded data removed]"
          },
          "metadata": {
            "needs_background": "light"
          }
        }
      ],
      "source": [
        "# summarize history for loss\n",
        "plt.plot(history.history['loss'])\n",
        "plt.plot(history.history['val_loss'])\n",
        "plt.title('model loss')\n",
        "plt.ylabel('loss')\n",
        "plt.xlabel('epoch')\n",
        "plt.legend(['train', 'val'], loc='upper right')\n",
        "plt.show()"
      ]
    },
    {
      "cell_type": "code",
      "execution_count": 80,
      "metadata": {
        "id": "pvd5qJ0cFBN_",
        "colab": {
          "base_uri": "https://localhost:8080/",
          "height": 295
        },
        "outputId": "04fb1d98-d8a6-4849-fde0-e71573dad936"
      },
      "outputs": [
        {
          "output_type": "display_data",
          "data": {
            "text/plain": [
              "<Figure size 432x288 with 1 Axes>"
            ],
            "image/png": "[encoded data removed]"
          },
          "metadata": {
            "needs_background": "light"
          }
        }
      ],
      "source": [
        "# summarize history for accuracy\n",
        "plt.plot(history.history['categorical_accuracy'])\n",
        "plt.plot(history.history['val_categorical_accuracy'])\n",
        "plt.title('model accuracy')\n",
        "plt.ylabel('accuracy')\n",
        "plt.xlabel('epoch')\n",
        "plt.legend(['train', 'val'], loc='upper left')\n",
        "plt.show()"
      ]
    },
    {
      "cell_type": "code",
      "execution_count": 81,
      "metadata": {
        "id": "Bg8rCTyIFB6e",
        "colab": {
          "base_uri": "https://localhost:8080/"
        },
        "outputId": "0d837082-15cf-4849-fa89-d287ce3734e2"
      },
      "outputs": [
        {
          "output_type": "stream",
          "name": "stdout",
          "text": [
            "14/14 [==============================] - 5s 146ms/step - loss: 5.5011 - categorical_accuracy: 0.1111\n",
            "Test score: 5.501096725463867\n",
            "Test accuracy: 0.1111111119389534\n",
            "14/14 [==============================] - 5s 144ms/step\n",
            "              precision    recall  f1-score   support\n",
            "\n",
            "           0       0.00      0.00      0.00        64\n",
            "           1       0.13      0.66      0.21        59\n",
            "           2       0.00      0.00      0.00        45\n",
            "           3       0.00      0.00      0.00        41\n",
            "           4       0.08      0.38      0.13        26\n",
            "           5       0.00      0.00      0.00        47\n",
            "           6       0.00      0.00      0.00        37\n",
            "           7       0.00      0.00      0.00        40\n",
            "           8       0.00      0.00      0.00        42\n",
            "           9       0.00      0.00      0.00        40\n",
            "\n",
            "    accuracy                           0.11       441\n",
            "   macro avg       0.02      0.10      0.03       441\n",
            "weighted avg       0.02      0.11      0.04       441\n",
            "\n"
          ]
        },
        {
          "output_type": "stream",
          "name": "stderr",
          "text": [
            "/usr/local/lib/python3.8/dist-packages/sklearn/metrics/_classification.py:1318: UndefinedMetricWarning: Precision and F-score are ill-defined and being set to 0.0 in labels with no predicted samples. Use `zero_division` parameter to control this behavior.\n",
            "  _warn_prf(average, modifier, msg_start, len(result))\n",
            "/usr/local/lib/python3.8/dist-packages/sklearn/metrics/_classification.py:1318: UndefinedMetricWarning: Precision and F-score are ill-defined and being set to 0.0 in labels with no predicted samples. Use `zero_division` parameter to control this behavior.\n",
            "  _warn_prf(average, modifier, msg_start, len(result))\n",
            "/usr/local/lib/python3.8/dist-packages/sklearn/metrics/_classification.py:1318: UndefinedMetricWarning: Precision and F-score are ill-defined and being set to 0.0 in labels with no predicted samples. Use `zero_division` parameter to control this behavior.\n",
            "  _warn_prf(average, modifier, msg_start, len(result))\n"
          ]
        }
      ],
      "source": [
        "# Evaluate the model on the test data\n",
        "score, acc = model_Roberta.evaluate(x_test_np, y_test_enc, batch_size=32)\n",
        "print(\"Test score:\", score)\n",
        "print(\"Test accuracy:\", acc)\n",
        "\n",
        "# Generate the classification report\n",
        "y_pred = model_Roberta.predict(x_test_np)\n",
        "y_pred = y_pred.logits # Extract the logits from the TFSequenceClassifierOutput object\n",
        "y_pred = tf.nn.softmax(y_pred) # Convert the logits to probabilities\n",
        "y_pred_class = tf.argmax(y_pred, axis=1) # Get the class index with the highest probability for each sample\n",
        "print(classification_report(y_test_np, y_pred_class.numpy()))"
      ]
    },
    {
      "cell_type": "code",
      "execution_count": 82,
      "metadata": {
        "id": "MAeKxczlFVHb",
        "colab": {
          "base_uri": "https://localhost:8080/",
          "height": 296
        },
        "outputId": "54e35659-3612-433b-e8db-a372b008ff89"
      },
      "outputs": [
        {
          "output_type": "display_data",
          "data": {
            "text/plain": [
              "<Figure size 720x720 with 0 Axes>"
            ]
          },
          "metadata": {}
        },
        {
          "output_type": "display_data",
          "data": {
            "text/plain": [
              "<Figure size 432x288 with 2 Axes>"
            ],
            "image/png": "[encoded data removed]"
          },
          "metadata": {
            "needs_background": "light"
          }
        }
      ],
      "source": [
        "conf_matrix = confusion_matrix(y_test_np, y_pred_class)\n",
        "cm_display = ConfusionMatrixDisplay(confusion_matrix = conf_matrix, display_labels = [0,1,2,3,4,5,6,7,8,9])\n",
        "plt.figure(figsize=(10,10))\n",
        "cm_display.plot()\n",
        "plt.show()"
      ]
    },
    {
      "cell_type": "code",
      "source": [],
      "metadata": {
        "id": "CVB9c9hdoMcp"
      },
      "execution_count": null,
      "outputs": []
    },
    {
      "cell_type": "markdown",
      "source": [
        "djdjdj"
      ],
      "metadata": {
        "id": "fkAyv9RIs9cq"
      }
    },
    {
      "cell_type": "markdown",
      "source": [],
      "metadata": {
        "id": "-ucrU0rAtNfd"
      }
    }
  ],
  "metadata": {
    "accelerator": "GPU",
    "colab": {
      "provenance": [],
      "machine_shape": "hm",
      "authorship_tag": "ABX9TyOMxa2jc8PmTFjxGGujdsV+",
      "include_colab_link": true
    },
    "gpuClass": "premium",
    "kernelspec": {
      "display_name": "Python 3",
      "name": "python3"
    },
    "language_info": {
      "name": "python"
    },
    "widgets": {
      "application/vnd.jupyter.widget-state+json": {
        "713b0b9abdee431bae27d0debc4c81d9": {
          "model_module": "@jupyter-widgets/controls",
          "model_name": "HBoxModel",
          "model_module_version": "1.5.0",
          "state": {
            "_dom_classes": [],
            "_model_module": "@jupyter-widgets/controls",
            "_model_module_version": "1.5.0",
            "_model_name": "HBoxModel",
            "_view_count": null,
            "_view_module": "@jupyter-widgets/controls",
            "_view_module_version": "1.5.0",
            "_view_name": "HBoxView",
            "box_style": "",
            "children": [
              "IPY_MODEL_059d507c2eee4cb1b2fe8bfb880ebd80",
              "IPY_MODEL_23297a26811544a6a334c683c304f60e",
              "IPY_MODEL_f0cc4c8d28e745abb5de677325468bd5"
            ],
            "layout": "IPY_MODEL_81bde89419ae4e32b8a7e92d48fd5300"
          }
        },
        "059d507c2eee4cb1b2fe8bfb880ebd80": {
          "model_module": "@jupyter-widgets/controls",
          "model_name": "HTMLModel",
          "model_module_version": "1.5.0",
          "state": {
            "_dom_classes": [],
            "_model_module": "@jupyter-widgets/controls",
            "_model_module_version": "1.5.0",
            "_model_name": "HTMLModel",
            "_view_count": null,
            "_view_module": "@jupyter-widgets/controls",
            "_view_module_version": "1.5.0",
            "_view_name": "HTMLView",
            "description": "",
            "description_tooltip": null,
            "layout": "IPY_MODEL_6153b9c7a1b0491f97122de4e072c887",
            "placeholder": "​",
            "style": "IPY_MODEL_a41e085f922f4a53881ff774015bc590",
            "value": "Downloading (…)solve/main/vocab.txt: 100%"
          }
        },
        "23297a26811544a6a334c683c304f60e": {
          "model_module": "@jupyter-widgets/controls",
          "model_name": "FloatProgressModel",
          "model_module_version": "1.5.0",
          "state": {
            "_dom_classes": [],
            "_model_module": "@jupyter-widgets/controls",
            "_model_module_version": "1.5.0",
            "_model_name": "FloatProgressModel",
            "_view_count": null,
            "_view_module": "@jupyter-widgets/controls",
            "_view_module_version": "1.5.0",
            "_view_name": "ProgressView",
            "bar_style": "success",
            "description": "",
            "description_tooltip": null,
            "layout": "IPY_MODEL_c8e32e81dd2f432b90190574fc6d3090",
            "max": 231508,
            "min": 0,
            "orientation": "horizontal",
            "style": "IPY_MODEL_6a8483284827446285727eca56f9b691",
            "value": 231508
          }
        },
        "f0cc4c8d28e745abb5de677325468bd5": {
          "model_module": "@jupyter-widgets/controls",
          "model_name": "HTMLModel",
          "model_module_version": "1.5.0",
          "state": {
            "_dom_classes": [],
            "_model_module": "@jupyter-widgets/controls",
            "_model_module_version": "1.5.0",
            "_model_name": "HTMLModel",
            "_view_count": null,
            "_view_module": "@jupyter-widgets/controls",
            "_view_module_version": "1.5.0",
            "_view_name": "HTMLView",
            "description": "",
            "description_tooltip": null,
            "layout": "IPY_MODEL_bb7994350f9c4c2886f7d36a77613c8e",
            "placeholder": "​",
            "style": "IPY_MODEL_f6082d5221254545a0e0e7f1c8dd475a",
            "value": " 232k/232k [00:00&lt;00:00, 262kB/s]"
          }
        },
        "81bde89419ae4e32b8a7e92d48fd5300": {
          "model_module": "@jupyter-widgets/base",
          "model_name": "LayoutModel",
          "model_module_version": "1.2.0",
          "state": {
            "_model_module": "@jupyter-widgets/base",
            "_model_module_version": "1.2.0",
            "_model_name": "LayoutModel",
            "_view_count": null,
            "_view_module": "@jupyter-widgets/base",
            "_view_module_version": "1.2.0",
            "_view_name": "LayoutView",
            "align_content": null,
            "align_items": null,
            "align_self": null,
            "border": null,
            "bottom": null,
            "display": null,
            "flex": null,
            "flex_flow": null,
            "grid_area": null,
            "grid_auto_columns": null,
            "grid_auto_flow": null,
            "grid_auto_rows": null,
            "grid_column": null,
            "grid_gap": null,
            "grid_row": null,
            "grid_template_areas": null,
            "grid_template_columns": null,
            "grid_template_rows": null,
            "height": null,
            "justify_content": null,
            "justify_items": null,
            "left": null,
            "margin": null,
            "max_height": null,
            "max_width": null,
            "min_height": null,
            "min_width": null,
            "object_fit": null,
            "object_position": null,
            "order": null,
            "overflow": null,
            "overflow_x": null,
            "overflow_y": null,
            "padding": null,
            "right": null,
            "top": null,
            "visibility": null,
            "width": null
          }
        },
        "6153b9c7a1b0491f97122de4e072c887": {
          "model_module": "@jupyter-widgets/base",
          "model_name": "LayoutModel",
          "model_module_version": "1.2.0",
          "state": {
            "_model_module": "@jupyter-widgets/base",
            "_model_module_version": "1.2.0",
            "_model_name": "LayoutModel",
            "_view_count": null,
            "_view_module": "@jupyter-widgets/base",
            "_view_module_version": "1.2.0",
            "_view_name": "LayoutView",
            "align_content": null,
            "align_items": null,
            "align_self": null,
            "border": null,
            "bottom": null,
            "display": null,
            "flex": null,
            "flex_flow": null,
            "grid_area": null,
            "grid_auto_columns": null,
            "grid_auto_flow": null,
            "grid_auto_rows": null,
            "grid_column": null,
            "grid_gap": null,
            "grid_row": null,
            "grid_template_areas": null,
            "grid_template_columns": null,
            "grid_template_rows": null,
            "height": null,
            "justify_content": null,
            "justify_items": null,
            "left": null,
            "margin": null,
            "max_height": null,
            "max_width": null,
            "min_height": null,
            "min_width": null,
            "object_fit": null,
            "object_position": null,
            "order": null,
            "overflow": null,
            "overflow_x": null,
            "overflow_y": null,
            "padding": null,
            "right": null,
            "top": null,
            "visibility": null,
            "width": null
          }
        },
        "a41e085f922f4a53881ff774015bc590": {
          "model_module": "@jupyter-widgets/controls",
          "model_name": "DescriptionStyleModel",
          "model_module_version": "1.5.0",
          "state": {
            "_model_module": "@jupyter-widgets/controls",
            "_model_module_version": "1.5.0",
            "_model_name": "DescriptionStyleModel",
            "_view_count": null,
            "_view_module": "@jupyter-widgets/base",
            "_view_module_version": "1.2.0",
            "_view_name": "StyleView",
            "description_width": ""
          }
        },
        "c8e32e81dd2f432b90190574fc6d3090": {
          "model_module": "@jupyter-widgets/base",
          "model_name": "LayoutModel",
          "model_module_version": "1.2.0",
          "state": {
            "_model_module": "@jupyter-widgets/base",
            "_model_module_version": "1.2.0",
            "_model_name": "LayoutModel",
            "_view_count": null,
            "_view_module": "@jupyter-widgets/base",
            "_view_module_version": "1.2.0",
            "_view_name": "LayoutView",
            "align_content": null,
            "align_items": null,
            "align_self": null,
            "border": null,
            "bottom": null,
            "display": null,
            "flex": null,
            "flex_flow": null,
            "grid_area": null,
            "grid_auto_columns": null,
            "grid_auto_flow": null,
            "grid_auto_rows": null,
            "grid_column": null,
            "grid_gap": null,
            "grid_row": null,
            "grid_template_areas": null,
            "grid_template_columns": null,
            "grid_template_rows": null,
            "height": null,
            "justify_content": null,
            "justify_items": null,
            "left": null,
            "margin": null,
            "max_height": null,
            "max_width": null,
            "min_height": null,
            "min_width": null,
            "object_fit": null,
            "object_position": null,
            "order": null,
            "overflow": null,
            "overflow_x": null,
            "overflow_y": null,
            "padding": null,
            "right": null,
            "top": null,
            "visibility": null,
            "width": null
          }
        },
        "6a8483284827446285727eca56f9b691": {
          "model_module": "@jupyter-widgets/controls",
          "model_name": "ProgressStyleModel",
          "model_module_version": "1.5.0",
          "state": {
            "_model_module": "@jupyter-widgets/controls",
            "_model_module_version": "1.5.0",
            "_model_name": "ProgressStyleModel",
            "_view_count": null,
            "_view_module": "@jupyter-widgets/base",
            "_view_module_version": "1.2.0",
            "_view_name": "StyleView",
            "bar_color": null,
            "description_width": ""
          }
        },
        "bb7994350f9c4c2886f7d36a77613c8e": {
          "model_module": "@jupyter-widgets/base",
          "model_name": "LayoutModel",
          "model_module_version": "1.2.0",
          "state": {
            "_model_module": "@jupyter-widgets/base",
            "_model_module_version": "1.2.0",
            "_model_name": "LayoutModel",
            "_view_count": null,
            "_view_module": "@jupyter-widgets/base",
            "_view_module_version": "1.2.0",
            "_view_name": "LayoutView",
            "align_content": null,
            "align_items": null,
            "align_self": null,
            "border": null,
            "bottom": null,
            "display": null,
            "flex": null,
            "flex_flow": null,
            "grid_area": null,
            "grid_auto_columns": null,
            "grid_auto_flow": null,
            "grid_auto_rows": null,
            "grid_column": null,
            "grid_gap": null,
            "grid_row": null,
            "grid_template_areas": null,
            "grid_template_columns": null,
            "grid_template_rows": null,
            "height": null,
            "justify_content": null,
            "justify_items": null,
            "left": null,
            "margin": null,
            "max_height": null,
            "max_width": null,
            "min_height": null,
            "min_width": null,
            "object_fit": null,
            "object_position": null,
            "order": null,
            "overflow": null,
            "overflow_x": null,
            "overflow_y": null,
            "padding": null,
            "right": null,
            "top": null,
            "visibility": null,
            "width": null
          }
        },
        "f6082d5221254545a0e0e7f1c8dd475a": {
          "model_module": "@jupyter-widgets/controls",
          "model_name": "DescriptionStyleModel",
          "model_module_version": "1.5.0",
          "state": {
            "_model_module": "@jupyter-widgets/controls",
            "_model_module_version": "1.5.0",
            "_model_name": "DescriptionStyleModel",
            "_view_count": null,
            "_view_module": "@jupyter-widgets/base",
            "_view_module_version": "1.2.0",
            "_view_name": "StyleView",
            "description_width": ""
          }
        },
        "b5cb725badf645868b0c67fe2039d6e8": {
          "model_module": "@jupyter-widgets/controls",
          "model_name": "HBoxModel",
          "model_module_version": "1.5.0",
          "state": {
            "_dom_classes": [],
            "_model_module": "@jupyter-widgets/controls",
            "_model_module_version": "1.5.0",
            "_model_name": "HBoxModel",
            "_view_count": null,
            "_view_module": "@jupyter-widgets/controls",
            "_view_module_version": "1.5.0",
            "_view_name": "HBoxView",
            "box_style": "",
            "children": [
              "IPY_MODEL_3d8ec34494bd4f078bbba8d926f0a15f",
              "IPY_MODEL_b5e58e1ffbb4471a8c8c4957de8f2864",
              "IPY_MODEL_d7fc63d8a76f4cdfb50e61e9a87ba14d"
            ],
            "layout": "IPY_MODEL_1930d5600909432e960c4a27e6e763a3"
          }
        },
        "3d8ec34494bd4f078bbba8d926f0a15f": {
          "model_module": "@jupyter-widgets/controls",
          "model_name": "HTMLModel",
          "model_module_version": "1.5.0",
          "state": {
            "_dom_classes": [],
            "_model_module": "@jupyter-widgets/controls",
            "_model_module_version": "1.5.0",
            "_model_name": "HTMLModel",
            "_view_count": null,
            "_view_module": "@jupyter-widgets/controls",
            "_view_module_version": "1.5.0",
            "_view_name": "HTMLView",
            "description": "",
            "description_tooltip": null,
            "layout": "IPY_MODEL_ed082bd91070423fa611ed9575b0c2e2",
            "placeholder": "​",
            "style": "IPY_MODEL_eee30c86116d4648b76652e847d4183c",
            "value": "Downloading (…)okenizer_config.json: 100%"
          }
        },
        "b5e58e1ffbb4471a8c8c4957de8f2864": {
          "model_module": "@jupyter-widgets/controls",
          "model_name": "FloatProgressModel",
          "model_module_version": "1.5.0",
          "state": {
            "_dom_classes": [],
            "_model_module": "@jupyter-widgets/controls",
            "_model_module_version": "1.5.0",
            "_model_name": "FloatProgressModel",
            "_view_count": null,
            "_view_module": "@jupyter-widgets/controls",
            "_view_module_version": "1.5.0",
            "_view_name": "ProgressView",
            "bar_style": "success",
            "description": "",
            "description_tooltip": null,
            "layout": "IPY_MODEL_7a37a71b61094ad7836712f232a5c089",
            "max": 28,
            "min": 0,
            "orientation": "horizontal",
            "style": "IPY_MODEL_80fe70ab17a948a3ba38bc42de381f87",
            "value": 28
          }
        },
        "d7fc63d8a76f4cdfb50e61e9a87ba14d": {
          "model_module": "@jupyter-widgets/controls",
          "model_name": "HTMLModel",
          "model_module_version": "1.5.0",
          "state": {
            "_dom_classes": [],
            "_model_module": "@jupyter-widgets/controls",
            "_model_module_version": "1.5.0",
            "_model_name": "HTMLModel",
            "_view_count": null,
            "_view_module": "@jupyter-widgets/controls",
            "_view_module_version": "1.5.0",
            "_view_name": "HTMLView",
            "description": "",
            "description_tooltip": null,
            "layout": "IPY_MODEL_7f1a27d97f90450d98f4b9cbaaeaa63d",
            "placeholder": "​",
            "style": "IPY_MODEL_9ca959aeee7e414b829d1e7d371c9cec",
            "value": " 28.0/28.0 [00:00&lt;00:00, 1.86kB/s]"
          }
        },
        "1930d5600909432e960c4a27e6e763a3": {
          "model_module": "@jupyter-widgets/base",
          "model_name": "LayoutModel",
          "model_module_version": "1.2.0",
          "state": {
            "_model_module": "@jupyter-widgets/base",
            "_model_module_version": "1.2.0",
            "_model_name": "LayoutModel",
            "_view_count": null,
            "_view_module": "@jupyter-widgets/base",
            "_view_module_version": "1.2.0",
            "_view_name": "LayoutView",
            "align_content": null,
            "align_items": null,
            "align_self": null,
            "border": null,
            "bottom": null,
            "display": null,
            "flex": null,
            "flex_flow": null,
            "grid_area": null,
            "grid_auto_columns": null,
            "grid_auto_flow": null,
            "grid_auto_rows": null,
            "grid_column": null,
            "grid_gap": null,
            "grid_row": null,
            "grid_template_areas": null,
            "grid_template_columns": null,
            "grid_template_rows": null,
            "height": null,
            "justify_content": null,
            "justify_items": null,
            "left": null,
            "margin": null,
            "max_height": null,
            "max_width": null,
            "min_height": null,
            "min_width": null,
            "object_fit": null,
            "object_position": null,
            "order": null,
            "overflow": null,
            "overflow_x": null,
            "overflow_y": null,
            "padding": null,
            "right": null,
            "top": null,
            "visibility": null,
            "width": null
          }
        },
        "ed082bd91070423fa611ed9575b0c2e2": {
          "model_module": "@jupyter-widgets/base",
          "model_name": "LayoutModel",
          "model_module_version": "1.2.0",
          "state": {
            "_model_module": "@jupyter-widgets/base",
            "_model_module_version": "1.2.0",
            "_model_name": "LayoutModel",
            "_view_count": null,
            "_view_module": "@jupyter-widgets/base",
            "_view_module_version": "1.2.0",
            "_view_name": "LayoutView",
            "align_content": null,
            "align_items": null,
            "align_self": null,
            "border": null,
            "bottom": null,
            "display": null,
            "flex": null,
            "flex_flow": null,
            "grid_area": null,
            "grid_auto_columns": null,
            "grid_auto_flow": null,
            "grid_auto_rows": null,
            "grid_column": null,
            "grid_gap": null,
            "grid_row": null,
            "grid_template_areas": null,
            "grid_template_columns": null,
            "grid_template_rows": null,
            "height": null,
            "justify_content": null,
            "justify_items": null,
            "left": null,
            "margin": null,
            "max_height": null,
            "max_width": null,
            "min_height": null,
            "min_width": null,
            "object_fit": null,
            "object_position": null,
            "order": null,
            "overflow": null,
            "overflow_x": null,
            "overflow_y": null,
            "padding": null,
            "right": null,
            "top": null,
            "visibility": null,
            "width": null
          }
        },
        "eee30c86116d4648b76652e847d4183c": {
          "model_module": "@jupyter-widgets/controls",
          "model_name": "DescriptionStyleModel",
          "model_module_version": "1.5.0",
          "state": {
            "_model_module": "@jupyter-widgets/controls",
            "_model_module_version": "1.5.0",
            "_model_name": "DescriptionStyleModel",
            "_view_count": null,
            "_view_module": "@jupyter-widgets/base",
            "_view_module_version": "1.2.0",
            "_view_name": "StyleView",
            "description_width": ""
          }
        },
        "7a37a71b61094ad7836712f232a5c089": {
          "model_module": "@jupyter-widgets/base",
          "model_name": "LayoutModel",
          "model_module_version": "1.2.0",
          "state": {
            "_model_module": "@jupyter-widgets/base",
            "_model_module_version": "1.2.0",
            "_model_name": "LayoutModel",
            "_view_count": null,
            "_view_module": "@jupyter-widgets/base",
            "_view_module_version": "1.2.0",
            "_view_name": "LayoutView",
            "align_content": null,
            "align_items": null,
            "align_self": null,
            "border": null,
            "bottom": null,
            "display": null,
            "flex": null,
            "flex_flow": null,
            "grid_area": null,
            "grid_auto_columns": null,
            "grid_auto_flow": null,
            "grid_auto_rows": null,
            "grid_column": null,
            "grid_gap": null,
            "grid_row": null,
            "grid_template_areas": null,
            "grid_template_columns": null,
            "grid_template_rows": null,
            "height": null,
            "justify_content": null,
            "justify_items": null,
            "left": null,
            "margin": null,
            "max_height": null,
            "max_width": null,
            "min_height": null,
            "min_width": null,
            "object_fit": null,
            "object_position": null,
            "order": null,
            "overflow": null,
            "overflow_x": null,
            "overflow_y": null,
            "padding": null,
            "right": null,
            "top": null,
            "visibility": null,
            "width": null
          }
        },
        "80fe70ab17a948a3ba38bc42de381f87": {
          "model_module": "@jupyter-widgets/controls",
          "model_name": "ProgressStyleModel",
          "model_module_version": "1.5.0",
          "state": {
            "_model_module": "@jupyter-widgets/controls",
            "_model_module_version": "1.5.0",
            "_model_name": "ProgressStyleModel",
            "_view_count": null,
            "_view_module": "@jupyter-widgets/base",
            "_view_module_version": "1.2.0",
            "_view_name": "StyleView",
            "bar_color": null,
            "description_width": ""
          }
        },
        "7f1a27d97f90450d98f4b9cbaaeaa63d": {
          "model_module": "@jupyter-widgets/base",
          "model_name": "LayoutModel",
          "model_module_version": "1.2.0",
          "state": {
            "_model_module": "@jupyter-widgets/base",
            "_model_module_version": "1.2.0",
            "_model_name": "LayoutModel",
            "_view_count": null,
            "_view_module": "@jupyter-widgets/base",
            "_view_module_version": "1.2.0",
            "_view_name": "LayoutView",
            "align_content": null,
            "align_items": null,
            "align_self": null,
            "border": null,
            "bottom": null,
            "display": null,
            "flex": null,
            "flex_flow": null,
            "grid_area": null,
            "grid_auto_columns": null,
            "grid_auto_flow": null,
            "grid_auto_rows": null,
            "grid_column": null,
            "grid_gap": null,
            "grid_row": null,
            "grid_template_areas": null,
            "grid_template_columns": null,
            "grid_template_rows": null,
            "height": null,
            "justify_content": null,
            "justify_items": null,
            "left": null,
            "margin": null,
            "max_height": null,
            "max_width": null,
            "min_height": null,
            "min_width": null,
            "object_fit": null,
            "object_position": null,
            "order": null,
            "overflow": null,
            "overflow_x": null,
            "overflow_y": null,
            "padding": null,
            "right": null,
            "top": null,
            "visibility": null,
            "width": null
          }
        },
        "9ca959aeee7e414b829d1e7d371c9cec": {
          "model_module": "@jupyter-widgets/controls",
          "model_name": "DescriptionStyleModel",
          "model_module_version": "1.5.0",
          "state": {
            "_model_module": "@jupyter-widgets/controls",
            "_model_module_version": "1.5.0",
            "_model_name": "DescriptionStyleModel",
            "_view_count": null,
            "_view_module": "@jupyter-widgets/base",
            "_view_module_version": "1.2.0",
            "_view_name": "StyleView",
            "description_width": ""
          }
        },
        "cfd5fa6461584223b8bae7339637c91a": {
          "model_module": "@jupyter-widgets/controls",
          "model_name": "HBoxModel",
          "model_module_version": "1.5.0",
          "state": {
            "_dom_classes": [],
            "_model_module": "@jupyter-widgets/controls",
            "_model_module_version": "1.5.0",
            "_model_name": "HBoxModel",
            "_view_count": null,
            "_view_module": "@jupyter-widgets/controls",
            "_view_module_version": "1.5.0",
            "_view_name": "HBoxView",
            "box_style": "",
            "children": [
              "IPY_MODEL_8fb00d5ad723411291af59b9c1611628",
              "IPY_MODEL_f0ec4ae3b0b043b98e6a4068e2c7fbbc",
              "IPY_MODEL_4544b3bbc06040f4be01c99b48e467b1"
            ],
            "layout": "IPY_MODEL_858752e886ab46caa44a56aedec062c4"
          }
        },
        "8fb00d5ad723411291af59b9c1611628": {
          "model_module": "@jupyter-widgets/controls",
          "model_name": "HTMLModel",
          "model_module_version": "1.5.0",
          "state": {
            "_dom_classes": [],
            "_model_module": "@jupyter-widgets/controls",
            "_model_module_version": "1.5.0",
            "_model_name": "HTMLModel",
            "_view_count": null,
            "_view_module": "@jupyter-widgets/controls",
            "_view_module_version": "1.5.0",
            "_view_name": "HTMLView",
            "description": "",
            "description_tooltip": null,
            "layout": "IPY_MODEL_08268e58f46b4505a071ab870f2fecac",
            "placeholder": "​",
            "style": "IPY_MODEL_eaeb58e8169247c1abcb4d792fa6637f",
            "value": "Downloading (…)lve/main/config.json: 100%"
          }
        },
        "f0ec4ae3b0b043b98e6a4068e2c7fbbc": {
          "model_module": "@jupyter-widgets/controls",
          "model_name": "FloatProgressModel",
          "model_module_version": "1.5.0",
          "state": {
            "_dom_classes": [],
            "_model_module": "@jupyter-widgets/controls",
            "_model_module_version": "1.5.0",
            "_model_name": "FloatProgressModel",
            "_view_count": null,
            "_view_module": "@jupyter-widgets/controls",
            "_view_module_version": "1.5.0",
            "_view_name": "ProgressView",
            "bar_style": "success",
            "description": "",
            "description_tooltip": null,
            "layout": "IPY_MODEL_125a6dda17d241d89ff88cac9c1053b8",
            "max": 570,
            "min": 0,
            "orientation": "horizontal",
            "style": "IPY_MODEL_1e8e33a280ff40a3b81ed812a60c6d5f",
            "value": 570
          }
        },
        "4544b3bbc06040f4be01c99b48e467b1": {
          "model_module": "@jupyter-widgets/controls",
          "model_name": "HTMLModel",
          "model_module_version": "1.5.0",
          "state": {
            "_dom_classes": [],
            "_model_module": "@jupyter-widgets/controls",
            "_model_module_version": "1.5.0",
            "_model_name": "HTMLModel",
            "_view_count": null,
            "_view_module": "@jupyter-widgets/controls",
            "_view_module_version": "1.5.0",
            "_view_name": "HTMLView",
            "description": "",
            "description_tooltip": null,
            "layout": "IPY_MODEL_4e6b82edda704fa2bf12bfcbffb704cb",
            "placeholder": "​",
            "style": "IPY_MODEL_0f5b710aec25409cad8209bdd0f19789",
            "value": " 570/570 [00:00&lt;00:00, 31.7kB/s]"
          }
        },
        "858752e886ab46caa44a56aedec062c4": {
          "model_module": "@jupyter-widgets/base",
          "model_name": "LayoutModel",
          "model_module_version": "1.2.0",
          "state": {
            "_model_module": "@jupyter-widgets/base",
            "_model_module_version": "1.2.0",
            "_model_name": "LayoutModel",
            "_view_count": null,
            "_view_module": "@jupyter-widgets/base",
            "_view_module_version": "1.2.0",
            "_view_name": "LayoutView",
            "align_content": null,
            "align_items": null,
            "align_self": null,
            "border": null,
            "bottom": null,
            "display": null,
            "flex": null,
            "flex_flow": null,
            "grid_area": null,
            "grid_auto_columns": null,
            "grid_auto_flow": null,
            "grid_auto_rows": null,
            "grid_column": null,
            "grid_gap": null,
            "grid_row": null,
            "grid_template_areas": null,
            "grid_template_columns": null,
            "grid_template_rows": null,
            "height": null,
            "justify_content": null,
            "justify_items": null,
            "left": null,
            "margin": null,
            "max_height": null,
            "max_width": null,
            "min_height": null,
            "min_width": null,
            "object_fit": null,
            "object_position": null,
            "order": null,
            "overflow": null,
            "overflow_x": null,
            "overflow_y": null,
            "padding": null,
            "right": null,
            "top": null,
            "visibility": null,
            "width": null
          }
        },
        "08268e58f46b4505a071ab870f2fecac": {
          "model_module": "@jupyter-widgets/base",
          "model_name": "LayoutModel",
          "model_module_version": "1.2.0",
          "state": {
            "_model_module": "@jupyter-widgets/base",
            "_model_module_version": "1.2.0",
            "_model_name": "LayoutModel",
            "_view_count": null,
            "_view_module": "@jupyter-widgets/base",
            "_view_module_version": "1.2.0",
            "_view_name": "LayoutView",
            "align_content": null,
            "align_items": null,
            "align_self": null,
            "border": null,
            "bottom": null,
            "display": null,
            "flex": null,
            "flex_flow": null,
            "grid_area": null,
            "grid_auto_columns": null,
            "grid_auto_flow": null,
            "grid_auto_rows": null,
            "grid_column": null,
            "grid_gap": null,
            "grid_row": null,
            "grid_template_areas": null,
            "grid_template_columns": null,
            "grid_template_rows": null,
            "height": null,
            "justify_content": null,
            "justify_items": null,
            "left": null,
            "margin": null,
            "max_height": null,
            "max_width": null,
            "min_height": null,
            "min_width": null,
            "object_fit": null,
            "object_position": null,
            "order": null,
            "overflow": null,
            "overflow_x": null,
            "overflow_y": null,
            "padding": null,
            "right": null,
            "top": null,
            "visibility": null,
            "width": null
          }
        },
        "eaeb58e8169247c1abcb4d792fa6637f": {
          "model_module": "@jupyter-widgets/controls",
          "model_name": "DescriptionStyleModel",
          "model_module_version": "1.5.0",
          "state": {
            "_model_module": "@jupyter-widgets/controls",
            "_model_module_version": "1.5.0",
            "_model_name": "DescriptionStyleModel",
            "_view_count": null,
            "_view_module": "@jupyter-widgets/base",
            "_view_module_version": "1.2.0",
            "_view_name": "StyleView",
            "description_width": ""
          }
        },
        "125a6dda17d241d89ff88cac9c1053b8": {
          "model_module": "@jupyter-widgets/base",
          "model_name": "LayoutModel",
          "model_module_version": "1.2.0",
          "state": {
            "_model_module": "@jupyter-widgets/base",
            "_model_module_version": "1.2.0",
            "_model_name": "LayoutModel",
            "_view_count": null,
            "_view_module": "@jupyter-widgets/base",
            "_view_module_version": "1.2.0",
            "_view_name": "LayoutView",
            "align_content": null,
            "align_items": null,
            "align_self": null,
            "border": null,
            "bottom": null,
            "display": null,
            "flex": null,
            "flex_flow": null,
            "grid_area": null,
            "grid_auto_columns": null,
            "grid_auto_flow": null,
            "grid_auto_rows": null,
            "grid_column": null,
            "grid_gap": null,
            "grid_row": null,
            "grid_template_areas": null,
            "grid_template_columns": null,
            "grid_template_rows": null,
            "height": null,
            "justify_content": null,
            "justify_items": null,
            "left": null,
            "margin": null,
            "max_height": null,
            "max_width": null,
            "min_height": null,
            "min_width": null,
            "object_fit": null,
            "object_position": null,
            "order": null,
            "overflow": null,
            "overflow_x": null,
            "overflow_y": null,
            "padding": null,
            "right": null,
            "top": null,
            "visibility": null,
            "width": null
          }
        },
        "1e8e33a280ff40a3b81ed812a60c6d5f": {
          "model_module": "@jupyter-widgets/controls",
          "model_name": "ProgressStyleModel",
          "model_module_version": "1.5.0",
          "state": {
            "_model_module": "@jupyter-widgets/controls",
            "_model_module_version": "1.5.0",
            "_model_name": "ProgressStyleModel",
            "_view_count": null,
            "_view_module": "@jupyter-widgets/base",
            "_view_module_version": "1.2.0",
            "_view_name": "StyleView",
            "bar_color": null,
            "description_width": ""
          }
        },
        "4e6b82edda704fa2bf12bfcbffb704cb": {
          "model_module": "@jupyter-widgets/base",
          "model_name": "LayoutModel",
          "model_module_version": "1.2.0",
          "state": {
            "_model_module": "@jupyter-widgets/base",
            "_model_module_version": "1.2.0",
            "_model_name": "LayoutModel",
            "_view_count": null,
            "_view_module": "@jupyter-widgets/base",
            "_view_module_version": "1.2.0",
            "_view_name": "LayoutView",
            "align_content": null,
            "align_items": null,
            "align_self": null,
            "border": null,
            "bottom": null,
            "display": null,
            "flex": null,
            "flex_flow": null,
            "grid_area": null,
            "grid_auto_columns": null,
            "grid_auto_flow": null,
            "grid_auto_rows": null,
            "grid_column": null,
            "grid_gap": null,
            "grid_row": null,
            "grid_template_areas": null,
            "grid_template_columns": null,
            "grid_template_rows": null,
            "height": null,
            "justify_content": null,
            "justify_items": null,
            "left": null,
            "margin": null,
            "max_height": null,
            "max_width": null,
            "min_height": null,
            "min_width": null,
            "object_fit": null,
            "object_position": null,
            "order": null,
            "overflow": null,
            "overflow_x": null,
            "overflow_y": null,
            "padding": null,
            "right": null,
            "top": null,
            "visibility": null,
            "width": null
          }
        },
        "0f5b710aec25409cad8209bdd0f19789": {
          "model_module": "@jupyter-widgets/controls",
          "model_name": "DescriptionStyleModel",
          "model_module_version": "1.5.0",
          "state": {
            "_model_module": "@jupyter-widgets/controls",
            "_model_module_version": "1.5.0",
            "_model_name": "DescriptionStyleModel",
            "_view_count": null,
            "_view_module": "@jupyter-widgets/base",
            "_view_module_version": "1.2.0",
            "_view_name": "StyleView",
            "description_width": ""
          }
        },
        "30cde90dac3646f7b78b33ed67e75c2a": {
          "model_module": "@jupyter-widgets/controls",
          "model_name": "HBoxModel",
          "model_module_version": "1.5.0",
          "state": {
            "_dom_classes": [],
            "_model_module": "@jupyter-widgets/controls",
            "_model_module_version": "1.5.0",
            "_model_name": "HBoxModel",
            "_view_count": null,
            "_view_module": "@jupyter-widgets/controls",
            "_view_module_version": "1.5.0",
            "_view_name": "HBoxView",
            "box_style": "",
            "children": [
              "IPY_MODEL_7b96602e547c4b7db5e7da5628e92956",
              "IPY_MODEL_b74b83d74e804d968e526b87f3e4be61",
              "IPY_MODEL_2f656b891e394152b00993f933400729"
            ],
            "layout": "IPY_MODEL_f95e2d71892e4f1fbec2abb7c51f66ce"
          }
        },
        "7b96602e547c4b7db5e7da5628e92956": {
          "model_module": "@jupyter-widgets/controls",
          "model_name": "HTMLModel",
          "model_module_version": "1.5.0",
          "state": {
            "_dom_classes": [],
            "_model_module": "@jupyter-widgets/controls",
            "_model_module_version": "1.5.0",
            "_model_name": "HTMLModel",
            "_view_count": null,
            "_view_module": "@jupyter-widgets/controls",
            "_view_module_version": "1.5.0",
            "_view_name": "HTMLView",
            "description": "",
            "description_tooltip": null,
            "layout": "IPY_MODEL_8720f880710e4728aa271e2dc0708afa",
            "placeholder": "​",
            "style": "IPY_MODEL_beb81c8401534b80afad9a4a36059d75",
            "value": "Downloading (…)solve/main/vocab.txt: 100%"
          }
        },
        "b74b83d74e804d968e526b87f3e4be61": {
          "model_module": "@jupyter-widgets/controls",
          "model_name": "FloatProgressModel",
          "model_module_version": "1.5.0",
          "state": {
            "_dom_classes": [],
            "_model_module": "@jupyter-widgets/controls",
            "_model_module_version": "1.5.0",
            "_model_name": "FloatProgressModel",
            "_view_count": null,
            "_view_module": "@jupyter-widgets/controls",
            "_view_module_version": "1.5.0",
            "_view_name": "ProgressView",
            "bar_style": "success",
            "description": "",
            "description_tooltip": null,
            "layout": "IPY_MODEL_24f395dd707b4b74953277a0ec2a32db",
            "max": 231508,
            "min": 0,
            "orientation": "horizontal",
            "style": "IPY_MODEL_bcae31520c7648d4a6fe85c831da19f6",
            "value": 231508
          }
        },
        "2f656b891e394152b00993f933400729": {
          "model_module": "@jupyter-widgets/controls",
          "model_name": "HTMLModel",
          "model_module_version": "1.5.0",
          "state": {
            "_dom_classes": [],
            "_model_module": "@jupyter-widgets/controls",
            "_model_module_version": "1.5.0",
            "_model_name": "HTMLModel",
            "_view_count": null,
            "_view_module": "@jupyter-widgets/controls",
            "_view_module_version": "1.5.0",
            "_view_name": "HTMLView",
            "description": "",
            "description_tooltip": null,
            "layout": "IPY_MODEL_434f87ca15504518b979f705086323b3",
            "placeholder": "​",
            "style": "IPY_MODEL_a519581ccd1f4066b718a82d87ba1e97",
            "value": " 232k/232k [00:00&lt;00:00, 259kB/s]"
          }
        },
        "f95e2d71892e4f1fbec2abb7c51f66ce": {
          "model_module": "@jupyter-widgets/base",
          "model_name": "LayoutModel",
          "model_module_version": "1.2.0",
          "state": {
            "_model_module": "@jupyter-widgets/base",
            "_model_module_version": "1.2.0",
            "_model_name": "LayoutModel",
            "_view_count": null,
            "_view_module": "@jupyter-widgets/base",
            "_view_module_version": "1.2.0",
            "_view_name": "LayoutView",
            "align_content": null,
            "align_items": null,
            "align_self": null,
            "border": null,
            "bottom": null,
            "display": null,
            "flex": null,
            "flex_flow": null,
            "grid_area": null,
            "grid_auto_columns": null,
            "grid_auto_flow": null,
            "grid_auto_rows": null,
            "grid_column": null,
            "grid_gap": null,
            "grid_row": null,
            "grid_template_areas": null,
            "grid_template_columns": null,
            "grid_template_rows": null,
            "height": null,
            "justify_content": null,
            "justify_items": null,
            "left": null,
            "margin": null,
            "max_height": null,
            "max_width": null,
            "min_height": null,
            "min_width": null,
            "object_fit": null,
            "object_position": null,
            "order": null,
            "overflow": null,
            "overflow_x": null,
            "overflow_y": null,
            "padding": null,
            "right": null,
            "top": null,
            "visibility": null,
            "width": null
          }
        },
        "8720f880710e4728aa271e2dc0708afa": {
          "model_module": "@jupyter-widgets/base",
          "model_name": "LayoutModel",
          "model_module_version": "1.2.0",
          "state": {
            "_model_module": "@jupyter-widgets/base",
            "_model_module_version": "1.2.0",
            "_model_name": "LayoutModel",
            "_view_count": null,
            "_view_module": "@jupyter-widgets/base",
            "_view_module_version": "1.2.0",
            "_view_name": "LayoutView",
            "align_content": null,
            "align_items": null,
            "align_self": null,
            "border": null,
            "bottom": null,
            "display": null,
            "flex": null,
            "flex_flow": null,
            "grid_area": null,
            "grid_auto_columns": null,
            "grid_auto_flow": null,
            "grid_auto_rows": null,
            "grid_column": null,
            "grid_gap": null,
            "grid_row": null,
            "grid_template_areas": null,
            "grid_template_columns": null,
            "grid_template_rows": null,
            "height": null,
            "justify_content": null,
            "justify_items": null,
            "left": null,
            "margin": null,
            "max_height": null,
            "max_width": null,
            "min_height": null,
            "min_width": null,
            "object_fit": null,
            "object_position": null,
            "order": null,
            "overflow": null,
            "overflow_x": null,
            "overflow_y": null,
            "padding": null,
            "right": null,
            "top": null,
            "visibility": null,
            "width": null
          }
        },
        "beb81c8401534b80afad9a4a36059d75": {
          "model_module": "@jupyter-widgets/controls",
          "model_name": "DescriptionStyleModel",
          "model_module_version": "1.5.0",
          "state": {
            "_model_module": "@jupyter-widgets/controls",
            "_model_module_version": "1.5.0",
            "_model_name": "DescriptionStyleModel",
            "_view_count": null,
            "_view_module": "@jupyter-widgets/base",
            "_view_module_version": "1.2.0",
            "_view_name": "StyleView",
            "description_width": ""
          }
        },
        "24f395dd707b4b74953277a0ec2a32db": {
          "model_module": "@jupyter-widgets/base",
          "model_name": "LayoutModel",
          "model_module_version": "1.2.0",
          "state": {
            "_model_module": "@jupyter-widgets/base",
            "_model_module_version": "1.2.0",
            "_model_name": "LayoutModel",
            "_view_count": null,
            "_view_module": "@jupyter-widgets/base",
            "_view_module_version": "1.2.0",
            "_view_name": "LayoutView",
            "align_content": null,
            "align_items": null,
            "align_self": null,
            "border": null,
            "bottom": null,
            "display": null,
            "flex": null,
            "flex_flow": null,
            "grid_area": null,
            "grid_auto_columns": null,
            "grid_auto_flow": null,
            "grid_auto_rows": null,
            "grid_column": null,
            "grid_gap": null,
            "grid_row": null,
            "grid_template_areas": null,
            "grid_template_columns": null,
            "grid_template_rows": null,
            "height": null,
            "justify_content": null,
            "justify_items": null,
            "left": null,
            "margin": null,
            "max_height": null,
            "max_width": null,
            "min_height": null,
            "min_width": null,
            "object_fit": null,
            "object_position": null,
            "order": null,
            "overflow": null,
            "overflow_x": null,
            "overflow_y": null,
            "padding": null,
            "right": null,
            "top": null,
            "visibility": null,
            "width": null
          }
        },
        "bcae31520c7648d4a6fe85c831da19f6": {
          "model_module": "@jupyter-widgets/controls",
          "model_name": "ProgressStyleModel",
          "model_module_version": "1.5.0",
          "state": {
            "_model_module": "@jupyter-widgets/controls",
            "_model_module_version": "1.5.0",
            "_model_name": "ProgressStyleModel",
            "_view_count": null,
            "_view_module": "@jupyter-widgets/base",
            "_view_module_version": "1.2.0",
            "_view_name": "StyleView",
            "bar_color": null,
            "description_width": ""
          }
        },
        "434f87ca15504518b979f705086323b3": {
          "model_module": "@jupyter-widgets/base",
          "model_name": "LayoutModel",
          "model_module_version": "1.2.0",
          "state": {
            "_model_module": "@jupyter-widgets/base",
            "_model_module_version": "1.2.0",
            "_model_name": "LayoutModel",
            "_view_count": null,
            "_view_module": "@jupyter-widgets/base",
            "_view_module_version": "1.2.0",
            "_view_name": "LayoutView",
            "align_content": null,
            "align_items": null,
            "align_self": null,
            "border": null,
            "bottom": null,
            "display": null,
            "flex": null,
            "flex_flow": null,
            "grid_area": null,
            "grid_auto_columns": null,
            "grid_auto_flow": null,
            "grid_auto_rows": null,
            "grid_column": null,
            "grid_gap": null,
            "grid_row": null,
            "grid_template_areas": null,
            "grid_template_columns": null,
            "grid_template_rows": null,
            "height": null,
            "justify_content": null,
            "justify_items": null,
            "left": null,
            "margin": null,
            "max_height": null,
            "max_width": null,
            "min_height": null,
            "min_width": null,
            "object_fit": null,
            "object_position": null,
            "order": null,
            "overflow": null,
            "overflow_x": null,
            "overflow_y": null,
            "padding": null,
            "right": null,
            "top": null,
            "visibility": null,
            "width": null
          }
        },
        "a519581ccd1f4066b718a82d87ba1e97": {
          "model_module": "@jupyter-widgets/controls",
          "model_name": "DescriptionStyleModel",
          "model_module_version": "1.5.0",
          "state": {
            "_model_module": "@jupyter-widgets/controls",
            "_model_module_version": "1.5.0",
            "_model_name": "DescriptionStyleModel",
            "_view_count": null,
            "_view_module": "@jupyter-widgets/base",
            "_view_module_version": "1.2.0",
            "_view_name": "StyleView",
            "description_width": ""
          }
        },
        "ba238b557c534e8bb0f414b219e30e67": {
          "model_module": "@jupyter-widgets/controls",
          "model_name": "HBoxModel",
          "model_module_version": "1.5.0",
          "state": {
            "_dom_classes": [],
            "_model_module": "@jupyter-widgets/controls",
            "_model_module_version": "1.5.0",
            "_model_name": "HBoxModel",
            "_view_count": null,
            "_view_module": "@jupyter-widgets/controls",
            "_view_module_version": "1.5.0",
            "_view_name": "HBoxView",
            "box_style": "",
            "children": [
              "IPY_MODEL_9f9815a69c6c4016af83d9f663454d4d",
              "IPY_MODEL_c0900e90559642b59812d2dcbe67b0cb",
              "IPY_MODEL_18c29e678c2f41229a9bc7d691290e4d"
            ],
            "layout": "IPY_MODEL_4d1721c7a99f48738a535ebbb766fc2f"
          }
        },
        "9f9815a69c6c4016af83d9f663454d4d": {
          "model_module": "@jupyter-widgets/controls",
          "model_name": "HTMLModel",
          "model_module_version": "1.5.0",
          "state": {
            "_dom_classes": [],
            "_model_module": "@jupyter-widgets/controls",
            "_model_module_version": "1.5.0",
            "_model_name": "HTMLModel",
            "_view_count": null,
            "_view_module": "@jupyter-widgets/controls",
            "_view_module_version": "1.5.0",
            "_view_name": "HTMLView",
            "description": "",
            "description_tooltip": null,
            "layout": "IPY_MODEL_8b7d6d734585448ca9f39867144d74c9",
            "placeholder": "​",
            "style": "IPY_MODEL_c84fbca95e6e4d72bf131ff6109a68cd",
            "value": "Downloading (…)okenizer_config.json: 100%"
          }
        },
        "c0900e90559642b59812d2dcbe67b0cb": {
          "model_module": "@jupyter-widgets/controls",
          "model_name": "FloatProgressModel",
          "model_module_version": "1.5.0",
          "state": {
            "_dom_classes": [],
            "_model_module": "@jupyter-widgets/controls",
            "_model_module_version": "1.5.0",
            "_model_name": "FloatProgressModel",
            "_view_count": null,
            "_view_module": "@jupyter-widgets/controls",
            "_view_module_version": "1.5.0",
            "_view_name": "ProgressView",
            "bar_style": "success",
            "description": "",
            "description_tooltip": null,
            "layout": "IPY_MODEL_3866143d324740e1ac56e2a24b5515eb",
            "max": 28,
            "min": 0,
            "orientation": "horizontal",
            "style": "IPY_MODEL_4aa8a1a9368f4cafb05bbf30e1b46a8e",
            "value": 28
          }
        },
        "18c29e678c2f41229a9bc7d691290e4d": {
          "model_module": "@jupyter-widgets/controls",
          "model_name": "HTMLModel",
          "model_module_version": "1.5.0",
          "state": {
            "_dom_classes": [],
            "_model_module": "@jupyter-widgets/controls",
            "_model_module_version": "1.5.0",
            "_model_name": "HTMLModel",
            "_view_count": null,
            "_view_module": "@jupyter-widgets/controls",
            "_view_module_version": "1.5.0",
            "_view_name": "HTMLView",
            "description": "",
            "description_tooltip": null,
            "layout": "IPY_MODEL_f31abc70d19b4722b9f156b45e784827",
            "placeholder": "​",
            "style": "IPY_MODEL_7ec29ffc1c0249ff87a948b03b3277a6",
            "value": " 28.0/28.0 [00:00&lt;00:00, 1.76kB/s]"
          }
        },
        "4d1721c7a99f48738a535ebbb766fc2f": {
          "model_module": "@jupyter-widgets/base",
          "model_name": "LayoutModel",
          "model_module_version": "1.2.0",
          "state": {
            "_model_module": "@jupyter-widgets/base",
            "_model_module_version": "1.2.0",
            "_model_name": "LayoutModel",
            "_view_count": null,
            "_view_module": "@jupyter-widgets/base",
            "_view_module_version": "1.2.0",
            "_view_name": "LayoutView",
            "align_content": null,
            "align_items": null,
            "align_self": null,
            "border": null,
            "bottom": null,
            "display": null,
            "flex": null,
            "flex_flow": null,
            "grid_area": null,
            "grid_auto_columns": null,
            "grid_auto_flow": null,
            "grid_auto_rows": null,
            "grid_column": null,
            "grid_gap": null,
            "grid_row": null,
            "grid_template_areas": null,
            "grid_template_columns": null,
            "grid_template_rows": null,
            "height": null,
            "justify_content": null,
            "justify_items": null,
            "left": null,
            "margin": null,
            "max_height": null,
            "max_width": null,
            "min_height": null,
            "min_width": null,
            "object_fit": null,
            "object_position": null,
            "order": null,
            "overflow": null,
            "overflow_x": null,
            "overflow_y": null,
            "padding": null,
            "right": null,
            "top": null,
            "visibility": null,
            "width": null
          }
        },
        "8b7d6d734585448ca9f39867144d74c9": {
          "model_module": "@jupyter-widgets/base",
          "model_name": "LayoutModel",
          "model_module_version": "1.2.0",
          "state": {
            "_model_module": "@jupyter-widgets/base",
            "_model_module_version": "1.2.0",
            "_model_name": "LayoutModel",
            "_view_count": null,
            "_view_module": "@jupyter-widgets/base",
            "_view_module_version": "1.2.0",
            "_view_name": "LayoutView",
            "align_content": null,
            "align_items": null,
            "align_self": null,
            "border": null,
            "bottom": null,
            "display": null,
            "flex": null,
            "flex_flow": null,
            "grid_area": null,
            "grid_auto_columns": null,
            "grid_auto_flow": null,
            "grid_auto_rows": null,
            "grid_column": null,
            "grid_gap": null,
            "grid_row": null,
            "grid_template_areas": null,
            "grid_template_columns": null,
            "grid_template_rows": null,
            "height": null,
            "justify_content": null,
            "justify_items": null,
            "left": null,
            "margin": null,
            "max_height": null,
            "max_width": null,
            "min_height": null,
            "min_width": null,
            "object_fit": null,
            "object_position": null,
            "order": null,
            "overflow": null,
            "overflow_x": null,
            "overflow_y": null,
            "padding": null,
            "right": null,
            "top": null,
            "visibility": null,
            "width": null
          }
        },
        "c84fbca95e6e4d72bf131ff6109a68cd": {
          "model_module": "@jupyter-widgets/controls",
          "model_name": "DescriptionStyleModel",
          "model_module_version": "1.5.0",
          "state": {
            "_model_module": "@jupyter-widgets/controls",
            "_model_module_version": "1.5.0",
            "_model_name": "DescriptionStyleModel",
            "_view_count": null,
            "_view_module": "@jupyter-widgets/base",
            "_view_module_version": "1.2.0",
            "_view_name": "StyleView",
            "description_width": ""
          }
        },
        "3866143d324740e1ac56e2a24b5515eb": {
          "model_module": "@jupyter-widgets/base",
          "model_name": "LayoutModel",
          "model_module_version": "1.2.0",
          "state": {
            "_model_module": "@jupyter-widgets/base",
            "_model_module_version": "1.2.0",
            "_model_name": "LayoutModel",
            "_view_count": null,
            "_view_module": "@jupyter-widgets/base",
            "_view_module_version": "1.2.0",
            "_view_name": "LayoutView",
            "align_content": null,
            "align_items": null,
            "align_self": null,
            "border": null,
            "bottom": null,
            "display": null,
            "flex": null,
            "flex_flow": null,
            "grid_area": null,
            "grid_auto_columns": null,
            "grid_auto_flow": null,
            "grid_auto_rows": null,
            "grid_column": null,
            "grid_gap": null,
            "grid_row": null,
            "grid_template_areas": null,
            "grid_template_columns": null,
            "grid_template_rows": null,
            "height": null,
            "justify_content": null,
            "justify_items": null,
            "left": null,
            "margin": null,
            "max_height": null,
            "max_width": null,
            "min_height": null,
            "min_width": null,
            "object_fit": null,
            "object_position": null,
            "order": null,
            "overflow": null,
            "overflow_x": null,
            "overflow_y": null,
            "padding": null,
            "right": null,
            "top": null,
            "visibility": null,
            "width": null
          }
        },
        "4aa8a1a9368f4cafb05bbf30e1b46a8e": {
          "model_module": "@jupyter-widgets/controls",
          "model_name": "ProgressStyleModel",
          "model_module_version": "1.5.0",
          "state": {
            "_model_module": "@jupyter-widgets/controls",
            "_model_module_version": "1.5.0",
            "_model_name": "ProgressStyleModel",
            "_view_count": null,
            "_view_module": "@jupyter-widgets/base",
            "_view_module_version": "1.2.0",
            "_view_name": "StyleView",
            "bar_color": null,
            "description_width": ""
          }
        },
        "f31abc70d19b4722b9f156b45e784827": {
          "model_module": "@jupyter-widgets/base",
          "model_name": "LayoutModel",
          "model_module_version": "1.2.0",
          "state": {
            "_model_module": "@jupyter-widgets/base",
            "_model_module_version": "1.2.0",
            "_model_name": "LayoutModel",
            "_view_count": null,
            "_view_module": "@jupyter-widgets/base",
            "_view_module_version": "1.2.0",
            "_view_name": "LayoutView",
            "align_content": null,
            "align_items": null,
            "align_self": null,
            "border": null,
            "bottom": null,
            "display": null,
            "flex": null,
            "flex_flow": null,
            "grid_area": null,
            "grid_auto_columns": null,
            "grid_auto_flow": null,
            "grid_auto_rows": null,
            "grid_column": null,
            "grid_gap": null,
            "grid_row": null,
            "grid_template_areas": null,
            "grid_template_columns": null,
            "grid_template_rows": null,
            "height": null,
            "justify_content": null,
            "justify_items": null,
            "left": null,
            "margin": null,
            "max_height": null,
            "max_width": null,
            "min_height": null,
            "min_width": null,
            "object_fit": null,
            "object_position": null,
            "order": null,
            "overflow": null,
            "overflow_x": null,
            "overflow_y": null,
            "padding": null,
            "right": null,
            "top": null,
            "visibility": null,
            "width": null
          }
        },
        "7ec29ffc1c0249ff87a948b03b3277a6": {
          "model_module": "@jupyter-widgets/controls",
          "model_name": "DescriptionStyleModel",
          "model_module_version": "1.5.0",
          "state": {
            "_model_module": "@jupyter-widgets/controls",
            "_model_module_version": "1.5.0",
            "_model_name": "DescriptionStyleModel",
            "_view_count": null,
            "_view_module": "@jupyter-widgets/base",
            "_view_module_version": "1.2.0",
            "_view_name": "StyleView",
            "description_width": ""
          }
        },
        "fb2e47b418334b6d87d6790f5a9b0c69": {
          "model_module": "@jupyter-widgets/controls",
          "model_name": "HBoxModel",
          "model_module_version": "1.5.0",
          "state": {
            "_dom_classes": [],
            "_model_module": "@jupyter-widgets/controls",
            "_model_module_version": "1.5.0",
            "_model_name": "HBoxModel",
            "_view_count": null,
            "_view_module": "@jupyter-widgets/controls",
            "_view_module_version": "1.5.0",
            "_view_name": "HBoxView",
            "box_style": "",
            "children": [
              "IPY_MODEL_35a7154a6c9f4c25a586170b4cad5e03",
              "IPY_MODEL_6547d26442dc445ea7d0f3973d18953a",
              "IPY_MODEL_cc13a574c1d44f888ca7296d35c5eeb5"
            ],
            "layout": "IPY_MODEL_7597be04b8384ae5bbc87fa324f81ee2"
          }
        },
        "35a7154a6c9f4c25a586170b4cad5e03": {
          "model_module": "@jupyter-widgets/controls",
          "model_name": "HTMLModel",
          "model_module_version": "1.5.0",
          "state": {
            "_dom_classes": [],
            "_model_module": "@jupyter-widgets/controls",
            "_model_module_version": "1.5.0",
            "_model_name": "HTMLModel",
            "_view_count": null,
            "_view_module": "@jupyter-widgets/controls",
            "_view_module_version": "1.5.0",
            "_view_name": "HTMLView",
            "description": "",
            "description_tooltip": null,
            "layout": "IPY_MODEL_10101943b2dc43039e3419d974f3bf20",
            "placeholder": "​",
            "style": "IPY_MODEL_6dc15e0c746b44b1a8da1da7fe4b53ee",
            "value": "Downloading (…)lve/main/config.json: 100%"
          }
        },
        "6547d26442dc445ea7d0f3973d18953a": {
          "model_module": "@jupyter-widgets/controls",
          "model_name": "FloatProgressModel",
          "model_module_version": "1.5.0",
          "state": {
            "_dom_classes": [],
            "_model_module": "@jupyter-widgets/controls",
            "_model_module_version": "1.5.0",
            "_model_name": "FloatProgressModel",
            "_view_count": null,
            "_view_module": "@jupyter-widgets/controls",
            "_view_module_version": "1.5.0",
            "_view_name": "ProgressView",
            "bar_style": "success",
            "description": "",
            "description_tooltip": null,
            "layout": "IPY_MODEL_0a6ed3eea37745879534dc7a54a84d8e",
            "max": 570,
            "min": 0,
            "orientation": "horizontal",
            "style": "IPY_MODEL_bef956819c03478ab17537645a360ae3",
            "value": 570
          }
        },
        "cc13a574c1d44f888ca7296d35c5eeb5": {
          "model_module": "@jupyter-widgets/controls",
          "model_name": "HTMLModel",
          "model_module_version": "1.5.0",
          "state": {
            "_dom_classes": [],
            "_model_module": "@jupyter-widgets/controls",
            "_model_module_version": "1.5.0",
            "_model_name": "HTMLModel",
            "_view_count": null,
            "_view_module": "@jupyter-widgets/controls",
            "_view_module_version": "1.5.0",
            "_view_name": "HTMLView",
            "description": "",
            "description_tooltip": null,
            "layout": "IPY_MODEL_5318844f60d149e487a17dc3654458ac",
            "placeholder": "​",
            "style": "IPY_MODEL_ab17427de59943958a9128804cee03b3",
            "value": " 570/570 [00:00&lt;00:00, 40.5kB/s]"
          }
        },
        "7597be04b8384ae5bbc87fa324f81ee2": {
          "model_module": "@jupyter-widgets/base",
          "model_name": "LayoutModel",
          "model_module_version": "1.2.0",
          "state": {
            "_model_module": "@jupyter-widgets/base",
            "_model_module_version": "1.2.0",
            "_model_name": "LayoutModel",
            "_view_count": null,
            "_view_module": "@jupyter-widgets/base",
            "_view_module_version": "1.2.0",
            "_view_name": "LayoutView",
            "align_content": null,
            "align_items": null,
            "align_self": null,
            "border": null,
            "bottom": null,
            "display": null,
            "flex": null,
            "flex_flow": null,
            "grid_area": null,
            "grid_auto_columns": null,
            "grid_auto_flow": null,
            "grid_auto_rows": null,
            "grid_column": null,
            "grid_gap": null,
            "grid_row": null,
            "grid_template_areas": null,
            "grid_template_columns": null,
            "grid_template_rows": null,
            "height": null,
            "justify_content": null,
            "justify_items": null,
            "left": null,
            "margin": null,
            "max_height": null,
            "max_width": null,
            "min_height": null,
            "min_width": null,
            "object_fit": null,
            "object_position": null,
            "order": null,
            "overflow": null,
            "overflow_x": null,
            "overflow_y": null,
            "padding": null,
            "right": null,
            "top": null,
            "visibility": null,
            "width": null
          }
        },
        "10101943b2dc43039e3419d974f3bf20": {
          "model_module": "@jupyter-widgets/base",
          "model_name": "LayoutModel",
          "model_module_version": "1.2.0",
          "state": {
            "_model_module": "@jupyter-widgets/base",
            "_model_module_version": "1.2.0",
            "_model_name": "LayoutModel",
            "_view_count": null,
            "_view_module": "@jupyter-widgets/base",
            "_view_module_version": "1.2.0",
            "_view_name": "LayoutView",
            "align_content": null,
            "align_items": null,
            "align_self": null,
            "border": null,
            "bottom": null,
            "display": null,
            "flex": null,
            "flex_flow": null,
            "grid_area": null,
            "grid_auto_columns": null,
            "grid_auto_flow": null,
            "grid_auto_rows": null,
            "grid_column": null,
            "grid_gap": null,
            "grid_row": null,
            "grid_template_areas": null,
            "grid_template_columns": null,
            "grid_template_rows": null,
            "height": null,
            "justify_content": null,
            "justify_items": null,
            "left": null,
            "margin": null,
            "max_height": null,
            "max_width": null,
            "min_height": null,
            "min_width": null,
            "object_fit": null,
            "object_position": null,
            "order": null,
            "overflow": null,
            "overflow_x": null,
            "overflow_y": null,
            "padding": null,
            "right": null,
            "top": null,
            "visibility": null,
            "width": null
          }
        },
        "6dc15e0c746b44b1a8da1da7fe4b53ee": {
          "model_module": "@jupyter-widgets/controls",
          "model_name": "DescriptionStyleModel",
          "model_module_version": "1.5.0",
          "state": {
            "_model_module": "@jupyter-widgets/controls",
            "_model_module_version": "1.5.0",
            "_model_name": "DescriptionStyleModel",
            "_view_count": null,
            "_view_module": "@jupyter-widgets/base",
            "_view_module_version": "1.2.0",
            "_view_name": "StyleView",
            "description_width": ""
          }
        },
        "0a6ed3eea37745879534dc7a54a84d8e": {
          "model_module": "@jupyter-widgets/base",
          "model_name": "LayoutModel",
          "model_module_version": "1.2.0",
          "state": {
            "_model_module": "@jupyter-widgets/base",
            "_model_module_version": "1.2.0",
            "_model_name": "LayoutModel",
            "_view_count": null,
            "_view_module": "@jupyter-widgets/base",
            "_view_module_version": "1.2.0",
            "_view_name": "LayoutView",
            "align_content": null,
            "align_items": null,
            "align_self": null,
            "border": null,
            "bottom": null,
            "display": null,
            "flex": null,
            "flex_flow": null,
            "grid_area": null,
            "grid_auto_columns": null,
            "grid_auto_flow": null,
            "grid_auto_rows": null,
            "grid_column": null,
            "grid_gap": null,
            "grid_row": null,
            "grid_template_areas": null,
            "grid_template_columns": null,
            "grid_template_rows": null,
            "height": null,
            "justify_content": null,
            "justify_items": null,
            "left": null,
            "margin": null,
            "max_height": null,
            "max_width": null,
            "min_height": null,
            "min_width": null,
            "object_fit": null,
            "object_position": null,
            "order": null,
            "overflow": null,
            "overflow_x": null,
            "overflow_y": null,
            "padding": null,
            "right": null,
            "top": null,
            "visibility": null,
            "width": null
          }
        },
        "bef956819c03478ab17537645a360ae3": {
          "model_module": "@jupyter-widgets/controls",
          "model_name": "ProgressStyleModel",
          "model_module_version": "1.5.0",
          "state": {
            "_model_module": "@jupyter-widgets/controls",
            "_model_module_version": "1.5.0",
            "_model_name": "ProgressStyleModel",
            "_view_count": null,
            "_view_module": "@jupyter-widgets/base",
            "_view_module_version": "1.2.0",
            "_view_name": "StyleView",
            "bar_color": null,
            "description_width": ""
          }
        },
        "5318844f60d149e487a17dc3654458ac": {
          "model_module": "@jupyter-widgets/base",
          "model_name": "LayoutModel",
          "model_module_version": "1.2.0",
          "state": {
            "_model_module": "@jupyter-widgets/base",
            "_model_module_version": "1.2.0",
            "_model_name": "LayoutModel",
            "_view_count": null,
            "_view_module": "@jupyter-widgets/base",
            "_view_module_version": "1.2.0",
            "_view_name": "LayoutView",
            "align_content": null,
            "align_items": null,
            "align_self": null,
            "border": null,
            "bottom": null,
            "display": null,
            "flex": null,
            "flex_flow": null,
            "grid_area": null,
            "grid_auto_columns": null,
            "grid_auto_flow": null,
            "grid_auto_rows": null,
            "grid_column": null,
            "grid_gap": null,
            "grid_row": null,
            "grid_template_areas": null,
            "grid_template_columns": null,
            "grid_template_rows": null,
            "height": null,
            "justify_content": null,
            "justify_items": null,
            "left": null,
            "margin": null,
            "max_height": null,
            "max_width": null,
            "min_height": null,
            "min_width": null,
            "object_fit": null,
            "object_position": null,
            "order": null,
            "overflow": null,
            "overflow_x": null,
            "overflow_y": null,
            "padding": null,
            "right": null,
            "top": null,
            "visibility": null,
            "width": null
          }
        },
        "ab17427de59943958a9128804cee03b3": {
          "model_module": "@jupyter-widgets/controls",
          "model_name": "DescriptionStyleModel",
          "model_module_version": "1.5.0",
          "state": {
            "_model_module": "@jupyter-widgets/controls",
            "_model_module_version": "1.5.0",
            "_model_name": "DescriptionStyleModel",
            "_view_count": null,
            "_view_module": "@jupyter-widgets/base",
            "_view_module_version": "1.2.0",
            "_view_name": "StyleView",
            "description_width": ""
          }
        },
        "d2fcc44f9568488a9ad9ae3f4211ca64": {
          "model_module": "@jupyter-widgets/controls",
          "model_name": "HBoxModel",
          "model_module_version": "1.5.0",
          "state": {
            "_dom_classes": [],
            "_model_module": "@jupyter-widgets/controls",
            "_model_module_version": "1.5.0",
            "_model_name": "HBoxModel",
            "_view_count": null,
            "_view_module": "@jupyter-widgets/controls",
            "_view_module_version": "1.5.0",
            "_view_name": "HBoxView",
            "box_style": "",
            "children": [
              "IPY_MODEL_57a29d0f0c3f4911ad5b259416ee397b",
              "IPY_MODEL_69cf738c9f4f459cb8abe03596576100",
              "IPY_MODEL_c1797e1632c14329a053997b7a8cad36"
            ],
            "layout": "IPY_MODEL_ef7a9ba24e734362b2d2a787d0f7a569"
          }
        },
        "57a29d0f0c3f4911ad5b259416ee397b": {
          "model_module": "@jupyter-widgets/controls",
          "model_name": "HTMLModel",
          "model_module_version": "1.5.0",
          "state": {
            "_dom_classes": [],
            "_model_module": "@jupyter-widgets/controls",
            "_model_module_version": "1.5.0",
            "_model_name": "HTMLModel",
            "_view_count": null,
            "_view_module": "@jupyter-widgets/controls",
            "_view_module_version": "1.5.0",
            "_view_name": "HTMLView",
            "description": "",
            "description_tooltip": null,
            "layout": "IPY_MODEL_4993680623274b5884b45b1a04e7f073",
            "placeholder": "​",
            "style": "IPY_MODEL_78398a10685a4f7abd640ce3f20a50b4",
            "value": "Downloading (…)&quot;tf_model.h5&quot;;: 100%"
          }
        },
        "69cf738c9f4f459cb8abe03596576100": {
          "model_module": "@jupyter-widgets/controls",
          "model_name": "FloatProgressModel",
          "model_module_version": "1.5.0",
          "state": {
            "_dom_classes": [],
            "_model_module": "@jupyter-widgets/controls",
            "_model_module_version": "1.5.0",
            "_model_name": "FloatProgressModel",
            "_view_count": null,
            "_view_module": "@jupyter-widgets/controls",
            "_view_module_version": "1.5.0",
            "_view_name": "ProgressView",
            "bar_style": "success",
            "description": "",
            "description_tooltip": null,
            "layout": "IPY_MODEL_36628b1f82a84ebda9fc81b1924c33b0",
            "max": 536063208,
            "min": 0,
            "orientation": "horizontal",
            "style": "IPY_MODEL_a14137cf54c740719b3c79a341cbd822",
            "value": 536063208
          }
        },
        "c1797e1632c14329a053997b7a8cad36": {
          "model_module": "@jupyter-widgets/controls",
          "model_name": "HTMLModel",
          "model_module_version": "1.5.0",
          "state": {
            "_dom_classes": [],
            "_model_module": "@jupyter-widgets/controls",
            "_model_module_version": "1.5.0",
            "_model_name": "HTMLModel",
            "_view_count": null,
            "_view_module": "@jupyter-widgets/controls",
            "_view_module_version": "1.5.0",
            "_view_name": "HTMLView",
            "description": "",
            "description_tooltip": null,
            "layout": "IPY_MODEL_25a2e8de57684226a52c0b6d8093df71",
            "placeholder": "​",
            "style": "IPY_MODEL_d4a60580cf134a86aaf9a2fd4c83e1f3",
            "value": " 536M/536M [00:01&lt;00:00, 466MB/s]"
          }
        },
        "ef7a9ba24e734362b2d2a787d0f7a569": {
          "model_module": "@jupyter-widgets/base",
          "model_name": "LayoutModel",
          "model_module_version": "1.2.0",
          "state": {
            "_model_module": "@jupyter-widgets/base",
            "_model_module_version": "1.2.0",
            "_model_name": "LayoutModel",
            "_view_count": null,
            "_view_module": "@jupyter-widgets/base",
            "_view_module_version": "1.2.0",
            "_view_name": "LayoutView",
            "align_content": null,
            "align_items": null,
            "align_self": null,
            "border": null,
            "bottom": null,
            "display": null,
            "flex": null,
            "flex_flow": null,
            "grid_area": null,
            "grid_auto_columns": null,
            "grid_auto_flow": null,
            "grid_auto_rows": null,
            "grid_column": null,
            "grid_gap": null,
            "grid_row": null,
            "grid_template_areas": null,
            "grid_template_columns": null,
            "grid_template_rows": null,
            "height": null,
            "justify_content": null,
            "justify_items": null,
            "left": null,
            "margin": null,
            "max_height": null,
            "max_width": null,
            "min_height": null,
            "min_width": null,
            "object_fit": null,
            "object_position": null,
            "order": null,
            "overflow": null,
            "overflow_x": null,
            "overflow_y": null,
            "padding": null,
            "right": null,
            "top": null,
            "visibility": null,
            "width": null
          }
        },
        "4993680623274b5884b45b1a04e7f073": {
          "model_module": "@jupyter-widgets/base",
          "model_name": "LayoutModel",
          "model_module_version": "1.2.0",
          "state": {
            "_model_module": "@jupyter-widgets/base",
            "_model_module_version": "1.2.0",
            "_model_name": "LayoutModel",
            "_view_count": null,
            "_view_module": "@jupyter-widgets/base",
            "_view_module_version": "1.2.0",
            "_view_name": "LayoutView",
            "align_content": null,
            "align_items": null,
            "align_self": null,
            "border": null,
            "bottom": null,
            "display": null,
            "flex": null,
            "flex_flow": null,
            "grid_area": null,
            "grid_auto_columns": null,
            "grid_auto_flow": null,
            "grid_auto_rows": null,
            "grid_column": null,
            "grid_gap": null,
            "grid_row": null,
            "grid_template_areas": null,
            "grid_template_columns": null,
            "grid_template_rows": null,
            "height": null,
            "justify_content": null,
            "justify_items": null,
            "left": null,
            "margin": null,
            "max_height": null,
            "max_width": null,
            "min_height": null,
            "min_width": null,
            "object_fit": null,
            "object_position": null,
            "order": null,
            "overflow": null,
            "overflow_x": null,
            "overflow_y": null,
            "padding": null,
            "right": null,
            "top": null,
            "visibility": null,
            "width": null
          }
        },
        "78398a10685a4f7abd640ce3f20a50b4": {
          "model_module": "@jupyter-widgets/controls",
          "model_name": "DescriptionStyleModel",
          "model_module_version": "1.5.0",
          "state": {
            "_model_module": "@jupyter-widgets/controls",
            "_model_module_version": "1.5.0",
            "_model_name": "DescriptionStyleModel",
            "_view_count": null,
            "_view_module": "@jupyter-widgets/base",
            "_view_module_version": "1.2.0",
            "_view_name": "StyleView",
            "description_width": ""
          }
        },
        "36628b1f82a84ebda9fc81b1924c33b0": {
          "model_module": "@jupyter-widgets/base",
          "model_name": "LayoutModel",
          "model_module_version": "1.2.0",
          "state": {
            "_model_module": "@jupyter-widgets/base",
            "_model_module_version": "1.2.0",
            "_model_name": "LayoutModel",
            "_view_count": null,
            "_view_module": "@jupyter-widgets/base",
            "_view_module_version": "1.2.0",
            "_view_name": "LayoutView",
            "align_content": null,
            "align_items": null,
            "align_self": null,
            "border": null,
            "bottom": null,
            "display": null,
            "flex": null,
            "flex_flow": null,
            "grid_area": null,
            "grid_auto_columns": null,
            "grid_auto_flow": null,
            "grid_auto_rows": null,
            "grid_column": null,
            "grid_gap": null,
            "grid_row": null,
            "grid_template_areas": null,
            "grid_template_columns": null,
            "grid_template_rows": null,
            "height": null,
            "justify_content": null,
            "justify_items": null,
            "left": null,
            "margin": null,
            "max_height": null,
            "max_width": null,
            "min_height": null,
            "min_width": null,
            "object_fit": null,
            "object_position": null,
            "order": null,
            "overflow": null,
            "overflow_x": null,
            "overflow_y": null,
            "padding": null,
            "right": null,
            "top": null,
            "visibility": null,
            "width": null
          }
        },
        "a14137cf54c740719b3c79a341cbd822": {
          "model_module": "@jupyter-widgets/controls",
          "model_name": "ProgressStyleModel",
          "model_module_version": "1.5.0",
          "state": {
            "_model_module": "@jupyter-widgets/controls",
            "_model_module_version": "1.5.0",
            "_model_name": "ProgressStyleModel",
            "_view_count": null,
            "_view_module": "@jupyter-widgets/base",
            "_view_module_version": "1.2.0",
            "_view_name": "StyleView",
            "bar_color": null,
            "description_width": ""
          }
        },
        "25a2e8de57684226a52c0b6d8093df71": {
          "model_module": "@jupyter-widgets/base",
          "model_name": "LayoutModel",
          "model_module_version": "1.2.0",
          "state": {
            "_model_module": "@jupyter-widgets/base",
            "_model_module_version": "1.2.0",
            "_model_name": "LayoutModel",
            "_view_count": null,
            "_view_module": "@jupyter-widgets/base",
            "_view_module_version": "1.2.0",
            "_view_name": "LayoutView",
            "align_content": null,
            "align_items": null,
            "align_self": null,
            "border": null,
            "bottom": null,
            "display": null,
            "flex": null,
            "flex_flow": null,
            "grid_area": null,
            "grid_auto_columns": null,
            "grid_auto_flow": null,
            "grid_auto_rows": null,
            "grid_column": null,
            "grid_gap": null,
            "grid_row": null,
            "grid_template_areas": null,
            "grid_template_columns": null,
            "grid_template_rows": null,
            "height": null,
            "justify_content": null,
            "justify_items": null,
            "left": null,
            "margin": null,
            "max_height": null,
            "max_width": null,
            "min_height": null,
            "min_width": null,
            "object_fit": null,
            "object_position": null,
            "order": null,
            "overflow": null,
            "overflow_x": null,
            "overflow_y": null,
            "padding": null,
            "right": null,
            "top": null,
            "visibility": null,
            "width": null
          }
        },
        "d4a60580cf134a86aaf9a2fd4c83e1f3": {
          "model_module": "@jupyter-widgets/controls",
          "model_name": "DescriptionStyleModel",
          "model_module_version": "1.5.0",
          "state": {
            "_model_module": "@jupyter-widgets/controls",
            "_model_module_version": "1.5.0",
            "_model_name": "DescriptionStyleModel",
            "_view_count": null,
            "_view_module": "@jupyter-widgets/base",
            "_view_module_version": "1.2.0",
            "_view_name": "StyleView",
            "description_width": ""
          }
        },
        "04dae77e174d4aefac089f8768464011": {
          "model_module": "@jupyter-widgets/controls",
          "model_name": "HBoxModel",
          "model_module_version": "1.5.0",
          "state": {
            "_dom_classes": [],
            "_model_module": "@jupyter-widgets/controls",
            "_model_module_version": "1.5.0",
            "_model_name": "HBoxModel",
            "_view_count": null,
            "_view_module": "@jupyter-widgets/controls",
            "_view_module_version": "1.5.0",
            "_view_name": "HBoxView",
            "box_style": "",
            "children": [
              "IPY_MODEL_50f3c392bcbf4279adab889501f732a4",
              "IPY_MODEL_915fb505d84c44ab9710ab22f9f3dbbb",
              "IPY_MODEL_e50fcd0306484aad9b1516900b066a3e"
            ],
            "layout": "IPY_MODEL_fe76c58699584910ab784a7d01f7c16a"
          }
        },
        "50f3c392bcbf4279adab889501f732a4": {
          "model_module": "@jupyter-widgets/controls",
          "model_name": "HTMLModel",
          "model_module_version": "1.5.0",
          "state": {
            "_dom_classes": [],
            "_model_module": "@jupyter-widgets/controls",
            "_model_module_version": "1.5.0",
            "_model_name": "HTMLModel",
            "_view_count": null,
            "_view_module": "@jupyter-widgets/controls",
            "_view_module_version": "1.5.0",
            "_view_name": "HTMLView",
            "description": "",
            "description_tooltip": null,
            "layout": "IPY_MODEL_61607fe059bd4d9fa0605033e87d6fbc",
            "placeholder": "​",
            "style": "IPY_MODEL_7f73810b11d6450796ee033e47fb8711",
            "value": "Downloading (…)olve/main/vocab.json: 100%"
          }
        },
        "915fb505d84c44ab9710ab22f9f3dbbb": {
          "model_module": "@jupyter-widgets/controls",
          "model_name": "FloatProgressModel",
          "model_module_version": "1.5.0",
          "state": {
            "_dom_classes": [],
            "_model_module": "@jupyter-widgets/controls",
            "_model_module_version": "1.5.0",
            "_model_name": "FloatProgressModel",
            "_view_count": null,
            "_view_module": "@jupyter-widgets/controls",
            "_view_module_version": "1.5.0",
            "_view_name": "ProgressView",
            "bar_style": "success",
            "description": "",
            "description_tooltip": null,
            "layout": "IPY_MODEL_6e4b4a47b4eb4214842f2fd0c93d2337",
            "max": 898823,
            "min": 0,
            "orientation": "horizontal",
            "style": "IPY_MODEL_d6635d173a484cfc9b51ed3634f73b54",
            "value": 898823
          }
        },
        "e50fcd0306484aad9b1516900b066a3e": {
          "model_module": "@jupyter-widgets/controls",
          "model_name": "HTMLModel",
          "model_module_version": "1.5.0",
          "state": {
            "_dom_classes": [],
            "_model_module": "@jupyter-widgets/controls",
            "_model_module_version": "1.5.0",
            "_model_name": "HTMLModel",
            "_view_count": null,
            "_view_module": "@jupyter-widgets/controls",
            "_view_module_version": "1.5.0",
            "_view_name": "HTMLView",
            "description": "",
            "description_tooltip": null,
            "layout": "IPY_MODEL_13fdfb840ffa443281d12365fb6ce34e",
            "placeholder": "​",
            "style": "IPY_MODEL_53816408cdf64904b91befbe6c5b29f2",
            "value": " 899k/899k [00:01&lt;00:00, 800kB/s]"
          }
        },
        "fe76c58699584910ab784a7d01f7c16a": {
          "model_module": "@jupyter-widgets/base",
          "model_name": "LayoutModel",
          "model_module_version": "1.2.0",
          "state": {
            "_model_module": "@jupyter-widgets/base",
            "_model_module_version": "1.2.0",
            "_model_name": "LayoutModel",
            "_view_count": null,
            "_view_module": "@jupyter-widgets/base",
            "_view_module_version": "1.2.0",
            "_view_name": "LayoutView",
            "align_content": null,
            "align_items": null,
            "align_self": null,
            "border": null,
            "bottom": null,
            "display": null,
            "flex": null,
            "flex_flow": null,
            "grid_area": null,
            "grid_auto_columns": null,
            "grid_auto_flow": null,
            "grid_auto_rows": null,
            "grid_column": null,
            "grid_gap": null,
            "grid_row": null,
            "grid_template_areas": null,
            "grid_template_columns": null,
            "grid_template_rows": null,
            "height": null,
            "justify_content": null,
            "justify_items": null,
            "left": null,
            "margin": null,
            "max_height": null,
            "max_width": null,
            "min_height": null,
            "min_width": null,
            "object_fit": null,
            "object_position": null,
            "order": null,
            "overflow": null,
            "overflow_x": null,
            "overflow_y": null,
            "padding": null,
            "right": null,
            "top": null,
            "visibility": null,
            "width": null
          }
        },
        "61607fe059bd4d9fa0605033e87d6fbc": {
          "model_module": "@jupyter-widgets/base",
          "model_name": "LayoutModel",
          "model_module_version": "1.2.0",
          "state": {
            "_model_module": "@jupyter-widgets/base",
            "_model_module_version": "1.2.0",
            "_model_name": "LayoutModel",
            "_view_count": null,
            "_view_module": "@jupyter-widgets/base",
            "_view_module_version": "1.2.0",
            "_view_name": "LayoutView",
            "align_content": null,
            "align_items": null,
            "align_self": null,
            "border": null,
            "bottom": null,
            "display": null,
            "flex": null,
            "flex_flow": null,
            "grid_area": null,
            "grid_auto_columns": null,
            "grid_auto_flow": null,
            "grid_auto_rows": null,
            "grid_column": null,
            "grid_gap": null,
            "grid_row": null,
            "grid_template_areas": null,
            "grid_template_columns": null,
            "grid_template_rows": null,
            "height": null,
            "justify_content": null,
            "justify_items": null,
            "left": null,
            "margin": null,
            "max_height": null,
            "max_width": null,
            "min_height": null,
            "min_width": null,
            "object_fit": null,
            "object_position": null,
            "order": null,
            "overflow": null,
            "overflow_x": null,
            "overflow_y": null,
            "padding": null,
            "right": null,
            "top": null,
            "visibility": null,
            "width": null
          }
        },
        "7f73810b11d6450796ee033e47fb8711": {
          "model_module": "@jupyter-widgets/controls",
          "model_name": "DescriptionStyleModel",
          "model_module_version": "1.5.0",
          "state": {
            "_model_module": "@jupyter-widgets/controls",
            "_model_module_version": "1.5.0",
            "_model_name": "DescriptionStyleModel",
            "_view_count": null,
            "_view_module": "@jupyter-widgets/base",
            "_view_module_version": "1.2.0",
            "_view_name": "StyleView",
            "description_width": ""
          }
        },
        "6e4b4a47b4eb4214842f2fd0c93d2337": {
          "model_module": "@jupyter-widgets/base",
          "model_name": "LayoutModel",
          "model_module_version": "1.2.0",
          "state": {
            "_model_module": "@jupyter-widgets/base",
            "_model_module_version": "1.2.0",
            "_model_name": "LayoutModel",
            "_view_count": null,
            "_view_module": "@jupyter-widgets/base",
            "_view_module_version": "1.2.0",
            "_view_name": "LayoutView",
            "align_content": null,
            "align_items": null,
            "align_self": null,
            "border": null,
            "bottom": null,
            "display": null,
            "flex": null,
            "flex_flow": null,
            "grid_area": null,
            "grid_auto_columns": null,
            "grid_auto_flow": null,
            "grid_auto_rows": null,
            "grid_column": null,
            "grid_gap": null,
            "grid_row": null,
            "grid_template_areas": null,
            "grid_template_columns": null,
            "grid_template_rows": null,
            "height": null,
            "justify_content": null,
            "justify_items": null,
            "left": null,
            "margin": null,
            "max_height": null,
            "max_width": null,
            "min_height": null,
            "min_width": null,
            "object_fit": null,
            "object_position": null,
            "order": null,
            "overflow": null,
            "overflow_x": null,
            "overflow_y": null,
            "padding": null,
            "right": null,
            "top": null,
            "visibility": null,
            "width": null
          }
        },
        "d6635d173a484cfc9b51ed3634f73b54": {
          "model_module": "@jupyter-widgets/controls",
          "model_name": "ProgressStyleModel",
          "model_module_version": "1.5.0",
          "state": {
            "_model_module": "@jupyter-widgets/controls",
            "_model_module_version": "1.5.0",
            "_model_name": "ProgressStyleModel",
            "_view_count": null,
            "_view_module": "@jupyter-widgets/base",
            "_view_module_version": "1.2.0",
            "_view_name": "StyleView",
            "bar_color": null,
            "description_width": ""
          }
        },
        "13fdfb840ffa443281d12365fb6ce34e": {
          "model_module": "@jupyter-widgets/base",
          "model_name": "LayoutModel",
          "model_module_version": "1.2.0",
          "state": {
            "_model_module": "@jupyter-widgets/base",
            "_model_module_version": "1.2.0",
            "_model_name": "LayoutModel",
            "_view_count": null,
            "_view_module": "@jupyter-widgets/base",
            "_view_module_version": "1.2.0",
            "_view_name": "LayoutView",
            "align_content": null,
            "align_items": null,
            "align_self": null,
            "border": null,
            "bottom": null,
            "display": null,
            "flex": null,
            "flex_flow": null,
            "grid_area": null,
            "grid_auto_columns": null,
            "grid_auto_flow": null,
            "grid_auto_rows": null,
            "grid_column": null,
            "grid_gap": null,
            "grid_row": null,
            "grid_template_areas": null,
            "grid_template_columns": null,
            "grid_template_rows": null,
            "height": null,
            "justify_content": null,
            "justify_items": null,
            "left": null,
            "margin": null,
            "max_height": null,
            "max_width": null,
            "min_height": null,
            "min_width": null,
            "object_fit": null,
            "object_position": null,
            "order": null,
            "overflow": null,
            "overflow_x": null,
            "overflow_y": null,
            "padding": null,
            "right": null,
            "top": null,
            "visibility": null,
            "width": null
          }
        },
        "53816408cdf64904b91befbe6c5b29f2": {
          "model_module": "@jupyter-widgets/controls",
          "model_name": "DescriptionStyleModel",
          "model_module_version": "1.5.0",
          "state": {
            "_model_module": "@jupyter-widgets/controls",
            "_model_module_version": "1.5.0",
            "_model_name": "DescriptionStyleModel",
            "_view_count": null,
            "_view_module": "@jupyter-widgets/base",
            "_view_module_version": "1.2.0",
            "_view_name": "StyleView",
            "description_width": ""
          }
        },
        "14e00eb621354d93acc83d5cd8392f4b": {
          "model_module": "@jupyter-widgets/controls",
          "model_name": "HBoxModel",
          "model_module_version": "1.5.0",
          "state": {
            "_dom_classes": [],
            "_model_module": "@jupyter-widgets/controls",
            "_model_module_version": "1.5.0",
            "_model_name": "HBoxModel",
            "_view_count": null,
            "_view_module": "@jupyter-widgets/controls",
            "_view_module_version": "1.5.0",
            "_view_name": "HBoxView",
            "box_style": "",
            "children": [
              "IPY_MODEL_b46fc6fbd93c4be595e162f008b036ca",
              "IPY_MODEL_c02d9b83e4394622984e11b07e9c448b",
              "IPY_MODEL_0e8edf6a663a4a298028d3e3175a8b3c"
            ],
            "layout": "IPY_MODEL_0f77491a11104d268bb17ecc3e44e021"
          }
        },
        "b46fc6fbd93c4be595e162f008b036ca": {
          "model_module": "@jupyter-widgets/controls",
          "model_name": "HTMLModel",
          "model_module_version": "1.5.0",
          "state": {
            "_dom_classes": [],
            "_model_module": "@jupyter-widgets/controls",
            "_model_module_version": "1.5.0",
            "_model_name": "HTMLModel",
            "_view_count": null,
            "_view_module": "@jupyter-widgets/controls",
            "_view_module_version": "1.5.0",
            "_view_name": "HTMLView",
            "description": "",
            "description_tooltip": null,
            "layout": "IPY_MODEL_acd9337aefff43d2a77a70c675c07c2c",
            "placeholder": "​",
            "style": "IPY_MODEL_3c37f65cbc4340449ac699c127802ad7",
            "value": "Downloading (…)olve/main/merges.txt: 100%"
          }
        },
        "c02d9b83e4394622984e11b07e9c448b": {
          "model_module": "@jupyter-widgets/controls",
          "model_name": "FloatProgressModel",
          "model_module_version": "1.5.0",
          "state": {
            "_dom_classes": [],
            "_model_module": "@jupyter-widgets/controls",
            "_model_module_version": "1.5.0",
            "_model_name": "FloatProgressModel",
            "_view_count": null,
            "_view_module": "@jupyter-widgets/controls",
            "_view_module_version": "1.5.0",
            "_view_name": "ProgressView",
            "bar_style": "success",
            "description": "",
            "description_tooltip": null,
            "layout": "IPY_MODEL_fcdd0d0f4e99419a8f7e5f8169315d74",
            "max": 456318,
            "min": 0,
            "orientation": "horizontal",
            "style": "IPY_MODEL_682928bd941d48ddb94c617d595f0e72",
            "value": 456318
          }
        },
        "0e8edf6a663a4a298028d3e3175a8b3c": {
          "model_module": "@jupyter-widgets/controls",
          "model_name": "HTMLModel",
          "model_module_version": "1.5.0",
          "state": {
            "_dom_classes": [],
            "_model_module": "@jupyter-widgets/controls",
            "_model_module_version": "1.5.0",
            "_model_name": "HTMLModel",
            "_view_count": null,
            "_view_module": "@jupyter-widgets/controls",
            "_view_module_version": "1.5.0",
            "_view_name": "HTMLView",
            "description": "",
            "description_tooltip": null,
            "layout": "IPY_MODEL_ea3622a8f8f245318c3c02dfd4de5b14",
            "placeholder": "​",
            "style": "IPY_MODEL_9d0f1fbb7f5a4ff090419f87fbaeab77",
            "value": " 456k/456k [00:01&lt;00:00, 412kB/s]"
          }
        },
        "0f77491a11104d268bb17ecc3e44e021": {
          "model_module": "@jupyter-widgets/base",
          "model_name": "LayoutModel",
          "model_module_version": "1.2.0",
          "state": {
            "_model_module": "@jupyter-widgets/base",
            "_model_module_version": "1.2.0",
            "_model_name": "LayoutModel",
            "_view_count": null,
            "_view_module": "@jupyter-widgets/base",
            "_view_module_version": "1.2.0",
            "_view_name": "LayoutView",
            "align_content": null,
            "align_items": null,
            "align_self": null,
            "border": null,
            "bottom": null,
            "display": null,
            "flex": null,
            "flex_flow": null,
            "grid_area": null,
            "grid_auto_columns": null,
            "grid_auto_flow": null,
            "grid_auto_rows": null,
            "grid_column": null,
            "grid_gap": null,
            "grid_row": null,
            "grid_template_areas": null,
            "grid_template_columns": null,
            "grid_template_rows": null,
            "height": null,
            "justify_content": null,
            "justify_items": null,
            "left": null,
            "margin": null,
            "max_height": null,
            "max_width": null,
            "min_height": null,
            "min_width": null,
            "object_fit": null,
            "object_position": null,
            "order": null,
            "overflow": null,
            "overflow_x": null,
            "overflow_y": null,
            "padding": null,
            "right": null,
            "top": null,
            "visibility": null,
            "width": null
          }
        },
        "acd9337aefff43d2a77a70c675c07c2c": {
          "model_module": "@jupyter-widgets/base",
          "model_name": "LayoutModel",
          "model_module_version": "1.2.0",
          "state": {
            "_model_module": "@jupyter-widgets/base",
            "_model_module_version": "1.2.0",
            "_model_name": "LayoutModel",
            "_view_count": null,
            "_view_module": "@jupyter-widgets/base",
            "_view_module_version": "1.2.0",
            "_view_name": "LayoutView",
            "align_content": null,
            "align_items": null,
            "align_self": null,
            "border": null,
            "bottom": null,
            "display": null,
            "flex": null,
            "flex_flow": null,
            "grid_area": null,
            "grid_auto_columns": null,
            "grid_auto_flow": null,
            "grid_auto_rows": null,
            "grid_column": null,
            "grid_gap": null,
            "grid_row": null,
            "grid_template_areas": null,
            "grid_template_columns": null,
            "grid_template_rows": null,
            "height": null,
            "justify_content": null,
            "justify_items": null,
            "left": null,
            "margin": null,
            "max_height": null,
            "max_width": null,
            "min_height": null,
            "min_width": null,
            "object_fit": null,
            "object_position": null,
            "order": null,
            "overflow": null,
            "overflow_x": null,
            "overflow_y": null,
            "padding": null,
            "right": null,
            "top": null,
            "visibility": null,
            "width": null
          }
        },
        "3c37f65cbc4340449ac699c127802ad7": {
          "model_module": "@jupyter-widgets/controls",
          "model_name": "DescriptionStyleModel",
          "model_module_version": "1.5.0",
          "state": {
            "_model_module": "@jupyter-widgets/controls",
            "_model_module_version": "1.5.0",
            "_model_name": "DescriptionStyleModel",
            "_view_count": null,
            "_view_module": "@jupyter-widgets/base",
            "_view_module_version": "1.2.0",
            "_view_name": "StyleView",
            "description_width": ""
          }
        },
        "fcdd0d0f4e99419a8f7e5f8169315d74": {
          "model_module": "@jupyter-widgets/base",
          "model_name": "LayoutModel",
          "model_module_version": "1.2.0",
          "state": {
            "_model_module": "@jupyter-widgets/base",
            "_model_module_version": "1.2.0",
            "_model_name": "LayoutModel",
            "_view_count": null,
            "_view_module": "@jupyter-widgets/base",
            "_view_module_version": "1.2.0",
            "_view_name": "LayoutView",
            "align_content": null,
            "align_items": null,
            "align_self": null,
            "border": null,
            "bottom": null,
            "display": null,
            "flex": null,
            "flex_flow": null,
            "grid_area": null,
            "grid_auto_columns": null,
            "grid_auto_flow": null,
            "grid_auto_rows": null,
            "grid_column": null,
            "grid_gap": null,
            "grid_row": null,
            "grid_template_areas": null,
            "grid_template_columns": null,
            "grid_template_rows": null,
            "height": null,
            "justify_content": null,
            "justify_items": null,
            "left": null,
            "margin": null,
            "max_height": null,
            "max_width": null,
            "min_height": null,
            "min_width": null,
            "object_fit": null,
            "object_position": null,
            "order": null,
            "overflow": null,
            "overflow_x": null,
            "overflow_y": null,
            "padding": null,
            "right": null,
            "top": null,
            "visibility": null,
            "width": null
          }
        },
        "682928bd941d48ddb94c617d595f0e72": {
          "model_module": "@jupyter-widgets/controls",
          "model_name": "ProgressStyleModel",
          "model_module_version": "1.5.0",
          "state": {
            "_model_module": "@jupyter-widgets/controls",
            "_model_module_version": "1.5.0",
            "_model_name": "ProgressStyleModel",
            "_view_count": null,
            "_view_module": "@jupyter-widgets/base",
            "_view_module_version": "1.2.0",
            "_view_name": "StyleView",
            "bar_color": null,
            "description_width": ""
          }
        },
        "ea3622a8f8f245318c3c02dfd4de5b14": {
          "model_module": "@jupyter-widgets/base",
          "model_name": "LayoutModel",
          "model_module_version": "1.2.0",
          "state": {
            "_model_module": "@jupyter-widgets/base",
            "_model_module_version": "1.2.0",
            "_model_name": "LayoutModel",
            "_view_count": null,
            "_view_module": "@jupyter-widgets/base",
            "_view_module_version": "1.2.0",
            "_view_name": "LayoutView",
            "align_content": null,
            "align_items": null,
            "align_self": null,
            "border": null,
            "bottom": null,
            "display": null,
            "flex": null,
            "flex_flow": null,
            "grid_area": null,
            "grid_auto_columns": null,
            "grid_auto_flow": null,
            "grid_auto_rows": null,
            "grid_column": null,
            "grid_gap": null,
            "grid_row": null,
            "grid_template_areas": null,
            "grid_template_columns": null,
            "grid_template_rows": null,
            "height": null,
            "justify_content": null,
            "justify_items": null,
            "left": null,
            "margin": null,
            "max_height": null,
            "max_width": null,
            "min_height": null,
            "min_width": null,
            "object_fit": null,
            "object_position": null,
            "order": null,
            "overflow": null,
            "overflow_x": null,
            "overflow_y": null,
            "padding": null,
            "right": null,
            "top": null,
            "visibility": null,
            "width": null
          }
        },
        "9d0f1fbb7f5a4ff090419f87fbaeab77": {
          "model_module": "@jupyter-widgets/controls",
          "model_name": "DescriptionStyleModel",
          "model_module_version": "1.5.0",
          "state": {
            "_model_module": "@jupyter-widgets/controls",
            "_model_module_version": "1.5.0",
            "_model_name": "DescriptionStyleModel",
            "_view_count": null,
            "_view_module": "@jupyter-widgets/base",
            "_view_module_version": "1.2.0",
            "_view_name": "StyleView",
            "description_width": ""
          }
        },
        "70927055ff8741e88f02dd1eb766cc80": {
          "model_module": "@jupyter-widgets/controls",
          "model_name": "HBoxModel",
          "model_module_version": "1.5.0",
          "state": {
            "_dom_classes": [],
            "_model_module": "@jupyter-widgets/controls",
            "_model_module_version": "1.5.0",
            "_model_name": "HBoxModel",
            "_view_count": null,
            "_view_module": "@jupyter-widgets/controls",
            "_view_module_version": "1.5.0",
            "_view_name": "HBoxView",
            "box_style": "",
            "children": [
              "IPY_MODEL_107a7770dfdd48b385b3a4aa0f9035e7",
              "IPY_MODEL_99b2b3b8ee924ac0ac69345ed5e96ca6",
              "IPY_MODEL_a494e60ed6a946b9945547127c35f325"
            ],
            "layout": "IPY_MODEL_65be72a0829a4064a448d702a88a6ce8"
          }
        },
        "107a7770dfdd48b385b3a4aa0f9035e7": {
          "model_module": "@jupyter-widgets/controls",
          "model_name": "HTMLModel",
          "model_module_version": "1.5.0",
          "state": {
            "_dom_classes": [],
            "_model_module": "@jupyter-widgets/controls",
            "_model_module_version": "1.5.0",
            "_model_name": "HTMLModel",
            "_view_count": null,
            "_view_module": "@jupyter-widgets/controls",
            "_view_module_version": "1.5.0",
            "_view_name": "HTMLView",
            "description": "",
            "description_tooltip": null,
            "layout": "IPY_MODEL_0a6d387b7c9a4ebbb1dccd47b739a637",
            "placeholder": "​",
            "style": "IPY_MODEL_d7b52446354c4a97975b47d950578694",
            "value": "Downloading (…)lve/main/config.json: 100%"
          }
        },
        "99b2b3b8ee924ac0ac69345ed5e96ca6": {
          "model_module": "@jupyter-widgets/controls",
          "model_name": "FloatProgressModel",
          "model_module_version": "1.5.0",
          "state": {
            "_dom_classes": [],
            "_model_module": "@jupyter-widgets/controls",
            "_model_module_version": "1.5.0",
            "_model_name": "FloatProgressModel",
            "_view_count": null,
            "_view_module": "@jupyter-widgets/controls",
            "_view_module_version": "1.5.0",
            "_view_name": "ProgressView",
            "bar_style": "success",
            "description": "",
            "description_tooltip": null,
            "layout": "IPY_MODEL_ca5d0679c22a4e7a96930b643d7d695f",
            "max": 481,
            "min": 0,
            "orientation": "horizontal",
            "style": "IPY_MODEL_10f5b827c9de4fafa790e434ab18d39f",
            "value": 481
          }
        },
        "a494e60ed6a946b9945547127c35f325": {
          "model_module": "@jupyter-widgets/controls",
          "model_name": "HTMLModel",
          "model_module_version": "1.5.0",
          "state": {
            "_dom_classes": [],
            "_model_module": "@jupyter-widgets/controls",
            "_model_module_version": "1.5.0",
            "_model_name": "HTMLModel",
            "_view_count": null,
            "_view_module": "@jupyter-widgets/controls",
            "_view_module_version": "1.5.0",
            "_view_name": "HTMLView",
            "description": "",
            "description_tooltip": null,
            "layout": "IPY_MODEL_e61c41aec56148278b3a1e9fec140a1c",
            "placeholder": "​",
            "style": "IPY_MODEL_3b4ce6380b8d47a0bed8937f020a0c43",
            "value": " 481/481 [00:00&lt;00:00, 29.0kB/s]"
          }
        },
        "65be72a0829a4064a448d702a88a6ce8": {
          "model_module": "@jupyter-widgets/base",
          "model_name": "LayoutModel",
          "model_module_version": "1.2.0",
          "state": {
            "_model_module": "@jupyter-widgets/base",
            "_model_module_version": "1.2.0",
            "_model_name": "LayoutModel",
            "_view_count": null,
            "_view_module": "@jupyter-widgets/base",
            "_view_module_version": "1.2.0",
            "_view_name": "LayoutView",
            "align_content": null,
            "align_items": null,
            "align_self": null,
            "border": null,
            "bottom": null,
            "display": null,
            "flex": null,
            "flex_flow": null,
            "grid_area": null,
            "grid_auto_columns": null,
            "grid_auto_flow": null,
            "grid_auto_rows": null,
            "grid_column": null,
            "grid_gap": null,
            "grid_row": null,
            "grid_template_areas": null,
            "grid_template_columns": null,
            "grid_template_rows": null,
            "height": null,
            "justify_content": null,
            "justify_items": null,
            "left": null,
            "margin": null,
            "max_height": null,
            "max_width": null,
            "min_height": null,
            "min_width": null,
            "object_fit": null,
            "object_position": null,
            "order": null,
            "overflow": null,
            "overflow_x": null,
            "overflow_y": null,
            "padding": null,
            "right": null,
            "top": null,
            "visibility": null,
            "width": null
          }
        },
        "0a6d387b7c9a4ebbb1dccd47b739a637": {
          "model_module": "@jupyter-widgets/base",
          "model_name": "LayoutModel",
          "model_module_version": "1.2.0",
          "state": {
            "_model_module": "@jupyter-widgets/base",
            "_model_module_version": "1.2.0",
            "_model_name": "LayoutModel",
            "_view_count": null,
            "_view_module": "@jupyter-widgets/base",
            "_view_module_version": "1.2.0",
            "_view_name": "LayoutView",
            "align_content": null,
            "align_items": null,
            "align_self": null,
            "border": null,
            "bottom": null,
            "display": null,
            "flex": null,
            "flex_flow": null,
            "grid_area": null,
            "grid_auto_columns": null,
            "grid_auto_flow": null,
            "grid_auto_rows": null,
            "grid_column": null,
            "grid_gap": null,
            "grid_row": null,
            "grid_template_areas": null,
            "grid_template_columns": null,
            "grid_template_rows": null,
            "height": null,
            "justify_content": null,
            "justify_items": null,
            "left": null,
            "margin": null,
            "max_height": null,
            "max_width": null,
            "min_height": null,
            "min_width": null,
            "object_fit": null,
            "object_position": null,
            "order": null,
            "overflow": null,
            "overflow_x": null,
            "overflow_y": null,
            "padding": null,
            "right": null,
            "top": null,
            "visibility": null,
            "width": null
          }
        },
        "d7b52446354c4a97975b47d950578694": {
          "model_module": "@jupyter-widgets/controls",
          "model_name": "DescriptionStyleModel",
          "model_module_version": "1.5.0",
          "state": {
            "_model_module": "@jupyter-widgets/controls",
            "_model_module_version": "1.5.0",
            "_model_name": "DescriptionStyleModel",
            "_view_count": null,
            "_view_module": "@jupyter-widgets/base",
            "_view_module_version": "1.2.0",
            "_view_name": "StyleView",
            "description_width": ""
          }
        },
        "ca5d0679c22a4e7a96930b643d7d695f": {
          "model_module": "@jupyter-widgets/base",
          "model_name": "LayoutModel",
          "model_module_version": "1.2.0",
          "state": {
            "_model_module": "@jupyter-widgets/base",
            "_model_module_version": "1.2.0",
            "_model_name": "LayoutModel",
            "_view_count": null,
            "_view_module": "@jupyter-widgets/base",
            "_view_module_version": "1.2.0",
            "_view_name": "LayoutView",
            "align_content": null,
            "align_items": null,
            "align_self": null,
            "border": null,
            "bottom": null,
            "display": null,
            "flex": null,
            "flex_flow": null,
            "grid_area": null,
            "grid_auto_columns": null,
            "grid_auto_flow": null,
            "grid_auto_rows": null,
            "grid_column": null,
            "grid_gap": null,
            "grid_row": null,
            "grid_template_areas": null,
            "grid_template_columns": null,
            "grid_template_rows": null,
            "height": null,
            "justify_content": null,
            "justify_items": null,
            "left": null,
            "margin": null,
            "max_height": null,
            "max_width": null,
            "min_height": null,
            "min_width": null,
            "object_fit": null,
            "object_position": null,
            "order": null,
            "overflow": null,
            "overflow_x": null,
            "overflow_y": null,
            "padding": null,
            "right": null,
            "top": null,
            "visibility": null,
            "width": null
          }
        },
        "10f5b827c9de4fafa790e434ab18d39f": {
          "model_module": "@jupyter-widgets/controls",
          "model_name": "ProgressStyleModel",
          "model_module_version": "1.5.0",
          "state": {
            "_model_module": "@jupyter-widgets/controls",
            "_model_module_version": "1.5.0",
            "_model_name": "ProgressStyleModel",
            "_view_count": null,
            "_view_module": "@jupyter-widgets/base",
            "_view_module_version": "1.2.0",
            "_view_name": "StyleView",
            "bar_color": null,
            "description_width": ""
          }
        },
        "e61c41aec56148278b3a1e9fec140a1c": {
          "model_module": "@jupyter-widgets/base",
          "model_name": "LayoutModel",
          "model_module_version": "1.2.0",
          "state": {
            "_model_module": "@jupyter-widgets/base",
            "_model_module_version": "1.2.0",
            "_model_name": "LayoutModel",
            "_view_count": null,
            "_view_module": "@jupyter-widgets/base",
            "_view_module_version": "1.2.0",
            "_view_name": "LayoutView",
            "align_content": null,
            "align_items": null,
            "align_self": null,
            "border": null,
            "bottom": null,
            "display": null,
            "flex": null,
            "flex_flow": null,
            "grid_area": null,
            "grid_auto_columns": null,
            "grid_auto_flow": null,
            "grid_auto_rows": null,
            "grid_column": null,
            "grid_gap": null,
            "grid_row": null,
            "grid_template_areas": null,
            "grid_template_columns": null,
            "grid_template_rows": null,
            "height": null,
            "justify_content": null,
            "justify_items": null,
            "left": null,
            "margin": null,
            "max_height": null,
            "max_width": null,
            "min_height": null,
            "min_width": null,
            "object_fit": null,
            "object_position": null,
            "order": null,
            "overflow": null,
            "overflow_x": null,
            "overflow_y": null,
            "padding": null,
            "right": null,
            "top": null,
            "visibility": null,
            "width": null
          }
        },
        "3b4ce6380b8d47a0bed8937f020a0c43": {
          "model_module": "@jupyter-widgets/controls",
          "model_name": "DescriptionStyleModel",
          "model_module_version": "1.5.0",
          "state": {
            "_model_module": "@jupyter-widgets/controls",
            "_model_module_version": "1.5.0",
            "_model_name": "DescriptionStyleModel",
            "_view_count": null,
            "_view_module": "@jupyter-widgets/base",
            "_view_module_version": "1.2.0",
            "_view_name": "StyleView",
            "description_width": ""
          }
        }
      }
    }
  },
  "nbformat": 4,
  "nbformat_minor": 0
}