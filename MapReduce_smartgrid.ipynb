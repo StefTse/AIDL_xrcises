{
  "nbformat": 4,
  "nbformat_minor": 0,
  "metadata": {
    "colab": {
      "provenance": [],
      "authorship_tag": "ABX9TyMoR8vzSdp9Xmwl3vxt6Mfr",
      "include_colab_link": true
    },
    "kernelspec": {
      "name": "python3",
      "display_name": "Python 3"
    },
    "language_info": {
      "name": "python"
    }
  },
  "cells": [
    {
      "cell_type": "markdown",
      "metadata": {
        "id": "view-in-github",
        "colab_type": "text"
      },
      "source": [
        "<a href=\"https://colab.research.google.com/github/StefTse/AIDL_xrcises/blob/main/MapReduce_smartgrid.ipynb\" target=\"_parent\"><img src=\"https://colab.research.google.com/assets/colab-badge.svg\" alt=\"Open In Colab\"/></a>"
      ]
    },
    {
      "cell_type": "markdown",
      "source": [
        "We create a pseudo-input from 20 smart meters that record energy consumption per hour for 24 hours. The input is then passed to a MapReduce algorithm for calculating daily consumption."
      ],
      "metadata": {
        "id": "v7H58vfjp17m"
      }
    },
    {
      "cell_type": "code",
      "execution_count": 29,
      "metadata": {
        "id": "L31EKpD3ozsb"
      },
      "outputs": [],
      "source": [
        "import csv\n",
        "import random\n",
        "\n",
        "# Define the number of rows and columns\n",
        "num_rows = 24  #timestamp\n",
        "num_cols = 21 #the first column is the timestamp and the rest represent the number of smartmeters \n",
        "\n",
        "# Generate the data and store it in a list\n",
        "input_data = []\n",
        "for i in range(num_rows):\n",
        "    row = [i+1]  \n",
        "    for j in range(num_cols-1):\n",
        "        row.append(random.randint(1, 100)) # we assume that consumption per hour ranges from 5-500Watt\n",
        "    input_data.append(row)\n",
        "\n",
        "\n"
      ]
    },
    {
      "cell_type": "code",
      "source": [
        "#input_data"
      ],
      "metadata": {
        "id": "xrkgMNdvo_Vq"
      },
      "execution_count": 30,
      "outputs": []
    },
    {
      "cell_type": "code",
      "source": [
        "# Define the mapper function\n",
        "def mapper(row):\n",
        "    hour = row[0]\n",
        "    for i in range(1, len(row)):\n",
        "        yield (hour, row[i])"
      ],
      "metadata": {
        "id": "Gz94euMdo2Ta"
      },
      "execution_count": 31,
      "outputs": []
    },
    {
      "cell_type": "code",
      "source": [
        "# Apply the mapper function to each row in the input data\n",
        "result = []\n",
        "for row in input_data:\n",
        "    for key_value_pair in mapper(row):\n",
        "        result.append(key_value_pair)\n",
        "        \n",
        "print(result)\n"
      ],
      "metadata": {
        "colab": {
          "base_uri": "https://localhost:8080/"
        },
        "id": "oBVYkIkno4Po",
        "outputId": "fbd0f9c3-fe99-4f9c-a55b-614682d3c976"
      },
      "execution_count": 32,
      "outputs": [
        {
          "output_type": "stream",
          "name": "stdout",
          "text": [
            "[(1, 23), (1, 14), (1, 92), (1, 100), (1, 66), (1, 52), (1, 52), (1, 79), (1, 23), (1, 86), (1, 18), (1, 60), (1, 85), (1, 97), (1, 20), (1, 35), (1, 9), (1, 38), (1, 99), (1, 8), (2, 48), (2, 35), (2, 10), (2, 42), (2, 85), (2, 31), (2, 23), (2, 40), (2, 74), (2, 25), (2, 89), (2, 70), (2, 87), (2, 63), (2, 15), (2, 72), (2, 72), (2, 24), (2, 23), (2, 74), (3, 4), (3, 99), (3, 33), (3, 45), (3, 92), (3, 41), (3, 1), (3, 74), (3, 43), (3, 88), (3, 44), (3, 50), (3, 93), (3, 19), (3, 43), (3, 25), (3, 27), (3, 43), (3, 96), (3, 18), (4, 34), (4, 20), (4, 17), (4, 17), (4, 28), (4, 65), (4, 85), (4, 46), (4, 64), (4, 70), (4, 31), (4, 98), (4, 18), (4, 51), (4, 46), (4, 21), (4, 50), (4, 66), (4, 21), (4, 30), (5, 70), (5, 91), (5, 93), (5, 48), (5, 37), (5, 32), (5, 41), (5, 27), (5, 84), (5, 79), (5, 18), (5, 64), (5, 12), (5, 58), (5, 89), (5, 87), (5, 72), (5, 65), (5, 70), (5, 21), (6, 16), (6, 42), (6, 11), (6, 3), (6, 32), (6, 38), (6, 17), (6, 13), (6, 16), (6, 62), (6, 48), (6, 21), (6, 72), (6, 9), (6, 21), (6, 75), (6, 61), (6, 76), (6, 98), (6, 19), (7, 42), (7, 29), (7, 48), (7, 56), (7, 57), (7, 37), (7, 31), (7, 56), (7, 87), (7, 87), (7, 84), (7, 99), (7, 11), (7, 77), (7, 34), (7, 12), (7, 89), (7, 3), (7, 36), (7, 86), (8, 19), (8, 37), (8, 18), (8, 29), (8, 64), (8, 42), (8, 20), (8, 83), (8, 25), (8, 16), (8, 30), (8, 47), (8, 91), (8, 17), (8, 74), (8, 12), (8, 93), (8, 85), (8, 76), (8, 28), (9, 56), (9, 49), (9, 52), (9, 28), (9, 61), (9, 68), (9, 78), (9, 84), (9, 92), (9, 8), (9, 29), (9, 14), (9, 99), (9, 36), (9, 44), (9, 24), (9, 13), (9, 68), (9, 67), (9, 77), (10, 22), (10, 48), (10, 35), (10, 72), (10, 40), (10, 51), (10, 4), (10, 74), (10, 73), (10, 13), (10, 48), (10, 54), (10, 86), (10, 66), (10, 13), (10, 47), (10, 86), (10, 72), (10, 57), (10, 63), (11, 78), (11, 6), (11, 19), (11, 100), (11, 33), (11, 66), (11, 51), (11, 65), (11, 28), (11, 74), (11, 11), (11, 51), (11, 39), (11, 15), (11, 70), (11, 53), (11, 3), (11, 65), (11, 60), (11, 92), (12, 61), (12, 96), (12, 66), (12, 71), (12, 84), (12, 76), (12, 30), (12, 88), (12, 70), (12, 40), (12, 36), (12, 56), (12, 24), (12, 15), (12, 98), (12, 90), (12, 38), (12, 67), (12, 19), (12, 62), (13, 16), (13, 94), (13, 92), (13, 97), (13, 38), (13, 12), (13, 88), (13, 44), (13, 88), (13, 37), (13, 61), (13, 54), (13, 10), (13, 23), (13, 73), (13, 33), (13, 44), (13, 70), (13, 94), (13, 66), (14, 18), (14, 38), (14, 71), (14, 19), (14, 20), (14, 54), (14, 18), (14, 6), (14, 61), (14, 99), (14, 70), (14, 19), (14, 28), (14, 50), (14, 90), (14, 47), (14, 45), (14, 38), (14, 10), (14, 67), (15, 75), (15, 56), (15, 35), (15, 21), (15, 77), (15, 40), (15, 53), (15, 48), (15, 36), (15, 45), (15, 85), (15, 58), (15, 16), (15, 63), (15, 70), (15, 30), (15, 9), (15, 71), (15, 85), (15, 87), (16, 80), (16, 14), (16, 44), (16, 82), (16, 66), (16, 82), (16, 23), (16, 32), (16, 57), (16, 33), (16, 34), (16, 68), (16, 39), (16, 4), (16, 12), (16, 62), (16, 15), (16, 67), (16, 53), (16, 15), (17, 16), (17, 71), (17, 72), (17, 19), (17, 48), (17, 6), (17, 97), (17, 70), (17, 17), (17, 28), (17, 24), (17, 30), (17, 64), (17, 77), (17, 29), (17, 42), (17, 43), (17, 75), (17, 65), (17, 92), (18, 82), (18, 61), (18, 71), (18, 25), (18, 86), (18, 24), (18, 53), (18, 13), (18, 5), (18, 63), (18, 85), (18, 55), (18, 29), (18, 22), (18, 65), (18, 14), (18, 39), (18, 22), (18, 6), (18, 92), (19, 94), (19, 44), (19, 99), (19, 22), (19, 96), (19, 7), (19, 29), (19, 79), (19, 8), (19, 44), (19, 9), (19, 85), (19, 17), (19, 8), (19, 1), (19, 73), (19, 46), (19, 81), (19, 4), (19, 99), (20, 46), (20, 13), (20, 46), (20, 38), (20, 27), (20, 10), (20, 79), (20, 82), (20, 5), (20, 12), (20, 63), (20, 67), (20, 22), (20, 24), (20, 24), (20, 30), (20, 6), (20, 87), (20, 73), (20, 66), (21, 46), (21, 88), (21, 49), (21, 100), (21, 95), (21, 8), (21, 80), (21, 71), (21, 90), (21, 32), (21, 12), (21, 11), (21, 50), (21, 100), (21, 45), (21, 66), (21, 3), (21, 36), (21, 96), (21, 2), (22, 82), (22, 75), (22, 23), (22, 86), (22, 53), (22, 18), (22, 43), (22, 83), (22, 1), (22, 51), (22, 59), (22, 21), (22, 30), (22, 40), (22, 38), (22, 46), (22, 22), (22, 88), (22, 4), (22, 5), (23, 24), (23, 33), (23, 50), (23, 64), (23, 24), (23, 85), (23, 92), (23, 28), (23, 41), (23, 99), (23, 78), (23, 18), (23, 32), (23, 31), (23, 79), (23, 55), (23, 17), (23, 99), (23, 70), (23, 51), (24, 80), (24, 19), (24, 14), (24, 40), (24, 72), (24, 3), (24, 35), (24, 17), (24, 42), (24, 99), (24, 18), (24, 88), (24, 69), (24, 73), (24, 15), (24, 33), (24, 33), (24, 50), (24, 45), (24, 94)]\n"
          ]
        }
      ]
    },
    {
      "cell_type": "code",
      "source": [
        "def shuffle_and_sort(data):\n",
        "    # Create an empty dictionary to store the intermediate key-value pairs\n",
        "    intermediate = {}\n",
        "\n",
        "    # Loop through each key-value pair in the input data\n",
        "    for key, value in data:\n",
        "        # If the key (hour) is already in the dictionary, append the value to the list\n",
        "        if key in intermediate:\n",
        "            intermediate[key].append(value)\n",
        "        # If the key is not yet in the dictionary, create a new list with the value\n",
        "        else:\n",
        "            intermediate[key] = [value]\n",
        "\n",
        "    # Sort the intermediate key-value pairs by key (hour) and return as a list of tuples\n",
        "    return sorted(intermediate.items())\n"
      ],
      "metadata": {
        "id": "nePENm9vpJIp"
      },
      "execution_count": 33,
      "outputs": []
    },
    {
      "cell_type": "code",
      "source": [
        "# Apply the shuffle and sort function on the mapper output\n",
        "shuffled_data = shuffle_and_sort(result)\n",
        "\n",
        "# Print the shuffle and sort phase output\n",
        "for key, value in shuffled_data:\n",
        "    print(f\"{key}\\t{value}\")"
      ],
      "metadata": {
        "colab": {
          "base_uri": "https://localhost:8080/"
        },
        "id": "YDyXaXOIqqM2",
        "outputId": "cc17405e-2ad2-430f-f3be-c3df7382192d"
      },
      "execution_count": 34,
      "outputs": [
        {
          "output_type": "stream",
          "name": "stdout",
          "text": [
            "1\t[23, 14, 92, 100, 66, 52, 52, 79, 23, 86, 18, 60, 85, 97, 20, 35, 9, 38, 99, 8]\n",
            "2\t[48, 35, 10, 42, 85, 31, 23, 40, 74, 25, 89, 70, 87, 63, 15, 72, 72, 24, 23, 74]\n",
            "3\t[4, 99, 33, 45, 92, 41, 1, 74, 43, 88, 44, 50, 93, 19, 43, 25, 27, 43, 96, 18]\n",
            "4\t[34, 20, 17, 17, 28, 65, 85, 46, 64, 70, 31, 98, 18, 51, 46, 21, 50, 66, 21, 30]\n",
            "5\t[70, 91, 93, 48, 37, 32, 41, 27, 84, 79, 18, 64, 12, 58, 89, 87, 72, 65, 70, 21]\n",
            "6\t[16, 42, 11, 3, 32, 38, 17, 13, 16, 62, 48, 21, 72, 9, 21, 75, 61, 76, 98, 19]\n",
            "7\t[42, 29, 48, 56, 57, 37, 31, 56, 87, 87, 84, 99, 11, 77, 34, 12, 89, 3, 36, 86]\n",
            "8\t[19, 37, 18, 29, 64, 42, 20, 83, 25, 16, 30, 47, 91, 17, 74, 12, 93, 85, 76, 28]\n",
            "9\t[56, 49, 52, 28, 61, 68, 78, 84, 92, 8, 29, 14, 99, 36, 44, 24, 13, 68, 67, 77]\n",
            "10\t[22, 48, 35, 72, 40, 51, 4, 74, 73, 13, 48, 54, 86, 66, 13, 47, 86, 72, 57, 63]\n",
            "11\t[78, 6, 19, 100, 33, 66, 51, 65, 28, 74, 11, 51, 39, 15, 70, 53, 3, 65, 60, 92]\n",
            "12\t[61, 96, 66, 71, 84, 76, 30, 88, 70, 40, 36, 56, 24, 15, 98, 90, 38, 67, 19, 62]\n",
            "13\t[16, 94, 92, 97, 38, 12, 88, 44, 88, 37, 61, 54, 10, 23, 73, 33, 44, 70, 94, 66]\n",
            "14\t[18, 38, 71, 19, 20, 54, 18, 6, 61, 99, 70, 19, 28, 50, 90, 47, 45, 38, 10, 67]\n",
            "15\t[75, 56, 35, 21, 77, 40, 53, 48, 36, 45, 85, 58, 16, 63, 70, 30, 9, 71, 85, 87]\n",
            "16\t[80, 14, 44, 82, 66, 82, 23, 32, 57, 33, 34, 68, 39, 4, 12, 62, 15, 67, 53, 15]\n",
            "17\t[16, 71, 72, 19, 48, 6, 97, 70, 17, 28, 24, 30, 64, 77, 29, 42, 43, 75, 65, 92]\n",
            "18\t[82, 61, 71, 25, 86, 24, 53, 13, 5, 63, 85, 55, 29, 22, 65, 14, 39, 22, 6, 92]\n",
            "19\t[94, 44, 99, 22, 96, 7, 29, 79, 8, 44, 9, 85, 17, 8, 1, 73, 46, 81, 4, 99]\n",
            "20\t[46, 13, 46, 38, 27, 10, 79, 82, 5, 12, 63, 67, 22, 24, 24, 30, 6, 87, 73, 66]\n",
            "21\t[46, 88, 49, 100, 95, 8, 80, 71, 90, 32, 12, 11, 50, 100, 45, 66, 3, 36, 96, 2]\n",
            "22\t[82, 75, 23, 86, 53, 18, 43, 83, 1, 51, 59, 21, 30, 40, 38, 46, 22, 88, 4, 5]\n",
            "23\t[24, 33, 50, 64, 24, 85, 92, 28, 41, 99, 78, 18, 32, 31, 79, 55, 17, 99, 70, 51]\n",
            "24\t[80, 19, 14, 40, 72, 3, 35, 17, 42, 99, 18, 88, 69, 73, 15, 33, 33, 50, 45, 94]\n"
          ]
        }
      ]
    },
    {
      "cell_type": "code",
      "source": [
        "#Create the reducer function where outputs key-value pairs\n",
        "#The key is the hour of measurement and the value is the total electricity consumption for that hour.\n",
        "def reducer(hour, values):\n",
        "    total_consumption = sum(values)\n",
        "    return (hour, total_consumption)"
      ],
      "metadata": {
        "id": "LWWKBnC0rQ6W"
      },
      "execution_count": 35,
      "outputs": []
    },
    {
      "cell_type": "code",
      "source": [
        "# Apply the reducer to the shuffled data\n",
        "#Here we also get the total hourly consumption\n",
        "reduced_data = []\n",
        "for key, value_list in shuffled_data:\n",
        "    result = reducer(key, value_list)\n",
        "    reduced_data.append(result)\n",
        "\n",
        "for key, value in reduced_data:\n",
        "    print(f\"Hour {key}: {value} Watt\")"
      ],
      "metadata": {
        "colab": {
          "base_uri": "https://localhost:8080/"
        },
        "id": "rJ9u7ONkqt67",
        "outputId": "812f0981-b70b-427f-f1dd-30cc452d4fd5"
      },
      "execution_count": 38,
      "outputs": [
        {
          "output_type": "stream",
          "name": "stdout",
          "text": [
            "Hour 1: 1056 Watt\n",
            "Hour 2: 1002 Watt\n",
            "Hour 3: 978 Watt\n",
            "Hour 4: 878 Watt\n",
            "Hour 5: 1158 Watt\n",
            "Hour 6: 750 Watt\n",
            "Hour 7: 1061 Watt\n",
            "Hour 8: 906 Watt\n",
            "Hour 9: 1047 Watt\n",
            "Hour 10: 1024 Watt\n",
            "Hour 11: 979 Watt\n",
            "Hour 12: 1187 Watt\n",
            "Hour 13: 1134 Watt\n",
            "Hour 14: 868 Watt\n",
            "Hour 15: 1060 Watt\n",
            "Hour 16: 882 Watt\n",
            "Hour 17: 985 Watt\n",
            "Hour 18: 912 Watt\n",
            "Hour 19: 945 Watt\n",
            "Hour 20: 820 Watt\n",
            "Hour 21: 1080 Watt\n",
            "Hour 22: 868 Watt\n",
            "Hour 23: 1070 Watt\n",
            "Hour 24: 939 Watt\n"
          ]
        }
      ]
    },
    {
      "cell_type": "code",
      "source": [
        "daily_consumption = 0\n",
        "for hour, value in reduced_data:\n",
        "    daily_consumption += value\n",
        "print(\"Daily energy consumption:\", daily_consumption/1000,\"kW\")"
      ],
      "metadata": {
        "colab": {
          "base_uri": "https://localhost:8080/"
        },
        "id": "_3L02FhZrxAf",
        "outputId": "689ed655-eb3e-4cf9-832a-f4e4209f9eb1"
      },
      "execution_count": 40,
      "outputs": [
        {
          "output_type": "stream",
          "name": "stdout",
          "text": [
            "Daily energy consumption: 23.589 kW\n"
          ]
        }
      ]
    }
  ]
}