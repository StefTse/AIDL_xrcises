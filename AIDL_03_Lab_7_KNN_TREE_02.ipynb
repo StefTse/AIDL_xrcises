{
  "cells": [
    {
      "cell_type": "markdown",
      "metadata": {
        "id": "view-in-github",
        "colab_type": "text"
      },
      "source": [
        "<a href=\"https://colab.research.google.com/github/StefTse/AIDL_xrcises/blob/main/AIDL_03_Lab_7_KNN_TREE_02.ipynb\" target=\"_parent\"><img src=\"https://colab.research.google.com/assets/colab-badge.svg\" alt=\"Open In Colab\"/></a>"
      ]
    },
    {
      "cell_type": "markdown",
      "metadata": {
        "id": "MsUI_AKoEqCg"
      },
      "source": [
        "### University of West Attica\n",
        "## MSc in Artificial Intelligence & Deep Learning\n",
        "\n",
        "# AIDL03 - Platforms for AI and Python programming\n",
        "\n",
        "### G. Nikolaou \n",
        "### nikolaou@uniwa.gr\n",
        "\n",
        "<br>\n",
        "<br>"
      ]
    },
    {
      "cell_type": "markdown",
      "metadata": {
        "id": "4dFCkHGtEqCu"
      },
      "source": [
        "# K-Nearest Neigbors Algorithm\n",
        "##  Iris Dataset"
      ]
    },
    {
      "cell_type": "markdown",
      "metadata": {
        "id": "gorjhNWk1jYI"
      },
      "source": [
        "<br>\n",
        "<br>\n",
        "\n",
        "### **Importing necessary libraries**"
      ]
    },
    {
      "cell_type": "code",
      "execution_count": 7,
      "metadata": {
        "id": "ICB6ibhd1oo6"
      },
      "outputs": [],
      "source": [
        "import pandas as pd \n",
        "import matplotlib.pyplot as plt \n",
        "import seaborn as sns \n",
        "import numpy as np\n",
        "%matplotlib inline"
      ]
    },
    {
      "cell_type": "markdown",
      "metadata": {
        "id": "dF3zq-tuEqC4"
      },
      "source": [
        "<br>\n",
        "\n",
        "#  Import and Understand your Dataset"
      ]
    },
    {
      "cell_type": "markdown",
      "metadata": {
        "id": "jvdkmqsUEqC6"
      },
      "source": [
        "<br>\n",
        "\n",
        "## Data Import and Exploration"
      ]
    },
    {
      "cell_type": "markdown",
      "metadata": {
        "id": "bUFja8i6EqC7"
      },
      "source": [
        "#### Importing csv filetype"
      ]
    },
    {
      "cell_type": "code",
      "source": [
        "data=pd.read_csv('/content/Iris_Data.csv')"
      ],
      "metadata": {
        "id": "cSOj86TncAJ1"
      },
      "execution_count": 10,
      "outputs": []
    },
    {
      "cell_type": "markdown",
      "metadata": {
        "id": "z6k2uA0bEqC_"
      },
      "source": [
        "### Data Exploration\n",
        "\n",
        "Use Pandas and visualization libraries to explore your dataset. Get insights that will help you during modeling."
      ]
    },
    {
      "cell_type": "code",
      "source": [
        "\n",
        "data.info()"
      ],
      "metadata": {
        "id": "HL9vzWmkc-Pj",
        "outputId": "92fb10ca-9ce3-44ef-9581-728f6f0be919",
        "colab": {
          "base_uri": "https://localhost:8080/"
        }
      },
      "execution_count": 11,
      "outputs": [
        {
          "output_type": "stream",
          "name": "stdout",
          "text": [
            "<class 'pandas.core.frame.DataFrame'>\n",
            "RangeIndex: 150 entries, 0 to 149\n",
            "Data columns (total 5 columns):\n",
            " #   Column        Non-Null Count  Dtype  \n",
            "---  ------        --------------  -----  \n",
            " 0   sepal_length  150 non-null    float64\n",
            " 1   sepal_width   150 non-null    float64\n",
            " 2   petal_length  150 non-null    float64\n",
            " 3   petal_width   150 non-null    float64\n",
            " 4   species       150 non-null    object \n",
            "dtypes: float64(4), object(1)\n",
            "memory usage: 6.0+ KB\n"
          ]
        }
      ]
    },
    {
      "cell_type": "code",
      "source": [
        "data.isnull().sum() #checking for total null values\n"
      ],
      "metadata": {
        "id": "-PczoUNudK5C",
        "outputId": "fd9b1b66-bad2-4142-c57f-15fc7bd618d5",
        "colab": {
          "base_uri": "https://localhost:8080/"
        }
      },
      "execution_count": 12,
      "outputs": [
        {
          "output_type": "execute_result",
          "data": {
            "text/plain": [
              "sepal_length    0\n",
              "sepal_width     0\n",
              "petal_length    0\n",
              "petal_width     0\n",
              "species         0\n",
              "dtype: int64"
            ]
          },
          "metadata": {},
          "execution_count": 12
        }
      ]
    },
    {
      "cell_type": "code",
      "source": [
        "data.groupby('species').size()\n"
      ],
      "metadata": {
        "id": "QWoBKDvvee_Y",
        "outputId": "610cfd1b-ef46-4570-9202-410442b65300",
        "colab": {
          "base_uri": "https://localhost:8080/"
        }
      },
      "execution_count": 13,
      "outputs": [
        {
          "output_type": "execute_result",
          "data": {
            "text/plain": [
              "species\n",
              "setosa        50\n",
              "versicolor    50\n",
              "virginica     50\n",
              "dtype: int64"
            ]
          },
          "metadata": {},
          "execution_count": 13
        }
      ]
    },
    {
      "cell_type": "code",
      "source": [
        "data.describe()\n"
      ],
      "metadata": {
        "id": "5wyTvzEre7y2",
        "outputId": "144e95cb-a6d2-4619-9a9c-e262f24b0ca1",
        "colab": {
          "base_uri": "https://localhost:8080/",
          "height": 300
        }
      },
      "execution_count": 14,
      "outputs": [
        {
          "output_type": "execute_result",
          "data": {
            "text/plain": [
              "       sepal_length  sepal_width  petal_length  petal_width\n",
              "count    150.000000   150.000000    150.000000   150.000000\n",
              "mean       5.843333     3.054000      3.758667     1.198667\n",
              "std        0.828066     0.433594      1.764420     0.763161\n",
              "min        4.300000     2.000000      1.000000     0.100000\n",
              "25%        5.100000     2.800000      1.600000     0.300000\n",
              "50%        5.800000     3.000000      4.350000     1.300000\n",
              "75%        6.400000     3.300000      5.100000     1.800000\n",
              "max        7.900000     4.400000      6.900000     2.500000"
            ],
            "text/html": [
              "\n",
              "  <div id=\"df-cc689e1b-2fc6-47ae-a89c-69163c08836e\">\n",
              "    <div class=\"colab-df-container\">\n",
              "      <div>\n",
              "<style scoped>\n",
              "    .dataframe tbody tr th:only-of-type {\n",
              "        vertical-align: middle;\n",
              "    }\n",
              "\n",
              "    .dataframe tbody tr th {\n",
              "        vertical-align: top;\n",
              "    }\n",
              "\n",
              "    .dataframe thead th {\n",
              "        text-align: right;\n",
              "    }\n",
              "</style>\n",
              "<table border=\"1\" class=\"dataframe\">\n",
              "  <thead>\n",
              "    <tr style=\"text-align: right;\">\n",
              "      <th></th>\n",
              "      <th>sepal_length</th>\n",
              "      <th>sepal_width</th>\n",
              "      <th>petal_length</th>\n",
              "      <th>petal_width</th>\n",
              "    </tr>\n",
              "  </thead>\n",
              "  <tbody>\n",
              "    <tr>\n",
              "      <th>count</th>\n",
              "      <td>150.000000</td>\n",
              "      <td>150.000000</td>\n",
              "      <td>150.000000</td>\n",
              "      <td>150.000000</td>\n",
              "    </tr>\n",
              "    <tr>\n",
              "      <th>mean</th>\n",
              "      <td>5.843333</td>\n",
              "      <td>3.054000</td>\n",
              "      <td>3.758667</td>\n",
              "      <td>1.198667</td>\n",
              "    </tr>\n",
              "    <tr>\n",
              "      <th>std</th>\n",
              "      <td>0.828066</td>\n",
              "      <td>0.433594</td>\n",
              "      <td>1.764420</td>\n",
              "      <td>0.763161</td>\n",
              "    </tr>\n",
              "    <tr>\n",
              "      <th>min</th>\n",
              "      <td>4.300000</td>\n",
              "      <td>2.000000</td>\n",
              "      <td>1.000000</td>\n",
              "      <td>0.100000</td>\n",
              "    </tr>\n",
              "    <tr>\n",
              "      <th>25%</th>\n",
              "      <td>5.100000</td>\n",
              "      <td>2.800000</td>\n",
              "      <td>1.600000</td>\n",
              "      <td>0.300000</td>\n",
              "    </tr>\n",
              "    <tr>\n",
              "      <th>50%</th>\n",
              "      <td>5.800000</td>\n",
              "      <td>3.000000</td>\n",
              "      <td>4.350000</td>\n",
              "      <td>1.300000</td>\n",
              "    </tr>\n",
              "    <tr>\n",
              "      <th>75%</th>\n",
              "      <td>6.400000</td>\n",
              "      <td>3.300000</td>\n",
              "      <td>5.100000</td>\n",
              "      <td>1.800000</td>\n",
              "    </tr>\n",
              "    <tr>\n",
              "      <th>max</th>\n",
              "      <td>7.900000</td>\n",
              "      <td>4.400000</td>\n",
              "      <td>6.900000</td>\n",
              "      <td>2.500000</td>\n",
              "    </tr>\n",
              "  </tbody>\n",
              "</table>\n",
              "</div>\n",
              "      <button class=\"colab-df-convert\" onclick=\"convertToInteractive('df-cc689e1b-2fc6-47ae-a89c-69163c08836e')\"\n",
              "              title=\"Convert this dataframe to an interactive table.\"\n",
              "              style=\"display:none;\">\n",
              "        \n",
              "  <svg xmlns=\"http://www.w3.org/2000/svg\" height=\"24px\"viewBox=\"0 0 24 24\"\n",
              "       width=\"24px\">\n",
              "    <path d=\"M0 0h24v24H0V0z\" fill=\"none\"/>\n",
              "    <path d=\"M18.56 5.44l.94 2.06.94-2.06 2.06-.94-2.06-.94-.94-2.06-.94 2.06-2.06.94zm-11 1L8.5 8.5l.94-2.06 2.06-.94-2.06-.94L8.5 2.5l-.94 2.06-2.06.94zm10 10l.94 2.06.94-2.06 2.06-.94-2.06-.94-.94-2.06-.94 2.06-2.06.94z\"/><path d=\"M17.41 7.96l-1.37-1.37c-.4-.4-.92-.59-1.43-.59-.52 0-1.04.2-1.43.59L10.3 9.45l-7.72 7.72c-.78.78-.78 2.05 0 2.83L4 21.41c.39.39.9.59 1.41.59.51 0 1.02-.2 1.41-.59l7.78-7.78 2.81-2.81c.8-.78.8-2.07 0-2.86zM5.41 20L4 18.59l7.72-7.72 1.47 1.35L5.41 20z\"/>\n",
              "  </svg>\n",
              "      </button>\n",
              "      \n",
              "  <style>\n",
              "    .colab-df-container {\n",
              "      display:flex;\n",
              "      flex-wrap:wrap;\n",
              "      gap: 12px;\n",
              "    }\n",
              "\n",
              "    .colab-df-convert {\n",
              "      background-color: #E8F0FE;\n",
              "      border: none;\n",
              "      border-radius: 50%;\n",
              "      cursor: pointer;\n",
              "      display: none;\n",
              "      fill: #1967D2;\n",
              "      height: 32px;\n",
              "      padding: 0 0 0 0;\n",
              "      width: 32px;\n",
              "    }\n",
              "\n",
              "    .colab-df-convert:hover {\n",
              "      background-color: #E2EBFA;\n",
              "      box-shadow: 0px 1px 2px rgba(60, 64, 67, 0.3), 0px 1px 3px 1px rgba(60, 64, 67, 0.15);\n",
              "      fill: #174EA6;\n",
              "    }\n",
              "\n",
              "    [theme=dark] .colab-df-convert {\n",
              "      background-color: #3B4455;\n",
              "      fill: #D2E3FC;\n",
              "    }\n",
              "\n",
              "    [theme=dark] .colab-df-convert:hover {\n",
              "      background-color: #434B5C;\n",
              "      box-shadow: 0px 1px 3px 1px rgba(0, 0, 0, 0.15);\n",
              "      filter: drop-shadow(0px 1px 2px rgba(0, 0, 0, 0.3));\n",
              "      fill: #FFFFFF;\n",
              "    }\n",
              "  </style>\n",
              "\n",
              "      <script>\n",
              "        const buttonEl =\n",
              "          document.querySelector('#df-cc689e1b-2fc6-47ae-a89c-69163c08836e button.colab-df-convert');\n",
              "        buttonEl.style.display =\n",
              "          google.colab.kernel.accessAllowed ? 'block' : 'none';\n",
              "\n",
              "        async function convertToInteractive(key) {\n",
              "          const element = document.querySelector('#df-cc689e1b-2fc6-47ae-a89c-69163c08836e');\n",
              "          const dataTable =\n",
              "            await google.colab.kernel.invokeFunction('convertToInteractive',\n",
              "                                                     [key], {});\n",
              "          if (!dataTable) return;\n",
              "\n",
              "          const docLinkHtml = 'Like what you see? Visit the ' +\n",
              "            '<a target=\"_blank\" href=https://colab.research.google.com/notebooks/data_table.ipynb>data table notebook</a>'\n",
              "            + ' to learn more about interactive tables.';\n",
              "          element.innerHTML = '';\n",
              "          dataTable['output_type'] = 'display_data';\n",
              "          await google.colab.output.renderOutput(dataTable, element);\n",
              "          const docLink = document.createElement('div');\n",
              "          docLink.innerHTML = docLinkHtml;\n",
              "          element.appendChild(docLink);\n",
              "        }\n",
              "      </script>\n",
              "    </div>\n",
              "  </div>\n",
              "  "
            ]
          },
          "metadata": {},
          "execution_count": 14
        }
      ]
    },
    {
      "cell_type": "code",
      "source": [
        "data.groupby(['sepal_length','sepal_width','petal_length', 'petal_width'])['species'].count()"
      ],
      "metadata": {
        "id": "3HmLS1NHfCUh",
        "outputId": "797ef795-9f68-4424-c92d-d14a656a68f2",
        "colab": {
          "base_uri": "https://localhost:8080/"
        }
      },
      "execution_count": 15,
      "outputs": [
        {
          "output_type": "execute_result",
          "data": {
            "text/plain": [
              "sepal_length  sepal_width  petal_length  petal_width\n",
              "4.3           3.0          1.1           0.1            1\n",
              "4.4           2.9          1.4           0.2            1\n",
              "              3.0          1.3           0.2            1\n",
              "              3.2          1.3           0.2            1\n",
              "4.5           2.3          1.3           0.3            1\n",
              "                                                       ..\n",
              "7.7           2.6          6.9           2.3            1\n",
              "              2.8          6.7           2.0            1\n",
              "              3.0          6.1           2.3            1\n",
              "              3.8          6.7           2.2            1\n",
              "7.9           3.8          6.4           2.0            1\n",
              "Name: species, Length: 147, dtype: int64"
            ]
          },
          "metadata": {},
          "execution_count": 15
        }
      ]
    },
    {
      "cell_type": "code",
      "source": [
        "sns.barplot(x = \"species\",y = \"petal_length\",data=data) \n",
        "plt.title('Species to petal_length')"
      ],
      "metadata": {
        "id": "aFT6JEyrglXr",
        "outputId": "5fab72b0-1fca-4427-b291-4667cb96d6df",
        "colab": {
          "base_uri": "https://localhost:8080/",
          "height": 313
        }
      },
      "execution_count": 16,
      "outputs": [
        {
          "output_type": "execute_result",
          "data": {
            "text/plain": [
              "Text(0.5, 1.0, 'Species to petal_length')"
            ]
          },
          "metadata": {},
          "execution_count": 16
        },
        {
          "output_type": "display_data",
          "data": {
            "text/plain": [
              "<Figure size 432x288 with 1 Axes>"
            ],
            "image/png": "[encoded data removed]"
          },
          "metadata": {
            "needs_background": "light"
          }
        }
      ]
    },
    {
      "cell_type": "markdown",
      "metadata": {
        "id": "ODAat1TxEqDC"
      },
      "source": [
        "<br>\n",
        "<br>\n",
        "\n",
        "# Splitting data in training and test datasets\n",
        "\n",
        "Inputs are assigned to variable `Χ` and outputs to `y`"
      ]
    },
    {
      "cell_type": "code",
      "execution_count": 17,
      "metadata": {
        "id": "hy7vYOmqEqDE"
      },
      "outputs": [],
      "source": [
        "X = data[['sepal_length', 'sepal_width', 'petal_length', 'petal_width']]\n",
        "y= data['species']"
      ]
    },
    {
      "cell_type": "markdown",
      "metadata": {
        "id": "KKErUkD3EqDL"
      },
      "source": [
        "Library Scikit-learn has a method named ``train_test_split`` for the purpose of splitting data in training and test subsets"
      ]
    },
    {
      "cell_type": "code",
      "execution_count": 18,
      "metadata": {
        "id": "0yRudLAcEqDM",
        "outputId": "8267b556-2b98-4593-e85c-455af51cc4ff",
        "colab": {
          "base_uri": "https://localhost:8080/"
        }
      },
      "outputs": [
        {
          "output_type": "stream",
          "name": "stdout",
          "text": [
            "X_train size: (112, 4)\n",
            "y_train size: (112,)\n",
            "X_test size: (38, 4)\n",
            "y_test size: (38,)\n"
          ]
        }
      ],
      "source": [
        "from sklearn.model_selection import train_test_split\n",
        "\n",
        "\n",
        "X_train, X_test, y_train, y_test = train_test_split(X, y, test_size = 0.25, random_state=7)\n",
        "\n",
        "print(\"X_train size:\", X_train.shape)\n",
        "print(\"y_train size:\", y_train.shape)\n",
        "\n",
        "print(\"X_test size:\", X_test.shape)\n",
        "print(\"y_test size:\", y_test.shape)"
      ]
    },
    {
      "cell_type": "markdown",
      "metadata": {
        "id": "o0PlFK_zEqDO"
      },
      "source": [
        "<br>\n",
        "<br>\n",
        "\n",
        "# Create a Machine Learning Model\n",
        "\n",
        "In  **scikit-learn** library, a model (estimator) for classification is a Python object with the following methods\n",
        "- `fit(X, y)` for model training using input data `Χ` and output `y` (here we use X_train, y_train)\n",
        "- `predict(y_test)` to use the model for the classification of previously unseen by the model data (y_test) \n",
        "\n",
        "\n",
        "Following are the basic steps for the development and use of machine learning models\n",
        "\n"
      ]
    },
    {
      "cell_type": "markdown",
      "metadata": {
        "id": "q3JnsHpnEqDP"
      },
      "source": [
        "\n",
        "---\n",
        "### 1. Import class of models from scikit-learn library \n",
        "\n"
      ]
    },
    {
      "cell_type": "code",
      "execution_count": 19,
      "metadata": {
        "id": "2VBIpdqQEqDQ"
      },
      "outputs": [],
      "source": [
        "from sklearn.neighbors import KNeighborsClassifier"
      ]
    },
    {
      "cell_type": "markdown",
      "metadata": {
        "id": "R8iyiStfEqDR"
      },
      "source": [
        "\n",
        "\n",
        "---\n",
        "\n",
        "\n",
        "\n",
        "\n",
        "### 2. Define model (create instance of the class), select specific algorithm and its hyperparameters\n"
      ]
    },
    {
      "cell_type": "code",
      "execution_count": 20,
      "metadata": {
        "id": "DWKLkngeEoAG"
      },
      "outputs": [],
      "source": [
        "knnClass = KNeighborsClassifier(n_neighbors=7)"
      ]
    },
    {
      "cell_type": "markdown",
      "metadata": {
        "id": "1Sg5o7c7EqDT"
      },
      "source": [
        "\n",
        "\n",
        "---\n",
        "\n",
        "\n",
        "### 3. Train model"
      ]
    },
    {
      "cell_type": "code",
      "execution_count": 21,
      "metadata": {
        "id": "u03aeARfEqDU",
        "outputId": "9e1d9790-952b-4dc8-a734-cd40a79c4646",
        "colab": {
          "base_uri": "https://localhost:8080/"
        }
      },
      "outputs": [
        {
          "output_type": "execute_result",
          "data": {
            "text/plain": [
              "KNeighborsClassifier(n_neighbors=7)"
            ]
          },
          "metadata": {},
          "execution_count": 21
        }
      ],
      "source": [
        "knnClass.fit(X_train, y_train)"
      ]
    },
    {
      "cell_type": "markdown",
      "metadata": {
        "id": "tZwGEdu1EqDV"
      },
      "source": [
        "\n",
        "\n",
        "---\n",
        "\n",
        "\n",
        "\n",
        "\n",
        "### 4. Evaluate model performance using test data\n"
      ]
    },
    {
      "cell_type": "code",
      "execution_count": 22,
      "metadata": {
        "id": "0Aejzv7bEqDW"
      },
      "outputs": [],
      "source": [
        "y_pred = knnClass.predict(X_test)"
      ]
    },
    {
      "cell_type": "code",
      "execution_count": 23,
      "metadata": {
        "id": "OIK6h5ngEqDY",
        "outputId": "e7132ad0-eccf-4681-ac14-6461d77084f9",
        "colab": {
          "base_uri": "https://localhost:8080/"
        }
      },
      "outputs": [
        {
          "output_type": "stream",
          "name": "stdout",
          "text": [
            "Accuracy Score:\n"
          ]
        },
        {
          "output_type": "execute_result",
          "data": {
            "text/plain": [
              "0.9210526315789473"
            ]
          },
          "metadata": {},
          "execution_count": 23
        }
      ],
      "source": [
        "from sklearn.metrics import accuracy_score\n",
        "print(\"Accuracy Score:\")\n",
        "accuracy_score(y_test, y_pred)"
      ]
    },
    {
      "cell_type": "markdown",
      "metadata": {
        "id": "HZ8A-720EqDa"
      },
      "source": [
        "---\n",
        "### 5.Use trained model to classify a new iris flower using its measurements of the four features "
      ]
    },
    {
      "cell_type": "markdown",
      "metadata": {
        "id": "W3D1jIjYEqDb"
      },
      "source": [
        "New flower data"
      ]
    },
    {
      "cell_type": "code",
      "execution_count": 24,
      "metadata": {
        "id": "fsH8aA8gEqDc"
      },
      "outputs": [],
      "source": [
        "neoDeigma = np.array([[4.7, 1.9, 1.5, 0.7]])"
      ]
    },
    {
      "cell_type": "markdown",
      "metadata": {
        "id": "pLxzztm-EqDd"
      },
      "source": [
        "Use trained model"
      ]
    },
    {
      "cell_type": "code",
      "execution_count": 25,
      "metadata": {
        "id": "zA9E8GV_EqDd",
        "outputId": "1279839a-1be2-4eed-9e17-61a96144dfb3",
        "colab": {
          "base_uri": "https://localhost:8080/"
        }
      },
      "outputs": [
        {
          "output_type": "stream",
          "name": "stdout",
          "text": [
            "New flower is of Class: ['setosa']\n"
          ]
        },
        {
          "output_type": "stream",
          "name": "stderr",
          "text": [
            "/usr/local/lib/python3.7/dist-packages/sklearn/base.py:451: UserWarning: X does not have valid feature names, but KNeighborsClassifier was fitted with feature names\n",
            "  \"X does not have valid feature names, but\"\n"
          ]
        }
      ],
      "source": [
        "prediction = knnClass.predict(neoDeigma)\n",
        "print(\"New flower is of Class:\", prediction)\n"
      ]
    },
    {
      "cell_type": "markdown",
      "source": [
        "---\n",
        "---\n",
        "## Exercises\n",
        "\n",
        "\n",
        "---\n",
        "1. Write a code that plots the relationship between the number of K neighbors to the accuracy of the model for values K=1 to K=20\n",
        "\n",
        "2. For the `Iris dataset` compare the performance of the best KNN model with that of Decision Tree model from Lab 6\n",
        "\n",
        "3. Develop Classification models using Decision Trees and KNN for the `Diabetes dataset`\n"
      ],
      "metadata": {
        "id": "w56eMfLEVgzJ"
      }
    },
    {
      "cell_type": "code",
      "source": [
        "acc=[]\n",
        "k=[]\n",
        "for i in range(10):\n",
        "  k.append(1+i)\n",
        "  knnClass = KNeighborsClassifier(n_neighbors=1+i)\n",
        "  knnClass.fit(X_train, y_train)\n",
        "  y_pred = knnClass.predict(X_test)\n",
        "  a_s=accuracy_score(y_test, y_pred)\n",
        "  acc.append(a_s)\n",
        "\n",
        "\n",
        "plt.plot(k, acc, '--',label='')\n",
        "plt.xlabel('Number of neighbors (k)')\n",
        "plt.ylabel('Accuracy')\n",
        "\n"
      ],
      "metadata": {
        "id": "OhG8DdMWhkyO",
        "outputId": "a5d86e27-469d-4448-8350-2efc1bd8e75c",
        "colab": {
          "base_uri": "https://localhost:8080/",
          "height": 301
        }
      },
      "execution_count": 26,
      "outputs": [
        {
          "output_type": "execute_result",
          "data": {
            "text/plain": [
              "Text(0, 0.5, 'Accuracy')"
            ]
          },
          "metadata": {},
          "execution_count": 26
        },
        {
          "output_type": "display_data",
          "data": {
            "text/plain": [
              "<Figure size 432x288 with 1 Axes>"
            ],
            "image/png": "[encoded data removed]"
          },
          "metadata": {
            "needs_background": "light"
          }
        }
      ]
    },
    {
      "cell_type": "code",
      "source": [
        "#best K-NN model: k=2\n",
        "KnnClass_2= KNeighborsClassifier(n_neighbors=2)\n",
        "\n"
      ],
      "metadata": {
        "id": "6oFOdCDkirGe"
      },
      "execution_count": 27,
      "outputs": []
    },
    {
      "cell_type": "code",
      "source": [
        "KnnClass_2.fit(X_train, y_train)"
      ],
      "metadata": {
        "id": "EUse0l1ymajw",
        "outputId": "3b9804be-edfd-4709-d047-9b88b97aafe5",
        "colab": {
          "base_uri": "https://localhost:8080/"
        }
      },
      "execution_count": 28,
      "outputs": [
        {
          "output_type": "execute_result",
          "data": {
            "text/plain": [
              "KNeighborsClassifier(n_neighbors=2)"
            ]
          },
          "metadata": {},
          "execution_count": 28
        }
      ]
    },
    {
      "cell_type": "code",
      "source": [
        "y_pred_KnnClass_2=KnnClass_2.predict(X_test)"
      ],
      "metadata": {
        "id": "pbkO0g-ETZVd"
      },
      "execution_count": 29,
      "outputs": []
    },
    {
      "cell_type": "code",
      "source": [
        "Knn_2_accu=accuracy_score(y_test, y_pred_KnnClass_2)\n",
        "print('Accuracy of best K-NN model (k=2):', Knn_2_accu)\n"
      ],
      "metadata": {
        "id": "_3ekdzomTmf8",
        "outputId": "6ca7fa51-f3cb-4a1d-e51e-04542bda851f",
        "colab": {
          "base_uri": "https://localhost:8080/"
        }
      },
      "execution_count": 30,
      "outputs": [
        {
          "output_type": "stream",
          "name": "stdout",
          "text": [
            "Accuracy of best K-NN model (k=2): 0.9473684210526315\n"
          ]
        }
      ]
    },
    {
      "cell_type": "code",
      "source": [
        "from sklearn import tree"
      ],
      "metadata": {
        "id": "nBotrGuPTxG6"
      },
      "execution_count": 31,
      "outputs": []
    },
    {
      "cell_type": "code",
      "source": [
        "dtree = tree.DecisionTreeClassifier(criterion='entropy')\n",
        "tree.DecisionTreeClassifier"
      ],
      "metadata": {
        "id": "Es_VYjgAVpQ8",
        "outputId": "ccc0f4cd-7c8e-4684-ec4b-dfa7a8d7c24a",
        "colab": {
          "base_uri": "https://localhost:8080/"
        }
      },
      "execution_count": 32,
      "outputs": [
        {
          "output_type": "execute_result",
          "data": {
            "text/plain": [
              "sklearn.tree._classes.DecisionTreeClassifier"
            ]
          },
          "metadata": {},
          "execution_count": 32
        }
      ]
    },
    {
      "cell_type": "code",
      "source": [
        "dtree.fit(X_train, y_train)"
      ],
      "metadata": {
        "id": "UylvbE4LV1Bj",
        "outputId": "5d98bcdf-3699-4735-bfaa-a68c6030ebfd",
        "colab": {
          "base_uri": "https://localhost:8080/"
        }
      },
      "execution_count": 33,
      "outputs": [
        {
          "output_type": "execute_result",
          "data": {
            "text/plain": [
              "DecisionTreeClassifier(criterion='entropy')"
            ]
          },
          "metadata": {},
          "execution_count": 33
        }
      ]
    },
    {
      "cell_type": "code",
      "source": [
        "y_pred_dtree=dtree.predict(X_test)"
      ],
      "metadata": {
        "id": "Z1Ex54tWV6ix"
      },
      "execution_count": 34,
      "outputs": []
    },
    {
      "cell_type": "code",
      "source": [
        "dtree_accuracy=accuracy_score(y_test,y_pred_dtree)\n",
        "print('Accuracy of dtree model:', dtree_accuracy)"
      ],
      "metadata": {
        "id": "lIlSqZ4pWNPI",
        "outputId": "8ca12424-2eda-42d9-ab32-1bda505cada5",
        "colab": {
          "base_uri": "https://localhost:8080/"
        }
      },
      "execution_count": 35,
      "outputs": [
        {
          "output_type": "stream",
          "name": "stdout",
          "text": [
            "Accuracy of dtree model: 0.9210526315789473\n"
          ]
        }
      ]
    },
    {
      "cell_type": "code",
      "source": [
        "print('K-NN (k=2) accuracy:', round(Knn_2_accu*100, 2),'%')\n",
        "print('Dtree (entropy) accuracy:', round(dtree_accuracy*100, 2),'%')"
      ],
      "metadata": {
        "id": "fn4s6z_zWW5Y",
        "outputId": "e3495e9b-52d7-4a52-81e8-70137c153405",
        "colab": {
          "base_uri": "https://localhost:8080/"
        }
      },
      "execution_count": 36,
      "outputs": [
        {
          "output_type": "stream",
          "name": "stdout",
          "text": [
            "K-NN (k=2) accuracy: 94.74 %\n",
            "Dtree (entropy) accuracy: 92.11 %\n"
          ]
        }
      ]
    },
    {
      "cell_type": "markdown",
      "source": [
        "Develop Classification models using Decision Trees and KNN for the Diabetes dataset"
      ],
      "metadata": {
        "id": "GHwzXuRNX6WW"
      }
    },
    {
      "cell_type": "code",
      "source": [
        "diab_df=pd.read_csv('/content/diabetes.csv')"
      ],
      "metadata": {
        "id": "Hwpxt-QAXfio"
      },
      "execution_count": 37,
      "outputs": []
    },
    {
      "cell_type": "code",
      "source": [
        "diab_df.info()"
      ],
      "metadata": {
        "id": "ou-3MiuwZJJM",
        "outputId": "ad7490fb-546d-4df6-ddbe-a874749fc016",
        "colab": {
          "base_uri": "https://localhost:8080/"
        }
      },
      "execution_count": 38,
      "outputs": [
        {
          "output_type": "stream",
          "name": "stdout",
          "text": [
            "<class 'pandas.core.frame.DataFrame'>\n",
            "RangeIndex: 768 entries, 0 to 767\n",
            "Data columns (total 9 columns):\n",
            " #   Column                    Non-Null Count  Dtype  \n",
            "---  ------                    --------------  -----  \n",
            " 0   Pregnancies               768 non-null    int64  \n",
            " 1   Glucose                   768 non-null    int64  \n",
            " 2   BloodPressure             768 non-null    int64  \n",
            " 3   SkinThickness             768 non-null    int64  \n",
            " 4   Insulin                   768 non-null    int64  \n",
            " 5   BMI                       768 non-null    float64\n",
            " 6   DiabetesPedigreeFunction  768 non-null    float64\n",
            " 7   Age                       768 non-null    int64  \n",
            " 8   Outcome                   768 non-null    int64  \n",
            "dtypes: float64(2), int64(7)\n",
            "memory usage: 54.1 KB\n"
          ]
        }
      ]
    },
    {
      "cell_type": "code",
      "source": [
        "diab_df.describe()"
      ],
      "metadata": {
        "id": "5-Yak7bqZgTf",
        "outputId": "a6a19012-1964-4fb2-e005-5af29993e44f",
        "colab": {
          "base_uri": "https://localhost:8080/",
          "height": 364
        }
      },
      "execution_count": 39,
      "outputs": [
        {
          "output_type": "execute_result",
          "data": {
            "text/plain": [
              "       Pregnancies     Glucose  BloodPressure  SkinThickness     Insulin  \\\n",
              "count   768.000000  768.000000     768.000000     768.000000  768.000000   \n",
              "mean      3.845052  120.894531      69.105469      20.536458   79.799479   \n",
              "std       3.369578   31.972618      19.355807      15.952218  115.244002   \n",
              "min       0.000000    0.000000       0.000000       0.000000    0.000000   \n",
              "25%       1.000000   99.000000      62.000000       0.000000    0.000000   \n",
              "50%       3.000000  117.000000      72.000000      23.000000   30.500000   \n",
              "75%       6.000000  140.250000      80.000000      32.000000  127.250000   \n",
              "max      17.000000  199.000000     122.000000      99.000000  846.000000   \n",
              "\n",
              "              BMI  DiabetesPedigreeFunction         Age     Outcome  \n",
              "count  768.000000                768.000000  768.000000  768.000000  \n",
              "mean    31.992578                  0.471876   33.240885    0.348958  \n",
              "std      7.884160                  0.331329   11.760232    0.476951  \n",
              "min      0.000000                  0.078000   21.000000    0.000000  \n",
              "25%     27.300000                  0.243750   24.000000    0.000000  \n",
              "50%     32.000000                  0.372500   29.000000    0.000000  \n",
              "75%     36.600000                  0.626250   41.000000    1.000000  \n",
              "max     67.100000                  2.420000   81.000000    1.000000  "
            ],
            "text/html": [
              "\n",
              "  <div id=\"df-748f2ff2-72ec-49bb-b242-12094b1d94a0\">\n",
              "    <div class=\"colab-df-container\">\n",
              "      <div>\n",
              "<style scoped>\n",
              "    .dataframe tbody tr th:only-of-type {\n",
              "        vertical-align: middle;\n",
              "    }\n",
              "\n",
              "    .dataframe tbody tr th {\n",
              "        vertical-align: top;\n",
              "    }\n",
              "\n",
              "    .dataframe thead th {\n",
              "        text-align: right;\n",
              "    }\n",
              "</style>\n",
              "<table border=\"1\" class=\"dataframe\">\n",
              "  <thead>\n",
              "    <tr style=\"text-align: right;\">\n",
              "      <th></th>\n",
              "      <th>Pregnancies</th>\n",
              "      <th>Glucose</th>\n",
              "      <th>BloodPressure</th>\n",
              "      <th>SkinThickness</th>\n",
              "      <th>Insulin</th>\n",
              "      <th>BMI</th>\n",
              "      <th>DiabetesPedigreeFunction</th>\n",
              "      <th>Age</th>\n",
              "      <th>Outcome</th>\n",
              "    </tr>\n",
              "  </thead>\n",
              "  <tbody>\n",
              "    <tr>\n",
              "      <th>count</th>\n",
              "      <td>768.000000</td>\n",
              "      <td>768.000000</td>\n",
              "      <td>768.000000</td>\n",
              "      <td>768.000000</td>\n",
              "      <td>768.000000</td>\n",
              "      <td>768.000000</td>\n",
              "      <td>768.000000</td>\n",
              "      <td>768.000000</td>\n",
              "      <td>768.000000</td>\n",
              "    </tr>\n",
              "    <tr>\n",
              "      <th>mean</th>\n",
              "      <td>3.845052</td>\n",
              "      <td>120.894531</td>\n",
              "      <td>69.105469</td>\n",
              "      <td>20.536458</td>\n",
              "      <td>79.799479</td>\n",
              "      <td>31.992578</td>\n",
              "      <td>0.471876</td>\n",
              "      <td>33.240885</td>\n",
              "      <td>0.348958</td>\n",
              "    </tr>\n",
              "    <tr>\n",
              "      <th>std</th>\n",
              "      <td>3.369578</td>\n",
              "      <td>31.972618</td>\n",
              "      <td>19.355807</td>\n",
              "      <td>15.952218</td>\n",
              "      <td>115.244002</td>\n",
              "      <td>7.884160</td>\n",
              "      <td>0.331329</td>\n",
              "      <td>11.760232</td>\n",
              "      <td>0.476951</td>\n",
              "    </tr>\n",
              "    <tr>\n",
              "      <th>min</th>\n",
              "      <td>0.000000</td>\n",
              "      <td>0.000000</td>\n",
              "      <td>0.000000</td>\n",
              "      <td>0.000000</td>\n",
              "      <td>0.000000</td>\n",
              "      <td>0.000000</td>\n",
              "      <td>0.078000</td>\n",
              "      <td>21.000000</td>\n",
              "      <td>0.000000</td>\n",
              "    </tr>\n",
              "    <tr>\n",
              "      <th>25%</th>\n",
              "      <td>1.000000</td>\n",
              "      <td>99.000000</td>\n",
              "      <td>62.000000</td>\n",
              "      <td>0.000000</td>\n",
              "      <td>0.000000</td>\n",
              "      <td>27.300000</td>\n",
              "      <td>0.243750</td>\n",
              "      <td>24.000000</td>\n",
              "      <td>0.000000</td>\n",
              "    </tr>\n",
              "    <tr>\n",
              "      <th>50%</th>\n",
              "      <td>3.000000</td>\n",
              "      <td>117.000000</td>\n",
              "      <td>72.000000</td>\n",
              "      <td>23.000000</td>\n",
              "      <td>30.500000</td>\n",
              "      <td>32.000000</td>\n",
              "      <td>0.372500</td>\n",
              "      <td>29.000000</td>\n",
              "      <td>0.000000</td>\n",
              "    </tr>\n",
              "    <tr>\n",
              "      <th>75%</th>\n",
              "      <td>6.000000</td>\n",
              "      <td>140.250000</td>\n",
              "      <td>80.000000</td>\n",
              "      <td>32.000000</td>\n",
              "      <td>127.250000</td>\n",
              "      <td>36.600000</td>\n",
              "      <td>0.626250</td>\n",
              "      <td>41.000000</td>\n",
              "      <td>1.000000</td>\n",
              "    </tr>\n",
              "    <tr>\n",
              "      <th>max</th>\n",
              "      <td>17.000000</td>\n",
              "      <td>199.000000</td>\n",
              "      <td>122.000000</td>\n",
              "      <td>99.000000</td>\n",
              "      <td>846.000000</td>\n",
              "      <td>67.100000</td>\n",
              "      <td>2.420000</td>\n",
              "      <td>81.000000</td>\n",
              "      <td>1.000000</td>\n",
              "    </tr>\n",
              "  </tbody>\n",
              "</table>\n",
              "</div>\n",
              "      <button class=\"colab-df-convert\" onclick=\"convertToInteractive('df-748f2ff2-72ec-49bb-b242-12094b1d94a0')\"\n",
              "              title=\"Convert this dataframe to an interactive table.\"\n",
              "              style=\"display:none;\">\n",
              "        \n",
              "  <svg xmlns=\"http://www.w3.org/2000/svg\" height=\"24px\"viewBox=\"0 0 24 24\"\n",
              "       width=\"24px\">\n",
              "    <path d=\"M0 0h24v24H0V0z\" fill=\"none\"/>\n",
              "    <path d=\"M18.56 5.44l.94 2.06.94-2.06 2.06-.94-2.06-.94-.94-2.06-.94 2.06-2.06.94zm-11 1L8.5 8.5l.94-2.06 2.06-.94-2.06-.94L8.5 2.5l-.94 2.06-2.06.94zm10 10l.94 2.06.94-2.06 2.06-.94-2.06-.94-.94-2.06-.94 2.06-2.06.94z\"/><path d=\"M17.41 7.96l-1.37-1.37c-.4-.4-.92-.59-1.43-.59-.52 0-1.04.2-1.43.59L10.3 9.45l-7.72 7.72c-.78.78-.78 2.05 0 2.83L4 21.41c.39.39.9.59 1.41.59.51 0 1.02-.2 1.41-.59l7.78-7.78 2.81-2.81c.8-.78.8-2.07 0-2.86zM5.41 20L4 18.59l7.72-7.72 1.47 1.35L5.41 20z\"/>\n",
              "  </svg>\n",
              "      </button>\n",
              "      \n",
              "  <style>\n",
              "    .colab-df-container {\n",
              "      display:flex;\n",
              "      flex-wrap:wrap;\n",
              "      gap: 12px;\n",
              "    }\n",
              "\n",
              "    .colab-df-convert {\n",
              "      background-color: #E8F0FE;\n",
              "      border: none;\n",
              "      border-radius: 50%;\n",
              "      cursor: pointer;\n",
              "      display: none;\n",
              "      fill: #1967D2;\n",
              "      height: 32px;\n",
              "      padding: 0 0 0 0;\n",
              "      width: 32px;\n",
              "    }\n",
              "\n",
              "    .colab-df-convert:hover {\n",
              "      background-color: #E2EBFA;\n",
              "      box-shadow: 0px 1px 2px rgba(60, 64, 67, 0.3), 0px 1px 3px 1px rgba(60, 64, 67, 0.15);\n",
              "      fill: #174EA6;\n",
              "    }\n",
              "\n",
              "    [theme=dark] .colab-df-convert {\n",
              "      background-color: #3B4455;\n",
              "      fill: #D2E3FC;\n",
              "    }\n",
              "\n",
              "    [theme=dark] .colab-df-convert:hover {\n",
              "      background-color: #434B5C;\n",
              "      box-shadow: 0px 1px 3px 1px rgba(0, 0, 0, 0.15);\n",
              "      filter: drop-shadow(0px 1px 2px rgba(0, 0, 0, 0.3));\n",
              "      fill: #FFFFFF;\n",
              "    }\n",
              "  </style>\n",
              "\n",
              "      <script>\n",
              "        const buttonEl =\n",
              "          document.querySelector('#df-748f2ff2-72ec-49bb-b242-12094b1d94a0 button.colab-df-convert');\n",
              "        buttonEl.style.display =\n",
              "          google.colab.kernel.accessAllowed ? 'block' : 'none';\n",
              "\n",
              "        async function convertToInteractive(key) {\n",
              "          const element = document.querySelector('#df-748f2ff2-72ec-49bb-b242-12094b1d94a0');\n",
              "          const dataTable =\n",
              "            await google.colab.kernel.invokeFunction('convertToInteractive',\n",
              "                                                     [key], {});\n",
              "          if (!dataTable) return;\n",
              "\n",
              "          const docLinkHtml = 'Like what you see? Visit the ' +\n",
              "            '<a target=\"_blank\" href=https://colab.research.google.com/notebooks/data_table.ipynb>data table notebook</a>'\n",
              "            + ' to learn more about interactive tables.';\n",
              "          element.innerHTML = '';\n",
              "          dataTable['output_type'] = 'display_data';\n",
              "          await google.colab.output.renderOutput(dataTable, element);\n",
              "          const docLink = document.createElement('div');\n",
              "          docLink.innerHTML = docLinkHtml;\n",
              "          element.appendChild(docLink);\n",
              "        }\n",
              "      </script>\n",
              "    </div>\n",
              "  </div>\n",
              "  "
            ]
          },
          "metadata": {},
          "execution_count": 39
        }
      ]
    },
    {
      "cell_type": "code",
      "source": [
        "Xd= diab_df[['Pregnancies', 'Glucose', 'BloodPressure', 'SkinThickness', 'Insulin', 'BMI','DiabetesPedigreeFunction','Age']]\n",
        "yd=diab_df['Outcome']"
      ],
      "metadata": {
        "id": "PFuPy8y6Z72M"
      },
      "execution_count": 40,
      "outputs": []
    },
    {
      "cell_type": "code",
      "source": [
        "Xd_train, Xd_test, yd_train, yd_test = train_test_split(Xd, yd, test_size = 0.25, random_state=7)\n",
        "\n",
        "print(\"Xd_train size:\", Xd_train.shape)\n",
        "print(\"yd_train size:\", yd_train.shape)\n",
        "\n",
        "print(\"Xd_test size:\", Xd_test.shape)\n",
        "print(\"yd_test size:\", yd_test.shape)"
      ],
      "metadata": {
        "id": "DdPWyeq0f9yJ",
        "outputId": "ee32797d-9609-4734-b0f5-d4f7b51e6834",
        "colab": {
          "base_uri": "https://localhost:8080/"
        }
      },
      "execution_count": 41,
      "outputs": [
        {
          "output_type": "stream",
          "name": "stdout",
          "text": [
            "Xd_train size: (576, 8)\n",
            "yd_train size: (576,)\n",
            "Xd_test size: (192, 8)\n",
            "yd_test size: (192,)\n"
          ]
        }
      ]
    },
    {
      "cell_type": "markdown",
      "source": [
        "\n",
        "###Tree models\n"
      ],
      "metadata": {
        "id": "T153NRPGkomE"
      }
    },
    {
      "cell_type": "code",
      "source": [
        "dtree_1 = tree.DecisionTreeClassifier(criterion='entropy')\n",
        "dtree_2 = tree.DecisionTreeClassifier(criterion='gini')"
      ],
      "metadata": {
        "id": "b9ap-YyVkoWt"
      },
      "execution_count": 42,
      "outputs": []
    },
    {
      "cell_type": "code",
      "source": [
        "dtree_1.fit(Xd_train, yd_train)\n",
        "dtree_2.fit(Xd_train, yd_train)"
      ],
      "metadata": {
        "id": "SQDvYBZmj5Rn",
        "outputId": "39ab3bb3-1789-4f34-9265-f3e0f6a8b96f",
        "colab": {
          "base_uri": "https://localhost:8080/"
        }
      },
      "execution_count": 43,
      "outputs": [
        {
          "output_type": "execute_result",
          "data": {
            "text/plain": [
              "DecisionTreeClassifier()"
            ]
          },
          "metadata": {},
          "execution_count": 43
        }
      ]
    },
    {
      "cell_type": "code",
      "source": [
        "y_pred_tr1 = dtree_1.predict(Xd_test)\n",
        "y_pred_tr2 = dtree_2.predict(Xd_test)"
      ],
      "metadata": {
        "id": "XnP42Z8D_bSt"
      },
      "execution_count": 44,
      "outputs": []
    },
    {
      "cell_type": "code",
      "source": [
        "print(\"Accuracy Score tree_1:\", round(accuracy_score(yd_test, y_pred_tr1),3))\n",
        "print(\"Accuracy Score tree_2:\", round(accuracy_score(yd_test, y_pred_tr2),3))\n"
      ],
      "metadata": {
        "id": "5pIlbSLb_mfh",
        "outputId": "7afd4eda-d688-4133-8589-4465c3938dbd",
        "colab": {
          "base_uri": "https://localhost:8080/"
        }
      },
      "execution_count": 60,
      "outputs": [
        {
          "output_type": "stream",
          "name": "stdout",
          "text": [
            "Accuracy Score tree_1: 0.74\n",
            "Accuracy Score tree_2: 0.745\n"
          ]
        }
      ]
    },
    {
      "cell_type": "markdown",
      "source": [
        "###K-NN models"
      ],
      "metadata": {
        "id": "E1XgllWqCi1_"
      }
    },
    {
      "cell_type": "code",
      "source": [
        "\n",
        "for i in range(20):\n",
        "\n",
        "  knn = KNeighborsClassifier(n_neighbors=1+i)\n",
        "  knn.fit(Xd_train, yd_train)\n",
        "  y_pred_knn = knn.predict(Xd_test)\n",
        "\n",
        "  print('for k =',i+1, \"model's accuracy score is:\", round(accuracy_score(yd_test, y_pred_knn),2))\n"
      ],
      "metadata": {
        "id": "U_Nrfx3p_p26",
        "outputId": "9495f5f9-4a48-4602-e8e5-b7af2f453482",
        "colab": {
          "base_uri": "https://localhost:8080/"
        }
      },
      "execution_count": 46,
      "outputs": [
        {
          "output_type": "stream",
          "name": "stdout",
          "text": [
            "for k = 1 model's accuracy score is: 0.62\n",
            "for k = 2 model's accuracy score is: 0.68\n",
            "for k = 3 model's accuracy score is: 0.67\n",
            "for k = 4 model's accuracy score is: 0.71\n",
            "for k = 5 model's accuracy score is: 0.72\n",
            "for k = 6 model's accuracy score is: 0.72\n",
            "for k = 7 model's accuracy score is: 0.73\n",
            "for k = 8 model's accuracy score is: 0.75\n",
            "for k = 9 model's accuracy score is: 0.72\n",
            "for k = 10 model's accuracy score is: 0.73\n",
            "for k = 11 model's accuracy score is: 0.72\n",
            "for k = 12 model's accuracy score is: 0.76\n",
            "for k = 13 model's accuracy score is: 0.76\n",
            "for k = 14 model's accuracy score is: 0.76\n",
            "for k = 15 model's accuracy score is: 0.77\n",
            "for k = 16 model's accuracy score is: 0.76\n",
            "for k = 17 model's accuracy score is: 0.77\n",
            "for k = 18 model's accuracy score is: 0.78\n",
            "for k = 19 model's accuracy score is: 0.77\n",
            "for k = 20 model's accuracy score is: 0.76\n"
          ]
        }
      ]
    },
    {
      "cell_type": "markdown",
      "source": [
        "KNN model\n"
      ],
      "metadata": {
        "id": "Ms0L5O6slkk9"
      }
    },
    {
      "cell_type": "code",
      "source": [
        "knn_3 = KNeighborsClassifier(n_neighbors=7)\n",
        "knn_3.fit(Xd_train, yd_train)\n",
        "y_pred_knn_3 = knn_3.predict(Xd_test)"
      ],
      "metadata": {
        "id": "n6SBviALCPyB"
      },
      "execution_count": 98,
      "outputs": []
    },
    {
      "cell_type": "code",
      "source": [
        "from sklearn.metrics import confusion_matrix\n",
        "confusion_matrix(yd_test, y_pred_knn_3)"
      ],
      "metadata": {
        "id": "zdv1HVPJjFot",
        "outputId": "986835ef-9655-408c-87a8-0ab7fb616038",
        "colab": {
          "base_uri": "https://localhost:8080/"
        }
      },
      "execution_count": 99,
      "outputs": [
        {
          "output_type": "execute_result",
          "data": {
            "text/plain": [
              "array([[101,  21],\n",
              "       [ 31,  39]])"
            ]
          },
          "metadata": {},
          "execution_count": 99
        }
      ]
    },
    {
      "cell_type": "code",
      "source": [
        "from sklearn.metrics import plot_confusion_matrix\n",
        "plot_confusion_matrix(knn_3,Xd_test, yd_test,cmap=plt.cm.Blues)"
      ],
      "metadata": {
        "id": "YJFXnzCekAwR",
        "outputId": "c8eb2f01-8cb7-4755-eb75-60e6fe9b1039",
        "colab": {
          "base_uri": "https://localhost:8080/",
          "height": 356
        }
      },
      "execution_count": 100,
      "outputs": [
        {
          "output_type": "stream",
          "name": "stderr",
          "text": [
            "/usr/local/lib/python3.7/dist-packages/sklearn/utils/deprecation.py:87: FutureWarning: Function plot_confusion_matrix is deprecated; Function `plot_confusion_matrix` is deprecated in 1.0 and will be removed in 1.2. Use one of the class methods: ConfusionMatrixDisplay.from_predictions or ConfusionMatrixDisplay.from_estimator.\n",
            "  warnings.warn(msg, category=FutureWarning)\n"
          ]
        },
        {
          "output_type": "execute_result",
          "data": {
            "text/plain": [
              "<sklearn.metrics._plot.confusion_matrix.ConfusionMatrixDisplay at 0x7f5b8d8d1090>"
            ]
          },
          "metadata": {},
          "execution_count": 100
        },
        {
          "output_type": "display_data",
          "data": {
            "text/plain": [
              "<Figure size 432x288 with 2 Axes>"
            ],
            "image/png": "[encoded data removed]"
          },
          "metadata": {
            "needs_background": "light"
          }
        }
      ]
    },
    {
      "cell_type": "code",
      "source": [
        "from sklearn.metrics import recall_score\n",
        " \n",
        "print(\"Recall of knn_3 model:\", round(recall_score(yd_test, y_pred_knn_3,),3))"
      ],
      "metadata": {
        "id": "7DJplPwJkL47",
        "outputId": "ee0d2ea3-a8c3-472e-8806-a9aec1569016",
        "colab": {
          "base_uri": "https://localhost:8080/"
        }
      },
      "execution_count": 101,
      "outputs": [
        {
          "output_type": "stream",
          "name": "stdout",
          "text": [
            "Recall of knn_3 model: 0.557\n"
          ]
        }
      ]
    },
    {
      "cell_type": "code",
      "source": [
        "from sklearn.metrics import classification_report\n",
        "target_names = ['class 0', 'class 1']\n",
        "print(classification_report(yd_test, y_pred_knn_3, target_names=target_names))"
      ],
      "metadata": {
        "id": "Unm1zmPenGKb",
        "outputId": "d872f8a6-d059-46ad-bc68-9b4654cbff0e",
        "colab": {
          "base_uri": "https://localhost:8080/"
        }
      },
      "execution_count": 102,
      "outputs": [
        {
          "output_type": "stream",
          "name": "stdout",
          "text": [
            "              precision    recall  f1-score   support\n",
            "\n",
            "     class 0       0.77      0.83      0.80       122\n",
            "     class 1       0.65      0.56      0.60        70\n",
            "\n",
            "    accuracy                           0.73       192\n",
            "   macro avg       0.71      0.69      0.70       192\n",
            "weighted avg       0.72      0.73      0.72       192\n",
            "\n"
          ]
        }
      ]
    },
    {
      "cell_type": "markdown",
      "source": [
        "Tree Model \n"
      ],
      "metadata": {
        "id": "yUgcsCK5lnuu"
      }
    },
    {
      "cell_type": "code",
      "source": [
        "from sklearn.metrics import confusion_matrix\n",
        "confusion_matrix(yd_test, y_pred_tr2)"
      ],
      "metadata": {
        "id": "F4kzBya1kgAp",
        "outputId": "c9443d60-c97c-460c-b8b6-906cdb6c327b",
        "colab": {
          "base_uri": "https://localhost:8080/"
        }
      },
      "execution_count": 103,
      "outputs": [
        {
          "output_type": "execute_result",
          "data": {
            "text/plain": [
              "array([[103,  19],\n",
              "       [ 30,  40]])"
            ]
          },
          "metadata": {},
          "execution_count": 103
        }
      ]
    },
    {
      "cell_type": "code",
      "source": [
        "from sklearn.metrics import plot_confusion_matrix\n",
        "plot_confusion_matrix(dtree_2,Xd_test, yd_test,cmap=plt.cm.Blues)"
      ],
      "metadata": {
        "id": "-NGtOUSMlu1x",
        "outputId": "5157ff63-0d8a-447e-ff34-51f044dc1c3d",
        "colab": {
          "base_uri": "https://localhost:8080/",
          "height": 354
        }
      },
      "execution_count": 104,
      "outputs": [
        {
          "output_type": "stream",
          "name": "stderr",
          "text": [
            "/usr/local/lib/python3.7/dist-packages/sklearn/utils/deprecation.py:87: FutureWarning: Function plot_confusion_matrix is deprecated; Function `plot_confusion_matrix` is deprecated in 1.0 and will be removed in 1.2. Use one of the class methods: ConfusionMatrixDisplay.from_predictions or ConfusionMatrixDisplay.from_estimator.\n",
            "  warnings.warn(msg, category=FutureWarning)\n"
          ]
        },
        {
          "output_type": "execute_result",
          "data": {
            "text/plain": [
              "<sklearn.metrics._plot.confusion_matrix.ConfusionMatrixDisplay at 0x7f5b8d787510>"
            ]
          },
          "metadata": {},
          "execution_count": 104
        },
        {
          "output_type": "display_data",
          "data": {
            "text/plain": [
              "<Figure size 432x288 with 2 Axes>"
            ],
            "image/png": "[encoded data removed]"
          },
          "metadata": {
            "needs_background": "light"
          }
        }
      ]
    },
    {
      "cell_type": "code",
      "source": [
        "from sklearn.metrics import recall_score\n",
        " \n",
        "print(\"Recall of dtree_2 model:\", round(recall_score(yd_test, y_pred_tr2),3))"
      ],
      "metadata": {
        "id": "pyHPtcyilyg4",
        "outputId": "bf5920ee-c280-48f2-e769-d04ef03a5943",
        "colab": {
          "base_uri": "https://localhost:8080/"
        }
      },
      "execution_count": 105,
      "outputs": [
        {
          "output_type": "stream",
          "name": "stdout",
          "text": [
            "Recall of dtree_2 model: 0.571\n"
          ]
        }
      ]
    },
    {
      "cell_type": "code",
      "source": [
        "from sklearn.metrics import classification_report\n",
        "target_names = ['class 0', 'class 1']\n",
        "print(classification_report(yd_test, y_pred_tr2, target_names=target_names))"
      ],
      "metadata": {
        "id": "XieWaJMzl90J",
        "outputId": "a1005bde-8293-4579-f455-e2eeab4135c0",
        "colab": {
          "base_uri": "https://localhost:8080/"
        }
      },
      "execution_count": 106,
      "outputs": [
        {
          "output_type": "stream",
          "name": "stdout",
          "text": [
            "              precision    recall  f1-score   support\n",
            "\n",
            "     class 0       0.77      0.84      0.81       122\n",
            "     class 1       0.68      0.57      0.62        70\n",
            "\n",
            "    accuracy                           0.74       192\n",
            "   macro avg       0.73      0.71      0.71       192\n",
            "weighted avg       0.74      0.74      0.74       192\n",
            "\n"
          ]
        }
      ]
    },
    {
      "cell_type": "code",
      "source": [
        ""
      ],
      "metadata": {
        "id": "cFy2u6RInU9I"
      },
      "execution_count": null,
      "outputs": []
    }
  ],
  "metadata": {
    "colab": {
      "collapsed_sections": [],
      "name": "AIDL_03_Lab_7_KNN.ipynb",
      "provenance": [],
      "include_colab_link": true
    },
    "kernelspec": {
      "display_name": "Python 3",
      "language": "python",
      "name": "python3"
    },
    "language_info": {
      "codemirror_mode": {
        "name": "ipython",
        "version": 3
      },
      "file_extension": ".py",
      "mimetype": "text/x-python",
      "name": "python",
      "nbconvert_exporter": "python",
      "pygments_lexer": "ipython3",
      "version": "3.7.11"
    },
    "toc": {
      "base_numbering": 1,
      "nav_menu": {},
      "number_sections": false,
      "sideBar": true,
      "skip_h1_title": false,
      "title_cell": "Table of Contents",
      "title_sidebar": "Contents",
      "toc_cell": false,
      "toc_position": {},
      "toc_section_display": true,
      "toc_window_display": false
    },
    "varInspector": {
      "cols": {
        "lenName": 16,
        "lenType": 16,
        "lenVar": 40
      },
      "kernels_config": {
        "python": {
          "delete_cmd_postfix": "",
          "delete_cmd_prefix": "del ",
          "library": "var_list.py",
          "varRefreshCmd": "print(var_dic_list())"
        },
        "r": {
          "delete_cmd_postfix": ") ",
          "delete_cmd_prefix": "rm(",
          "library": "var_list.r",
          "varRefreshCmd": "cat(var_dic_list()) "
        }
      },
      "types_to_exclude": [
        "module",
        "function",
        "builtin_function_or_method",
        "instance",
        "_Feature"
      ],
      "window_display": false
    }
  },
  "nbformat": 4,
  "nbformat_minor": 0
}