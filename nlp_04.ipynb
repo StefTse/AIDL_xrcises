{
  "cells": [
    {
      "cell_type": "markdown",
      "metadata": {
        "id": "view-in-github",
        "colab_type": "text"
      },
      "source": [
        "<a href=\"https://colab.research.google.com/github/StefTse/AIDL_xrcises/blob/main/nlp_04.ipynb\" target=\"_parent\"><img src=\"https://colab.research.google.com/assets/colab-badge.svg\" alt=\"Open In Colab\"/></a>"
      ]
    },
    {
      "cell_type": "markdown",
      "metadata": {
        "id": "hfJ5-x1CUA29"
      },
      "source": [
        "##Assignment for AIDL_B_C021 (NLP): Intent Classification for Q&As\n",
        "####Stefanos_Tsemperlidis_0035"
      ]
    },
    {
      "cell_type": "markdown",
      "metadata": {
        "id": "YBJj3dHqUdUC"
      },
      "source": [
        "1. Preprocessing"
      ]
    },
    {
      "cell_type": "code",
      "execution_count": 1,
      "metadata": {
        "colab": {
          "base_uri": "https://localhost:8080/"
        },
        "id": "x2xbIQmqGcIa",
        "outputId": "0218fbc5-2bac-4393-9ed2-71b6c6cde4c0"
      },
      "outputs": [
        {
          "output_type": "stream",
          "name": "stdout",
          "text": [
            "Index(['ID', 'Question', 'Intent'], dtype='object')\n",
            "\n",
            "(4482, 3)\n",
            "         ID                                         Question      Intent\n",
            "0  000_0018                          Is there a parking lot?  Irrelevant\n",
            "1  001_0018                            Is this program easy?  Irrelevant\n",
            "2  002_0018                 Do most students pass the exams?  Irrelevant\n",
            "3  003_0018        How many students are currently enrolled?  Irrelevant\n",
            "4  004_0018  Are there any buses from university to Piraeus?  Irrelevant\n",
            "\n"
          ]
        },
        {
          "output_type": "execute_result",
          "data": {
            "text/plain": [
              "ID          object\n",
              "Question    object\n",
              "Intent      object\n",
              "dtype: object"
            ]
          },
          "metadata": {},
          "execution_count": 1
        }
      ],
      "source": [
        "#Import modules and data\n",
        "import pandas as pd\n",
        "import numpy as np\n",
        "import tensorflow as tf\n",
        "from sklearn.model_selection import train_test_split\n",
        "from tensorflow.keras.preprocessing.text import Tokenizer\n",
        "from tensorflow.keras.preprocessing.sequence import pad_sequences\n",
        "from tensorflow.keras.layers import Embedding, LSTM, Dense, Dropout\n",
        "from tensorflow.keras.optimizers import Adam\n",
        "from tensorflow.keras.models import Sequential\n",
        "from sklearn.metrics import classification_report\n",
        "\n",
        "data=pd.read_csv('/content/cs01_dataset.csv')\n",
        "\n",
        "print(data.columns)\n",
        "print('')\n",
        "print(data.shape)\n",
        "print(data.head())\n",
        "print('')\n",
        "data.dtypes"
      ]
    },
    {
      "cell_type": "code",
      "execution_count": 2,
      "metadata": {
        "colab": {
          "base_uri": "https://localhost:8080/",
          "height": 204
        },
        "id": "R94DaiP5HAKd",
        "outputId": "bcd848db-9212-4417-8f3a-497109432999"
      },
      "outputs": [
        {
          "output_type": "execute_result",
          "data": {
            "text/plain": [
              "                                          Question      Intent\n",
              "0                          Is there a parking lot?  Irrelevant\n",
              "1                            Is this program easy?  Irrelevant\n",
              "2                 Do most students pass the exams?  Irrelevant\n",
              "3        How many students are currently enrolled?  Irrelevant\n",
              "4  Are there any buses from university to Piraeus?  Irrelevant"
            ],
            "text/html": [
              "\n",
              "  <div id=\"df-e613b8d7-50b2-4234-a9ab-ad59e5504b7c\">\n",
              "    <div class=\"colab-df-container\">\n",
              "      <div>\n",
              "<style scoped>\n",
              "    .dataframe tbody tr th:only-of-type {\n",
              "        vertical-align: middle;\n",
              "    }\n",
              "\n",
              "    .dataframe tbody tr th {\n",
              "        vertical-align: top;\n",
              "    }\n",
              "\n",
              "    .dataframe thead th {\n",
              "        text-align: right;\n",
              "    }\n",
              "</style>\n",
              "<table border=\"1\" class=\"dataframe\">\n",
              "  <thead>\n",
              "    <tr style=\"text-align: right;\">\n",
              "      <th></th>\n",
              "      <th>Question</th>\n",
              "      <th>Intent</th>\n",
              "    </tr>\n",
              "  </thead>\n",
              "  <tbody>\n",
              "    <tr>\n",
              "      <th>0</th>\n",
              "      <td>Is there a parking lot?</td>\n",
              "      <td>Irrelevant</td>\n",
              "    </tr>\n",
              "    <tr>\n",
              "      <th>1</th>\n",
              "      <td>Is this program easy?</td>\n",
              "      <td>Irrelevant</td>\n",
              "    </tr>\n",
              "    <tr>\n",
              "      <th>2</th>\n",
              "      <td>Do most students pass the exams?</td>\n",
              "      <td>Irrelevant</td>\n",
              "    </tr>\n",
              "    <tr>\n",
              "      <th>3</th>\n",
              "      <td>How many students are currently enrolled?</td>\n",
              "      <td>Irrelevant</td>\n",
              "    </tr>\n",
              "    <tr>\n",
              "      <th>4</th>\n",
              "      <td>Are there any buses from university to Piraeus?</td>\n",
              "      <td>Irrelevant</td>\n",
              "    </tr>\n",
              "  </tbody>\n",
              "</table>\n",
              "</div>\n",
              "      <button class=\"colab-df-convert\" onclick=\"convertToInteractive('df-e613b8d7-50b2-4234-a9ab-ad59e5504b7c')\"\n",
              "              title=\"Convert this dataframe to an interactive table.\"\n",
              "              style=\"display:none;\">\n",
              "        \n",
              "  <svg xmlns=\"http://www.w3.org/2000/svg\" height=\"24px\"viewBox=\"0 0 24 24\"\n",
              "       width=\"24px\">\n",
              "    <path d=\"M0 0h24v24H0V0z\" fill=\"none\"/>\n",
              "    <path d=\"M18.56 5.44l.94 2.06.94-2.06 2.06-.94-2.06-.94-.94-2.06-.94 2.06-2.06.94zm-11 1L8.5 8.5l.94-2.06 2.06-.94-2.06-.94L8.5 2.5l-.94 2.06-2.06.94zm10 10l.94 2.06.94-2.06 2.06-.94-2.06-.94-.94-2.06-.94 2.06-2.06.94z\"/><path d=\"M17.41 7.96l-1.37-1.37c-.4-.4-.92-.59-1.43-.59-.52 0-1.04.2-1.43.59L10.3 9.45l-7.72 7.72c-.78.78-.78 2.05 0 2.83L4 21.41c.39.39.9.59 1.41.59.51 0 1.02-.2 1.41-.59l7.78-7.78 2.81-2.81c.8-.78.8-2.07 0-2.86zM5.41 20L4 18.59l7.72-7.72 1.47 1.35L5.41 20z\"/>\n",
              "  </svg>\n",
              "      </button>\n",
              "      \n",
              "  <style>\n",
              "    .colab-df-container {\n",
              "      display:flex;\n",
              "      flex-wrap:wrap;\n",
              "      gap: 12px;\n",
              "    }\n",
              "\n",
              "    .colab-df-convert {\n",
              "      background-color: #E8F0FE;\n",
              "      border: none;\n",
              "      border-radius: 50%;\n",
              "      cursor: pointer;\n",
              "      display: none;\n",
              "      fill: #1967D2;\n",
              "      height: 32px;\n",
              "      padding: 0 0 0 0;\n",
              "      width: 32px;\n",
              "    }\n",
              "\n",
              "    .colab-df-convert:hover {\n",
              "      background-color: #E2EBFA;\n",
              "      box-shadow: 0px 1px 2px rgba(60, 64, 67, 0.3), 0px 1px 3px 1px rgba(60, 64, 67, 0.15);\n",
              "      fill: #174EA6;\n",
              "    }\n",
              "\n",
              "    [theme=dark] .colab-df-convert {\n",
              "      background-color: #3B4455;\n",
              "      fill: #D2E3FC;\n",
              "    }\n",
              "\n",
              "    [theme=dark] .colab-df-convert:hover {\n",
              "      background-color: #434B5C;\n",
              "      box-shadow: 0px 1px 3px 1px rgba(0, 0, 0, 0.15);\n",
              "      filter: drop-shadow(0px 1px 2px rgba(0, 0, 0, 0.3));\n",
              "      fill: #FFFFFF;\n",
              "    }\n",
              "  </style>\n",
              "\n",
              "      <script>\n",
              "        const buttonEl =\n",
              "          document.querySelector('#df-e613b8d7-50b2-4234-a9ab-ad59e5504b7c button.colab-df-convert');\n",
              "        buttonEl.style.display =\n",
              "          google.colab.kernel.accessAllowed ? 'block' : 'none';\n",
              "\n",
              "        async function convertToInteractive(key) {\n",
              "          const element = document.querySelector('#df-e613b8d7-50b2-4234-a9ab-ad59e5504b7c');\n",
              "          const dataTable =\n",
              "            await google.colab.kernel.invokeFunction('convertToInteractive',\n",
              "                                                     [key], {});\n",
              "          if (!dataTable) return;\n",
              "\n",
              "          const docLinkHtml = 'Like what you see? Visit the ' +\n",
              "            '<a target=\"_blank\" href=https://colab.research.google.com/notebooks/data_table.ipynb>data table notebook</a>'\n",
              "            + ' to learn more about interactive tables.';\n",
              "          element.innerHTML = '';\n",
              "          dataTable['output_type'] = 'display_data';\n",
              "          await google.colab.output.renderOutput(dataTable, element);\n",
              "          const docLink = document.createElement('div');\n",
              "          docLink.innerHTML = docLinkHtml;\n",
              "          element.appendChild(docLink);\n",
              "        }\n",
              "      </script>\n",
              "    </div>\n",
              "  </div>\n",
              "  "
            ]
          },
          "metadata": {},
          "execution_count": 2
        }
      ],
      "source": [
        "#Remove \"ID\"\n",
        "data_01=data[[\"Question\",'Intent']]\n",
        "data_01.head()"
      ]
    },
    {
      "cell_type": "code",
      "execution_count": 3,
      "metadata": {
        "colab": {
          "base_uri": "https://localhost:8080/"
        },
        "id": "BNFHEqhvHh28",
        "outputId": "33a3c12f-3372-43cd-e0cd-4d3bb92367f0"
      },
      "outputs": [
        {
          "output_type": "execute_result",
          "data": {
            "text/plain": [
              "Question    0\n",
              "Intent      0\n",
              "dtype: int64"
            ]
          },
          "metadata": {},
          "execution_count": 3
        }
      ],
      "source": [
        "data_01.isnull().sum()"
      ]
    },
    {
      "cell_type": "code",
      "execution_count": 4,
      "metadata": {
        "colab": {
          "base_uri": "https://localhost:8080/"
        },
        "id": "PXUE_EWFEZYF",
        "outputId": "dd83df21-ae7d-4021-9fb3-6784d3aafcaf"
      },
      "outputs": [
        {
          "output_type": "execute_result",
          "data": {
            "text/plain": [
              "(4403, 2)"
            ]
          },
          "metadata": {},
          "execution_count": 4
        }
      ],
      "source": [
        "#Remove duplicates\n",
        "data_02=data_01.drop_duplicates(subset=['Question'])\n",
        "data_02.shape"
      ]
    },
    {
      "cell_type": "code",
      "execution_count": 5,
      "metadata": {
        "colab": {
          "base_uri": "https://localhost:8080/"
        },
        "id": "qRbs76q6Hkc0",
        "outputId": "2e131798-e299-4201-fbf2-c0e8c07e0960"
      },
      "outputs": [
        {
          "output_type": "stream",
          "name": "stdout",
          "text": [
            "Instances per intent\n",
            "Instructors     571\n",
            "Curriculum      529\n",
            "Irrelevant      445\n",
            "Applications    440\n",
            "Schedule        437\n",
            "Documents       430\n",
            "Contact         424\n",
            "Fees            397\n",
            "Invited         365\n",
            "Registry        365\n",
            "Name: Intent, dtype: int64\n",
            "\n",
            "Intent percentage (%)\n",
            "Instructors     13.0\n",
            "Curriculum      12.0\n",
            "Irrelevant      10.0\n",
            "Applications    10.0\n",
            "Schedule        10.0\n",
            "Documents       10.0\n",
            "Contact         10.0\n",
            "Fees             9.0\n",
            "Invited          8.0\n",
            "Registry         8.0\n",
            "Name: Intent, dtype: float64\n"
          ]
        }
      ],
      "source": [
        "#Check instances \n",
        "print('Instances per intent')\n",
        "print(data_02['Intent'].value_counts())\n",
        "x=data_02['Intent'].value_counts()\n",
        "y=(x/4403)*100\n",
        "print('')\n",
        "print('Intent percentage (%)')\n",
        "print(round(y,0))"
      ]
    },
    {
      "cell_type": "code",
      "execution_count": 6,
      "metadata": {
        "colab": {
          "base_uri": "https://localhost:8080/",
          "height": 204
        },
        "id": "J_iYZ2QiHnRN",
        "outputId": "fab9251b-f343-4c98-f9b1-e912c6c351f8"
      },
      "outputs": [
        {
          "output_type": "execute_result",
          "data": {
            "text/plain": [
              "                                          Question      Intent\n",
              "0                          Is there a parking lot?  Irrelevant\n",
              "1                            Is this program easy?  Irrelevant\n",
              "2                 Do most students pass the exams?  Irrelevant\n",
              "3        How many students are currently enrolled?  Irrelevant\n",
              "4  Are there any buses from university to Piraeus?  Irrelevant"
            ],
            "text/html": [
              "\n",
              "  <div id=\"df-5a16b5f0-d4c0-44c8-81b1-e44213a70d1c\">\n",
              "    <div class=\"colab-df-container\">\n",
              "      <div>\n",
              "<style scoped>\n",
              "    .dataframe tbody tr th:only-of-type {\n",
              "        vertical-align: middle;\n",
              "    }\n",
              "\n",
              "    .dataframe tbody tr th {\n",
              "        vertical-align: top;\n",
              "    }\n",
              "\n",
              "    .dataframe thead th {\n",
              "        text-align: right;\n",
              "    }\n",
              "</style>\n",
              "<table border=\"1\" class=\"dataframe\">\n",
              "  <thead>\n",
              "    <tr style=\"text-align: right;\">\n",
              "      <th></th>\n",
              "      <th>Question</th>\n",
              "      <th>Intent</th>\n",
              "    </tr>\n",
              "  </thead>\n",
              "  <tbody>\n",
              "    <tr>\n",
              "      <th>0</th>\n",
              "      <td>Is there a parking lot?</td>\n",
              "      <td>Irrelevant</td>\n",
              "    </tr>\n",
              "    <tr>\n",
              "      <th>1</th>\n",
              "      <td>Is this program easy?</td>\n",
              "      <td>Irrelevant</td>\n",
              "    </tr>\n",
              "    <tr>\n",
              "      <th>2</th>\n",
              "      <td>Do most students pass the exams?</td>\n",
              "      <td>Irrelevant</td>\n",
              "    </tr>\n",
              "    <tr>\n",
              "      <th>3</th>\n",
              "      <td>How many students are currently enrolled?</td>\n",
              "      <td>Irrelevant</td>\n",
              "    </tr>\n",
              "    <tr>\n",
              "      <th>4</th>\n",
              "      <td>Are there any buses from university to Piraeus?</td>\n",
              "      <td>Irrelevant</td>\n",
              "    </tr>\n",
              "  </tbody>\n",
              "</table>\n",
              "</div>\n",
              "      <button class=\"colab-df-convert\" onclick=\"convertToInteractive('df-5a16b5f0-d4c0-44c8-81b1-e44213a70d1c')\"\n",
              "              title=\"Convert this dataframe to an interactive table.\"\n",
              "              style=\"display:none;\">\n",
              "        \n",
              "  <svg xmlns=\"http://www.w3.org/2000/svg\" height=\"24px\"viewBox=\"0 0 24 24\"\n",
              "       width=\"24px\">\n",
              "    <path d=\"M0 0h24v24H0V0z\" fill=\"none\"/>\n",
              "    <path d=\"M18.56 5.44l.94 2.06.94-2.06 2.06-.94-2.06-.94-.94-2.06-.94 2.06-2.06.94zm-11 1L8.5 8.5l.94-2.06 2.06-.94-2.06-.94L8.5 2.5l-.94 2.06-2.06.94zm10 10l.94 2.06.94-2.06 2.06-.94-2.06-.94-.94-2.06-.94 2.06-2.06.94z\"/><path d=\"M17.41 7.96l-1.37-1.37c-.4-.4-.92-.59-1.43-.59-.52 0-1.04.2-1.43.59L10.3 9.45l-7.72 7.72c-.78.78-.78 2.05 0 2.83L4 21.41c.39.39.9.59 1.41.59.51 0 1.02-.2 1.41-.59l7.78-7.78 2.81-2.81c.8-.78.8-2.07 0-2.86zM5.41 20L4 18.59l7.72-7.72 1.47 1.35L5.41 20z\"/>\n",
              "  </svg>\n",
              "      </button>\n",
              "      \n",
              "  <style>\n",
              "    .colab-df-container {\n",
              "      display:flex;\n",
              "      flex-wrap:wrap;\n",
              "      gap: 12px;\n",
              "    }\n",
              "\n",
              "    .colab-df-convert {\n",
              "      background-color: #E8F0FE;\n",
              "      border: none;\n",
              "      border-radius: 50%;\n",
              "      cursor: pointer;\n",
              "      display: none;\n",
              "      fill: #1967D2;\n",
              "      height: 32px;\n",
              "      padding: 0 0 0 0;\n",
              "      width: 32px;\n",
              "    }\n",
              "\n",
              "    .colab-df-convert:hover {\n",
              "      background-color: #E2EBFA;\n",
              "      box-shadow: 0px 1px 2px rgba(60, 64, 67, 0.3), 0px 1px 3px 1px rgba(60, 64, 67, 0.15);\n",
              "      fill: #174EA6;\n",
              "    }\n",
              "\n",
              "    [theme=dark] .colab-df-convert {\n",
              "      background-color: #3B4455;\n",
              "      fill: #D2E3FC;\n",
              "    }\n",
              "\n",
              "    [theme=dark] .colab-df-convert:hover {\n",
              "      background-color: #434B5C;\n",
              "      box-shadow: 0px 1px 3px 1px rgba(0, 0, 0, 0.15);\n",
              "      filter: drop-shadow(0px 1px 2px rgba(0, 0, 0, 0.3));\n",
              "      fill: #FFFFFF;\n",
              "    }\n",
              "  </style>\n",
              "\n",
              "      <script>\n",
              "        const buttonEl =\n",
              "          document.querySelector('#df-5a16b5f0-d4c0-44c8-81b1-e44213a70d1c button.colab-df-convert');\n",
              "        buttonEl.style.display =\n",
              "          google.colab.kernel.accessAllowed ? 'block' : 'none';\n",
              "\n",
              "        async function convertToInteractive(key) {\n",
              "          const element = document.querySelector('#df-5a16b5f0-d4c0-44c8-81b1-e44213a70d1c');\n",
              "          const dataTable =\n",
              "            await google.colab.kernel.invokeFunction('convertToInteractive',\n",
              "                                                     [key], {});\n",
              "          if (!dataTable) return;\n",
              "\n",
              "          const docLinkHtml = 'Like what you see? Visit the ' +\n",
              "            '<a target=\"_blank\" href=https://colab.research.google.com/notebooks/data_table.ipynb>data table notebook</a>'\n",
              "            + ' to learn more about interactive tables.';\n",
              "          element.innerHTML = '';\n",
              "          dataTable['output_type'] = 'display_data';\n",
              "          await google.colab.output.renderOutput(dataTable, element);\n",
              "          const docLink = document.createElement('div');\n",
              "          docLink.innerHTML = docLinkHtml;\n",
              "          element.appendChild(docLink);\n",
              "        }\n",
              "      </script>\n",
              "    </div>\n",
              "  </div>\n",
              "  "
            ]
          },
          "metadata": {},
          "execution_count": 6
        }
      ],
      "source": [
        "data_02.head()"
      ]
    },
    {
      "cell_type": "code",
      "execution_count": 7,
      "metadata": {
        "colab": {
          "base_uri": "https://localhost:8080/",
          "height": 204
        },
        "id": "3wjLJyOkHpsy",
        "outputId": "d7ad8910-cca3-4028-a9ec-9c84741ce183"
      },
      "outputs": [
        {
          "output_type": "execute_result",
          "data": {
            "text/plain": [
              "                                          Question  Intent\n",
              "0                          Is there a parking lot?       2\n",
              "1                            Is this program easy?       2\n",
              "2                 Do most students pass the exams?       2\n",
              "3        How many students are currently enrolled?       2\n",
              "4  Are there any buses from university to Piraeus?       2"
            ],
            "text/html": [
              "\n",
              "  <div id=\"df-b4e1512e-b84f-40be-87f6-d09324fd6ad1\">\n",
              "    <div class=\"colab-df-container\">\n",
              "      <div>\n",
              "<style scoped>\n",
              "    .dataframe tbody tr th:only-of-type {\n",
              "        vertical-align: middle;\n",
              "    }\n",
              "\n",
              "    .dataframe tbody tr th {\n",
              "        vertical-align: top;\n",
              "    }\n",
              "\n",
              "    .dataframe thead th {\n",
              "        text-align: right;\n",
              "    }\n",
              "</style>\n",
              "<table border=\"1\" class=\"dataframe\">\n",
              "  <thead>\n",
              "    <tr style=\"text-align: right;\">\n",
              "      <th></th>\n",
              "      <th>Question</th>\n",
              "      <th>Intent</th>\n",
              "    </tr>\n",
              "  </thead>\n",
              "  <tbody>\n",
              "    <tr>\n",
              "      <th>0</th>\n",
              "      <td>Is there a parking lot?</td>\n",
              "      <td>2</td>\n",
              "    </tr>\n",
              "    <tr>\n",
              "      <th>1</th>\n",
              "      <td>Is this program easy?</td>\n",
              "      <td>2</td>\n",
              "    </tr>\n",
              "    <tr>\n",
              "      <th>2</th>\n",
              "      <td>Do most students pass the exams?</td>\n",
              "      <td>2</td>\n",
              "    </tr>\n",
              "    <tr>\n",
              "      <th>3</th>\n",
              "      <td>How many students are currently enrolled?</td>\n",
              "      <td>2</td>\n",
              "    </tr>\n",
              "    <tr>\n",
              "      <th>4</th>\n",
              "      <td>Are there any buses from university to Piraeus?</td>\n",
              "      <td>2</td>\n",
              "    </tr>\n",
              "  </tbody>\n",
              "</table>\n",
              "</div>\n",
              "      <button class=\"colab-df-convert\" onclick=\"convertToInteractive('df-b4e1512e-b84f-40be-87f6-d09324fd6ad1')\"\n",
              "              title=\"Convert this dataframe to an interactive table.\"\n",
              "              style=\"display:none;\">\n",
              "        \n",
              "  <svg xmlns=\"http://www.w3.org/2000/svg\" height=\"24px\"viewBox=\"0 0 24 24\"\n",
              "       width=\"24px\">\n",
              "    <path d=\"M0 0h24v24H0V0z\" fill=\"none\"/>\n",
              "    <path d=\"M18.56 5.44l.94 2.06.94-2.06 2.06-.94-2.06-.94-.94-2.06-.94 2.06-2.06.94zm-11 1L8.5 8.5l.94-2.06 2.06-.94-2.06-.94L8.5 2.5l-.94 2.06-2.06.94zm10 10l.94 2.06.94-2.06 2.06-.94-2.06-.94-.94-2.06-.94 2.06-2.06.94z\"/><path d=\"M17.41 7.96l-1.37-1.37c-.4-.4-.92-.59-1.43-.59-.52 0-1.04.2-1.43.59L10.3 9.45l-7.72 7.72c-.78.78-.78 2.05 0 2.83L4 21.41c.39.39.9.59 1.41.59.51 0 1.02-.2 1.41-.59l7.78-7.78 2.81-2.81c.8-.78.8-2.07 0-2.86zM5.41 20L4 18.59l7.72-7.72 1.47 1.35L5.41 20z\"/>\n",
              "  </svg>\n",
              "      </button>\n",
              "      \n",
              "  <style>\n",
              "    .colab-df-container {\n",
              "      display:flex;\n",
              "      flex-wrap:wrap;\n",
              "      gap: 12px;\n",
              "    }\n",
              "\n",
              "    .colab-df-convert {\n",
              "      background-color: #E8F0FE;\n",
              "      border: none;\n",
              "      border-radius: 50%;\n",
              "      cursor: pointer;\n",
              "      display: none;\n",
              "      fill: #1967D2;\n",
              "      height: 32px;\n",
              "      padding: 0 0 0 0;\n",
              "      width: 32px;\n",
              "    }\n",
              "\n",
              "    .colab-df-convert:hover {\n",
              "      background-color: #E2EBFA;\n",
              "      box-shadow: 0px 1px 2px rgba(60, 64, 67, 0.3), 0px 1px 3px 1px rgba(60, 64, 67, 0.15);\n",
              "      fill: #174EA6;\n",
              "    }\n",
              "\n",
              "    [theme=dark] .colab-df-convert {\n",
              "      background-color: #3B4455;\n",
              "      fill: #D2E3FC;\n",
              "    }\n",
              "\n",
              "    [theme=dark] .colab-df-convert:hover {\n",
              "      background-color: #434B5C;\n",
              "      box-shadow: 0px 1px 3px 1px rgba(0, 0, 0, 0.15);\n",
              "      filter: drop-shadow(0px 1px 2px rgba(0, 0, 0, 0.3));\n",
              "      fill: #FFFFFF;\n",
              "    }\n",
              "  </style>\n",
              "\n",
              "      <script>\n",
              "        const buttonEl =\n",
              "          document.querySelector('#df-b4e1512e-b84f-40be-87f6-d09324fd6ad1 button.colab-df-convert');\n",
              "        buttonEl.style.display =\n",
              "          google.colab.kernel.accessAllowed ? 'block' : 'none';\n",
              "\n",
              "        async function convertToInteractive(key) {\n",
              "          const element = document.querySelector('#df-b4e1512e-b84f-40be-87f6-d09324fd6ad1');\n",
              "          const dataTable =\n",
              "            await google.colab.kernel.invokeFunction('convertToInteractive',\n",
              "                                                     [key], {});\n",
              "          if (!dataTable) return;\n",
              "\n",
              "          const docLinkHtml = 'Like what you see? Visit the ' +\n",
              "            '<a target=\"_blank\" href=https://colab.research.google.com/notebooks/data_table.ipynb>data table notebook</a>'\n",
              "            + ' to learn more about interactive tables.';\n",
              "          element.innerHTML = '';\n",
              "          dataTable['output_type'] = 'display_data';\n",
              "          await google.colab.output.renderOutput(dataTable, element);\n",
              "          const docLink = document.createElement('div');\n",
              "          docLink.innerHTML = docLinkHtml;\n",
              "          element.appendChild(docLink);\n",
              "        }\n",
              "      </script>\n",
              "    </div>\n",
              "  </div>\n",
              "  "
            ]
          },
          "metadata": {},
          "execution_count": 7
        }
      ],
      "source": [
        "# Replacing intent text values to numerical \n",
        "data_03=data_02.replace({\"Instructors\":0,\"Curriculum\":1,\"Irrelevant\":2, \"Applications\":3, \"Schedule\":4, \n",
        "                         \"Documents\":5, \"Contact\":6, \"Fees\":7, \"Invited\":8, \"Registry\":9 })\n",
        "data_03.head()"
      ]
    },
    {
      "cell_type": "code",
      "execution_count": 8,
      "metadata": {
        "id": "mwgWsdtRHuj8"
      },
      "outputs": [],
      "source": [
        "# train, validation and test split dataset\n",
        "x_train, x_test, y_train, y_test = train_test_split(data_03[\"Question\"], data_03[\"Intent\"], test_size = 0.1, shuffle=True, random_state = 1)\n",
        "x_train, x_val, y_train, y_val = train_test_split(x_train, y_train, test_size = 0.1, shuffle=True, random_state = 1) \n"
      ]
    },
    {
      "cell_type": "code",
      "execution_count": 9,
      "metadata": {
        "colab": {
          "base_uri": "https://localhost:8080/"
        },
        "id": "mV0URyymNL13",
        "outputId": "9c1b4d05-141e-43b6-9dae-1c18f6a7c35e"
      },
      "outputs": [
        {
          "output_type": "execute_result",
          "data": {
            "text/plain": [
              "((3565,), (397,), (441,), (3565,), (397,), (441,))"
            ]
          },
          "metadata": {},
          "execution_count": 9
        }
      ],
      "source": [
        "x_train.shape, x_val.shape, x_test.shape, y_train.shape, y_val.shape, y_test.shape"
      ]
    },
    {
      "cell_type": "code",
      "execution_count": 10,
      "metadata": {
        "colab": {
          "base_uri": "https://localhost:8080/"
        },
        "id": "mNE8SoynHvUH",
        "outputId": "c5661b6a-67f3-4e5b-fbea-9806fd3d727b"
      },
      "outputs": [
        {
          "output_type": "stream",
          "name": "stderr",
          "text": [
            "[nltk_data] Downloading package stopwords to /root/nltk_data...\n",
            "[nltk_data]   Unzipping corpora/stopwords.zip.\n",
            "[nltk_data] Downloading package punkt to /root/nltk_data...\n",
            "[nltk_data]   Unzipping tokenizers/punkt.zip.\n"
          ]
        },
        {
          "output_type": "stream",
          "name": "stdout",
          "text": [
            "['i', 'me', 'my', 'myself', 'we', 'our', 'ours', 'ourselves', 'you', \"you're\", \"you've\", \"you'll\", \"you'd\", 'your', 'yours', 'yourself', 'yourselves', 'he', 'him', 'his', 'himself', 'she', \"she's\", 'her', 'hers', 'herself', 'it', \"it's\", 'its', 'itself', 'they', 'them', 'their', 'theirs', 'themselves', 'what', 'which', 'who', 'whom', 'this', 'that', \"that'll\", 'these', 'those', 'am', 'is', 'are', 'was', 'were', 'be', 'been', 'being', 'have', 'has', 'had', 'having', 'do', 'does', 'did', 'doing', 'a', 'an', 'the', 'and', 'but', 'if', 'or', 'because', 'as', 'until', 'while', 'of', 'at', 'by', 'for', 'with', 'about', 'against', 'between', 'into', 'through', 'during', 'before', 'after', 'above', 'below', 'to', 'from', 'up', 'down', 'in', 'out', 'on', 'off', 'over', 'under', 'again', 'further', 'then', 'once', 'here', 'there', 'when', 'where', 'why', 'how', 'all', 'any', 'both', 'each', 'few', 'more', 'most', 'other', 'some', 'such', 'no', 'nor', 'not', 'only', 'own', 'same', 'so', 'than', 'too', 'very', 's', 't', 'can', 'will', 'just', 'don', \"don't\", 'should', \"should've\", 'now', 'd', 'll', 'm', 'o', 're', 've', 'y', 'ain', 'aren', \"aren't\", 'couldn', \"couldn't\", 'didn', \"didn't\", 'doesn', \"doesn't\", 'hadn', \"hadn't\", 'hasn', \"hasn't\", 'haven', \"haven't\", 'isn', \"isn't\", 'ma', 'mightn', \"mightn't\", 'mustn', \"mustn't\", 'needn', \"needn't\", 'shan', \"shan't\", 'shouldn', \"shouldn't\", 'wasn', \"wasn't\", 'weren', \"weren't\", 'won', \"won't\", 'wouldn', \"wouldn't\"]\n"
          ]
        }
      ],
      "source": [
        "import re\n",
        "from collections import Counter\n",
        "import nltk\n",
        "nltk.download('stopwords')\n",
        "from nltk.corpus import stopwords\n",
        "nltk.download('punkt')\n",
        "from nltk.tokenize import word_tokenize\n",
        "print(stopwords.words('english'))\n",
        "stop_words = stopwords.words('english')"
      ]
    },
    {
      "cell_type": "code",
      "execution_count": 11,
      "metadata": {
        "colab": {
          "base_uri": "https://localhost:8080/"
        },
        "id": "_AynjBj1H9GL",
        "outputId": "77b6f0e3-b4d6-4165-9462-6530dff8497c"
      },
      "outputs": [
        {
          "output_type": "execute_result",
          "data": {
            "text/plain": [
              "164      send spring semester schedule \n",
              "3048                            hunrgy \n",
              "3812       tell papageorgas panagiotis \n",
              "2311    find list classes m registered \n",
              "3783                   excused tuition \n",
              "Name: Question, dtype: object"
            ]
          },
          "metadata": {},
          "execution_count": 11
        }
      ],
      "source": [
        "def preprocess(text):\n",
        "  text = nltk.word_tokenize(text.lower()) #lower case\n",
        "  text = [w for w in text if not w in stop_words]\n",
        "  text = (\" \").join(text)\n",
        "  text = re.sub(r\"[^a-zA-Z0-9.!?]+\", r\" \", text)\n",
        "  text = re.sub(r\"\\s+\", r\" \", text).strip()\n",
        "  text = re.sub(r'[^\\w\\s]', '', text)\n",
        "  \n",
        "  return text\n",
        "\n",
        "x_train = x_train.apply(preprocess)\n",
        "x_val =x_val.apply(preprocess)\n",
        "x_test = x_test.apply(preprocess)\n",
        "\n",
        "x_train.head()"
      ]
    },
    {
      "cell_type": "code",
      "execution_count": 12,
      "metadata": {
        "colab": {
          "base_uri": "https://localhost:8080/"
        },
        "id": "5E2kI_4ZXccc",
        "outputId": "37ea9d27-9f71-444b-f2be-c7071a3e7c2b"
      },
      "outputs": [
        {
          "output_type": "execute_result",
          "data": {
            "text/plain": [
              "Counter({'send spring semester schedule ': 1,\n",
              "         'hunrgy ': 1,\n",
              "         'tell papageorgas panagiotis ': 1,\n",
              "         'find list classes m registered ': 1,\n",
              "         'excused tuition ': 1,\n",
              "         'rearrange interview date': 1,\n",
              "         'may call info ': 1,\n",
              "         'want information week scheduling ': 1,\n",
              "         'buses university piraeus ': 1,\n",
              "         'phone number mr patrikakis ': 1,\n",
              "         'applicants invitation': 1,\n",
              "         'd like see list instructors ': 1,\n",
              "         'get application course modification ': 1,\n",
              "         'courses minor autonomous system include ': 1,\n",
              "         'astrological sign ': 1,\n",
              "         'courses professor papadopoulos teaching ': 1,\n",
              "         'email address mr kasnesis ': 1,\n",
              "         'non eu national need pay ': 1,\n",
              "         'read tuition fees regulations ': 1,\n",
              "         'email adress mr kasnesis ': 1,\n",
              "         'check grades ': 1,\n",
              "         'see exams dates': 1,\n",
              "         'courses professor ganetsos teaching ': 1,\n",
              "         'contact details': 1,\n",
              "         'long curriculum available internet ': 1,\n",
              "         'dimitrios piromalis s email ': 1,\n",
              "         'possible reach someone phone ': 1,\n",
              "         'contact ask info': 1,\n",
              "         'evaluate instructors ': 2,\n",
              "         'many credits get first semester ': 1,\n",
              "         'offer choice minors ': 1,\n",
              "         'find information autonomous systems ': 1,\n",
              "         'call apllications announced ': 1,\n",
              "         'given wearables supports use artificial intelligence ': 1,\n",
              "         'lecturers invited courses ': 1,\n",
              "         'according official document msc msc study regulation ': 1,\n",
              "         'contact details theodore ganetsos ': 1,\n",
              "         'scientific field kassesis conducting research ': 1,\n",
              "         'see ects class ': 1,\n",
              "         'pay tuition fees via e banking ': 1,\n",
              "         'modules date current advancements ': 1,\n",
              "         'give info instructors ': 1,\n",
              "         'instructions tuition fee payments ': 1,\n",
              "         'restaurant ': 1,\n",
              "         'ca n t find contact information': 1,\n",
              "         'see many times absent course aidl b cs03 ': 1,\n",
              "         'find personal information ': 1,\n",
              "         'topics program focus ': 1,\n",
              "         'paraskevi zacharia s email ': 1,\n",
              "         'classes courses scheduled thursday ': 1,\n",
              "         'show grade average ': 1,\n",
              "         'want submit course registration ': 1,\n",
              "         'topics invited address ': 1,\n",
              "         'sould pay tutionfees ': 1,\n",
              "         'prof patrikakis phone number contact': 1,\n",
              "         'msc free ': 2,\n",
              "         'grade aidl a06': 1,\n",
              "         'find exams calendar ': 1,\n",
              "         'prove knowledge english ': 1,\n",
              "         'ancient ancient olive grove ': 1,\n",
              "         'price msc program ': 1,\n",
              "         'instructors every semester ': 1,\n",
              "         'course wearable affective computing ': 2,\n",
              "         'obtain documents applications ': 1,\n",
              "         'find postgrad related documents ': 1,\n",
              "         'volley ': 1,\n",
              "         'days courses ': 1,\n",
              "         'tuition fees ': 2,\n",
              "         'find student details ': 1,\n",
              "         'studied course natural language processing deep learning ': 1,\n",
              "         'looking waiver document ': 1,\n",
              "         'speak someone person ': 1,\n",
              "         'days lessons take place ': 1,\n",
              "         'charalampos z patrikakis resume ': 1,\n",
              "         'grade diploma ': 1,\n",
              "         'michael kounavis attend program guest speaker': 1,\n",
              "         'submit documents along submission application form ': 1,\n",
              "         'forgot exam candidate number find ': 1,\n",
              "         'istructor s capability conducting lesson via ms teams ': 1,\n",
              "         'contact istructor order extend assignment submission ': 1,\n",
              "         'meaning life ': 1,\n",
              "         'interview process involve ': 1,\n",
              "         'get documents regulation ': 1,\n",
              "         'get details registration application ': 1,\n",
              "         'get contact ': 1,\n",
              "         'campus': 1,\n",
              "         'need info courses': 1,\n",
              "         'wait next year apply program ': 1,\n",
              "         'visit ask question': 1,\n",
              "         'find courses program includes ': 1,\n",
              "         'verveniotis studied ': 1,\n",
              "         'big data courses included': 1,\n",
              "         'many semesters master consist ': 1,\n",
              "         'contact form ': 3,\n",
              "         'sorin adam mateiattend invited lecturer year ': 1,\n",
              "         'winter semester classes end ': 1,\n",
              "         'phone number prof papageorgas panagiotis ': 1,\n",
              "         'interview prospective students ': 1,\n",
              "         'number charalampos z patrikakis ': 1,\n",
              "         'available tests curriculum comprehension many questions available ': 1,\n",
              "         'find information applying course ': 1,\n",
              "         'get go vacation ': 1,\n",
              "         'affective computing ': 1,\n",
              "         'submit application ': 3,\n",
              "         'interview assessed ': 1,\n",
              "         'applications open right': 1,\n",
              "         'grading scale ': 1,\n",
              "         'still possible apply msc ': 1,\n",
              "         'timetable courses ': 1,\n",
              "         'n t mean': 1,\n",
              "         'contact lecturer invited today ': 1,\n",
              "         'many women teaching master ': 1,\n",
              "         'university closed xmas ': 1,\n",
              "         'master s easy ': 1,\n",
              "         'would like see research work guest lecturers ': 1,\n",
              "         'student identification number': 1,\n",
              "         'steps selection process': 1,\n",
              "         'courses exist minor cognitive systems ': 1,\n",
              "         'much money program cost ': 1,\n",
              "         'ask questions ': 2,\n",
              "         'spyros polykalas electrical computer engineer ': 1,\n",
              "         'services available student portal ': 1,\n",
              "         'want contact info mr nikolaou': 1,\n",
              "         'courses professor patrikakis teaching ': 1,\n",
              "         'install linux ': 1,\n",
              "         'courses available people disabilities ': 1,\n",
              "         'applications open ': 3,\n",
              "         'day course platforms ai python programming take place ': 1,\n",
              "         'ca n t find anything': 1,\n",
              "         'supposed class ': 1,\n",
              "         'attend program free ': 1,\n",
              "         'change courses already selected': 1,\n",
              "         'many installments pay first semester ': 1,\n",
              "         'program many visiting professors part ': 1,\n",
              "         'check many ects collected far ': 1,\n",
              "         'email adress mrs leligkou ': 1,\n",
              "         'vegetarian eat ': 1,\n",
              "         'classes courses scheduled tuesday ': 1,\n",
              "         'apply program ': 5,\n",
              "         'time classes end christmas ': 1,\n",
              "         'make payments advance': 1,\n",
              "         'application form modifying selected courses ': 1,\n",
              "         'participate online case living abroad ': 1,\n",
              "         'many students get tuition fee waiver ': 2,\n",
              "         'find research studies instructors ': 1,\n",
              "         'academic semester ': 1,\n",
              "         'possible contact guest lecturer ': 1,\n",
              "         'choose classes take semester ': 1,\n",
              "         'pay tuition fees advance ': 1,\n",
              "         'michalis feidakis among instructors msc ': 1,\n",
              "         'documents submit successfully apply program ': 1,\n",
              "         'applicationss aidl program open ': 1,\n",
              "         'ammount fees depend individual income ': 1,\n",
              "         'total cost programme ': 1,\n",
              "         'university near means transportation ': 1,\n",
              "         'find list supplementary documents need submit along thesis ': 1,\n",
              "         'much cost program ': 1,\n",
              "         'many students university ': 2,\n",
              "         'need conduct interview join msc ': 1,\n",
              "         'admission fees ': 1,\n",
              "         'syllabus natural language processing deep learning ': 1,\n",
              "         'find information professor papadopoulos ': 1,\n",
              "         'access student record ': 2,\n",
              "         'dealing computer vision ': 1,\n",
              "         'type course examination ': 1,\n",
              "         'tuition fee 3000 euros ofr aidl ': 1,\n",
              "         'thesis application proposal please ': 1,\n",
              "         'contact information ': 2,\n",
              "         'find information professor feidakis ': 1,\n",
              "         'classes take place every day ': 1,\n",
              "         'machine learning related courses program ': 1,\n",
              "         'lessons autonomous systems ': 1,\n",
              "         'access people special needs ': 1,\n",
              "         'course regarding application ai wearables': 1,\n",
              "         'assesment application process': 1,\n",
              "         'need form apply ': 1,\n",
              "         'georgios priniotakis instructor ': 1,\n",
              "         'need application document modify course selection': 1,\n",
              "         'courses fail ': 1,\n",
              "         'contact details kaminaris stavros': 1,\n",
              "         'would like know lecturers coming workshops': 1,\n",
              "         'possible someone disabillities apply ': 1,\n",
              "         'application file contain ': 1,\n",
              "         'mr papadopoulos teach course mathematics machine learning ': 1,\n",
              "         'want send email professor vassiliadis ': 1,\n",
              "         'want know hour b cs01 course starts ': 1,\n",
              "         'well educated pericles papadopoulos ': 1,\n",
              "         'wifi connection available courses ': 1,\n",
              "         'address information program ': 1,\n",
              "         'find results exams ': 1,\n",
              "         'many ects course aidl a05 ': 1,\n",
              "         'guest speakers universities abroad ': 1,\n",
              "         'would like information ect courses ': 1,\n",
              "         'many modules delivered one semester ': 1,\n",
              "         'regulation preparing master s thesis ': 1,\n",
              "         'find schedule ': 1,\n",
              "         'n t recieved bachelor yet want apply': 1,\n",
              "         'find latest advances field ai ': 1,\n",
              "         'master thesis ': 1,\n",
              "         'much cost ': 1,\n",
              "         'register spring semester ': 1,\n",
              "         'semester admition ': 1,\n",
              "         'want know michael kounavis': 1,\n",
              "         'lessons take place ': 1,\n",
              "         'room artificial intelligence healthcare biometrics take place ': 1,\n",
              "         'teaches aidl 03 ': 1,\n",
              "         'many invited lecturers ther ': 1,\n",
              "         'contact instructor ': 2,\n",
              "         'get application msc thesis': 1,\n",
              "         'subjects studied semester ': 1,\n",
              "         'visitor university england ': 1,\n",
              "         'today aidl a05 aidl a06 ': 1,\n",
              "         'check available scholarships ': 1,\n",
              "         'thesis evaluated ': 2,\n",
              "         'music department ': 1,\n",
              "         'weather ': 1,\n",
              "         'pay master programme s fees front ': 1,\n",
              "         'semesters like ': 1,\n",
              "         'cat ': 1,\n",
              "         'get application thesis submition': 1,\n",
              "         'find templates order submit thesis ': 1,\n",
              "         'applications deadline': 1,\n",
              "         's price ': 1,\n",
              "         'jeff bezos list invited lecturers ': 1,\n",
              "         'classes christmas period ': 1,\n",
              "         'courses available program': 1,\n",
              "         'maximum number students attend program year ': 1,\n",
              "         'official regulation document aidl ': 1,\n",
              "         'find certificate includes scores courses ': 1,\n",
              "         'weather like ': 1,\n",
              "         'want speak bot speak real person guidance ': 1,\n",
              "         'access grades ': 1,\n",
              "         'find announced thesis topics ': 1,\n",
              "         'find charalampos patrikakis ': 1,\n",
              "         'many instructors program ': 1,\n",
              "         'contact professor leligou': 1,\n",
              "         'swimming pool ': 1,\n",
              "         'stavros kaminaris s email ': 1,\n",
              "         'ways contact university ': 1,\n",
              "         'passed courses presented thesis need apply graduation': 1,\n",
              "         'nelly leligou research work ': 1,\n",
              "         'room fundamentals ai machine learning take place ': 1,\n",
              "         'criteria must met qualify fee exemption ': 1,\n",
              "         'study cycle start ': 1,\n",
              "         'artificial intelligence healthcare biometrics ': 1,\n",
              "         'courses included third semester ': 1,\n",
              "         'courses included autonomous systems ': 1,\n",
              "         'find student number ': 1,\n",
              "         'see external specialists invited lecture msc ': 1,\n",
              "         'progam regulations ': 1,\n",
              "         'many credits module ': 2,\n",
              "         'learning objectives course ': 1,\n",
              "         'schedule includes holidays ': 1,\n",
              "         'cantact see m eligible 30 discount ': 1,\n",
              "         'matsopoulos teaching biometrics ': 1,\n",
              "         's semester ': 1,\n",
              "         'campus map ': 1,\n",
              "         'use portal': 1,\n",
              "         'many courses mr ganetsos care ': 1,\n",
              "         'information confirm graduation application ': 1,\n",
              "         'find information jim kyung soo liew ': 1,\n",
              "         'email aidl ': 1,\n",
              "         'tell name invited lecturer ': 1,\n",
              "         'apply even though n t c1 english ': 1,\n",
              "         'new schedule released ': 1,\n",
              "         'class arrangment per course ': 1,\n",
              "         'certificate studies ': 1,\n",
              "         'view average grade ': 1,\n",
              "         's telephone number ': 1,\n",
              "         'location msc held ': 1,\n",
              "         'need apply course ': 1,\n",
              "         'find template documents assignments submission ': 1,\n",
              "         'subjects guest speakers experts ': 1,\n",
              "         'rights aidl students ': 1,\n",
              "         'many instructors program men ': 1,\n",
              "         'professors universities': 1,\n",
              "         'could please inform selection process ': 1,\n",
              "         'academic level maria rangoussi ': 1,\n",
              "         'find courses selected semester ': 1,\n",
              "         'get touch professor invited last week ': 1,\n",
              "         'want download course timetable winter semester ': 1,\n",
              "         'master s degree enrollments begin ': 1,\n",
              "         'subjects covered second semester s curriculum ': 1,\n",
              "         'separated tuition fees course msc program ': 1,\n",
              "         'much program cost ': 2,\n",
              "         'find instructors linkedin profiles ': 1,\n",
              "         'tell joke': 1,\n",
              "         'teaching hours ': 2,\n",
              "         'apply engish courses ': 1,\n",
              "         'send message mr spyros polykalas ': 1,\n",
              "         'mother ': 1,\n",
              "         'map showing university ': 1,\n",
              "         'way see declared courses': 1,\n",
              "         'contact feidakis ': 1,\n",
              "         'find information student profile ': 1,\n",
              "         'course autonomus driving': 1,\n",
              "         'institution professor polykalas': 1,\n",
              "         'ready graduate ': 1,\n",
              "         'want see courses succesfully completed': 1,\n",
              "         'want info maria rangoussi ': 1,\n",
              "         'see information studies ': 1,\n",
              "         'much pay ': 1,\n",
              "         'mathematical concepts taught ': 1,\n",
              "         'invited speakers program ': 1,\n",
              "         'get paid study program': 1,\n",
              "         'possibility ceo nvidia visit us lecture ': 1,\n",
              "         'wealthiest person earth ': 1,\n",
              "         'many students current academic year ': 1,\n",
              "         'curriculum available somewhere ': 1,\n",
              "         'semester learn autonomous vehicles ': 1,\n",
              "         'online gateway access student information ': 1,\n",
              "         'view lessons ': 1,\n",
              "         'anyfees exemptions ': 1,\n",
              "         'view history course enrollments ': 1,\n",
              "         'possible contact mail ': 1,\n",
              "         'see cv invited lecturers': 1,\n",
              "         'registry ': 1,\n",
              "         'paper need application ': 1,\n",
              "         'see examination period passed aidl a03 ': 1,\n",
              "         'want detailes invited lecturers ': 1,\n",
              "         'factors graded interview ': 1,\n",
              "         'obtain templates applications ': 1,\n",
              "         'download thesis submission evaluation document ': 1,\n",
              "         'hours call postgraduate program secretariat ': 1,\n",
              "         'tuition fees cover ': 1,\n",
              "         'lalalalala': 1,\n",
              "         'ketchup smoothie ': 1,\n",
              "         'link thesis proposal template': 1,\n",
              "         'course robotics ': 1,\n",
              "         'find msc thesis internal regulation templates ': 1,\n",
              "         'aidl secret weapon mass destruction ': 1,\n",
              "         'prepare msc dissertation english ': 1,\n",
              "         'minors degree': 1,\n",
              "         'aidl courses': 2,\n",
              "         'much time student id last ': 1,\n",
              "         'many semesters program consist ': 1,\n",
              "         'tools ll working aidl b01 ': 1,\n",
              "         'd like info artificial intelligence today course ': 1,\n",
              "         'thesis instructions ': 1,\n",
              "         'find additional information program ': 1,\n",
              "         'many ects per course': 2,\n",
              "         'apply phd ': 1,\n",
              "         'background sorin adam matei ': 1,\n",
              "         'procedure choosing graduate students ': 1,\n",
              "         'find relevant templates': 1,\n",
              "         'could review lecturers ': 1,\n",
              "         'theinvited teachers ': 1,\n",
              "         'much pay master program ': 1,\n",
              "         'registrations master s degree start ': 1,\n",
              "         'many recommendation letters need ': 1,\n",
              "         'learn chinese ': 1,\n",
              "         'dimitrios piromalis sufficient teaching experience ': 1,\n",
              "         'way get report grades': 1,\n",
              "         'master free ': 1,\n",
              "         'possible reach someone email ': 1,\n",
              "         'professors nice ': 1,\n",
              "         'msc thesis templates': 1,\n",
              "         'call applications': 1,\n",
              "         'price aidl master ': 1,\n",
              "         'contact information available ': 1,\n",
              "         'taught signal processing': 1,\n",
              "         'know topic chose msc thesis': 1,\n",
              "         'rangoussi receive doctorate ': 1,\n",
              "         'course pattern recognition ': 1,\n",
              "         ' life endless sprint treadmill always hoping reach place happiness never existed ': 1,\n",
              "         'attend master s program much money need pay ': 1,\n",
              "         'reach university campus ': 1,\n",
              "         'research experience professors ': 1,\n",
              "         'registration requires payment ': 1,\n",
              "         'mr cleese founder artificial intelligence ': 1,\n",
              "         'summer schedule': 1,\n",
              "         'spring exams ': 1,\n",
              "         'find course curriculum ': 1,\n",
              "         'many ects course aidl b as03 ': 1,\n",
              "         'need post letter administration office zip code ': 1,\n",
              "         'accepted master s n t complete undergraduate studies ': 1,\n",
              "         'campus safe ': 1,\n",
              "         'courses included cognitive systems ': 1,\n",
              "         'bearaucratic fees involved ': 1,\n",
              "         'talk human ': 1,\n",
              "         'phone line constantly busy  communicate differently ': 1,\n",
              "         'head instructor ': 1,\n",
              "         'current ects ': 1,\n",
              "         'implement ai specific platform aidl a03 ': 1,\n",
              "         'would like see time duration lectures semester ': 1,\n",
              "         'many hours lectures semester ': 1,\n",
              "         'aidl 02 course taking place ': 1,\n",
              "         'courses core curriculum scheduled ': 1,\n",
              "         'michael papoutsidakis graduated somewhere abroad ': 1,\n",
              "         'projects neural networks deep learning course ': 1,\n",
              "         'degrees need applying ': 1,\n",
              "         'many students studying university ': 1,\n",
              "         'program offer thesis ': 1,\n",
              "         'find information charalampos patrikakis ': 1,\n",
              "         'courses letter aidl first semester ': 1,\n",
              "         'many ect autonomous vehicles drones ': 1,\n",
              "         'find information sorin adam matei ': 1,\n",
              "         'many courses second semester ': 1,\n",
              "         'phone number program ': 1,\n",
              "         'find info invited lecturer ': 1,\n",
              "         'second semester courses offered ': 1,\n",
              "         'michalis feidakis s email ': 1,\n",
              "         'next application cycle': 1,\n",
              "         'park car university ': 1,\n",
              "         'deadline first installment ': 1,\n",
              "         'courses taught dimitrios piromalis ': 1,\n",
              "         'instructors telephone numbers direct communication ': 1,\n",
              "         'objectives advanced topics deep learning ': 1,\n",
              "         'want view list courses taken ': 1,\n",
              "         'subjects teaches pericles papadopoulos ': 1,\n",
              "         'christmas holidays begin ': 1,\n",
              "         'send research work sorin adam matei ': 1,\n",
              "         'phone number contact paraskevi zacharia ': 1,\n",
              "         'find details aboit program s ects credits ': 1,\n",
              "         'supporting documents required application file ': 1,\n",
              "         'would like speak someone ask questions master': 1,\n",
              "         'contact details nelly leligou ': 1,\n",
              "         'nikolaou s contact details ': 1,\n",
              "         'course nlp ': 1,\n",
              "         'elon musk among invited speakers ': 1,\n",
              "         'official form thesis evaluation ': 1,\n",
              "         'find application graduation ': 1,\n",
              "         'administrative office ': 1,\n",
              "         'email adress mr patrikakis ': 1,\n",
              "         'apply ': 4,\n",
              "         'expenses covered tuition ': 1,\n",
              "         'criteria accepting new students ': 1,\n",
              "         'fee installments scheduled paid ': 1,\n",
              "         'would like read information lecturers coming unis': 1,\n",
              "         'neuroscience course program': 1,\n",
              "         'contact details charalampos patrikakis ': 1,\n",
              "         'learn university ': 1,\n",
              "         'get etc thesis ': 1,\n",
              "         'course content ': 1,\n",
              "         'program s total cost ': 1,\n",
              "         'price per semester ': 1,\n",
              "         'lesson san murugesan invited ': 1,\n",
              "         'hello applied aidl msc program s next ': 1,\n",
              "         'find msc thesis application proposal ': 1,\n",
              "         'master require recommendation letters submitted directly via email ': 1,\n",
              "         's favourite movie ': 1,\n",
              "         'change courses doc ': 1,\n",
              "         'matsopoulos interested medical image reconstruction ': 1,\n",
              "         'find information grigorios nikolaou ': 1,\n",
              "         'days hours course aidl b as03 taught ': 1,\n",
              "         'give info applications ': 1,\n",
              "         'address send supporting documents ': 1,\n",
              "         'find contact info': 1,\n",
              "         'change course selected ': 1,\n",
              "         'academic degrees teaching staff ': 1,\n",
              "         'pay semester part fees ': 1,\n",
              "         'courses area expertise invited speakers teach ': 1,\n",
              "         'exactly wearable affective computing course deal ': 1,\n",
              "         'still get offer m graded equally lowest admitted grade ': 1,\n",
              "         'where s msc taking place ': 1,\n",
              "         'university located ': 2,\n",
              "         'class slated begin ': 1,\n",
              "         'domain expertise kasnesis ': 1,\n",
              "         'paying whole amount beginning master ': 1,\n",
              "         'discount person disability ': 1,\n",
              "         'best place earth ': 1,\n",
              "         'm looking list classes signed previous semester ': 1,\n",
              "         'aidl b b01 class ': 1,\n",
              "         'class today': 1,\n",
              "         'date classes end ': 1,\n",
              "         'sign classes ': 1,\n",
              "         'apply semester extension submission thesis ': 2,\n",
              "         'find application form ': 1,\n",
              "         'role professor prasad ieee': 1,\n",
              "         'cook dinner ': 1,\n",
              "         'cafeteria close ': 1,\n",
              "         'find documents ': 1,\n",
              "         'much money installment ': 1,\n",
              "         'enrolment take place ': 1,\n",
              "         's website student services portal ': 1,\n",
              "         'postal code university ': 1,\n",
              "         'bank holidays spring semester ': 1,\n",
              "         'secretary open afternoon ': 1,\n",
              "         'may contact professor nikolaou': 1,\n",
              "         'director aidl ': 1,\n",
              "         'long semester last': 1,\n",
              "         'background vassilios tzerpos ': 1,\n",
              "         'semester start msc thesis writing': 1,\n",
              "         'possible make call via signal ': 1,\n",
              "         'email georgios priniotakis ': 1,\n",
              "         'documents must send assessment want apply ': 1,\n",
              "         'lessons day greek independence ': 1,\n",
              "         'many euros fee installment ': 1,\n",
              "         'find weekly schedule winter semester ': 1,\n",
              "         'need apply ': 1,\n",
              "         'm interested information teaching faculty research experience': 1,\n",
              "         'email address send message guest lecturer ': 1,\n",
              "         'pay first installment ': 1,\n",
              "         'applications page': 1,\n",
              "         'find information system ': 1,\n",
              "         'george verveniotis attend invited lecturer year ': 1,\n",
              "         'morning classes ': 2,\n",
              "         'many days week need attend courses ': 1,\n",
              "         'time minor autonomous systems scheduled ': 1,\n",
              "         'faculty page ': 1,\n",
              "         'find application semester extension submission msc thesis ': 1,\n",
              "         'information kaminaris stavros': 1,\n",
              "         'contact info available ': 1,\n",
              "         'thesis proposal template ': 1,\n",
              "         'tell san murugesan ': 1,\n",
              "         'vaccinated apply ': 1,\n",
              "         'possible enter university case forget student card': 1,\n",
              "         'apply aidl': 2,\n",
              "         'expenses covered master s degrees ': 1,\n",
              "         'apply certification ': 1,\n",
              "         'course taught': 1,\n",
              "         'charalampos maria rangoussi s email ': 1,\n",
              "         'contigency plan case ': 1,\n",
              "         'programme admission fees ': 1,\n",
              "         'write thesis ieee style': 1,\n",
              "         'find evaluation questionaire': 1,\n",
              "         'progam secretariat': 1,\n",
              "         'luke skywalker ': 1,\n",
              "         'contact instructors directly': 1,\n",
              "         'send application doduments ': 1,\n",
              "         'contact director aidl': 1,\n",
              "         'patrikakis ieee member ': 1,\n",
              "         'phd ': 1,\n",
              "         'contact details pericles papadopoulos ': 1,\n",
              "         'access aidl portal': 1,\n",
              "         'necessary write expression interest text application ': 1,\n",
              "         'join ': 1,\n",
              "         'domains director specialize ': 1,\n",
              "         'information minors ': 1,\n",
              "         'find assignment cover page form ': 1,\n",
              "         'many lessons every tuesday ': 1,\n",
              "         'main content deep learning course ': 1,\n",
              "         'room go knowledge representation big data': 1,\n",
              "         'find contact hours master programme ': 1,\n",
              "         'select elective courses ': 1,\n",
              "         'studies related documents ': 1,\n",
              "         'phone number ': 2,\n",
              "         'cretiria tuition fee waiver': 1,\n",
              "         'many courses master total ': 1,\n",
              "         'hello ': 2,\n",
              "         'searching spyros polykalas curriculum vitae': 1,\n",
              "         'address ': 1,\n",
              "         'shall learn aidl ': 1,\n",
              "         'teaches big data semester': 1,\n",
              "         'aidl msc program invited guest lecturers ': 1,\n",
              "         'admissions announced ': 1,\n",
              "         'course accredited greek government ': 1,\n",
              "         'need research experience applying': 1,\n",
              "         'tell professor charalampos patrikakis ': 1,\n",
              "         'room aidl b as02 held ': 1,\n",
              "         'invited lectures ntua': 1,\n",
              "         'change course selection already submitted ': 1,\n",
              "         'want see law programme founded ': 1,\n",
              "         'necessary campus everyday lesson ': 1,\n",
              "         'many years dimitrios kogias teaching ': 1,\n",
              "         'secretary s office phone number ': 1,\n",
              "         'schedule includes national holidays ': 1,\n",
              "         'potential topics projects deep learning course ': 1,\n",
              "         'application courses modification': 1,\n",
              "         'candidates called interview ': 1,\n",
              "         'reimbursements tuition ': 1,\n",
              "         'want know many lessons succeeded': 1,\n",
              "         'find information msc authorization ': 1,\n",
              "         'major use cases dealing big data aidl b01 ': 1,\n",
              "         'selected course among elective courses ': 1,\n",
              "         'register courses ': 1,\n",
              "         'ok thanks': 1,\n",
              "         'apply new semester ': 1,\n",
              "         'make course declarations ': 1,\n",
              "         'contact someone information ': 1,\n",
              "         'language master thesis written ': 1,\n",
              "         'many courses dr kasnesis teach ': 1,\n",
              "         'courses saturday': 1,\n",
              "         'reach msc secretariat information ': 1,\n",
              "         's link student portal ': 1,\n",
              "         'need prove knowledge english language order apply aidl ': 1,\n",
              "         'find optional courses available ': 1,\n",
              "         'need fill form submit thesis ': 1,\n",
              "         'exams begin ': 1,\n",
              "         'much money pay attend first semester ': 1,\n",
              "         'campus restaurant ': 1,\n",
              "         'check professor s matsopoulos research experience ': 1,\n",
              "         'make up period missed classes ': 1,\n",
              "         'see scores ': 1,\n",
              "         'necessary send documents via post': 1,\n",
              "         'courses ': 1,\n",
              "         'changed mind courses chose ': 1,\n",
              "         'many courses semester ': 2,\n",
              "         'contact lecturers ': 1,\n",
              "         'find thesis documents ': 1,\n",
              "         'way obtain certificate studies ': 1,\n",
              "         'assignments submit follow specific format ': 1,\n",
              "         'much ect master thesis ': 1,\n",
              "         'course today': 1,\n",
              "         'days courses conducted ': 1,\n",
              "         'many documents need folder order apply ': 1,\n",
              "         'speak directly person ask questions ': 1,\n",
              "         'bot good': 1,\n",
              "         'apply master n t certification english language ': 1,\n",
              "         'need help contact university administration ': 1,\n",
              "         'kind music like ': 1,\n",
              "         'room planning ': 2,\n",
              "         'courses registered semester ': 1,\n",
              "         'invited lecturers names ': 1,\n",
              "         'teaching wearables ': 1,\n",
              "         'bus coming ': 1,\n",
              "         'rules master ': 1,\n",
              "         'academic level instuctors ': 1,\n",
              "         'file assessment based ': 1,\n",
              "         'apply examination msc thesis ': 1,\n",
              "         'attend classes 3 semesters ': 1,\n",
              "         'find contact info invited lecturers ': 1,\n",
              "         'pay total fees': 2,\n",
              "         'bursaries ': 1,\n",
              "         'want check schedule please ': 1,\n",
              "         'get touch alumni ': 1,\n",
              "         'invited professor teaches blockchain ': 1,\n",
              "         'zip code secretariat ': 1,\n",
              "         'colaborations invited lectures': 1,\n",
              "         'lessons invited lecturers ': 1,\n",
              "         'hardware complete program': 1,\n",
              "         'affective computing aidl b cs03 dl techniques used recognize emotions ': 1,\n",
              "         'use university labs ': 1,\n",
              "         'days courses cancelled due bank holidays winter semester ': 1,\n",
              "         'content aidl 01 ': 1,\n",
              "         'available theses ': 1,\n",
              "         'place park car ': 1,\n",
              "         'parking station inside campus ': 1,\n",
              "         'easter break ': 2,\n",
              "         'instructors fundamentals ai ml ': 1,\n",
              "         'courses professor kakkos teaching ': 1,\n",
              "         'careers recent graduates gone ': 1,\n",
              "         'find forms msc ': 1,\n",
              "         'room taking class ': 2,\n",
              "         'staff personal pages ': 1,\n",
              "         'many ects taken drom msc thesis': 1,\n",
              "         'tuition fees correspond semester ': 1,\n",
              "         'whre find aidl regulation ': 1,\n",
              "         'request get certificate study': 1,\n",
              "         'find information tuition fees ': 2,\n",
              "         'candidate selection criteria ': 1,\n",
              "         'student registry ': 2,\n",
              "         'grade point average ': 1,\n",
              "         'want apply graduation ': 1,\n",
              "         'document evaluation msc thesis ': 1,\n",
              "         'find email professor neeli r prasad ': 1,\n",
              "         'invited lecturers ': 3,\n",
              "         'case foreigners possible apply without supporting documents ': 1,\n",
              "         'instructors autonomous vehicles course ': 1,\n",
              "         'find regulation templates ': 1,\n",
              "         'lessons summer ': 1,\n",
              "         'looking info nelly leligou ': 1,\n",
              "         'many lectures total aidl a05 ': 1,\n",
              "         'contact invited researchers': 1,\n",
              "         'many ects course natural language processing deep learning ': 1,\n",
              "         'find lecturers contact info': 1,\n",
              "         'courses online ': 1,\n",
              "         'student elections ': 1,\n",
              "         'within areas guest speakers provide expertise ': 1,\n",
              "         'mandatory courses second semester ': 1,\n",
              "         'many recommendation letters needed apply ': 1,\n",
              "         'c faster python ': 1,\n",
              "         'course specific price ': 1,\n",
              "         'find classroom scheduling': 1,\n",
              "         'criteria tuition fee waiver ': 1,\n",
              "         'michalis feidakis major ': 1,\n",
              "         'requirments fee waiver ': 1,\n",
              "         'see submitted assignments ': 1,\n",
              "         'course wearable affecting computing one instructors ': 1,\n",
              "         'email mr matsopoulos ': 1,\n",
              "         'call secretariat afternoon ': 1,\n",
              "         'would like phd': 1,\n",
              "         'bus station near campus ': 1,\n",
              "         'find information spyros polykalas ': 1,\n",
              "         'student portal ': 1,\n",
              "         'age boundary candidates ': 1,\n",
              "         'mr saeid abolfazli s research focused ': 1,\n",
              "         'need make payment first semester begins ': 1,\n",
              "         'holiday ': 1,\n",
              "         'contact msc secretariat ': 2,\n",
              "         'master help evolve career wise ': 1,\n",
              "         'contact details papageorgas panagiotis': 1,\n",
              "         'many weeks current semester ': 1,\n",
              "         'courses charalampos patrikakis teach ': 1,\n",
              "         'tell many courses left graduation ': 1,\n",
              "         'url student portal ': 1,\n",
              "         'metro near campus ': 1,\n",
              "         'get information regarding program ': 1,\n",
              "         'aidl social media accounts ': 1,\n",
              "         'need know texmoda': 1,\n",
              "         'anything eat ancient olive grove campus ': 1,\n",
              "         'best institution greece': 1,\n",
              "         'publications instructor available ': 1,\n",
              "         'george verneniotis ': 1,\n",
              "         'documents application contain ': 1,\n",
              "         'courses got 7 ': 1,\n",
              "         'live presentation neeli r prasad lecturer ': 1,\n",
              "         'director msc': 1,\n",
              "         'many people get accepted ': 1,\n",
              "         'many courses overall ': 1,\n",
              "         'examination period current semester': 1,\n",
              "         'examination period ': 1,\n",
              "         'programs lectures conducted ': 1,\n",
              "         'find contact form': 2,\n",
              "         'invited ': 1,\n",
              "         'lessons kasnesis teaches ': 1,\n",
              "         'many ects course aidl b cs02 ': 1,\n",
              "         'many installments use paying program ': 1,\n",
              "         'many installments pay second semester ': 1,\n",
              "         'degree gpa count master ': 1,\n",
              "         'apply easmus ': 1,\n",
              "         'colab': 1,\n",
              "         'semester advanced intelligent control robotic systems course ': 1,\n",
              "         'guest australia ': 1,\n",
              "         'absence counts lessons total number case participating invited lecturer s presentation ': 1,\n",
              "         'ii apply graduation ': 1,\n",
              "         'bring dog ': 1,\n",
              "         'link msc thesis applications': 1,\n",
              "         'lelodlafgfvxsnx': 1,\n",
              "         'contact msc ': 1,\n",
              "         'choose minor ': 2,\n",
              "         'invited lecturers experts topics related course ': 1,\n",
              "         'language study ': 1,\n",
              "         'work using nlp': 1,\n",
              "         'regular evaluation professors ': 1,\n",
              "         'time classes end easter holidays ': 2,\n",
              "         'find regulation documents program ': 1,\n",
              "         'apply admission master s degree second consecutive year ': 1,\n",
              "         'research methodology ethics personal data protection ': 1,\n",
              "         'check got scholarship ': 1,\n",
              "         'student residences ': 1,\n",
              "         'charalampos z patrikakis s phone number ': 1,\n",
              "         'background aidl faculty ': 1,\n",
              "         'telephone number call information ': 1,\n",
              "         'registry services ': 1,\n",
              "         'courses conducted every monday ': 1,\n",
              "         'contact information mr kogias ': 1,\n",
              "         'contact box program': 1,\n",
              "         'find template cover page assignment ': 1,\n",
              "         'find mr kasnesis personal page': 1,\n",
              "         'registration page respond  ': 1,\n",
              "         'msc thesis proposal': 1,\n",
              "         'dimitrios kogias cv ': 1,\n",
              "         'bank national public holidays affect conduct courses ': 1,\n",
              "         'tell story ': 1,\n",
              "         'schedule change case massive labor strike ': 1,\n",
              "         'teaching aidl b cs03 ': 1,\n",
              "         'complete courses ratings': 1,\n",
              "         'make thesis proposal ': 1,\n",
              "         'fill applications thesis ': 1,\n",
              "         'far allou fun park ': 1,\n",
              "         'courses taught cognitive systems': 1,\n",
              "         'find building z ': 1,\n",
              "         'get tuition fees waiver document ': 1,\n",
              "         'find evaluation document dissertation ': 1,\n",
              "         'many ects course aidl b as02 ': 1,\n",
              "         'learn applying course ': 1,\n",
              "         'd like know aidl a03 ': 1,\n",
              "         'cinema near campus ': 1,\n",
              "         'sumit admission': 1,\n",
              "         'find scientific publications pericles papadopoulos ': 1,\n",
              "         'link thesis extension': 1,\n",
              "         'outline visiting faculty areas expertise ': 1,\n",
              "         'want download regulation postgraduate thesis ': 1,\n",
              "         'jim kyung soo liew one invited lecturers ': 1,\n",
              "         'program s address': 1,\n",
              "         'possible join program without submitting tuition fees ': 1,\n",
              "         'want know nvidia courses': 1,\n",
              "         'participate online case living far province ': 1,\n",
              "         'bank holidays ': 1,\n",
              "         'show faculty ': 1,\n",
              "         'learn professor matei ': 1,\n",
              "         'test': 1,\n",
              "         'd like find george matsopoulos': 1,\n",
              "         'latest class scheduled ': 1,\n",
              "         'postgraduate degree good recognition industry ': 1,\n",
              "         'savvas vassiliadis s email ': 1,\n",
              "         'administration ': 1,\n",
              "         'like trains ': 1,\n",
              "         'courses professor leligou teaching ': 1,\n",
              "         'room aidl b as03 taught ': 1,\n",
              "         'email adress mr nikolaou ': 1,\n",
              "         'fee waiver ': 2,\n",
              "         'program s email address': 1,\n",
              "         'courses professor papoutsidakis teaching ': 1,\n",
              "         'much money pay second semester ': 1,\n",
              "         'knowledge representation big data scheduled monday tuesday ': 1,\n",
              "         'many books borrow library ': 1,\n",
              "         'professor kaminaris stavros relate field energy management storage ': 1,\n",
              "         'n room class ': 1,\n",
              "         'want chang registration password ': 1,\n",
              "         'tuition fees studying program': 1,\n",
              "         'installment plan program ': 1,\n",
              "         'darth vader father ': 1,\n",
              "         'address campus': 1,\n",
              "         'find availiable thesis': 1,\n",
              "         'd like apply msc ': 1,\n",
              "         'alter class enrollment ': 1,\n",
              "         'invited lecturers research work ': 1,\n",
              "         'university ': 2,\n",
              "         'fax number send submission ': 1,\n",
              "         'hi': 1,\n",
              "         'examination period begins winter semester ': 1,\n",
              "         'affective computing aidl b cs02 ': 1,\n",
              "         'need certificate student msc program': 1,\n",
              "         'classes november ': 1,\n",
              "         'go university athens ': 1,\n",
              "         'case course cancellation new schedule issued ': 1,\n",
              "         'many ects credits one semester corresponds ': 1,\n",
              "         'head program': 1,\n",
              "         'instructors abroad deliver guest lectures ': 1,\n",
              "         'third semester courses offered ': 1,\n",
              "         'see invited lectures': 1,\n",
              "         'attent lessons aidl ': 1,\n",
              "         's weather today ': 1,\n",
              "         'research methodology course curriculum': 1,\n",
              "         'want get information msc thesis regultions docs please ': 1,\n",
              "         'attend lessons 1st semester ': 1,\n",
              "         'days hours attend signal processing course ': 1,\n",
              "         'classes tuesdays': 1,\n",
              "         'would like ask necessary documents need send ': 1,\n",
              "         'want learn evaluation system msc thesis ': 1,\n",
              "         'hours call secretariat': 1,\n",
              "         'need program s authorization document': 1,\n",
              "         'get ': 1,\n",
              "         'want extend semester ': 1,\n",
              "         'need contact one professors find contact info ': 1,\n",
              "         'courses take place': 1,\n",
              "         'find template documents ': 1,\n",
              "         'pay ': 2,\n",
              "         'many courses third semester ': 1,\n",
              "         'winter schedule available ': 1,\n",
              "         'request secretariate analytic grades': 1,\n",
              "         'pay tuition fees ': 3,\n",
              "         'application open ': 1,\n",
              "         'templates need use submit project proposal ': 1,\n",
              "         'campus address ': 1,\n",
              "         'could let know time knowledge representation big data ': 1,\n",
              "         'interview part application procedure master s degree ': 1,\n",
              "         'check personal data ': 1,\n",
              "         'academics greek universities invited ': 1,\n",
              "         'contact details invited speakers ': 1,\n",
              "         'city campus located ': 1,\n",
              "         'student services eclass canvas ': 1,\n",
              "         'contact details panagiotis papageorgas ': 1,\n",
              "         'find course content minors ': 1,\n",
              "         'ready submit thesis ': 1,\n",
              "         'aidl accept students universities': 1,\n",
              "         'view available scholarships academic year ': 1,\n",
              "         'laboratories available support educational process ': 1,\n",
              "         'pay installments ': 2,\n",
              "         'much workload master program require ': 1,\n",
              "         'research interest professor prasad': 1,\n",
              "         'exam calendar ': 1,\n",
              "         'application deadline course ': 1,\n",
              "         'study regulations available ': 1,\n",
              "         'applying course include additional documents prove previous work experience stated cv ': 1,\n",
              "         'find academic number ': 1,\n",
              "         'want apply msc ': 1,\n",
              "         'demetrios cantzos research work ': 1,\n",
              "         'prerequisites enrollment ': 1,\n",
              "         'purchase usually made instalments ': 1,\n",
              "         'ending date applications ': 1,\n",
              "         'obtain documents regulation ': 1,\n",
              "         'easter exam dates ': 1,\n",
              "         'sorin adam matei list invited lecturers ': 1,\n",
              "         'app sucks ': 1,\n",
              "         'aidl b01 taught fridays ': 1,\n",
              "         'george verveniotis list invited lecturers ': 1,\n",
              "         'registrar s office available ': 1,\n",
              "         'guest professors teach ': 1,\n",
              "         'looking info michalis feidakis ': 1,\n",
              "         'winter exam period ': 1,\n",
              "         'hi ': 1,\n",
              "         'cv template ready fill ': 1,\n",
              "         'address posting letter administration office ': 1,\n",
              "         'jim kyung soo liew attend program guest speaker': 1,\n",
              "         'give mrs neeli r prasad mail ': 1,\n",
              "         'way check student active inactive ': 1,\n",
              "         'find teaching course ': 1,\n",
              "         'curriculum master ': 1,\n",
              "         'master s degree registration period begin ': 1,\n",
              "         'find information constantinos psomopoulos ': 1,\n",
              "         'pay beginning semester ': 1,\n",
              "         'scheduled courses spring semester ': 1,\n",
              "         'dstudy regulation ': 1,\n",
              "         'prasad teaching aidl': 1,\n",
              "         'daily schedule courses ': 1,\n",
              "         'learn nlp ': 1,\n",
              "         'change modify courses ': 1,\n",
              "         'number thivon str campus ': 1,\n",
              "         'timetable spring semester ': 1,\n",
              "         'enroll program': 1,\n",
              "         'canditate file assesed ': 1,\n",
              "         'deadline tuition fees payment ': 1,\n",
              "         'get info vassiliadis savas ': 1,\n",
              "         'winter semester room planning': 1,\n",
              "         'prepay tuition fees ': 1,\n",
              "         'want access google scholar professor matsopoulos': 1,\n",
              "         'many invited lecturers per semester ': 1,\n",
              "         'way reach mail ': 1,\n",
              "         'student administration offices open saturday ': 1,\n",
              "         'template cover page available ': 1,\n",
              "         'many lessons attend 2nd semester ': 1,\n",
              "         'need instructors e mail address': 1,\n",
              "         'want arduino tinyml kit one projects': 1,\n",
              "         'curriculum available hard copy ': 2,\n",
              "         'michalis feidakis s resume ': 1,\n",
              "         'free parking area campus ': 1,\n",
              "         'marketing campaign': 1,\n",
              "         'description aidl b cs03 course ': 1,\n",
              "         'd like speak telephone ': 1,\n",
              "         'want linkedin profile professor psomopoulos': 1,\n",
              "         'course even real ': 1,\n",
              "         'course advanced topics deep learning scheduled ': 1,\n",
              "         'fields invited lecturers experts ': 1,\n",
              "         'available form contacting secretary ': 1,\n",
              "         'lessons give ects units ': 1,\n",
              "         'semester end ': 1,\n",
              "         'see programme outline ': 1,\n",
              "         'guest lecture held campus university online ': 1,\n",
              "         'courses offered ': 1,\n",
              "         'see passed exams ': 2,\n",
              "         'telephone number aidl': 1,\n",
              "         'pre enrollment requirements ': 1,\n",
              "         'find kasnesis personal page ': 1,\n",
              "         'program s curriculum': 1,\n",
              "         'nlp course mondays fridays ': 1,\n",
              "         'download application form ': 2,\n",
              "         'exactly university located ': 1,\n",
              "         'time aidl b cs01 ': 1,\n",
              "         'need candidate file ': 1,\n",
              "         'buy laptop university ': 1,\n",
              "         'taught ': 1,\n",
              "         'favorite color ': 1,\n",
              "         'class selections flexible ': 1,\n",
              "         'george matsopoulos cv ': 1,\n",
              "         'contact stelios mitilineos ': 1,\n",
              "         'find courses ve signed ': 1,\n",
              "         'way check student performance ': 1,\n",
              "         'program stop spring break ': 1,\n",
              "         'deep learning used aidl b as01 ': 1,\n",
              "         'companies hire people graduated artificial intelligence deep learning ': 1,\n",
              "         'need find application ': 1,\n",
              "         'application procedure msc aidl': 1,\n",
              "         'enrollment options': 1,\n",
              "         'subject invited lectures ': 1,\n",
              "         'believe love ': 1,\n",
              "         'want see grades first semester': 1,\n",
              "         'postgraduate programs offered uniwa ': 1,\n",
              "         'instructors bio available ': 1,\n",
              "         'first installment scheduled ': 1,\n",
              "         'educational background papageorgas ': 1,\n",
              "         'teaches nmathematics ': 1,\n",
              "         'go attend aidl b01 course ': 1,\n",
              "         'find examination sschedule ': 1,\n",
              "         'uniwa services ': 1,\n",
              "         'many weeks schedule ': 1,\n",
              "         'learn use robots ': 1,\n",
              "         'list invited professors': 1,\n",
              "         'see rooms lessons take place ': 1,\n",
              "         'document apply extension complete thesis ': 1,\n",
              "         'fee ': 1,\n",
              "         'many words write expression interest text ': 1,\n",
              "         'konstantinos psomopoulos receive doctorate ': 1,\n",
              "         'get additional information ': 1,\n",
              "         'love m feeling': 1,\n",
              "         'guest lecturer harvard ': 1,\n",
              "         'information theodore ganetsos': 1,\n",
              "         'examination period scheduled ': 1,\n",
              "         'find results exams course aidl 01 ': 1,\n",
              "         'find info cantzos': 1,\n",
              "         'want submit proposal thesis ': 1,\n",
              "         'information georgios priniotakis': 1,\n",
              "         'need make cover pages university supply templates ': 1,\n",
              "         'find information concerning guest lecturers ': 1,\n",
              "         'panagiotis papageorgas s email ': 1,\n",
              "         'job positions available students ': 1,\n",
              "         'much pay second semester ': 1,\n",
              "         'much entire cost msc program total ': 1,\n",
              "         'tell advanced topics deep learning ': 1,\n",
              "         'tuition fees required enrolment ': 1,\n",
              "         'courses scheduled thursday ': 1,\n",
              "         'want see student profile ': 1,\n",
              "         'aidlinvited lecturers': 1,\n",
              "         'check failed exams ': 1,\n",
              "         'made mistake selected wrong course ': 1,\n",
              "         'd like send e mail ': 1,\n",
              "         'job vaccancies ': 1,\n",
              "         'get discount pay upfront ': 1,\n",
              "         'current total grades ': 1,\n",
              "         'lessons held public transportation strikes ': 1,\n",
              "         'aware costs ': 1,\n",
              "         'eminent academicians practicing professionals invited guest lectures ': 1,\n",
              "         'become machine learning expert mlops master ': 1,\n",
              "         'professor kaminaris teach math ': 1,\n",
              "         'aidl a01 taught': 1,\n",
              "         'hello want apply program ': 1,\n",
              "         'email contact ': 2,\n",
              "         'find information instructors ': 2,\n",
              "         ...})"
            ]
          },
          "metadata": {},
          "execution_count": 12
        }
      ],
      "source": [
        "word_to_counts = Counter(x_train)\n",
        "word_to_counts\n"
      ]
    },
    {
      "cell_type": "code",
      "execution_count": 13,
      "metadata": {
        "colab": {
          "base_uri": "https://localhost:8080/"
        },
        "id": "WZBuhx-ek0G1",
        "outputId": "9fe2d175-2210-484d-9fdc-69f59d3da5c9"
      },
      "outputs": [
        {
          "output_type": "execute_result",
          "data": {
            "text/plain": [
              "3457"
            ]
          },
          "metadata": {},
          "execution_count": 13
        }
      ],
      "source": [
        "# Get the number of unique words in the text data\n",
        "n_words = len(word_to_counts)\n",
        "n_words"
      ]
    },
    {
      "cell_type": "code",
      "execution_count": 14,
      "metadata": {
        "id": "xvV8o2TaIghi"
      },
      "outputs": [],
      "source": [
        "\n",
        "#create a word-to-index dictionary\n",
        "tokenizer = Tokenizer(num_words=n_words, oov_token=\"<OOV>\")\n",
        "tokenizer.fit_on_texts(x_train)\n",
        "word_index = tokenizer.word_index\n",
        "\n",
        "#convert the text data to numerical data\n",
        "x_train_seq = tokenizer.texts_to_sequences(x_train)\n",
        "x_val_seq = tokenizer.texts_to_sequences(x_val)\n",
        "x_test_seq = tokenizer.texts_to_sequences(x_test)"
      ]
    },
    {
      "cell_type": "code",
      "execution_count": 15,
      "metadata": {
        "id": "BRaCUnVjcLy5"
      },
      "outputs": [],
      "source": [
        "#Pad the sequences to have the same length\n",
        "max_length = max([len(s) for s in x_train_seq + x_val_seq + x_test_seq])\n",
        "x_train_pad = pad_sequences(x_train_seq, maxlen=max_length)\n",
        "x_val_pad = pad_sequences(x_val_seq, maxlen=max_length)\n",
        "x_test_pad = pad_sequences(x_test_seq, maxlen=max_length)\n"
      ]
    },
    {
      "cell_type": "code",
      "execution_count": 18,
      "metadata": {
        "colab": {
          "base_uri": "https://localhost:8080/"
        },
        "id": "Ddabp8yiA-IH",
        "outputId": "40cc7fd7-68f4-419e-b537-dd81153cde18"
      },
      "outputs": [
        {
          "output_type": "execute_result",
          "data": {
            "text/plain": [
              "(3565, 13)"
            ]
          },
          "metadata": {},
          "execution_count": 18
        }
      ],
      "source": [
        "x_train_pad.shape"
      ]
    },
    {
      "cell_type": "code",
      "execution_count": 19,
      "metadata": {
        "colab": {
          "base_uri": "https://localhost:8080/"
        },
        "id": "WKJjqFxQXglB",
        "outputId": "5fa647fd-7852-4010-c6a3-985abb0bfe71"
      },
      "outputs": [
        {
          "output_type": "execute_result",
          "data": {
            "text/plain": [
              "10"
            ]
          },
          "metadata": {},
          "execution_count": 19
        }
      ],
      "source": [
        "#Define the number of unique classes\n",
        "n_classes = len(np.unique(y_train))\n",
        "n_classes"
      ]
    },
    {
      "cell_type": "code",
      "execution_count": 20,
      "metadata": {
        "id": "6oWN42k0iqMb"
      },
      "outputs": [],
      "source": [
        "# Convert the class labels to one-hot encoded vectors\n",
        "y_train_enc = tf.keras.utils.to_categorical(y_train, n_classes)\n",
        "y_val_enc = tf.keras.utils.to_categorical(y_val, n_classes)\n",
        "y_test_enc = tf.keras.utils.to_categorical(y_test, n_classes)"
      ]
    },
    {
      "cell_type": "code",
      "execution_count": 21,
      "metadata": {
        "colab": {
          "base_uri": "https://localhost:8080/"
        },
        "id": "zdRUlSOpjgIF",
        "outputId": "70176be7-a0e2-46ca-8d7d-4b64b8987066"
      },
      "outputs": [
        {
          "output_type": "execute_result",
          "data": {
            "text/plain": [
              "(3565, 10)"
            ]
          },
          "metadata": {},
          "execution_count": 21
        }
      ],
      "source": [
        "y_train_enc.shape"
      ]
    },
    {
      "cell_type": "markdown",
      "metadata": {
        "id": "7QW115ICVIDI"
      },
      "source": [
        "2. LSTM without pre-trained embeddings"
      ]
    },
    {
      "cell_type": "code",
      "execution_count": 22,
      "metadata": {
        "colab": {
          "base_uri": "https://localhost:8080/"
        },
        "id": "gc7zrU4dizoJ",
        "outputId": "e77b46dd-e1a8-47c3-cfeb-5c713b74b126"
      },
      "outputs": [
        {
          "output_type": "stream",
          "name": "stdout",
          "text": [
            "Model: \"sequential\"\n",
            "_________________________________________________________________\n",
            " Layer (type)                Output Shape              Param #   \n",
            "=================================================================\n",
            " embedding (Embedding)       (None, 13, 64)            221248    \n",
            "                                                                 \n",
            " lstm (LSTM)                 (None, 64)                33024     \n",
            "                                                                 \n",
            " dropout (Dropout)           (None, 64)                0         \n",
            "                                                                 \n",
            " dense (Dense)               (None, 10)                650       \n",
            "                                                                 \n",
            "=================================================================\n",
            "Total params: 254,922\n",
            "Trainable params: 254,922\n",
            "Non-trainable params: 0\n",
            "_________________________________________________________________\n"
          ]
        }
      ],
      "source": [
        "# Define the LSTM model\n",
        "model = Sequential()\n",
        "model.add(Embedding(input_dim=n_words, output_dim=64, input_length=max_length))\n",
        "model.add(LSTM(64))\n",
        "model.add(Dropout(0.5))\n",
        "model.add(Dense(n_classes, activation='softmax'))\n",
        "model.summary()"
      ]
    },
    {
      "cell_type": "code",
      "execution_count": 23,
      "metadata": {
        "colab": {
          "base_uri": "https://localhost:8080/"
        },
        "id": "ZE8bnyEzi8b2",
        "outputId": "09d91ad5-b1cf-4a57-c59e-d06b1e35e418"
      },
      "outputs": [
        {
          "output_type": "stream",
          "name": "stdout",
          "text": [
            "Epoch 1/10\n",
            "112/112 [==============================] - 8s 8ms/step - loss: 2.2140 - accuracy: 0.2104 - val_loss: 1.8525 - val_accuracy: 0.3703\n",
            "Epoch 2/10\n",
            "112/112 [==============================] - 1s 4ms/step - loss: 1.2893 - accuracy: 0.5992 - val_loss: 0.8403 - val_accuracy: 0.7834\n",
            "Epoch 3/10\n",
            "112/112 [==============================] - 0s 4ms/step - loss: 0.6609 - accuracy: 0.8185 - val_loss: 0.6041 - val_accuracy: 0.8186\n",
            "Epoch 4/10\n",
            "112/112 [==============================] - 1s 4ms/step - loss: 0.4353 - accuracy: 0.8822 - val_loss: 0.5339 - val_accuracy: 0.8363\n",
            "Epoch 5/10\n",
            "112/112 [==============================] - 1s 4ms/step - loss: 0.3054 - accuracy: 0.9217 - val_loss: 0.5027 - val_accuracy: 0.8489\n",
            "Epoch 6/10\n",
            "112/112 [==============================] - 1s 4ms/step - loss: 0.2426 - accuracy: 0.9352 - val_loss: 0.4677 - val_accuracy: 0.8539\n",
            "Epoch 7/10\n",
            "112/112 [==============================] - 0s 4ms/step - loss: 0.1848 - accuracy: 0.9504 - val_loss: 0.4556 - val_accuracy: 0.8615\n",
            "Epoch 8/10\n",
            "112/112 [==============================] - 1s 4ms/step - loss: 0.1598 - accuracy: 0.9546 - val_loss: 0.5111 - val_accuracy: 0.8388\n",
            "Epoch 9/10\n",
            "112/112 [==============================] - 1s 5ms/step - loss: 0.1317 - accuracy: 0.9635 - val_loss: 0.4950 - val_accuracy: 0.8388\n",
            "Epoch 10/10\n",
            "112/112 [==============================] - 0s 4ms/step - loss: 0.1222 - accuracy: 0.9661 - val_loss: 0.5341 - val_accuracy: 0.8413\n"
          ]
        }
      ],
      "source": [
        " # Compile and fit the model\n",
        "model.compile(optimizer='adam', loss='categorical_crossentropy', metrics=['accuracy'])\n",
        "history = model.fit(x_train_pad, y_train_enc, batch_size=32, epochs=10, validation_data=(x_val_pad, y_val_enc))"
      ]
    },
    {
      "cell_type": "code",
      "execution_count": 24,
      "metadata": {
        "colab": {
          "base_uri": "https://localhost:8080/",
          "height": 295
        },
        "id": "i1q_vYaEma5r",
        "outputId": "216c3503-3d52-43fd-b3a4-3c3dad8f36cd"
      },
      "outputs": [
        {
          "output_type": "display_data",
          "data": {
            "text/plain": [
              "<Figure size 432x288 with 1 Axes>"
            ],
            "image/png": "[encoded data removed]"
          },
          "metadata": {
            "needs_background": "light"
          }
        }
      ],
      "source": [
        "%matplotlib inline\n",
        "import matplotlib.pyplot as plt\n",
        "\n",
        "# summarize history for loss\n",
        "plt.plot(history.history['loss'])\n",
        "plt.plot(history.history['val_loss'])\n",
        "plt.title('model loss')\n",
        "plt.ylabel('loss')\n",
        "plt.xlabel('epoch')\n",
        "plt.legend(['train', 'val'], loc='upper right')\n",
        "plt.show()"
      ]
    },
    {
      "cell_type": "code",
      "execution_count": 25,
      "metadata": {
        "colab": {
          "base_uri": "https://localhost:8080/",
          "height": 295
        },
        "id": "3D-u1y0SnIqb",
        "outputId": "1a461e56-a49e-4f4d-b185-77c3b3e8e778"
      },
      "outputs": [
        {
          "output_type": "display_data",
          "data": {
            "text/plain": [
              "<Figure size 432x288 with 1 Axes>"
            ],
            "image/png": "[encoded data removed]"
          },
          "metadata": {
            "needs_background": "light"
          }
        }
      ],
      "source": [
        "# summarize history for accuracy\n",
        "plt.plot(history.history['accuracy'])\n",
        "plt.plot(history.history['val_accuracy'])\n",
        "plt.title('model accuracy')\n",
        "plt.ylabel('accuracy')\n",
        "plt.xlabel('epoch')\n",
        "plt.legend(['train', 'val'], loc='upper left')\n",
        "plt.show()"
      ]
    },
    {
      "cell_type": "code",
      "execution_count": 26,
      "metadata": {
        "colab": {
          "base_uri": "https://localhost:8080/"
        },
        "id": "qO8W-q-_jG1m",
        "outputId": "1740dea2-4417-4542-9e92-12a4ff0db0c5"
      },
      "outputs": [
        {
          "output_type": "stream",
          "name": "stdout",
          "text": [
            "14/14 [==============================] - 0s 3ms/step - loss: 0.6019 - accuracy: 0.8503\n",
            "Test score: 0.601854681968689\n",
            "Test accuracy: 0.8503401279449463\n"
          ]
        }
      ],
      "source": [
        " # Evaluate the model on the test data\n",
        "score, acc = model.evaluate(x_test_pad, y_test_enc, batch_size=32)\n",
        "print(\"Test score:\", score)\n",
        "print(\"Test accuracy:\", acc)"
      ]
    },
    {
      "cell_type": "code",
      "execution_count": 27,
      "metadata": {
        "colab": {
          "base_uri": "https://localhost:8080/"
        },
        "id": "ci_Z3zxPjMBx",
        "outputId": "93f80f52-edab-4b70-e2e8-67ec0607b204"
      },
      "outputs": [
        {
          "output_type": "stream",
          "name": "stdout",
          "text": [
            "14/14 [==============================] - 0s 2ms/step\n",
            "              precision    recall  f1-score   support\n",
            "\n",
            "           0       0.91      0.95      0.93        64\n",
            "           1       0.83      0.90      0.86        59\n",
            "           2       0.76      0.71      0.74        45\n",
            "           3       0.85      0.80      0.83        41\n",
            "           4       0.73      0.92      0.81        26\n",
            "           5       0.84      0.79      0.81        47\n",
            "           6       0.74      0.86      0.80        37\n",
            "           7       0.97      0.97      0.97        40\n",
            "           8       0.90      0.88      0.89        42\n",
            "           9       0.96      0.68      0.79        40\n",
            "\n",
            "    accuracy                           0.85       441\n",
            "   macro avg       0.85      0.85      0.84       441\n",
            "weighted avg       0.86      0.85      0.85       441\n",
            "\n"
          ]
        }
      ],
      "source": [
        "# Generate the classification report\n",
        "y_pred = model.predict(x_test_pad)\n",
        "y_pred = np.argmax(y_pred, axis=1)\n",
        "print(classification_report(y_test, y_pred))"
      ]
    },
    {
      "cell_type": "code",
      "execution_count": 28,
      "metadata": {
        "colab": {
          "base_uri": "https://localhost:8080/",
          "height": 297
        },
        "id": "3JJ6InqVRhVO",
        "outputId": "3c89a59b-e012-44fb-fb69-4a717116897f"
      },
      "outputs": [
        {
          "output_type": "display_data",
          "data": {
            "text/plain": [
              "<Figure size 720x720 with 0 Axes>"
            ]
          },
          "metadata": {}
        },
        {
          "output_type": "display_data",
          "data": {
            "text/plain": [
              "<Figure size 432x288 with 2 Axes>"
            ],
            "image/png": "[encoded data removed]"
          },
          "metadata": {
            "needs_background": "light"
          }
        }
      ],
      "source": [
        "from sklearn.metrics import confusion_matrix, ConfusionMatrixDisplay\n",
        "\n",
        "conf_matrix = confusion_matrix(y_test, y_pred)\n",
        "cm_display = ConfusionMatrixDisplay(confusion_matrix = conf_matrix, display_labels = [0,1,2,3,4,5,6,7,8,9])\n",
        "plt.figure(figsize=(10,10))\n",
        "cm_display.plot()\n",
        "plt.show()"
      ]
    },
    {
      "cell_type": "code",
      "execution_count": 29,
      "metadata": {
        "colab": {
          "base_uri": "https://localhost:8080/"
        },
        "id": "Tsq3Mp0roEC8",
        "outputId": "6c705abf-ff5d-4d99-de55-183fcb8e86d0"
      },
      "outputs": [
        {
          "output_type": "stream",
          "name": "stdout",
          "text": [
            "Model: \"sequential_1\"\n",
            "_________________________________________________________________\n",
            " Layer (type)                Output Shape              Param #   \n",
            "=================================================================\n",
            " embedding_1 (Embedding)     (None, 13, 64)            221248    \n",
            "                                                                 \n",
            " lstm_1 (LSTM)               (None, 13, 64)            33024     \n",
            "                                                                 \n",
            " dropout_1 (Dropout)         (None, 13, 64)            0         \n",
            "                                                                 \n",
            " lstm_2 (LSTM)               (None, 13, 64)            33024     \n",
            "                                                                 \n",
            " dropout_2 (Dropout)         (None, 13, 64)            0         \n",
            "                                                                 \n",
            " flatten (Flatten)           (None, 832)               0         \n",
            "                                                                 \n",
            " dense_1 (Dense)             (None, 10)                8330      \n",
            "                                                                 \n",
            "=================================================================\n",
            "Total params: 295,626\n",
            "Trainable params: 295,626\n",
            "Non-trainable params: 0\n",
            "_________________________________________________________________\n"
          ]
        }
      ],
      "source": [
        "# Define LSTM model_02\n",
        "from keras.layers import Flatten\n",
        "\n",
        "model_02 = Sequential()\n",
        "model_02.add(Embedding(input_dim=n_words, output_dim=64, input_length=max_length))\n",
        "model_02.add(LSTM(64,return_sequences=True))\n",
        "model_02.add(Dropout(0.5))\n",
        "model_02.add(LSTM(64, return_sequences=True))\n",
        "model_02.add(Dropout(0.5))\n",
        "model_02.add(Flatten())\n",
        "model_02.add(Dense(n_classes, activation='softmax'))\n",
        "model_02.summary()\n"
      ]
    },
    {
      "cell_type": "code",
      "execution_count": 30,
      "metadata": {
        "colab": {
          "base_uri": "https://localhost:8080/"
        },
        "id": "r_2brxneWcIc",
        "outputId": "cbcbfa82-f6f6-4ea9-ed6b-0701b1fbc8e7"
      },
      "outputs": [
        {
          "output_type": "stream",
          "name": "stdout",
          "text": [
            "Epoch 1/10\n",
            "112/112 [==============================] - 4s 12ms/step - loss: 2.2918 - accuracy: 0.1321 - val_loss: 2.2738 - val_accuracy: 0.1662\n",
            "Epoch 2/10\n",
            "112/112 [==============================] - 1s 6ms/step - loss: 1.8506 - accuracy: 0.3245 - val_loss: 1.3167 - val_accuracy: 0.5164\n",
            "Epoch 3/10\n",
            "112/112 [==============================] - 1s 6ms/step - loss: 1.0642 - accuracy: 0.6238 - val_loss: 0.9561 - val_accuracy: 0.6776\n",
            "Epoch 4/10\n",
            "112/112 [==============================] - 1s 6ms/step - loss: 0.7267 - accuracy: 0.7683 - val_loss: 0.7384 - val_accuracy: 0.7683\n",
            "Epoch 5/10\n",
            "112/112 [==============================] - 1s 6ms/step - loss: 0.5205 - accuracy: 0.8432 - val_loss: 0.6443 - val_accuracy: 0.7809\n",
            "Epoch 6/10\n",
            "112/112 [==============================] - 1s 6ms/step - loss: 0.3800 - accuracy: 0.8923 - val_loss: 0.6148 - val_accuracy: 0.7935\n",
            "Epoch 7/10\n",
            "112/112 [==============================] - 1s 6ms/step - loss: 0.2908 - accuracy: 0.9130 - val_loss: 0.5758 - val_accuracy: 0.8312\n",
            "Epoch 8/10\n",
            "112/112 [==============================] - 1s 6ms/step - loss: 0.2453 - accuracy: 0.9330 - val_loss: 0.5817 - val_accuracy: 0.8186\n",
            "Epoch 9/10\n",
            "112/112 [==============================] - 1s 6ms/step - loss: 0.2117 - accuracy: 0.9433 - val_loss: 0.5981 - val_accuracy: 0.8312\n",
            "Epoch 10/10\n",
            "112/112 [==============================] - 1s 6ms/step - loss: 0.1811 - accuracy: 0.9475 - val_loss: 0.5696 - val_accuracy: 0.8287\n"
          ]
        }
      ],
      "source": [
        "# Compile and fit the model\n",
        "model_02.compile(optimizer='adam', loss='categorical_crossentropy', metrics=['accuracy'])\n",
        "history = model_02.fit(x_train_pad, y_train_enc, batch_size=32, epochs=10, validation_data=(x_val_pad, y_val_enc))"
      ]
    },
    {
      "cell_type": "code",
      "execution_count": 31,
      "metadata": {
        "colab": {
          "base_uri": "https://localhost:8080/",
          "height": 295
        },
        "id": "L_z4nuH6XCf4",
        "outputId": "bd552ecd-f948-4609-9cbf-23c06692db66"
      },
      "outputs": [
        {
          "output_type": "display_data",
          "data": {
            "text/plain": [
              "<Figure size 432x288 with 1 Axes>"
            ],
            "image/png": "[encoded data removed]"
          },
          "metadata": {
            "needs_background": "light"
          }
        }
      ],
      "source": [
        "# summarize history for loss\n",
        "plt.plot(history.history['loss'])\n",
        "plt.plot(history.history['val_loss'])\n",
        "plt.title('model loss')\n",
        "plt.ylabel('loss')\n",
        "plt.xlabel('epoch')\n",
        "plt.legend(['train', 'val'], loc='upper right')\n",
        "plt.show()"
      ]
    },
    {
      "cell_type": "code",
      "execution_count": 32,
      "metadata": {
        "colab": {
          "base_uri": "https://localhost:8080/",
          "height": 295
        },
        "id": "Elt3Ge1OYZiS",
        "outputId": "9b42b770-07a0-4f00-e442-6d555300d417"
      },
      "outputs": [
        {
          "output_type": "display_data",
          "data": {
            "text/plain": [
              "<Figure size 432x288 with 1 Axes>"
            ],
            "image/png": "[encoded data removed]"
          },
          "metadata": {
            "needs_background": "light"
          }
        }
      ],
      "source": [
        "# summarize history for accuracy\n",
        "plt.plot(history.history['accuracy'])\n",
        "plt.plot(history.history['val_accuracy'])\n",
        "plt.title('model accuracy')\n",
        "plt.ylabel('accuracy')\n",
        "plt.xlabel('epoch')\n",
        "plt.legend(['train', 'val'], loc='upper left')\n",
        "plt.show()"
      ]
    },
    {
      "cell_type": "code",
      "execution_count": 33,
      "metadata": {
        "colab": {
          "base_uri": "https://localhost:8080/"
        },
        "id": "arT3Z3zcBoeh",
        "outputId": "209cfe9a-fa02-4d58-f65e-df39ee08001e"
      },
      "outputs": [
        {
          "output_type": "stream",
          "name": "stdout",
          "text": [
            "14/14 [==============================] - 0s 3ms/step - loss: 0.6986 - accuracy: 0.8458\n",
            "Test score: 0.6986371874809265\n",
            "Test accuracy: 0.8458049893379211\n"
          ]
        }
      ],
      "source": [
        "# Evaluate the model on the test data\n",
        "score, acc = model_02.evaluate(x_test_pad, y_test_enc, batch_size=32)\n",
        "print(\"Test score:\", score)\n",
        "print(\"Test accuracy:\", acc)"
      ]
    },
    {
      "cell_type": "code",
      "execution_count": 34,
      "metadata": {
        "colab": {
          "base_uri": "https://localhost:8080/"
        },
        "id": "-NolLxdOBsDJ",
        "outputId": "4a1d0876-a7b8-4906-beca-94e271c5bf0f"
      },
      "outputs": [
        {
          "output_type": "stream",
          "name": "stdout",
          "text": [
            "14/14 [==============================] - 1s 2ms/step\n",
            "              precision    recall  f1-score   support\n",
            "\n",
            "           0       0.90      0.95      0.92        64\n",
            "           1       0.86      0.81      0.83        59\n",
            "           2       0.73      0.67      0.70        45\n",
            "           3       0.75      0.80      0.78        41\n",
            "           4       0.76      0.85      0.80        26\n",
            "           5       0.82      0.79      0.80        47\n",
            "           6       0.89      0.89      0.89        37\n",
            "           7       0.98      1.00      0.99        40\n",
            "           8       0.90      0.90      0.90        42\n",
            "           9       0.82      0.78      0.79        40\n",
            "\n",
            "    accuracy                           0.85       441\n",
            "   macro avg       0.84      0.84      0.84       441\n",
            "weighted avg       0.85      0.85      0.84       441\n",
            "\n"
          ]
        }
      ],
      "source": [
        "# Generate the classification report\n",
        "y_pred = model_02.predict(x_test_pad)\n",
        "y_pred = np.argmax(y_pred, axis=1)\n",
        "print(classification_report(y_test, y_pred))"
      ]
    },
    {
      "cell_type": "code",
      "execution_count": 35,
      "metadata": {
        "colab": {
          "base_uri": "https://localhost:8080/",
          "height": 297
        },
        "id": "2_jNRtunBv9w",
        "outputId": "8412affa-9d6f-45e4-e32b-32e455630a33"
      },
      "outputs": [
        {
          "output_type": "display_data",
          "data": {
            "text/plain": [
              "<Figure size 720x720 with 0 Axes>"
            ]
          },
          "metadata": {}
        },
        {
          "output_type": "display_data",
          "data": {
            "text/plain": [
              "<Figure size 432x288 with 2 Axes>"
            ],
            "image/png": "[encoded data removed]"
          },
          "metadata": {
            "needs_background": "light"
          }
        }
      ],
      "source": [
        "conf_matrix = confusion_matrix(y_test, y_pred)\n",
        "cm_display = ConfusionMatrixDisplay(confusion_matrix = conf_matrix, display_labels = [0,1,2,3,4,5,6,7,8,9])\n",
        "plt.figure(figsize=(10,10))\n",
        "cm_display.plot()\n",
        "plt.show()"
      ]
    },
    {
      "cell_type": "markdown",
      "metadata": {
        "id": "9BtDTgNhEa4_"
      },
      "source": [
        "3. LSTM with Glove pre-trained word embeddings."
      ]
    },
    {
      "cell_type": "code",
      "execution_count": 36,
      "metadata": {
        "colab": {
          "base_uri": "https://localhost:8080/"
        },
        "id": "6KdyZ5RmIMf6",
        "outputId": "f980ed11-8e63-4aec-d626-090d7db92f23"
      },
      "outputs": [
        {
          "output_type": "stream",
          "name": "stdout",
          "text": [
            "--2023-01-30 14:05:01--  http://nlp.stanford.edu/data/glove.6B.zip\n",
            "Resolving nlp.stanford.edu (nlp.stanford.edu)... 171.64.67.140\n",
            "Connecting to nlp.stanford.edu (nlp.stanford.edu)|171.64.67.140|:80... connected.\n",
            "HTTP request sent, awaiting response... 302 Found\n",
            "Location: https://nlp.stanford.edu/data/glove.6B.zip [following]\n",
            "--2023-01-30 14:05:01--  https://nlp.stanford.edu/data/glove.6B.zip\n",
            "Connecting to nlp.stanford.edu (nlp.stanford.edu)|171.64.67.140|:443... connected.\n",
            "HTTP request sent, awaiting response... 301 Moved Permanently\n",
            "Location: https://downloads.cs.stanford.edu/nlp/data/glove.6B.zip [following]\n",
            "--2023-01-30 14:05:01--  https://downloads.cs.stanford.edu/nlp/data/glove.6B.zip\n",
            "Resolving downloads.cs.stanford.edu (downloads.cs.stanford.edu)... 171.64.64.22\n",
            "Connecting to downloads.cs.stanford.edu (downloads.cs.stanford.edu)|171.64.64.22|:443... connected.\n",
            "HTTP request sent, awaiting response... 200 OK\n",
            "Length: 862182613 (822M) [application/zip]\n",
            "Saving to: ‘glove.6B.zip’\n",
            "\n",
            "glove.6B.zip        100%[===================>] 822.24M  4.99MB/s    in 2m 39s  \n",
            "\n",
            "2023-01-30 14:07:40 (5.18 MB/s) - ‘glove.6B.zip’ saved [862182613/862182613]\n",
            "\n"
          ]
        }
      ],
      "source": [
        "#Download Glove word embeddings\n",
        "!wget http://nlp.stanford.edu/data/glove.6B.zip\n",
        "!unzip -q glove.6B.zip\n"
      ]
    },
    {
      "cell_type": "code",
      "execution_count": 37,
      "metadata": {
        "id": "ncKXoNGVEam7"
      },
      "outputs": [],
      "source": [
        "#Create a dictionary with Glove embeddings\n",
        "embeddings_index = {}\n",
        "with open(\"/content/glove.6B.100d.txt\", 'r') as f:\n",
        "    for line in f:\n",
        "        values = line.split()\n",
        "        word = values[0]\n",
        "        coefs = np.asarray(values[1:], dtype='float32')\n",
        "        embeddings_index[word] = coefs"
      ]
    },
    {
      "cell_type": "code",
      "execution_count": 38,
      "metadata": {
        "id": "J1CYZBSDB3GH"
      },
      "outputs": [],
      "source": [
        "#Create embedding matrix. Words not found in embedding index will be all-zeros.\n",
        "embedding_matrix = np.zeros((n_words, 100))\n",
        "for word, i in word_index.items():\n",
        "    embedding_vector = embeddings_index.get(word)\n",
        "    if embedding_vector is not None:\n",
        "        embedding_matrix[i] = embedding_vector"
      ]
    },
    {
      "cell_type": "code",
      "execution_count": 39,
      "metadata": {
        "colab": {
          "base_uri": "https://localhost:8080/"
        },
        "id": "HxFp0Y0fMHVH",
        "outputId": "22703abf-5cb0-4d26-aaa4-86bc3b96b81f"
      },
      "outputs": [
        {
          "output_type": "stream",
          "name": "stdout",
          "text": [
            "Model: \"sequential_2\"\n",
            "_________________________________________________________________\n",
            " Layer (type)                Output Shape              Param #   \n",
            "=================================================================\n",
            " embedding_2 (Embedding)     (None, 13, 100)           345700    \n",
            "                                                                 \n",
            " lstm_3 (LSTM)               (None, 64)                42240     \n",
            "                                                                 \n",
            " dropout_3 (Dropout)         (None, 64)                0         \n",
            "                                                                 \n",
            " dense_2 (Dense)             (None, 10)                650       \n",
            "                                                                 \n",
            "=================================================================\n",
            "Total params: 388,590\n",
            "Trainable params: 42,890\n",
            "Non-trainable params: 345,700\n",
            "_________________________________________________________________\n"
          ]
        }
      ],
      "source": [
        "#first LSTM model\n",
        "model = Sequential()\n",
        "model.add(Embedding(input_dim=n_words, output_dim=100, input_length=max_length, weights=[embedding_matrix], trainable=False))\n",
        "model.add(LSTM(64))\n",
        "model.add(Dropout(0.5))\n",
        "model.add(Dense(n_classes, activation='softmax'))\n",
        "model.summary()"
      ]
    },
    {
      "cell_type": "code",
      "execution_count": 40,
      "metadata": {
        "colab": {
          "base_uri": "https://localhost:8080/"
        },
        "id": "VxdS-H8OOtsC",
        "outputId": "eed14789-50d9-415b-81ae-a2a73835b883"
      },
      "outputs": [
        {
          "output_type": "stream",
          "name": "stdout",
          "text": [
            "Epoch 1/10\n",
            "112/112 [==============================] - 3s 8ms/step - loss: 1.8410 - accuracy: 0.4022 - val_loss: 1.2560 - val_accuracy: 0.6499\n",
            "Epoch 2/10\n",
            "112/112 [==============================] - 0s 4ms/step - loss: 1.1297 - accuracy: 0.6533 - val_loss: 0.9702 - val_accuracy: 0.6977\n",
            "Epoch 3/10\n",
            "112/112 [==============================] - 0s 4ms/step - loss: 0.8928 - accuracy: 0.7293 - val_loss: 0.8157 - val_accuracy: 0.7683\n",
            "Epoch 4/10\n",
            "112/112 [==============================] - 0s 4ms/step - loss: 0.7957 - accuracy: 0.7478 - val_loss: 0.7999 - val_accuracy: 0.7481\n",
            "Epoch 5/10\n",
            "112/112 [==============================] - 0s 4ms/step - loss: 0.7171 - accuracy: 0.7719 - val_loss: 0.7157 - val_accuracy: 0.7859\n",
            "Epoch 6/10\n",
            "112/112 [==============================] - 0s 4ms/step - loss: 0.6540 - accuracy: 0.7994 - val_loss: 0.6967 - val_accuracy: 0.7733\n",
            "Epoch 7/10\n",
            "112/112 [==============================] - 0s 4ms/step - loss: 0.6170 - accuracy: 0.8059 - val_loss: 0.6472 - val_accuracy: 0.8035\n",
            "Epoch 8/10\n",
            "112/112 [==============================] - 0s 4ms/step - loss: 0.5601 - accuracy: 0.8258 - val_loss: 0.6301 - val_accuracy: 0.8060\n",
            "Epoch 9/10\n",
            "112/112 [==============================] - 0s 4ms/step - loss: 0.5478 - accuracy: 0.8222 - val_loss: 0.6001 - val_accuracy: 0.8035\n",
            "Epoch 10/10\n",
            "112/112 [==============================] - 0s 4ms/step - loss: 0.5110 - accuracy: 0.8407 - val_loss: 0.6032 - val_accuracy: 0.7985\n"
          ]
        }
      ],
      "source": [
        "# Compile and fit the model\n",
        "model.compile(optimizer='adam', loss='categorical_crossentropy', metrics=['accuracy'])\n",
        "history = model.fit(x_train_pad, y_train_enc, batch_size=32, epochs=10, validation_data=(x_val_pad, y_val_enc))"
      ]
    },
    {
      "cell_type": "code",
      "execution_count": 41,
      "metadata": {
        "colab": {
          "base_uri": "https://localhost:8080/",
          "height": 295
        },
        "id": "Cceq8hD1PCMZ",
        "outputId": "20f785dd-a102-472e-ab13-42bd82d8771a"
      },
      "outputs": [
        {
          "output_type": "display_data",
          "data": {
            "text/plain": [
              "<Figure size 432x288 with 1 Axes>"
            ],
            "image/png": "[encoded data removed]"
          },
          "metadata": {
            "needs_background": "light"
          }
        }
      ],
      "source": [
        "# summarize history for loss\n",
        "plt.plot(history.history['loss'])\n",
        "plt.plot(history.history['val_loss'])\n",
        "plt.title('model loss')\n",
        "plt.ylabel('loss')\n",
        "plt.xlabel('epoch')\n",
        "plt.legend(['train', 'val'], loc='upper right')\n",
        "plt.show()"
      ]
    },
    {
      "cell_type": "code",
      "execution_count": 42,
      "metadata": {
        "colab": {
          "base_uri": "https://localhost:8080/",
          "height": 295
        },
        "id": "mp2JRo60PTdX",
        "outputId": "8d949ddf-bb2b-4230-ae38-9815e4bc8361"
      },
      "outputs": [
        {
          "output_type": "display_data",
          "data": {
            "text/plain": [
              "<Figure size 432x288 with 1 Axes>"
            ],
            "image/png": "[encoded data removed]"
          },
          "metadata": {
            "needs_background": "light"
          }
        }
      ],
      "source": [
        "# summarize history for accuracy\n",
        "plt.plot(history.history['accuracy'])\n",
        "plt.plot(history.history['val_accuracy'])\n",
        "plt.title('model accuracy')\n",
        "plt.ylabel('accuracy')\n",
        "plt.xlabel('epoch')\n",
        "plt.legend(['train', 'val'], loc='upper left')\n",
        "plt.show()"
      ]
    },
    {
      "cell_type": "code",
      "execution_count": 43,
      "metadata": {
        "colab": {
          "base_uri": "https://localhost:8080/"
        },
        "id": "JRBwlfaZPYgm",
        "outputId": "a4d90892-959f-4a67-9ff9-c30a47634f5c"
      },
      "outputs": [
        {
          "output_type": "stream",
          "name": "stdout",
          "text": [
            "14/14 [==============================] - 0s 3ms/step - loss: 0.6236 - accuracy: 0.7823\n",
            "Test score: 0.6236349940299988\n",
            "Test accuracy: 0.7823129296302795\n"
          ]
        }
      ],
      "source": [
        " # Evaluate the model on the test data\n",
        "score, acc = model.evaluate(x_test_pad, y_test_enc, batch_size=32)\n",
        "print(\"Test score:\", score)\n",
        "print(\"Test accuracy:\", acc)"
      ]
    },
    {
      "cell_type": "code",
      "execution_count": 44,
      "metadata": {
        "colab": {
          "base_uri": "https://localhost:8080/"
        },
        "id": "5itqWteXPfYO",
        "outputId": "90a5630b-9d09-4e98-b3c7-1a2ed1794bb8"
      },
      "outputs": [
        {
          "output_type": "stream",
          "name": "stdout",
          "text": [
            "14/14 [==============================] - 0s 2ms/step\n",
            "              precision    recall  f1-score   support\n",
            "\n",
            "           0       0.66      0.95      0.78        64\n",
            "           1       0.77      0.80      0.78        59\n",
            "           2       0.74      0.51      0.61        45\n",
            "           3       0.68      0.73      0.71        41\n",
            "           4       0.85      0.88      0.87        26\n",
            "           5       0.79      0.79      0.79        47\n",
            "           6       0.80      0.76      0.78        37\n",
            "           7       0.97      0.93      0.95        40\n",
            "           8       0.97      0.79      0.87        42\n",
            "           9       0.84      0.65      0.73        40\n",
            "\n",
            "    accuracy                           0.78       441\n",
            "   macro avg       0.81      0.78      0.79       441\n",
            "weighted avg       0.80      0.78      0.78       441\n",
            "\n"
          ]
        }
      ],
      "source": [
        "# Generate the classification report\n",
        "y_pred = model.predict(x_test_pad)\n",
        "y_pred = np.argmax(y_pred, axis=1)\n",
        "print(classification_report(y_test, y_pred))"
      ]
    },
    {
      "cell_type": "code",
      "execution_count": 45,
      "metadata": {
        "colab": {
          "base_uri": "https://localhost:8080/",
          "height": 297
        },
        "id": "gvqgjm_2PlQt",
        "outputId": "840c775c-5200-4dc8-d2c6-ca7eea5b3660"
      },
      "outputs": [
        {
          "output_type": "display_data",
          "data": {
            "text/plain": [
              "<Figure size 720x720 with 0 Axes>"
            ]
          },
          "metadata": {}
        },
        {
          "output_type": "display_data",
          "data": {
            "text/plain": [
              "<Figure size 432x288 with 2 Axes>"
            ],
            "image/png": "[encoded data removed]"
          },
          "metadata": {
            "needs_background": "light"
          }
        }
      ],
      "source": [
        "conf_matrix = confusion_matrix(y_test, y_pred)\n",
        "cm_display = ConfusionMatrixDisplay(confusion_matrix = conf_matrix, display_labels = [0,1,2,3,4,5,6,7,8,9])\n",
        "plt.figure(figsize=(10,10))\n",
        "cm_display.plot()\n",
        "plt.show()"
      ]
    },
    {
      "cell_type": "code",
      "execution_count": 46,
      "metadata": {
        "colab": {
          "base_uri": "https://localhost:8080/"
        },
        "id": "wh7r_8EQPrJE",
        "outputId": "3674cda5-f5dd-4b20-fb30-572586ce759a"
      },
      "outputs": [
        {
          "output_type": "stream",
          "name": "stdout",
          "text": [
            "Model: \"sequential_3\"\n",
            "_________________________________________________________________\n",
            " Layer (type)                Output Shape              Param #   \n",
            "=================================================================\n",
            " embedding_3 (Embedding)     (None, 13, 100)           345700    \n",
            "                                                                 \n",
            " lstm_4 (LSTM)               (None, 13, 64)            42240     \n",
            "                                                                 \n",
            " dropout_4 (Dropout)         (None, 13, 64)            0         \n",
            "                                                                 \n",
            " lstm_5 (LSTM)               (None, 13, 64)            33024     \n",
            "                                                                 \n",
            " dropout_5 (Dropout)         (None, 13, 64)            0         \n",
            "                                                                 \n",
            " flatten_1 (Flatten)         (None, 832)               0         \n",
            "                                                                 \n",
            " dense_3 (Dense)             (None, 10)                8330      \n",
            "                                                                 \n",
            "=================================================================\n",
            "Total params: 429,294\n",
            "Trainable params: 83,594\n",
            "Non-trainable params: 345,700\n",
            "_________________________________________________________________\n"
          ]
        }
      ],
      "source": [
        "# Define the LSTM model_02\n",
        "model_02 = Sequential()\n",
        "model_02.add(Embedding(input_dim=n_words, output_dim=100, input_length=max_length, weights=[embedding_matrix], trainable=False,input_shape=(max_length,)))\n",
        "model_02.add(LSTM(64,return_sequences=True))\n",
        "model_02.add(Dropout(0.5))\n",
        "model_02.add(LSTM(64, return_sequences=True))\n",
        "model_02.add(Dropout(0.5))\n",
        "model_02.add(Flatten())\n",
        "model_02.add(Dense(n_classes, activation='softmax'))\n",
        "model_02.summary()"
      ]
    },
    {
      "cell_type": "code",
      "execution_count": 47,
      "metadata": {
        "colab": {
          "base_uri": "https://localhost:8080/"
        },
        "id": "65icTHcSSMzn",
        "outputId": "7328b1d8-7c3b-42f4-c00a-4382fd5a18b9"
      },
      "outputs": [
        {
          "output_type": "stream",
          "name": "stdout",
          "text": [
            "Epoch 1/10\n",
            "112/112 [==============================] - 4s 12ms/step - loss: 2.0157 - accuracy: 0.3055 - val_loss: 1.4773 - val_accuracy: 0.5088\n",
            "Epoch 2/10\n",
            "112/112 [==============================] - 1s 6ms/step - loss: 1.3400 - accuracy: 0.5560 - val_loss: 1.0804 - val_accuracy: 0.6448\n",
            "Epoch 3/10\n",
            "112/112 [==============================] - 1s 6ms/step - loss: 1.0687 - accuracy: 0.6491 - val_loss: 0.9395 - val_accuracy: 0.6927\n",
            "Epoch 4/10\n",
            "112/112 [==============================] - 1s 6ms/step - loss: 0.9172 - accuracy: 0.6968 - val_loss: 0.8221 - val_accuracy: 0.7154\n",
            "Epoch 5/10\n",
            "112/112 [==============================] - 1s 6ms/step - loss: 0.8387 - accuracy: 0.7223 - val_loss: 0.7878 - val_accuracy: 0.7481\n",
            "Epoch 6/10\n",
            "112/112 [==============================] - 1s 6ms/step - loss: 0.7590 - accuracy: 0.7518 - val_loss: 0.7904 - val_accuracy: 0.7305\n",
            "Epoch 7/10\n",
            "112/112 [==============================] - 1s 6ms/step - loss: 0.6936 - accuracy: 0.7711 - val_loss: 0.6842 - val_accuracy: 0.7783\n",
            "Epoch 8/10\n",
            "112/112 [==============================] - 1s 6ms/step - loss: 0.6528 - accuracy: 0.7829 - val_loss: 0.6632 - val_accuracy: 0.7884\n",
            "Epoch 9/10\n",
            "112/112 [==============================] - 1s 6ms/step - loss: 0.6295 - accuracy: 0.7924 - val_loss: 0.6895 - val_accuracy: 0.7985\n",
            "Epoch 10/10\n",
            "112/112 [==============================] - 1s 6ms/step - loss: 0.5498 - accuracy: 0.8213 - val_loss: 0.6082 - val_accuracy: 0.8237\n"
          ]
        }
      ],
      "source": [
        "# Compile and fit the model\n",
        "model_02.compile(optimizer='adam', loss='categorical_crossentropy', metrics=['accuracy'])\n",
        "history = model_02.fit(x_train_pad, y_train_enc, batch_size=32, epochs=10, validation_data=(x_val_pad, y_val_enc))"
      ]
    },
    {
      "cell_type": "code",
      "execution_count": 48,
      "metadata": {
        "colab": {
          "base_uri": "https://localhost:8080/",
          "height": 295
        },
        "id": "F2F6aLtISjnr",
        "outputId": "04a93666-6499-48cc-ee11-a07688552fd3"
      },
      "outputs": [
        {
          "output_type": "display_data",
          "data": {
            "text/plain": [
              "<Figure size 432x288 with 1 Axes>"
            ],
            "image/png": "[encoded data removed]"
          },
          "metadata": {
            "needs_background": "light"
          }
        }
      ],
      "source": [
        "# summarize history for loss\n",
        "plt.plot(history.history['loss'])\n",
        "plt.plot(history.history['val_loss'])\n",
        "plt.title('model loss')\n",
        "plt.ylabel('loss')\n",
        "plt.xlabel('epoch')\n",
        "plt.legend(['train', 'val'], loc='upper right')\n",
        "plt.show()"
      ]
    },
    {
      "cell_type": "code",
      "execution_count": 49,
      "metadata": {
        "colab": {
          "base_uri": "https://localhost:8080/",
          "height": 295
        },
        "id": "-km9XaxHS2hS",
        "outputId": "288800d2-60d6-4a09-d65c-234b71b1c457"
      },
      "outputs": [
        {
          "output_type": "display_data",
          "data": {
            "text/plain": [
              "<Figure size 432x288 with 1 Axes>"
            ],
            "image/png": "[encoded data removed]"
          },
          "metadata": {
            "needs_background": "light"
          }
        }
      ],
      "source": [
        "# summarize history for accuracy\n",
        "plt.plot(history.history['accuracy'])\n",
        "plt.plot(history.history['val_accuracy'])\n",
        "plt.title('model accuracy')\n",
        "plt.ylabel('accuracy')\n",
        "plt.xlabel('epoch')\n",
        "plt.legend(['train', 'val'], loc='upper left')\n",
        "plt.show()"
      ]
    },
    {
      "cell_type": "code",
      "execution_count": 50,
      "metadata": {
        "colab": {
          "base_uri": "https://localhost:8080/"
        },
        "id": "xveFPhpnQBiz",
        "outputId": "d2308d68-b71a-4345-efc0-17778ad6fe5c"
      },
      "outputs": [
        {
          "output_type": "stream",
          "name": "stdout",
          "text": [
            "14/14 [==============================] - 0s 3ms/step - loss: 0.6345 - accuracy: 0.7891\n",
            "Test score: 0.634480357170105\n",
            "Test accuracy: 0.7891156673431396\n"
          ]
        }
      ],
      "source": [
        " # Evaluate the model on the test data\n",
        "score, acc = model_02.evaluate(x_test_pad, y_test_enc, batch_size=32)\n",
        "print(\"Test score:\", score)\n",
        "print(\"Test accuracy:\", acc)"
      ]
    },
    {
      "cell_type": "code",
      "execution_count": 51,
      "metadata": {
        "colab": {
          "base_uri": "https://localhost:8080/"
        },
        "id": "kPlP17VTR1dB",
        "outputId": "69de1013-458c-4f6d-f84e-b49921f859c1"
      },
      "outputs": [
        {
          "output_type": "stream",
          "name": "stdout",
          "text": [
            "14/14 [==============================] - 1s 3ms/step\n",
            "              precision    recall  f1-score   support\n",
            "\n",
            "           0       0.79      0.91      0.85        64\n",
            "           1       0.82      0.76      0.79        59\n",
            "           2       0.65      0.71      0.68        45\n",
            "           3       0.65      0.83      0.73        41\n",
            "           4       0.85      0.88      0.87        26\n",
            "           5       0.72      0.70      0.71        47\n",
            "           6       0.77      0.81      0.79        37\n",
            "           7       0.97      0.93      0.95        40\n",
            "           8       0.94      0.79      0.86        42\n",
            "           9       0.85      0.57      0.69        40\n",
            "\n",
            "    accuracy                           0.79       441\n",
            "   macro avg       0.80      0.79      0.79       441\n",
            "weighted avg       0.80      0.79      0.79       441\n",
            "\n"
          ]
        }
      ],
      "source": [
        "# Generate the classification report\n",
        "y_pred = model_02.predict(x_test_pad)\n",
        "y_pred = np.argmax(y_pred, axis=1)\n",
        "print(classification_report(y_test, y_pred))"
      ]
    },
    {
      "cell_type": "code",
      "execution_count": 52,
      "metadata": {
        "colab": {
          "base_uri": "https://localhost:8080/",
          "height": 296
        },
        "id": "nfJt3N-STF6D",
        "outputId": "688c95a8-7338-4887-a627-696f2a5be440"
      },
      "outputs": [
        {
          "output_type": "display_data",
          "data": {
            "text/plain": [
              "<Figure size 720x720 with 0 Axes>"
            ]
          },
          "metadata": {}
        },
        {
          "output_type": "display_data",
          "data": {
            "text/plain": [
              "<Figure size 432x288 with 2 Axes>"
            ],
            "image/png": "[encoded data removed]"
          },
          "metadata": {
            "needs_background": "light"
          }
        }
      ],
      "source": [
        "conf_matrix = confusion_matrix(y_test, y_pred)\n",
        "cm_display = ConfusionMatrixDisplay(confusion_matrix = conf_matrix, display_labels = [0,1,2,3,4,5,6,7,8,9])\n",
        "plt.figure(figsize=(10,10))\n",
        "cm_display.plot()\n",
        "plt.show()"
      ]
    },
    {
      "cell_type": "markdown",
      "metadata": {
        "id": "eJN60haeT4QN"
      },
      "source": [
        "4. Transformers"
      ]
    },
    {
      "cell_type": "code",
      "execution_count": 53,
      "metadata": {
        "colab": {
          "base_uri": "https://localhost:8080/"
        },
        "id": "_e-u6MQHYdAD",
        "outputId": "7fe01ba3-53b2-4dd4-c166-8526197da9b8"
      },
      "outputs": [
        {
          "output_type": "stream",
          "name": "stdout",
          "text": [
            "Looking in indexes: https://pypi.org/simple, https://us-python.pkg.dev/colab-wheels/public/simple/\n",
            "Collecting transformers\n",
            "  Downloading transformers-4.26.0-py3-none-any.whl (6.3 MB)\n",
            "\u001b[2K     \u001b[90m━━━━━━━━━━━━━━━━━━━━━━━━━━━━━━━━━━━━━━━━\u001b[0m \u001b[32m6.3/6.3 MB\u001b[0m \u001b[31m68.2 MB/s\u001b[0m eta \u001b[36m0:00:00\u001b[0m\n",
            "\u001b[?25hCollecting huggingface-hub<1.0,>=0.11.0\n",
            "  Downloading huggingface_hub-0.12.0-py3-none-any.whl (190 kB)\n",
            "\u001b[2K     \u001b[90m━━━━━━━━━━━━━━━━━━━━━━━━━━━━━━━━━━━━━━\u001b[0m \u001b[32m190.3/190.3 KB\u001b[0m \u001b[31m27.6 MB/s\u001b[0m eta \u001b[36m0:00:00\u001b[0m\n",
            "\u001b[?25hRequirement already satisfied: numpy>=1.17 in /usr/local/lib/python3.8/dist-packages (from transformers) (1.21.6)\n",
            "Requirement already satisfied: requests in /usr/local/lib/python3.8/dist-packages (from transformers) (2.25.1)\n",
            "Requirement already satisfied: tqdm>=4.27 in /usr/local/lib/python3.8/dist-packages (from transformers) (4.64.1)\n",
            "Collecting tokenizers!=0.11.3,<0.14,>=0.11.1\n",
            "  Downloading tokenizers-0.13.2-cp38-cp38-manylinux_2_17_x86_64.manylinux2014_x86_64.whl (7.6 MB)\n",
            "\u001b[2K     \u001b[90m━━━━━━━━━━━━━━━━━━━━━━━━━━━━━━━━━━━━━━━━\u001b[0m \u001b[32m7.6/7.6 MB\u001b[0m \u001b[31m100.3 MB/s\u001b[0m eta \u001b[36m0:00:00\u001b[0m\n",
            "\u001b[?25hRequirement already satisfied: packaging>=20.0 in /usr/local/lib/python3.8/dist-packages (from transformers) (21.3)\n",
            "Requirement already satisfied: regex!=2019.12.17 in /usr/local/lib/python3.8/dist-packages (from transformers) (2022.6.2)\n",
            "Requirement already satisfied: pyyaml>=5.1 in /usr/local/lib/python3.8/dist-packages (from transformers) (6.0)\n",
            "Requirement already satisfied: filelock in /usr/local/lib/python3.8/dist-packages (from transformers) (3.9.0)\n",
            "Requirement already satisfied: typing-extensions>=3.7.4.3 in /usr/local/lib/python3.8/dist-packages (from huggingface-hub<1.0,>=0.11.0->transformers) (4.4.0)\n",
            "Requirement already satisfied: pyparsing!=3.0.5,>=2.0.2 in /usr/local/lib/python3.8/dist-packages (from packaging>=20.0->transformers) (3.0.9)\n",
            "Requirement already satisfied: idna<3,>=2.5 in /usr/local/lib/python3.8/dist-packages (from requests->transformers) (2.10)\n",
            "Requirement already satisfied: certifi>=2017.4.17 in /usr/local/lib/python3.8/dist-packages (from requests->transformers) (2022.12.7)\n",
            "Requirement already satisfied: chardet<5,>=3.0.2 in /usr/local/lib/python3.8/dist-packages (from requests->transformers) (4.0.0)\n",
            "Requirement already satisfied: urllib3<1.27,>=1.21.1 in /usr/local/lib/python3.8/dist-packages (from requests->transformers) (1.24.3)\n",
            "Installing collected packages: tokenizers, huggingface-hub, transformers\n",
            "Successfully installed huggingface-hub-0.12.0 tokenizers-0.13.2 transformers-4.26.0\n"
          ]
        }
      ],
      "source": [
        "!pip install transformers"
      ]
    },
    {
      "cell_type": "markdown",
      "source": [
        "###BERT\n"
      ],
      "metadata": {
        "id": "uvEyctVKPgtO"
      }
    },
    {
      "cell_type": "code",
      "execution_count": 54,
      "metadata": {
        "id": "O4lNMKq5TTaa"
      },
      "outputs": [],
      "source": [
        "from transformers import BertTokenizer, TFBertForSequenceClassification"
      ]
    },
    {
      "cell_type": "code",
      "execution_count": 86,
      "metadata": {
        "id": "XxfJUrEMjsvs"
      },
      "outputs": [],
      "source": [
        "# train, validation and test split dataset\n",
        "x_train, x_test, y_train, y_test = train_test_split(data_03[\"Question\"], data_03[\"Intent\"], test_size = 0.1, shuffle=True, random_state = 1)\n",
        "x_train, x_val, y_train, y_val = train_test_split(x_train, y_train, test_size = 0.1, shuffle=True, random_state = 1) \n"
      ]
    },
    {
      "cell_type": "code",
      "execution_count": 87,
      "metadata": {
        "colab": {
          "base_uri": "https://localhost:8080/"
        },
        "id": "l45iWa6Geatx",
        "outputId": "342a404c-d25a-401c-9505-14c4c22a5c5a"
      },
      "outputs": [
        {
          "output_type": "execute_result",
          "data": {
            "text/plain": [
              "((3565,), (3565,), (441,), (441,), (397,), (397,))"
            ]
          },
          "metadata": {},
          "execution_count": 87
        }
      ],
      "source": [
        "x_train.shape, y_train.shape, x_test.shape, y_test.shape, x_val.shape, y_val.shape"
      ]
    },
    {
      "cell_type": "code",
      "source": [
        "#tokenize and pad\n",
        "#tokenizer = BertTokenizer.from_pretrained('bert-base-uncased')\n",
        "\n",
        "#x_train_pad = tokenizer.batch_encode_plus(x_train, return_tensors='tf', padding='longest')\n",
        "#x_val_pad = tokenizer.batch_encode_plus(x_val, return_tensors='tf', padding='longest')\n",
        "#x_test_pad = tokenizer.batch_encode_plus(x_test, return_tensors='tf', padding='longest')"
      ],
      "metadata": {
        "colab": {
          "base_uri": "https://localhost:8080/",
          "height": 113,
          "referenced_widgets": [
            "713b0b9abdee431bae27d0debc4c81d9",
            "059d507c2eee4cb1b2fe8bfb880ebd80",
            "23297a26811544a6a334c683c304f60e",
            "f0cc4c8d28e745abb5de677325468bd5",
            "81bde89419ae4e32b8a7e92d48fd5300",
            "6153b9c7a1b0491f97122de4e072c887",
            "a41e085f922f4a53881ff774015bc590",
            "c8e32e81dd2f432b90190574fc6d3090",
            "6a8483284827446285727eca56f9b691",
            "bb7994350f9c4c2886f7d36a77613c8e",
            "f6082d5221254545a0e0e7f1c8dd475a",
            "b5cb725badf645868b0c67fe2039d6e8",
            "3d8ec34494bd4f078bbba8d926f0a15f",
            "b5e58e1ffbb4471a8c8c4957de8f2864",
            "d7fc63d8a76f4cdfb50e61e9a87ba14d",
            "1930d5600909432e960c4a27e6e763a3",
            "ed082bd91070423fa611ed9575b0c2e2",
            "eee30c86116d4648b76652e847d4183c",
            "7a37a71b61094ad7836712f232a5c089",
            "80fe70ab17a948a3ba38bc42de381f87",
            "7f1a27d97f90450d98f4b9cbaaeaa63d",
            "9ca959aeee7e414b829d1e7d371c9cec",
            "cfd5fa6461584223b8bae7339637c91a",
            "8fb00d5ad723411291af59b9c1611628",
            "f0ec4ae3b0b043b98e6a4068e2c7fbbc",
            "4544b3bbc06040f4be01c99b48e467b1",
            "858752e886ab46caa44a56aedec062c4",
            "08268e58f46b4505a071ab870f2fecac",
            "eaeb58e8169247c1abcb4d792fa6637f",
            "125a6dda17d241d89ff88cac9c1053b8",
            "1e8e33a280ff40a3b81ed812a60c6d5f",
            "4e6b82edda704fa2bf12bfcbffb704cb",
            "0f5b710aec25409cad8209bdd0f19789"
          ]
        },
        "id": "7Mnu-ZhN1Z_f",
        "outputId": "06be8bb2-eddb-47f1-f597-9390e44e63a2"
      },
      "execution_count": 61,
      "outputs": [
        {
          "output_type": "display_data",
          "data": {
            "text/plain": [
              "Downloading (…)solve/main/vocab.txt:   0%|          | 0.00/232k [00:00<?, ?B/s]"
            ],
            "application/vnd.jupyter.widget-view+json": {
              "version_major": 2,
              "version_minor": 0,
              "model_id": "713b0b9abdee431bae27d0debc4c81d9"
            }
          },
          "metadata": {}
        },
        {
          "output_type": "display_data",
          "data": {
            "text/plain": [
              "Downloading (…)okenizer_config.json:   0%|          | 0.00/28.0 [00:00<?, ?B/s]"
            ],
            "application/vnd.jupyter.widget-view+json": {
              "version_major": 2,
              "version_minor": 0,
              "model_id": "b5cb725badf645868b0c67fe2039d6e8"
            }
          },
          "metadata": {}
        },
        {
          "output_type": "display_data",
          "data": {
            "text/plain": [
              "Downloading (…)lve/main/config.json:   0%|          | 0.00/570 [00:00<?, ?B/s]"
            ],
            "application/vnd.jupyter.widget-view+json": {
              "version_major": 2,
              "version_minor": 0,
              "model_id": "cfd5fa6461584223b8bae7339637c91a"
            }
          },
          "metadata": {}
        }
      ]
    },
    {
      "cell_type": "code",
      "execution_count": 88,
      "metadata": {
        "id": "Q2lvomsU-Q-7"
      },
      "outputs": [],
      "source": [
        "#tokenize and pad\n",
        "tokenizer = BertTokenizer.from_pretrained('bert-base-uncased')\n",
        "\n",
        "x_train_pad = tokenizer.batch_encode_plus(x_train, return_tensors='tf', padding='max_length')\n",
        "x_val_pad = tokenizer.batch_encode_plus(x_val, return_tensors='tf', padding='max_length')\n",
        "x_test_pad = tokenizer.batch_encode_plus(x_test, return_tensors='tf', padding='max_length')"
      ]
    },
    {
      "cell_type": "code",
      "execution_count": 89,
      "metadata": {
        "id": "_Cc5QFYebfLV"
      },
      "outputs": [],
      "source": [
        "x_train_np = x_train_pad['input_ids'].numpy()\n",
        "x_val_np = x_val_pad['input_ids'].numpy()\n",
        "x_test_np = x_test_pad['input_ids'].numpy()"
      ]
    },
    {
      "cell_type": "code",
      "execution_count": 90,
      "metadata": {
        "colab": {
          "base_uri": "https://localhost:8080/"
        },
        "id": "Sru8vz77e0X_",
        "outputId": "0d890744-9d9c-49d4-f9aa-ef1fe6448cd0"
      },
      "outputs": [
        {
          "output_type": "execute_result",
          "data": {
            "text/plain": [
              "((3565, 512), (397, 512), (441, 512))"
            ]
          },
          "metadata": {},
          "execution_count": 90
        }
      ],
      "source": [
        "x_train_np.shape, x_val_np.shape, x_test_np.shape"
      ]
    },
    {
      "cell_type": "code",
      "execution_count": 91,
      "metadata": {
        "id": "hZcnE3M9T3gl"
      },
      "outputs": [],
      "source": [
        "#one-hot-encoding\n",
        "n_classes = len(np.unique(y_train))\n",
        "y_train_np = y_train.values\n",
        "y_val_np = y_val.values\n",
        "y_test_np=y_test.values\n",
        "\n",
        "y_train_enc = tf.keras.utils.to_categorical(y_train_np, n_classes)\n",
        "y_val_enc = tf.keras.utils.to_categorical(y_val_np, n_classes)\n",
        "y_test_enc = tf.keras.utils.to_categorical(y_test_np, n_classes)"
      ]
    },
    {
      "cell_type": "code",
      "execution_count": 130,
      "metadata": {
        "colab": {
          "base_uri": "https://localhost:8080/"
        },
        "id": "5U9OLZrtkG-e",
        "outputId": "a453a952-fab9-4c3f-960d-3996faf499cf"
      },
      "outputs": [
        {
          "output_type": "execute_result",
          "data": {
            "text/plain": [
              "((3565, 10), (397, 10), array([[0., 0., 0., ..., 0., 0., 0.],\n",
              "        [1., 0., 0., ..., 0., 0., 0.],\n",
              "        [0., 0., 0., ..., 0., 0., 0.],\n",
              "        ...,\n",
              "        [0., 0., 1., ..., 0., 0., 0.],\n",
              "        [0., 0., 0., ..., 0., 1., 0.],\n",
              "        [0., 0., 0., ..., 0., 0., 0.]], dtype=float32))"
            ]
          },
          "metadata": {},
          "execution_count": 130
        }
      ],
      "source": [
        "y_train_enc.shape, y_val_enc.shape, y_test_enc"
      ]
    },
    {
      "cell_type": "code",
      "execution_count": 127,
      "metadata": {
        "colab": {
          "base_uri": "https://localhost:8080/"
        },
        "id": "jXZhCfrW80zA",
        "outputId": "00405910-b1e6-4e70-895b-8bef431bbe89"
      },
      "outputs": [
        {
          "output_type": "stream",
          "name": "stderr",
          "text": [
            "All model checkpoint layers were used when initializing TFBertForSequenceClassification.\n",
            "\n",
            "Some layers of TFBertForSequenceClassification were not initialized from the model checkpoint at bert-base-uncased and are newly initialized: ['classifier']\n",
            "You should probably TRAIN this model on a down-stream task to be able to use it for predictions and inference.\n"
          ]
        },
        {
          "output_type": "stream",
          "name": "stdout",
          "text": [
            "Model: \"tf_bert_for_sequence_classification_10\"\n",
            "_________________________________________________________________\n",
            " Layer (type)                Output Shape              Param #   \n",
            "=================================================================\n",
            " bert (TFBertMainLayer)      multiple                  109482240 \n",
            "                                                                 \n",
            " dropout_428 (Dropout)       multiple                  0         \n",
            "                                                                 \n",
            " classifier (Dense)          multiple                  7690      \n",
            "                                                                 \n",
            "=================================================================\n",
            "Total params: 109,489,930\n",
            "Trainable params: 109,489,930\n",
            "Non-trainable params: 0\n",
            "_________________________________________________________________\n"
          ]
        }
      ],
      "source": [
        "#create BERT model\n",
        "model_BERT = TFBertForSequenceClassification.from_pretrained('bert-base-uncased', num_labels=10)\n",
        "model_BERT.summary()\n"
      ]
    },
    {
      "cell_type": "code",
      "source": [
        "from tensorflow.keras.callbacks import EarlyStopping\n",
        "\n",
        "optimizer = tf.keras.optimizers.Adam(learning_rate=1e-5)\n",
        "loss = tf.keras.losses.CategoricalCrossentropy()\n",
        "metric = tf.keras.metrics.CategoricalAccuracy()\n",
        "keras_callbacks = [EarlyStopping(monitor='val_loss', patience=20, mode='min', min_delta=0.0001)]\n",
        "model_BERT.compile(optimizer=optimizer, loss=loss, metrics=metric)"
      ],
      "metadata": {
        "id": "a55fsKJRQQF9"
      },
      "execution_count": 128,
      "outputs": []
    },
    {
      "cell_type": "code",
      "execution_count": 96,
      "metadata": {
        "id": "yc0QB_J789-3"
      },
      "outputs": [],
      "source": [
        "#compile model\n",
        "#optimizer = tf.keras.optimizers.Adam(learning_rate=2e-5, epsilon=1e-08)\n",
        "#loss = tf.keras.losses.CategoricalCrossentropy()\n",
        "#metric = tf.keras.metrics.CategoricalAccuracy()\n",
        "#model_BERT.compile(optimizer=optimizer, loss=loss, metrics=metric)\n"
      ]
    },
    {
      "cell_type": "code",
      "source": [
        "# train model with callbacks. Have tried epochs=3,10,20,50. Always underperformance.\n",
        "\n",
        "history = model_BERT.fit(x_train_np, y_train_enc, batch_size=16, epochs=50, validation_data=(x_val_np, y_val_enc), callbacks=[keras_callbacks])\n",
        "\n"
      ],
      "metadata": {
        "colab": {
          "base_uri": "https://localhost:8080/"
        },
        "id": "FUoyOVx4OfYX",
        "outputId": "3c45ea80-f69d-437f-c052-f90c62f82398"
      },
      "execution_count": 129,
      "outputs": [
        {
          "output_type": "stream",
          "name": "stdout",
          "text": [
            "Epoch 1/50\n",
            "223/223 [==============================] - 72s 255ms/step - loss: 8.1430 - categorical_accuracy: 0.0971 - val_loss: 10.1108 - val_categorical_accuracy: 0.1058\n",
            "Epoch 2/50\n",
            "223/223 [==============================] - 54s 242ms/step - loss: 7.8417 - categorical_accuracy: 0.0839 - val_loss: 8.0962 - val_categorical_accuracy: 0.1083\n",
            "Epoch 3/50\n",
            "223/223 [==============================] - 54s 242ms/step - loss: 8.2424 - categorical_accuracy: 0.0850 - val_loss: 9.5432 - val_categorical_accuracy: 0.1083\n",
            "Epoch 4/50\n",
            "223/223 [==============================] - 54s 242ms/step - loss: 8.2123 - categorical_accuracy: 0.0965 - val_loss: 7.6328 - val_categorical_accuracy: 0.1083\n",
            "Epoch 5/50\n",
            "223/223 [==============================] - 54s 242ms/step - loss: 8.0545 - categorical_accuracy: 0.0940 - val_loss: 8.5259 - val_categorical_accuracy: 0.1385\n",
            "Epoch 6/50\n",
            "223/223 [==============================] - 54s 242ms/step - loss: 9.0998 - categorical_accuracy: 0.0928 - val_loss: 9.2161 - val_categorical_accuracy: 0.1385\n",
            "Epoch 7/50\n",
            "223/223 [==============================] - 54s 242ms/step - loss: 8.8017 - categorical_accuracy: 0.0886 - val_loss: 8.5259 - val_categorical_accuracy: 0.0630\n",
            "Epoch 8/50\n",
            "223/223 [==============================] - 54s 242ms/step - loss: 8.1422 - categorical_accuracy: 0.0881 - val_loss: 8.6883 - val_categorical_accuracy: 0.1385\n",
            "Epoch 9/50\n",
            "223/223 [==============================] - 54s 242ms/step - loss: 8.0920 - categorical_accuracy: 0.0948 - val_loss: 7.5922 - val_categorical_accuracy: 0.1385\n",
            "Epoch 10/50\n",
            "223/223 [==============================] - 54s 242ms/step - loss: 8.1412 - categorical_accuracy: 0.0971 - val_loss: 7.6328 - val_categorical_accuracy: 0.1385\n",
            "Epoch 11/50\n",
            "223/223 [==============================] - 54s 242ms/step - loss: 7.9847 - categorical_accuracy: 0.0971 - val_loss: 6.7802 - val_categorical_accuracy: 0.1385\n",
            "Epoch 12/50\n",
            "223/223 [==============================] - 54s 242ms/step - loss: 7.9843 - categorical_accuracy: 0.0951 - val_loss: 7.6734 - val_categorical_accuracy: 0.1385\n",
            "Epoch 13/50\n",
            "223/223 [==============================] - 54s 242ms/step - loss: 8.0723 - categorical_accuracy: 0.1043 - val_loss: 7.5922 - val_categorical_accuracy: 0.1108\n",
            "Epoch 14/50\n",
            "223/223 [==============================] - 54s 242ms/step - loss: 8.1149 - categorical_accuracy: 0.0878 - val_loss: 7.6734 - val_categorical_accuracy: 0.1209\n",
            "Epoch 15/50\n",
            "223/223 [==============================] - 54s 242ms/step - loss: 8.0644 - categorical_accuracy: 0.0985 - val_loss: 7.4298 - val_categorical_accuracy: 0.1209\n",
            "Epoch 16/50\n",
            "223/223 [==============================] - 54s 242ms/step - loss: 8.1445 - categorical_accuracy: 0.0999 - val_loss: 7.6734 - val_categorical_accuracy: 0.1008\n",
            "Epoch 17/50\n",
            "223/223 [==============================] - 54s 243ms/step - loss: 8.1948 - categorical_accuracy: 0.0982 - val_loss: 7.6734 - val_categorical_accuracy: 0.1184\n",
            "Epoch 18/50\n",
            "223/223 [==============================] - 54s 242ms/step - loss: 8.1446 - categorical_accuracy: 0.0962 - val_loss: 7.5922 - val_categorical_accuracy: 0.1184\n",
            "Epoch 19/50\n",
            "223/223 [==============================] - 54s 243ms/step - loss: 8.1848 - categorical_accuracy: 0.0870 - val_loss: 7.6733 - val_categorical_accuracy: 0.1234\n",
            "Epoch 20/50\n",
            "223/223 [==============================] - 54s 242ms/step - loss: 8.1528 - categorical_accuracy: 0.0928 - val_loss: 7.4704 - val_categorical_accuracy: 0.1008\n",
            "Epoch 21/50\n",
            "223/223 [==============================] - 54s 243ms/step - loss: 8.4333 - categorical_accuracy: 0.1041 - val_loss: 8.5259 - val_categorical_accuracy: 0.1184\n",
            "Epoch 22/50\n",
            "223/223 [==============================] - 54s 242ms/step - loss: 8.0532 - categorical_accuracy: 0.1004 - val_loss: 8.5259 - val_categorical_accuracy: 0.1184\n",
            "Epoch 23/50\n",
            "223/223 [==============================] - 54s 242ms/step - loss: 8.0215 - categorical_accuracy: 0.0934 - val_loss: 8.6071 - val_categorical_accuracy: 0.1184\n",
            "Epoch 24/50\n",
            "223/223 [==============================] - 54s 242ms/step - loss: 8.1205 - categorical_accuracy: 0.0920 - val_loss: 7.6328 - val_categorical_accuracy: 0.1184\n",
            "Epoch 25/50\n",
            "223/223 [==============================] - 54s 242ms/step - loss: 8.0801 - categorical_accuracy: 0.0853 - val_loss: 8.9319 - val_categorical_accuracy: 0.1184\n",
            "Epoch 26/50\n",
            "223/223 [==============================] - 54s 242ms/step - loss: 8.3015 - categorical_accuracy: 0.0870 - val_loss: 7.5110 - val_categorical_accuracy: 0.1184\n",
            "Epoch 27/50\n",
            "223/223 [==============================] - 54s 242ms/step - loss: 8.2382 - categorical_accuracy: 0.0917 - val_loss: 7.5922 - val_categorical_accuracy: 0.1184\n",
            "Epoch 28/50\n",
            "223/223 [==============================] - 54s 242ms/step - loss: 8.2969 - categorical_accuracy: 0.0914 - val_loss: 7.6327 - val_categorical_accuracy: 0.1184\n",
            "Epoch 29/50\n",
            "223/223 [==============================] - 54s 242ms/step - loss: 7.8492 - categorical_accuracy: 0.0931 - val_loss: 8.4447 - val_categorical_accuracy: 0.1184\n",
            "Epoch 30/50\n",
            "223/223 [==============================] - 54s 242ms/step - loss: 8.3059 - categorical_accuracy: 0.0892 - val_loss: 7.5922 - val_categorical_accuracy: 0.1184\n",
            "Epoch 31/50\n",
            "223/223 [==============================] - 54s 242ms/step - loss: 7.9760 - categorical_accuracy: 0.0971 - val_loss: 7.5922 - val_categorical_accuracy: 0.1184\n"
          ]
        }
      ]
    },
    {
      "cell_type": "code",
      "execution_count": 131,
      "metadata": {
        "id": "RV_Sw2jo-nhU",
        "colab": {
          "base_uri": "https://localhost:8080/",
          "height": 295
        },
        "outputId": "2099d134-676d-4592-f3bc-2c3d9e252b23"
      },
      "outputs": [
        {
          "output_type": "display_data",
          "data": {
            "text/plain": [
              "<Figure size 432x288 with 1 Axes>"
            ],
            "image/png": "[encoded data removed]"
          },
          "metadata": {
            "needs_background": "light"
          }
        }
      ],
      "source": [
        "# summarize history for loss\n",
        "plt.plot(history.history['loss'])\n",
        "plt.plot(history.history['val_loss'])\n",
        "plt.title('model loss')\n",
        "plt.ylabel('loss')\n",
        "plt.xlabel('epoch')\n",
        "plt.legend(['train', 'val'], loc='upper right')\n",
        "plt.show()\n"
      ]
    },
    {
      "cell_type": "code",
      "execution_count": 132,
      "metadata": {
        "id": "xSYbpl0rBqiM",
        "colab": {
          "base_uri": "https://localhost:8080/",
          "height": 295
        },
        "outputId": "2630f359-b7a6-44ca-bcd8-ad6c5c84bc56"
      },
      "outputs": [
        {
          "output_type": "display_data",
          "data": {
            "text/plain": [
              "<Figure size 432x288 with 1 Axes>"
            ],
            "image/png": "[encoded data removed]"
          },
          "metadata": {
            "needs_background": "light"
          }
        }
      ],
      "source": [
        "# summarize history for accuracy\n",
        "plt.plot(history.history['categorical_accuracy'])\n",
        "plt.plot(history.history['val_categorical_accuracy'])\n",
        "plt.title('Model Accuracy')\n",
        "plt.ylabel('Accuracy')\n",
        "plt.xlabel('Epochs')\n",
        "plt.legend(['Train', 'Validation'], loc='upper left')\n",
        "plt.show()\n"
      ]
    },
    {
      "cell_type": "code",
      "execution_count": 133,
      "metadata": {
        "id": "drLe1hcOBsB3",
        "colab": {
          "base_uri": "https://localhost:8080/"
        },
        "outputId": "e79cad36-fb02-4664-fe62-add633d6907b"
      },
      "outputs": [
        {
          "output_type": "stream",
          "name": "stdout",
          "text": [
            "14/14 [==============================] - 2s 144ms/step - loss: 8.9545 - categorical_accuracy: 0.1066\n",
            "Test score: 8.954497337341309\n",
            "Test accuracy: 0.10657596588134766\n"
          ]
        }
      ],
      "source": [
        "# Evaluate the model on the test data\n",
        "score, acc = model_BERT.evaluate(x_test_np, y_test_enc, batch_size=32)\n",
        "print(\"Test score:\", score)\n",
        "print(\"Test accuracy:\", acc)"
      ]
    },
    {
      "cell_type": "code",
      "source": [
        "y_pred = model_BERT.predict(x_test_np)\n",
        "y_pred"
      ],
      "metadata": {
        "colab": {
          "base_uri": "https://localhost:8080/"
        },
        "id": "4ykBW3L4ecBZ",
        "outputId": "0c6c4f82-6401-4ea7-c361-0d93e3ecfb00"
      },
      "execution_count": 143,
      "outputs": [
        {
          "output_type": "stream",
          "name": "stdout",
          "text": [
            "14/14 [==============================] - 2s 142ms/step\n"
          ]
        },
        {
          "output_type": "execute_result",
          "data": {
            "text/plain": [
              "TFSequenceClassifierOutput(loss=None, logits=array([[-0.9594087 , -0.80629575, -0.7668625 , ...,  0.8260827 ,\n",
              "         0.7895261 , -0.73734784],\n",
              "       [-0.96779686, -0.8134525 , -0.77285147, ...,  0.82565683,\n",
              "         0.7841966 , -0.7368585 ],\n",
              "       [-0.9672791 , -0.8019756 , -0.7772351 , ...,  0.8185382 ,\n",
              "         0.77544373, -0.7307392 ],\n",
              "       ...,\n",
              "       [-0.96683145, -0.80811894, -0.7708176 , ...,  0.8218857 ,\n",
              "         0.7838299 , -0.7318547 ],\n",
              "       [-0.96602947, -0.8000396 , -0.7805969 , ...,  0.81652117,\n",
              "         0.7716596 , -0.73180676],\n",
              "       [-0.9686832 , -0.79943526, -0.78406775, ...,  0.80618054,\n",
              "         0.7568355 , -0.7193551 ]], dtype=float32), hidden_states=None, attentions=None)"
            ]
          },
          "metadata": {},
          "execution_count": 143
        }
      ]
    },
    {
      "cell_type": "code",
      "source": [
        "#Classification report\n",
        "y_pred = model_BERT.predict(x_test_np)\n",
        "y_pred = y_pred.logits # Extract the logits from the TFSequenceClassifierOutput object\n",
        "y_pred = tf.nn.softmax(y_pred) # Convert the logits to probabilities\n",
        "y_pred_class = tf.argmax(y_pred, axis=1) # Get the class index with the highest probability for each sample\n",
        "print(classification_report(y_test_np, y_pred_class.numpy()))\n"
      ],
      "metadata": {
        "colab": {
          "base_uri": "https://localhost:8080/"
        },
        "id": "bqSXwyPahERv",
        "outputId": "7ab9e796-3ff8-4979-df0d-4bca62254de7"
      },
      "execution_count": 152,
      "outputs": [
        {
          "output_type": "stream",
          "name": "stdout",
          "text": [
            "14/14 [==============================] - 2s 143ms/step\n",
            "              precision    recall  f1-score   support\n",
            "\n",
            "           0       0.00      0.00      0.00        64\n",
            "           1       0.00      0.00      0.00        59\n",
            "           2       0.00      0.00      0.00        45\n",
            "           3       0.00      0.00      0.00        41\n",
            "           4       0.00      0.00      0.00        26\n",
            "           5       0.11      1.00      0.19        47\n",
            "           6       0.00      0.00      0.00        37\n",
            "           7       0.00      0.00      0.00        40\n",
            "           8       0.00      0.00      0.00        42\n",
            "           9       0.00      0.00      0.00        40\n",
            "\n",
            "    accuracy                           0.11       441\n",
            "   macro avg       0.01      0.10      0.02       441\n",
            "weighted avg       0.01      0.11      0.02       441\n",
            "\n"
          ]
        },
        {
          "output_type": "stream",
          "name": "stderr",
          "text": [
            "/usr/local/lib/python3.8/dist-packages/sklearn/metrics/_classification.py:1318: UndefinedMetricWarning: Precision and F-score are ill-defined and being set to 0.0 in labels with no predicted samples. Use `zero_division` parameter to control this behavior.\n",
            "  _warn_prf(average, modifier, msg_start, len(result))\n",
            "/usr/local/lib/python3.8/dist-packages/sklearn/metrics/_classification.py:1318: UndefinedMetricWarning: Precision and F-score are ill-defined and being set to 0.0 in labels with no predicted samples. Use `zero_division` parameter to control this behavior.\n",
            "  _warn_prf(average, modifier, msg_start, len(result))\n",
            "/usr/local/lib/python3.8/dist-packages/sklearn/metrics/_classification.py:1318: UndefinedMetricWarning: Precision and F-score are ill-defined and being set to 0.0 in labels with no predicted samples. Use `zero_division` parameter to control this behavior.\n",
            "  _warn_prf(average, modifier, msg_start, len(result))\n"
          ]
        }
      ]
    },
    {
      "cell_type": "code",
      "source": [
        "conf_matrix = confusion_matrix(y_test_np, y_pred_class)\n",
        "cm_display = ConfusionMatrixDisplay(confusion_matrix = conf_matrix, display_labels = [0,1,2,3,4,5,6,7,8,9])\n",
        "plt.figure(figsize=(10,10))\n",
        "cm_display.plot()\n",
        "plt.show()"
      ],
      "metadata": {
        "id": "3lxAuz0vujcn",
        "colab": {
          "base_uri": "https://localhost:8080/",
          "height": 296
        },
        "outputId": "f587ab6b-2530-4aa7-a562-59af2ce6cdab"
      },
      "execution_count": 154,
      "outputs": [
        {
          "output_type": "display_data",
          "data": {
            "text/plain": [
              "<Figure size 720x720 with 0 Axes>"
            ]
          },
          "metadata": {}
        },
        {
          "output_type": "display_data",
          "data": {
            "text/plain": [
              "<Figure size 432x288 with 2 Axes>"
            ],
            "image/png": "[encoded data removed]"
          },
          "metadata": {
            "needs_background": "light"
          }
        }
      ]
    },
    {
      "cell_type": "markdown",
      "metadata": {
        "id": "oekLDi1FDFv5"
      },
      "source": [
        "###ROBERTa"
      ]
    },
    {
      "cell_type": "code",
      "execution_count": 155,
      "metadata": {
        "id": "5BR578yMCJ0X"
      },
      "outputs": [],
      "source": [
        "from transformers import RobertaTokenizer, TFRobertaForSequenceClassification\n"
      ]
    },
    {
      "cell_type": "code",
      "execution_count": 156,
      "metadata": {
        "id": "3xv3b1t6Di14"
      },
      "outputs": [],
      "source": [
        "# train, validation and test split dataset\n",
        "x_train, x_test, y_train, y_test = train_test_split(data_03[\"Question\"], data_03[\"Intent\"], test_size = 0.1, shuffle=True, random_state = 1)\n",
        "x_train, x_val, y_train, y_val = train_test_split(x_train, y_train, test_size = 0.1, shuffle=True, random_state = 1) \n"
      ]
    },
    {
      "cell_type": "code",
      "execution_count": 157,
      "metadata": {
        "id": "eUx-WoHnDKzv",
        "colab": {
          "base_uri": "https://localhost:8080/",
          "height": 113,
          "referenced_widgets": [
            "41cf13ebabc9409a809c93b09ba4682e",
            "416708ce89ff47e09983be375d675043",
            "b125681d479747c891a7c48da326185d",
            "a3ff9627999a400bb00d8e1597c38b2b",
            "4128999deba745c0b8efcaf0d84ccf1e",
            "90d3d5017ee84c209fca34d279712319",
            "4c5ab6b7b6fd45d1a966b6c091ba8ec8",
            "a5f21eb631334a5582df82cdd440d4ce",
            "bf1cdd09003c4520ab955db763c4d880",
            "b02b70de2cee466c8e929e8f8e3718b8",
            "1414ec3b36e1483d8dc305b57b4e8cc7",
            "2ee42fae5f2f4e448f2c7f5dafb59a86",
            "7640a95cf5c742f3ba280e143ebbed52",
            "84910eeae3714369933ade555588d5ad",
            "41e06408fa014778864b83a55e02fc2f",
            "4c850b1d0cd7477ba4266b9cf4319664",
            "9894bd6a4dda4994bd212bb4b24cca6a",
            "80b3946e8ba74a98a23871df726d4ba8",
            "7552c3921a484dfda15467dacb8305d4",
            "b33645f11c3341e9a3886f3bb2de9a11",
            "ca453b9b646f42b4bd6af736f2586f4c",
            "b7bde194bdff4f4dab5bcd562e287d4f",
            "c2de82be40cd4b7b9137790f3867704c",
            "4d81a57cadb040e990ca00f7fa77a058",
            "f87d828179d8407aac69c44758d0fe52",
            "0de1ee66521441b781ba7a62c13be6c6",
            "907720dc2fbc45c0b371d9ceb4eb6128",
            "7b2014230e06461686efee129e89d090",
            "df1f8fb57f3c4bf391dbc469c44fcd6b",
            "79f214d6671a43cdaa82204e4aa67e4c",
            "e3882c6255654c93ac1490f7be813abd",
            "b8d3a8ff6abc4d51901cf3c026f3e57b",
            "94376a6bafad49748daddf945de30ef3"
          ]
        },
        "outputId": "991c314a-bbe2-4db2-a37b-688b9ffd93c1"
      },
      "outputs": [
        {
          "output_type": "display_data",
          "data": {
            "text/plain": [
              "Downloading (…)olve/main/vocab.json:   0%|          | 0.00/899k [00:00<?, ?B/s]"
            ],
            "application/vnd.jupyter.widget-view+json": {
              "version_major": 2,
              "version_minor": 0,
              "model_id": "41cf13ebabc9409a809c93b09ba4682e"
            }
          },
          "metadata": {}
        },
        {
          "output_type": "display_data",
          "data": {
            "text/plain": [
              "Downloading (…)olve/main/merges.txt:   0%|          | 0.00/456k [00:00<?, ?B/s]"
            ],
            "application/vnd.jupyter.widget-view+json": {
              "version_major": 2,
              "version_minor": 0,
              "model_id": "2ee42fae5f2f4e448f2c7f5dafb59a86"
            }
          },
          "metadata": {}
        },
        {
          "output_type": "display_data",
          "data": {
            "text/plain": [
              "Downloading (…)lve/main/config.json:   0%|          | 0.00/481 [00:00<?, ?B/s]"
            ],
            "application/vnd.jupyter.widget-view+json": {
              "version_major": 2,
              "version_minor": 0,
              "model_id": "c2de82be40cd4b7b9137790f3867704c"
            }
          },
          "metadata": {}
        }
      ],
      "source": [
        "#Tokenize and pad data\n",
        "tokenizer = RobertaTokenizer.from_pretrained('roberta-base')\n",
        "x_train_pad = tokenizer.batch_encode_plus(x_train, return_tensors='tf', padding='max_length')\n",
        "x_val_pad = tokenizer.batch_encode_plus(x_val, return_tensors='tf', padding='max_length')\n",
        "x_test_pad = tokenizer.batch_encode_plus(x_test, return_tensors='tf', padding='max_length')"
      ]
    },
    {
      "cell_type": "code",
      "execution_count": 158,
      "metadata": {
        "id": "uHyWEe8VDuk4"
      },
      "outputs": [],
      "source": [
        "x_train_np = x_train_pad['input_ids'].numpy()\n",
        "x_val_np = x_val_pad['input_ids'].numpy()\n",
        "x_test_np = x_test_pad['input_ids'].numpy()"
      ]
    },
    {
      "cell_type": "code",
      "execution_count": 159,
      "metadata": {
        "id": "5YoxB_lEEGmF"
      },
      "outputs": [],
      "source": [
        "#one-hot-encoding\n",
        "n_classes = len(np.unique(y_train))\n",
        "y_train_np = y_train.values\n",
        "y_val_np = y_val.values\n",
        "y_test_np=y_test.values\n",
        "\n",
        "y_train_enc = tf.keras.utils.to_categorical(y_train_np, n_classes)\n",
        "y_val_enc = tf.keras.utils.to_categorical(y_val_np, n_classes)\n",
        "y_test_enc = tf.keras.utils.to_categorical(y_test_np, n_classes)"
      ]
    },
    {
      "cell_type": "code",
      "execution_count": 161,
      "metadata": {
        "id": "IqyYsVNNEH2i",
        "colab": {
          "base_uri": "https://localhost:8080/"
        },
        "outputId": "de77de42-dbdf-4cf2-b6fd-b1eeae9f4be5"
      },
      "outputs": [
        {
          "output_type": "stream",
          "name": "stderr",
          "text": [
            "All model checkpoint layers were used when initializing TFRobertaForSequenceClassification.\n",
            "\n",
            "Some layers of TFRobertaForSequenceClassification were not initialized from the model checkpoint at roberta-base and are newly initialized: ['classifier']\n",
            "You should probably TRAIN this model on a down-stream task to be able to use it for predictions and inference.\n"
          ]
        }
      ],
      "source": [
        "#Define & compile model\n",
        "model_Roberta = TFRobertaForSequenceClassification.from_pretrained('roberta-base', num_labels=10)\n",
        "\n",
        "optimizer = tf.keras.optimizers.Adam(learning_rate=1e-5, epsilon=1e-08)\n",
        "loss = tf.keras.losses.CategoricalCrossentropy()\n",
        "metric = tf.keras.metrics.CategoricalAccuracy()\n",
        "model_Roberta.compile(optimizer=optimizer, loss=loss, metrics=[metric])\n"
      ]
    },
    {
      "cell_type": "code",
      "execution_count": 164,
      "metadata": {
        "id": "JlSrcOl_EUQO",
        "colab": {
          "base_uri": "https://localhost:8080/"
        },
        "outputId": "31aa4322-bbe9-4de9-9b1a-9370620ba867"
      },
      "outputs": [
        {
          "output_type": "stream",
          "name": "stdout",
          "text": [
            "Epoch 1/10\n",
            "112/112 [==============================] - 54s 478ms/step - loss: 7.7811 - categorical_accuracy: 0.1122 - val_loss: 8.7695 - val_categorical_accuracy: 0.1008\n",
            "Epoch 2/10\n",
            "112/112 [==============================] - 51s 453ms/step - loss: 8.3083 - categorical_accuracy: 0.0937 - val_loss: 8.7695 - val_categorical_accuracy: 0.1008\n",
            "Epoch 3/10\n",
            "112/112 [==============================] - 51s 452ms/step - loss: 8.2497 - categorical_accuracy: 0.1021 - val_loss: 7.3892 - val_categorical_accuracy: 0.0982\n",
            "Epoch 4/10\n",
            "112/112 [==============================] - 51s 452ms/step - loss: 7.9957 - categorical_accuracy: 0.0957 - val_loss: 8.7695 - val_categorical_accuracy: 0.1033\n",
            "Epoch 5/10\n",
            "112/112 [==============================] - 51s 452ms/step - loss: 7.8632 - categorical_accuracy: 0.1102 - val_loss: 8.7695 - val_categorical_accuracy: 0.1033\n",
            "Epoch 6/10\n",
            "112/112 [==============================] - 51s 452ms/step - loss: 8.0850 - categorical_accuracy: 0.1077 - val_loss: 8.7695 - val_categorical_accuracy: 0.0856\n",
            "Epoch 7/10\n",
            "112/112 [==============================] - 50s 451ms/step - loss: 8.0939 - categorical_accuracy: 0.1072 - val_loss: 8.7695 - val_categorical_accuracy: 0.0856\n",
            "Epoch 8/10\n",
            "112/112 [==============================] - 50s 451ms/step - loss: 8.0166 - categorical_accuracy: 0.1094 - val_loss: 8.7695 - val_categorical_accuracy: 0.0856\n",
            "Epoch 9/10\n",
            "112/112 [==============================] - 51s 451ms/step - loss: 8.3198 - categorical_accuracy: 0.1161 - val_loss: 7.3486 - val_categorical_accuracy: 0.1008\n",
            "Epoch 10/10\n",
            "112/112 [==============================] - 51s 452ms/step - loss: 7.9580 - categorical_accuracy: 0.1080 - val_loss: 7.3486 - val_categorical_accuracy: 0.1008\n"
          ]
        }
      ],
      "source": [
        "#train model\n",
        "history = model_Roberta.fit(x_train_np, y_train_enc, batch_size=32, epochs=10, validation_data=(x_val_np, y_val_enc))"
      ]
    },
    {
      "cell_type": "code",
      "execution_count": 165,
      "metadata": {
        "id": "llsploJnEyfL",
        "colab": {
          "base_uri": "https://localhost:8080/",
          "height": 295
        },
        "outputId": "94d66126-9930-45c1-a214-5f905f7e766c"
      },
      "outputs": [
        {
          "output_type": "display_data",
          "data": {
            "text/plain": [
              "<Figure size 432x288 with 1 Axes>"
            ],
            "image/png": "[encoded data removed]"
          },
          "metadata": {
            "needs_background": "light"
          }
        }
      ],
      "source": [
        "# summarize history for loss\n",
        "plt.plot(history.history['loss'])\n",
        "plt.plot(history.history['val_loss'])\n",
        "plt.title('model loss')\n",
        "plt.ylabel('loss')\n",
        "plt.xlabel('epoch')\n",
        "plt.legend(['train', 'val'], loc='upper right')\n",
        "plt.show()"
      ]
    },
    {
      "cell_type": "code",
      "execution_count": 168,
      "metadata": {
        "id": "pvd5qJ0cFBN_",
        "colab": {
          "base_uri": "https://localhost:8080/",
          "height": 295
        },
        "outputId": "293f340f-1fc5-4aa2-d2a1-1c0661ad465d"
      },
      "outputs": [
        {
          "output_type": "display_data",
          "data": {
            "text/plain": [
              "<Figure size 432x288 with 1 Axes>"
            ],
            "image/png": "[encoded data removed]"
          },
          "metadata": {
            "needs_background": "light"
          }
        }
      ],
      "source": [
        "# summarize history for accuracy\n",
        "plt.plot(history.history['categorical_accuracy'])\n",
        "plt.plot(history.history['val_categorical_accuracy'])\n",
        "plt.title('model accuracy')\n",
        "plt.ylabel('accuracy')\n",
        "plt.xlabel('epoch')\n",
        "plt.legend(['train', 'val'], loc='upper left')\n",
        "plt.show()"
      ]
    },
    {
      "cell_type": "code",
      "execution_count": 173,
      "metadata": {
        "id": "Bg8rCTyIFB6e",
        "colab": {
          "base_uri": "https://localhost:8080/"
        },
        "outputId": "7c8adce8-4dd5-4652-dd6c-eace4231704e"
      },
      "outputs": [
        {
          "output_type": "stream",
          "name": "stdout",
          "text": [
            "14/14 [==============================] - 2s 144ms/step - loss: 8.2966 - categorical_accuracy: 0.1020\n",
            "Test score: 8.296615600585938\n",
            "Test accuracy: 0.10204081982374191\n",
            "14/14 [==============================] - 2s 142ms/step\n",
            "              precision    recall  f1-score   support\n",
            "\n",
            "           0       0.00      0.00      0.00        64\n",
            "           1       0.00      0.00      0.00        59\n",
            "           2       0.10      1.00      0.19        45\n",
            "           3       0.00      0.00      0.00        41\n",
            "           4       0.00      0.00      0.00        26\n",
            "           5       0.00      0.00      0.00        47\n",
            "           6       0.00      0.00      0.00        37\n",
            "           7       0.00      0.00      0.00        40\n",
            "           8       0.00      0.00      0.00        42\n",
            "           9       0.00      0.00      0.00        40\n",
            "\n",
            "    accuracy                           0.10       441\n",
            "   macro avg       0.01      0.10      0.02       441\n",
            "weighted avg       0.01      0.10      0.02       441\n",
            "\n"
          ]
        },
        {
          "output_type": "stream",
          "name": "stderr",
          "text": [
            "/usr/local/lib/python3.8/dist-packages/sklearn/metrics/_classification.py:1318: UndefinedMetricWarning: Precision and F-score are ill-defined and being set to 0.0 in labels with no predicted samples. Use `zero_division` parameter to control this behavior.\n",
            "  _warn_prf(average, modifier, msg_start, len(result))\n",
            "/usr/local/lib/python3.8/dist-packages/sklearn/metrics/_classification.py:1318: UndefinedMetricWarning: Precision and F-score are ill-defined and being set to 0.0 in labels with no predicted samples. Use `zero_division` parameter to control this behavior.\n",
            "  _warn_prf(average, modifier, msg_start, len(result))\n",
            "/usr/local/lib/python3.8/dist-packages/sklearn/metrics/_classification.py:1318: UndefinedMetricWarning: Precision and F-score are ill-defined and being set to 0.0 in labels with no predicted samples. Use `zero_division` parameter to control this behavior.\n",
            "  _warn_prf(average, modifier, msg_start, len(result))\n"
          ]
        }
      ],
      "source": [
        "# Evaluate the model on the test data\n",
        "score, acc = model_Roberta.evaluate(x_test_np, y_test_enc, batch_size=32)\n",
        "print(\"Test score:\", score)\n",
        "print(\"Test accuracy:\", acc)\n",
        "\n",
        "# Generate the classification report\n",
        "y_pred = model_Roberta.predict(x_test_np)\n",
        "y_pred = y_pred.logits # Extract the logits from the TFSequenceClassifierOutput object\n",
        "y_pred = tf.nn.softmax(y_pred) # Convert the logits to probabilities\n",
        "y_pred_class = tf.argmax(y_pred, axis=1) # Get the class index with the highest probability for each sample\n",
        "print(classification_report(y_test_np, y_pred_class.numpy()))"
      ]
    },
    {
      "cell_type": "code",
      "execution_count": 174,
      "metadata": {
        "id": "MAeKxczlFVHb",
        "colab": {
          "base_uri": "https://localhost:8080/",
          "height": 296
        },
        "outputId": "bb28d31c-0dda-4c10-8fea-16769a1e4f71"
      },
      "outputs": [
        {
          "output_type": "display_data",
          "data": {
            "text/plain": [
              "<Figure size 720x720 with 0 Axes>"
            ]
          },
          "metadata": {}
        },
        {
          "output_type": "display_data",
          "data": {
            "text/plain": [
              "<Figure size 432x288 with 2 Axes>"
            ],
            "image/png": "[encoded data removed]"
          },
          "metadata": {
            "needs_background": "light"
          }
        }
      ],
      "source": [
        "conf_matrix = confusion_matrix(y_test_np, y_pred_class)\n",
        "cm_display = ConfusionMatrixDisplay(confusion_matrix = conf_matrix, display_labels = [0,1,2,3,4,5,6,7,8,9])\n",
        "plt.figure(figsize=(10,10))\n",
        "cm_display.plot()\n",
        "plt.show()"
      ]
    },
    {
      "cell_type": "code",
      "source": [],
      "metadata": {
        "id": "CVB9c9hdoMcp"
      },
      "execution_count": null,
      "outputs": []
    }
  ],
  "metadata": {
    "accelerator": "GPU",
    "colab": {
      "provenance": [],
      "machine_shape": "hm",
      "authorship_tag": "ABX9TyMsYQ1UHYy5Z7Fb7ttfxle1",
      "include_colab_link": true
    },
    "gpuClass": "premium",
    "kernelspec": {
      "display_name": "Python 3",
      "name": "python3"
    },
    "language_info": {
      "name": "python"
    },
    "widgets": {
      "application/vnd.jupyter.widget-state+json": {
        "713b0b9abdee431bae27d0debc4c81d9": {
          "model_module": "@jupyter-widgets/controls",
          "model_name": "HBoxModel",
          "model_module_version": "1.5.0",
          "state": {
            "_dom_classes": [],
            "_model_module": "@jupyter-widgets/controls",
            "_model_module_version": "1.5.0",
            "_model_name": "HBoxModel",
            "_view_count": null,
            "_view_module": "@jupyter-widgets/controls",
            "_view_module_version": "1.5.0",
            "_view_name": "HBoxView",
            "box_style": "",
            "children": [
              "IPY_MODEL_059d507c2eee4cb1b2fe8bfb880ebd80",
              "IPY_MODEL_23297a26811544a6a334c683c304f60e",
              "IPY_MODEL_f0cc4c8d28e745abb5de677325468bd5"
            ],
            "layout": "IPY_MODEL_81bde89419ae4e32b8a7e92d48fd5300"
          }
        },
        "059d507c2eee4cb1b2fe8bfb880ebd80": {
          "model_module": "@jupyter-widgets/controls",
          "model_name": "HTMLModel",
          "model_module_version": "1.5.0",
          "state": {
            "_dom_classes": [],
            "_model_module": "@jupyter-widgets/controls",
            "_model_module_version": "1.5.0",
            "_model_name": "HTMLModel",
            "_view_count": null,
            "_view_module": "@jupyter-widgets/controls",
            "_view_module_version": "1.5.0",
            "_view_name": "HTMLView",
            "description": "",
            "description_tooltip": null,
            "layout": "IPY_MODEL_6153b9c7a1b0491f97122de4e072c887",
            "placeholder": "​",
            "style": "IPY_MODEL_a41e085f922f4a53881ff774015bc590",
            "value": "Downloading (…)solve/main/vocab.txt: 100%"
          }
        },
        "23297a26811544a6a334c683c304f60e": {
          "model_module": "@jupyter-widgets/controls",
          "model_name": "FloatProgressModel",
          "model_module_version": "1.5.0",
          "state": {
            "_dom_classes": [],
            "_model_module": "@jupyter-widgets/controls",
            "_model_module_version": "1.5.0",
            "_model_name": "FloatProgressModel",
            "_view_count": null,
            "_view_module": "@jupyter-widgets/controls",
            "_view_module_version": "1.5.0",
            "_view_name": "ProgressView",
            "bar_style": "success",
            "description": "",
            "description_tooltip": null,
            "layout": "IPY_MODEL_c8e32e81dd2f432b90190574fc6d3090",
            "max": 231508,
            "min": 0,
            "orientation": "horizontal",
            "style": "IPY_MODEL_6a8483284827446285727eca56f9b691",
            "value": 231508
          }
        },
        "f0cc4c8d28e745abb5de677325468bd5": {
          "model_module": "@jupyter-widgets/controls",
          "model_name": "HTMLModel",
          "model_module_version": "1.5.0",
          "state": {
            "_dom_classes": [],
            "_model_module": "@jupyter-widgets/controls",
            "_model_module_version": "1.5.0",
            "_model_name": "HTMLModel",
            "_view_count": null,
            "_view_module": "@jupyter-widgets/controls",
            "_view_module_version": "1.5.0",
            "_view_name": "HTMLView",
            "description": "",
            "description_tooltip": null,
            "layout": "IPY_MODEL_bb7994350f9c4c2886f7d36a77613c8e",
            "placeholder": "​",
            "style": "IPY_MODEL_f6082d5221254545a0e0e7f1c8dd475a",
            "value": " 232k/232k [00:00&lt;00:00, 262kB/s]"
          }
        },
        "81bde89419ae4e32b8a7e92d48fd5300": {
          "model_module": "@jupyter-widgets/base",
          "model_name": "LayoutModel",
          "model_module_version": "1.2.0",
          "state": {
            "_model_module": "@jupyter-widgets/base",
            "_model_module_version": "1.2.0",
            "_model_name": "LayoutModel",
            "_view_count": null,
            "_view_module": "@jupyter-widgets/base",
            "_view_module_version": "1.2.0",
            "_view_name": "LayoutView",
            "align_content": null,
            "align_items": null,
            "align_self": null,
            "border": null,
            "bottom": null,
            "display": null,
            "flex": null,
            "flex_flow": null,
            "grid_area": null,
            "grid_auto_columns": null,
            "grid_auto_flow": null,
            "grid_auto_rows": null,
            "grid_column": null,
            "grid_gap": null,
            "grid_row": null,
            "grid_template_areas": null,
            "grid_template_columns": null,
            "grid_template_rows": null,
            "height": null,
            "justify_content": null,
            "justify_items": null,
            "left": null,
            "margin": null,
            "max_height": null,
            "max_width": null,
            "min_height": null,
            "min_width": null,
            "object_fit": null,
            "object_position": null,
            "order": null,
            "overflow": null,
            "overflow_x": null,
            "overflow_y": null,
            "padding": null,
            "right": null,
            "top": null,
            "visibility": null,
            "width": null
          }
        },
        "6153b9c7a1b0491f97122de4e072c887": {
          "model_module": "@jupyter-widgets/base",
          "model_name": "LayoutModel",
          "model_module_version": "1.2.0",
          "state": {
            "_model_module": "@jupyter-widgets/base",
            "_model_module_version": "1.2.0",
            "_model_name": "LayoutModel",
            "_view_count": null,
            "_view_module": "@jupyter-widgets/base",
            "_view_module_version": "1.2.0",
            "_view_name": "LayoutView",
            "align_content": null,
            "align_items": null,
            "align_self": null,
            "border": null,
            "bottom": null,
            "display": null,
            "flex": null,
            "flex_flow": null,
            "grid_area": null,
            "grid_auto_columns": null,
            "grid_auto_flow": null,
            "grid_auto_rows": null,
            "grid_column": null,
            "grid_gap": null,
            "grid_row": null,
            "grid_template_areas": null,
            "grid_template_columns": null,
            "grid_template_rows": null,
            "height": null,
            "justify_content": null,
            "justify_items": null,
            "left": null,
            "margin": null,
            "max_height": null,
            "max_width": null,
            "min_height": null,
            "min_width": null,
            "object_fit": null,
            "object_position": null,
            "order": null,
            "overflow": null,
            "overflow_x": null,
            "overflow_y": null,
            "padding": null,
            "right": null,
            "top": null,
            "visibility": null,
            "width": null
          }
        },
        "a41e085f922f4a53881ff774015bc590": {
          "model_module": "@jupyter-widgets/controls",
          "model_name": "DescriptionStyleModel",
          "model_module_version": "1.5.0",
          "state": {
            "_model_module": "@jupyter-widgets/controls",
            "_model_module_version": "1.5.0",
            "_model_name": "DescriptionStyleModel",
            "_view_count": null,
            "_view_module": "@jupyter-widgets/base",
            "_view_module_version": "1.2.0",
            "_view_name": "StyleView",
            "description_width": ""
          }
        },
        "c8e32e81dd2f432b90190574fc6d3090": {
          "model_module": "@jupyter-widgets/base",
          "model_name": "LayoutModel",
          "model_module_version": "1.2.0",
          "state": {
            "_model_module": "@jupyter-widgets/base",
            "_model_module_version": "1.2.0",
            "_model_name": "LayoutModel",
            "_view_count": null,
            "_view_module": "@jupyter-widgets/base",
            "_view_module_version": "1.2.0",
            "_view_name": "LayoutView",
            "align_content": null,
            "align_items": null,
            "align_self": null,
            "border": null,
            "bottom": null,
            "display": null,
            "flex": null,
            "flex_flow": null,
            "grid_area": null,
            "grid_auto_columns": null,
            "grid_auto_flow": null,
            "grid_auto_rows": null,
            "grid_column": null,
            "grid_gap": null,
            "grid_row": null,
            "grid_template_areas": null,
            "grid_template_columns": null,
            "grid_template_rows": null,
            "height": null,
            "justify_content": null,
            "justify_items": null,
            "left": null,
            "margin": null,
            "max_height": null,
            "max_width": null,
            "min_height": null,
            "min_width": null,
            "object_fit": null,
            "object_position": null,
            "order": null,
            "overflow": null,
            "overflow_x": null,
            "overflow_y": null,
            "padding": null,
            "right": null,
            "top": null,
            "visibility": null,
            "width": null
          }
        },
        "6a8483284827446285727eca56f9b691": {
          "model_module": "@jupyter-widgets/controls",
          "model_name": "ProgressStyleModel",
          "model_module_version": "1.5.0",
          "state": {
            "_model_module": "@jupyter-widgets/controls",
            "_model_module_version": "1.5.0",
            "_model_name": "ProgressStyleModel",
            "_view_count": null,
            "_view_module": "@jupyter-widgets/base",
            "_view_module_version": "1.2.0",
            "_view_name": "StyleView",
            "bar_color": null,
            "description_width": ""
          }
        },
        "bb7994350f9c4c2886f7d36a77613c8e": {
          "model_module": "@jupyter-widgets/base",
          "model_name": "LayoutModel",
          "model_module_version": "1.2.0",
          "state": {
            "_model_module": "@jupyter-widgets/base",
            "_model_module_version": "1.2.0",
            "_model_name": "LayoutModel",
            "_view_count": null,
            "_view_module": "@jupyter-widgets/base",
            "_view_module_version": "1.2.0",
            "_view_name": "LayoutView",
            "align_content": null,
            "align_items": null,
            "align_self": null,
            "border": null,
            "bottom": null,
            "display": null,
            "flex": null,
            "flex_flow": null,
            "grid_area": null,
            "grid_auto_columns": null,
            "grid_auto_flow": null,
            "grid_auto_rows": null,
            "grid_column": null,
            "grid_gap": null,
            "grid_row": null,
            "grid_template_areas": null,
            "grid_template_columns": null,
            "grid_template_rows": null,
            "height": null,
            "justify_content": null,
            "justify_items": null,
            "left": null,
            "margin": null,
            "max_height": null,
            "max_width": null,
            "min_height": null,
            "min_width": null,
            "object_fit": null,
            "object_position": null,
            "order": null,
            "overflow": null,
            "overflow_x": null,
            "overflow_y": null,
            "padding": null,
            "right": null,
            "top": null,
            "visibility": null,
            "width": null
          }
        },
        "f6082d5221254545a0e0e7f1c8dd475a": {
          "model_module": "@jupyter-widgets/controls",
          "model_name": "DescriptionStyleModel",
          "model_module_version": "1.5.0",
          "state": {
            "_model_module": "@jupyter-widgets/controls",
            "_model_module_version": "1.5.0",
            "_model_name": "DescriptionStyleModel",
            "_view_count": null,
            "_view_module": "@jupyter-widgets/base",
            "_view_module_version": "1.2.0",
            "_view_name": "StyleView",
            "description_width": ""
          }
        },
        "b5cb725badf645868b0c67fe2039d6e8": {
          "model_module": "@jupyter-widgets/controls",
          "model_name": "HBoxModel",
          "model_module_version": "1.5.0",
          "state": {
            "_dom_classes": [],
            "_model_module": "@jupyter-widgets/controls",
            "_model_module_version": "1.5.0",
            "_model_name": "HBoxModel",
            "_view_count": null,
            "_view_module": "@jupyter-widgets/controls",
            "_view_module_version": "1.5.0",
            "_view_name": "HBoxView",
            "box_style": "",
            "children": [
              "IPY_MODEL_3d8ec34494bd4f078bbba8d926f0a15f",
              "IPY_MODEL_b5e58e1ffbb4471a8c8c4957de8f2864",
              "IPY_MODEL_d7fc63d8a76f4cdfb50e61e9a87ba14d"
            ],
            "layout": "IPY_MODEL_1930d5600909432e960c4a27e6e763a3"
          }
        },
        "3d8ec34494bd4f078bbba8d926f0a15f": {
          "model_module": "@jupyter-widgets/controls",
          "model_name": "HTMLModel",
          "model_module_version": "1.5.0",
          "state": {
            "_dom_classes": [],
            "_model_module": "@jupyter-widgets/controls",
            "_model_module_version": "1.5.0",
            "_model_name": "HTMLModel",
            "_view_count": null,
            "_view_module": "@jupyter-widgets/controls",
            "_view_module_version": "1.5.0",
            "_view_name": "HTMLView",
            "description": "",
            "description_tooltip": null,
            "layout": "IPY_MODEL_ed082bd91070423fa611ed9575b0c2e2",
            "placeholder": "​",
            "style": "IPY_MODEL_eee30c86116d4648b76652e847d4183c",
            "value": "Downloading (…)okenizer_config.json: 100%"
          }
        },
        "b5e58e1ffbb4471a8c8c4957de8f2864": {
          "model_module": "@jupyter-widgets/controls",
          "model_name": "FloatProgressModel",
          "model_module_version": "1.5.0",
          "state": {
            "_dom_classes": [],
            "_model_module": "@jupyter-widgets/controls",
            "_model_module_version": "1.5.0",
            "_model_name": "FloatProgressModel",
            "_view_count": null,
            "_view_module": "@jupyter-widgets/controls",
            "_view_module_version": "1.5.0",
            "_view_name": "ProgressView",
            "bar_style": "success",
            "description": "",
            "description_tooltip": null,
            "layout": "IPY_MODEL_7a37a71b61094ad7836712f232a5c089",
            "max": 28,
            "min": 0,
            "orientation": "horizontal",
            "style": "IPY_MODEL_80fe70ab17a948a3ba38bc42de381f87",
            "value": 28
          }
        },
        "d7fc63d8a76f4cdfb50e61e9a87ba14d": {
          "model_module": "@jupyter-widgets/controls",
          "model_name": "HTMLModel",
          "model_module_version": "1.5.0",
          "state": {
            "_dom_classes": [],
            "_model_module": "@jupyter-widgets/controls",
            "_model_module_version": "1.5.0",
            "_model_name": "HTMLModel",
            "_view_count": null,
            "_view_module": "@jupyter-widgets/controls",
            "_view_module_version": "1.5.0",
            "_view_name": "HTMLView",
            "description": "",
            "description_tooltip": null,
            "layout": "IPY_MODEL_7f1a27d97f90450d98f4b9cbaaeaa63d",
            "placeholder": "​",
            "style": "IPY_MODEL_9ca959aeee7e414b829d1e7d371c9cec",
            "value": " 28.0/28.0 [00:00&lt;00:00, 1.86kB/s]"
          }
        },
        "1930d5600909432e960c4a27e6e763a3": {
          "model_module": "@jupyter-widgets/base",
          "model_name": "LayoutModel",
          "model_module_version": "1.2.0",
          "state": {
            "_model_module": "@jupyter-widgets/base",
            "_model_module_version": "1.2.0",
            "_model_name": "LayoutModel",
            "_view_count": null,
            "_view_module": "@jupyter-widgets/base",
            "_view_module_version": "1.2.0",
            "_view_name": "LayoutView",
            "align_content": null,
            "align_items": null,
            "align_self": null,
            "border": null,
            "bottom": null,
            "display": null,
            "flex": null,
            "flex_flow": null,
            "grid_area": null,
            "grid_auto_columns": null,
            "grid_auto_flow": null,
            "grid_auto_rows": null,
            "grid_column": null,
            "grid_gap": null,
            "grid_row": null,
            "grid_template_areas": null,
            "grid_template_columns": null,
            "grid_template_rows": null,
            "height": null,
            "justify_content": null,
            "justify_items": null,
            "left": null,
            "margin": null,
            "max_height": null,
            "max_width": null,
            "min_height": null,
            "min_width": null,
            "object_fit": null,
            "object_position": null,
            "order": null,
            "overflow": null,
            "overflow_x": null,
            "overflow_y": null,
            "padding": null,
            "right": null,
            "top": null,
            "visibility": null,
            "width": null
          }
        },
        "ed082bd91070423fa611ed9575b0c2e2": {
          "model_module": "@jupyter-widgets/base",
          "model_name": "LayoutModel",
          "model_module_version": "1.2.0",
          "state": {
            "_model_module": "@jupyter-widgets/base",
            "_model_module_version": "1.2.0",
            "_model_name": "LayoutModel",
            "_view_count": null,
            "_view_module": "@jupyter-widgets/base",
            "_view_module_version": "1.2.0",
            "_view_name": "LayoutView",
            "align_content": null,
            "align_items": null,
            "align_self": null,
            "border": null,
            "bottom": null,
            "display": null,
            "flex": null,
            "flex_flow": null,
            "grid_area": null,
            "grid_auto_columns": null,
            "grid_auto_flow": null,
            "grid_auto_rows": null,
            "grid_column": null,
            "grid_gap": null,
            "grid_row": null,
            "grid_template_areas": null,
            "grid_template_columns": null,
            "grid_template_rows": null,
            "height": null,
            "justify_content": null,
            "justify_items": null,
            "left": null,
            "margin": null,
            "max_height": null,
            "max_width": null,
            "min_height": null,
            "min_width": null,
            "object_fit": null,
            "object_position": null,
            "order": null,
            "overflow": null,
            "overflow_x": null,
            "overflow_y": null,
            "padding": null,
            "right": null,
            "top": null,
            "visibility": null,
            "width": null
          }
        },
        "eee30c86116d4648b76652e847d4183c": {
          "model_module": "@jupyter-widgets/controls",
          "model_name": "DescriptionStyleModel",
          "model_module_version": "1.5.0",
          "state": {
            "_model_module": "@jupyter-widgets/controls",
            "_model_module_version": "1.5.0",
            "_model_name": "DescriptionStyleModel",
            "_view_count": null,
            "_view_module": "@jupyter-widgets/base",
            "_view_module_version": "1.2.0",
            "_view_name": "StyleView",
            "description_width": ""
          }
        },
        "7a37a71b61094ad7836712f232a5c089": {
          "model_module": "@jupyter-widgets/base",
          "model_name": "LayoutModel",
          "model_module_version": "1.2.0",
          "state": {
            "_model_module": "@jupyter-widgets/base",
            "_model_module_version": "1.2.0",
            "_model_name": "LayoutModel",
            "_view_count": null,
            "_view_module": "@jupyter-widgets/base",
            "_view_module_version": "1.2.0",
            "_view_name": "LayoutView",
            "align_content": null,
            "align_items": null,
            "align_self": null,
            "border": null,
            "bottom": null,
            "display": null,
            "flex": null,
            "flex_flow": null,
            "grid_area": null,
            "grid_auto_columns": null,
            "grid_auto_flow": null,
            "grid_auto_rows": null,
            "grid_column": null,
            "grid_gap": null,
            "grid_row": null,
            "grid_template_areas": null,
            "grid_template_columns": null,
            "grid_template_rows": null,
            "height": null,
            "justify_content": null,
            "justify_items": null,
            "left": null,
            "margin": null,
            "max_height": null,
            "max_width": null,
            "min_height": null,
            "min_width": null,
            "object_fit": null,
            "object_position": null,
            "order": null,
            "overflow": null,
            "overflow_x": null,
            "overflow_y": null,
            "padding": null,
            "right": null,
            "top": null,
            "visibility": null,
            "width": null
          }
        },
        "80fe70ab17a948a3ba38bc42de381f87": {
          "model_module": "@jupyter-widgets/controls",
          "model_name": "ProgressStyleModel",
          "model_module_version": "1.5.0",
          "state": {
            "_model_module": "@jupyter-widgets/controls",
            "_model_module_version": "1.5.0",
            "_model_name": "ProgressStyleModel",
            "_view_count": null,
            "_view_module": "@jupyter-widgets/base",
            "_view_module_version": "1.2.0",
            "_view_name": "StyleView",
            "bar_color": null,
            "description_width": ""
          }
        },
        "7f1a27d97f90450d98f4b9cbaaeaa63d": {
          "model_module": "@jupyter-widgets/base",
          "model_name": "LayoutModel",
          "model_module_version": "1.2.0",
          "state": {
            "_model_module": "@jupyter-widgets/base",
            "_model_module_version": "1.2.0",
            "_model_name": "LayoutModel",
            "_view_count": null,
            "_view_module": "@jupyter-widgets/base",
            "_view_module_version": "1.2.0",
            "_view_name": "LayoutView",
            "align_content": null,
            "align_items": null,
            "align_self": null,
            "border": null,
            "bottom": null,
            "display": null,
            "flex": null,
            "flex_flow": null,
            "grid_area": null,
            "grid_auto_columns": null,
            "grid_auto_flow": null,
            "grid_auto_rows": null,
            "grid_column": null,
            "grid_gap": null,
            "grid_row": null,
            "grid_template_areas": null,
            "grid_template_columns": null,
            "grid_template_rows": null,
            "height": null,
            "justify_content": null,
            "justify_items": null,
            "left": null,
            "margin": null,
            "max_height": null,
            "max_width": null,
            "min_height": null,
            "min_width": null,
            "object_fit": null,
            "object_position": null,
            "order": null,
            "overflow": null,
            "overflow_x": null,
            "overflow_y": null,
            "padding": null,
            "right": null,
            "top": null,
            "visibility": null,
            "width": null
          }
        },
        "9ca959aeee7e414b829d1e7d371c9cec": {
          "model_module": "@jupyter-widgets/controls",
          "model_name": "DescriptionStyleModel",
          "model_module_version": "1.5.0",
          "state": {
            "_model_module": "@jupyter-widgets/controls",
            "_model_module_version": "1.5.0",
            "_model_name": "DescriptionStyleModel",
            "_view_count": null,
            "_view_module": "@jupyter-widgets/base",
            "_view_module_version": "1.2.0",
            "_view_name": "StyleView",
            "description_width": ""
          }
        },
        "cfd5fa6461584223b8bae7339637c91a": {
          "model_module": "@jupyter-widgets/controls",
          "model_name": "HBoxModel",
          "model_module_version": "1.5.0",
          "state": {
            "_dom_classes": [],
            "_model_module": "@jupyter-widgets/controls",
            "_model_module_version": "1.5.0",
            "_model_name": "HBoxModel",
            "_view_count": null,
            "_view_module": "@jupyter-widgets/controls",
            "_view_module_version": "1.5.0",
            "_view_name": "HBoxView",
            "box_style": "",
            "children": [
              "IPY_MODEL_8fb00d5ad723411291af59b9c1611628",
              "IPY_MODEL_f0ec4ae3b0b043b98e6a4068e2c7fbbc",
              "IPY_MODEL_4544b3bbc06040f4be01c99b48e467b1"
            ],
            "layout": "IPY_MODEL_858752e886ab46caa44a56aedec062c4"
          }
        },
        "8fb00d5ad723411291af59b9c1611628": {
          "model_module": "@jupyter-widgets/controls",
          "model_name": "HTMLModel",
          "model_module_version": "1.5.0",
          "state": {
            "_dom_classes": [],
            "_model_module": "@jupyter-widgets/controls",
            "_model_module_version": "1.5.0",
            "_model_name": "HTMLModel",
            "_view_count": null,
            "_view_module": "@jupyter-widgets/controls",
            "_view_module_version": "1.5.0",
            "_view_name": "HTMLView",
            "description": "",
            "description_tooltip": null,
            "layout": "IPY_MODEL_08268e58f46b4505a071ab870f2fecac",
            "placeholder": "​",
            "style": "IPY_MODEL_eaeb58e8169247c1abcb4d792fa6637f",
            "value": "Downloading (…)lve/main/config.json: 100%"
          }
        },
        "f0ec4ae3b0b043b98e6a4068e2c7fbbc": {
          "model_module": "@jupyter-widgets/controls",
          "model_name": "FloatProgressModel",
          "model_module_version": "1.5.0",
          "state": {
            "_dom_classes": [],
            "_model_module": "@jupyter-widgets/controls",
            "_model_module_version": "1.5.0",
            "_model_name": "FloatProgressModel",
            "_view_count": null,
            "_view_module": "@jupyter-widgets/controls",
            "_view_module_version": "1.5.0",
            "_view_name": "ProgressView",
            "bar_style": "success",
            "description": "",
            "description_tooltip": null,
            "layout": "IPY_MODEL_125a6dda17d241d89ff88cac9c1053b8",
            "max": 570,
            "min": 0,
            "orientation": "horizontal",
            "style": "IPY_MODEL_1e8e33a280ff40a3b81ed812a60c6d5f",
            "value": 570
          }
        },
        "4544b3bbc06040f4be01c99b48e467b1": {
          "model_module": "@jupyter-widgets/controls",
          "model_name": "HTMLModel",
          "model_module_version": "1.5.0",
          "state": {
            "_dom_classes": [],
            "_model_module": "@jupyter-widgets/controls",
            "_model_module_version": "1.5.0",
            "_model_name": "HTMLModel",
            "_view_count": null,
            "_view_module": "@jupyter-widgets/controls",
            "_view_module_version": "1.5.0",
            "_view_name": "HTMLView",
            "description": "",
            "description_tooltip": null,
            "layout": "IPY_MODEL_4e6b82edda704fa2bf12bfcbffb704cb",
            "placeholder": "​",
            "style": "IPY_MODEL_0f5b710aec25409cad8209bdd0f19789",
            "value": " 570/570 [00:00&lt;00:00, 31.7kB/s]"
          }
        },
        "858752e886ab46caa44a56aedec062c4": {
          "model_module": "@jupyter-widgets/base",
          "model_name": "LayoutModel",
          "model_module_version": "1.2.0",
          "state": {
            "_model_module": "@jupyter-widgets/base",
            "_model_module_version": "1.2.0",
            "_model_name": "LayoutModel",
            "_view_count": null,
            "_view_module": "@jupyter-widgets/base",
            "_view_module_version": "1.2.0",
            "_view_name": "LayoutView",
            "align_content": null,
            "align_items": null,
            "align_self": null,
            "border": null,
            "bottom": null,
            "display": null,
            "flex": null,
            "flex_flow": null,
            "grid_area": null,
            "grid_auto_columns": null,
            "grid_auto_flow": null,
            "grid_auto_rows": null,
            "grid_column": null,
            "grid_gap": null,
            "grid_row": null,
            "grid_template_areas": null,
            "grid_template_columns": null,
            "grid_template_rows": null,
            "height": null,
            "justify_content": null,
            "justify_items": null,
            "left": null,
            "margin": null,
            "max_height": null,
            "max_width": null,
            "min_height": null,
            "min_width": null,
            "object_fit": null,
            "object_position": null,
            "order": null,
            "overflow": null,
            "overflow_x": null,
            "overflow_y": null,
            "padding": null,
            "right": null,
            "top": null,
            "visibility": null,
            "width": null
          }
        },
        "08268e58f46b4505a071ab870f2fecac": {
          "model_module": "@jupyter-widgets/base",
          "model_name": "LayoutModel",
          "model_module_version": "1.2.0",
          "state": {
            "_model_module": "@jupyter-widgets/base",
            "_model_module_version": "1.2.0",
            "_model_name": "LayoutModel",
            "_view_count": null,
            "_view_module": "@jupyter-widgets/base",
            "_view_module_version": "1.2.0",
            "_view_name": "LayoutView",
            "align_content": null,
            "align_items": null,
            "align_self": null,
            "border": null,
            "bottom": null,
            "display": null,
            "flex": null,
            "flex_flow": null,
            "grid_area": null,
            "grid_auto_columns": null,
            "grid_auto_flow": null,
            "grid_auto_rows": null,
            "grid_column": null,
            "grid_gap": null,
            "grid_row": null,
            "grid_template_areas": null,
            "grid_template_columns": null,
            "grid_template_rows": null,
            "height": null,
            "justify_content": null,
            "justify_items": null,
            "left": null,
            "margin": null,
            "max_height": null,
            "max_width": null,
            "min_height": null,
            "min_width": null,
            "object_fit": null,
            "object_position": null,
            "order": null,
            "overflow": null,
            "overflow_x": null,
            "overflow_y": null,
            "padding": null,
            "right": null,
            "top": null,
            "visibility": null,
            "width": null
          }
        },
        "eaeb58e8169247c1abcb4d792fa6637f": {
          "model_module": "@jupyter-widgets/controls",
          "model_name": "DescriptionStyleModel",
          "model_module_version": "1.5.0",
          "state": {
            "_model_module": "@jupyter-widgets/controls",
            "_model_module_version": "1.5.0",
            "_model_name": "DescriptionStyleModel",
            "_view_count": null,
            "_view_module": "@jupyter-widgets/base",
            "_view_module_version": "1.2.0",
            "_view_name": "StyleView",
            "description_width": ""
          }
        },
        "125a6dda17d241d89ff88cac9c1053b8": {
          "model_module": "@jupyter-widgets/base",
          "model_name": "LayoutModel",
          "model_module_version": "1.2.0",
          "state": {
            "_model_module": "@jupyter-widgets/base",
            "_model_module_version": "1.2.0",
            "_model_name": "LayoutModel",
            "_view_count": null,
            "_view_module": "@jupyter-widgets/base",
            "_view_module_version": "1.2.0",
            "_view_name": "LayoutView",
            "align_content": null,
            "align_items": null,
            "align_self": null,
            "border": null,
            "bottom": null,
            "display": null,
            "flex": null,
            "flex_flow": null,
            "grid_area": null,
            "grid_auto_columns": null,
            "grid_auto_flow": null,
            "grid_auto_rows": null,
            "grid_column": null,
            "grid_gap": null,
            "grid_row": null,
            "grid_template_areas": null,
            "grid_template_columns": null,
            "grid_template_rows": null,
            "height": null,
            "justify_content": null,
            "justify_items": null,
            "left": null,
            "margin": null,
            "max_height": null,
            "max_width": null,
            "min_height": null,
            "min_width": null,
            "object_fit": null,
            "object_position": null,
            "order": null,
            "overflow": null,
            "overflow_x": null,
            "overflow_y": null,
            "padding": null,
            "right": null,
            "top": null,
            "visibility": null,
            "width": null
          }
        },
        "1e8e33a280ff40a3b81ed812a60c6d5f": {
          "model_module": "@jupyter-widgets/controls",
          "model_name": "ProgressStyleModel",
          "model_module_version": "1.5.0",
          "state": {
            "_model_module": "@jupyter-widgets/controls",
            "_model_module_version": "1.5.0",
            "_model_name": "ProgressStyleModel",
            "_view_count": null,
            "_view_module": "@jupyter-widgets/base",
            "_view_module_version": "1.2.0",
            "_view_name": "StyleView",
            "bar_color": null,
            "description_width": ""
          }
        },
        "4e6b82edda704fa2bf12bfcbffb704cb": {
          "model_module": "@jupyter-widgets/base",
          "model_name": "LayoutModel",
          "model_module_version": "1.2.0",
          "state": {
            "_model_module": "@jupyter-widgets/base",
            "_model_module_version": "1.2.0",
            "_model_name": "LayoutModel",
            "_view_count": null,
            "_view_module": "@jupyter-widgets/base",
            "_view_module_version": "1.2.0",
            "_view_name": "LayoutView",
            "align_content": null,
            "align_items": null,
            "align_self": null,
            "border": null,
            "bottom": null,
            "display": null,
            "flex": null,
            "flex_flow": null,
            "grid_area": null,
            "grid_auto_columns": null,
            "grid_auto_flow": null,
            "grid_auto_rows": null,
            "grid_column": null,
            "grid_gap": null,
            "grid_row": null,
            "grid_template_areas": null,
            "grid_template_columns": null,
            "grid_template_rows": null,
            "height": null,
            "justify_content": null,
            "justify_items": null,
            "left": null,
            "margin": null,
            "max_height": null,
            "max_width": null,
            "min_height": null,
            "min_width": null,
            "object_fit": null,
            "object_position": null,
            "order": null,
            "overflow": null,
            "overflow_x": null,
            "overflow_y": null,
            "padding": null,
            "right": null,
            "top": null,
            "visibility": null,
            "width": null
          }
        },
        "0f5b710aec25409cad8209bdd0f19789": {
          "model_module": "@jupyter-widgets/controls",
          "model_name": "DescriptionStyleModel",
          "model_module_version": "1.5.0",
          "state": {
            "_model_module": "@jupyter-widgets/controls",
            "_model_module_version": "1.5.0",
            "_model_name": "DescriptionStyleModel",
            "_view_count": null,
            "_view_module": "@jupyter-widgets/base",
            "_view_module_version": "1.2.0",
            "_view_name": "StyleView",
            "description_width": ""
          }
        },
        "41cf13ebabc9409a809c93b09ba4682e": {
          "model_module": "@jupyter-widgets/controls",
          "model_name": "HBoxModel",
          "model_module_version": "1.5.0",
          "state": {
            "_dom_classes": [],
            "_model_module": "@jupyter-widgets/controls",
            "_model_module_version": "1.5.0",
            "_model_name": "HBoxModel",
            "_view_count": null,
            "_view_module": "@jupyter-widgets/controls",
            "_view_module_version": "1.5.0",
            "_view_name": "HBoxView",
            "box_style": "",
            "children": [
              "IPY_MODEL_416708ce89ff47e09983be375d675043",
              "IPY_MODEL_b125681d479747c891a7c48da326185d",
              "IPY_MODEL_a3ff9627999a400bb00d8e1597c38b2b"
            ],
            "layout": "IPY_MODEL_4128999deba745c0b8efcaf0d84ccf1e"
          }
        },
        "416708ce89ff47e09983be375d675043": {
          "model_module": "@jupyter-widgets/controls",
          "model_name": "HTMLModel",
          "model_module_version": "1.5.0",
          "state": {
            "_dom_classes": [],
            "_model_module": "@jupyter-widgets/controls",
            "_model_module_version": "1.5.0",
            "_model_name": "HTMLModel",
            "_view_count": null,
            "_view_module": "@jupyter-widgets/controls",
            "_view_module_version": "1.5.0",
            "_view_name": "HTMLView",
            "description": "",
            "description_tooltip": null,
            "layout": "IPY_MODEL_90d3d5017ee84c209fca34d279712319",
            "placeholder": "​",
            "style": "IPY_MODEL_4c5ab6b7b6fd45d1a966b6c091ba8ec8",
            "value": "Downloading (…)olve/main/vocab.json: 100%"
          }
        },
        "b125681d479747c891a7c48da326185d": {
          "model_module": "@jupyter-widgets/controls",
          "model_name": "FloatProgressModel",
          "model_module_version": "1.5.0",
          "state": {
            "_dom_classes": [],
            "_model_module": "@jupyter-widgets/controls",
            "_model_module_version": "1.5.0",
            "_model_name": "FloatProgressModel",
            "_view_count": null,
            "_view_module": "@jupyter-widgets/controls",
            "_view_module_version": "1.5.0",
            "_view_name": "ProgressView",
            "bar_style": "success",
            "description": "",
            "description_tooltip": null,
            "layout": "IPY_MODEL_a5f21eb631334a5582df82cdd440d4ce",
            "max": 898823,
            "min": 0,
            "orientation": "horizontal",
            "style": "IPY_MODEL_bf1cdd09003c4520ab955db763c4d880",
            "value": 898823
          }
        },
        "a3ff9627999a400bb00d8e1597c38b2b": {
          "model_module": "@jupyter-widgets/controls",
          "model_name": "HTMLModel",
          "model_module_version": "1.5.0",
          "state": {
            "_dom_classes": [],
            "_model_module": "@jupyter-widgets/controls",
            "_model_module_version": "1.5.0",
            "_model_name": "HTMLModel",
            "_view_count": null,
            "_view_module": "@jupyter-widgets/controls",
            "_view_module_version": "1.5.0",
            "_view_name": "HTMLView",
            "description": "",
            "description_tooltip": null,
            "layout": "IPY_MODEL_b02b70de2cee466c8e929e8f8e3718b8",
            "placeholder": "​",
            "style": "IPY_MODEL_1414ec3b36e1483d8dc305b57b4e8cc7",
            "value": " 899k/899k [00:00&lt;00:00, 2.84MB/s]"
          }
        },
        "4128999deba745c0b8efcaf0d84ccf1e": {
          "model_module": "@jupyter-widgets/base",
          "model_name": "LayoutModel",
          "model_module_version": "1.2.0",
          "state": {
            "_model_module": "@jupyter-widgets/base",
            "_model_module_version": "1.2.0",
            "_model_name": "LayoutModel",
            "_view_count": null,
            "_view_module": "@jupyter-widgets/base",
            "_view_module_version": "1.2.0",
            "_view_name": "LayoutView",
            "align_content": null,
            "align_items": null,
            "align_self": null,
            "border": null,
            "bottom": null,
            "display": null,
            "flex": null,
            "flex_flow": null,
            "grid_area": null,
            "grid_auto_columns": null,
            "grid_auto_flow": null,
            "grid_auto_rows": null,
            "grid_column": null,
            "grid_gap": null,
            "grid_row": null,
            "grid_template_areas": null,
            "grid_template_columns": null,
            "grid_template_rows": null,
            "height": null,
            "justify_content": null,
            "justify_items": null,
            "left": null,
            "margin": null,
            "max_height": null,
            "max_width": null,
            "min_height": null,
            "min_width": null,
            "object_fit": null,
            "object_position": null,
            "order": null,
            "overflow": null,
            "overflow_x": null,
            "overflow_y": null,
            "padding": null,
            "right": null,
            "top": null,
            "visibility": null,
            "width": null
          }
        },
        "90d3d5017ee84c209fca34d279712319": {
          "model_module": "@jupyter-widgets/base",
          "model_name": "LayoutModel",
          "model_module_version": "1.2.0",
          "state": {
            "_model_module": "@jupyter-widgets/base",
            "_model_module_version": "1.2.0",
            "_model_name": "LayoutModel",
            "_view_count": null,
            "_view_module": "@jupyter-widgets/base",
            "_view_module_version": "1.2.0",
            "_view_name": "LayoutView",
            "align_content": null,
            "align_items": null,
            "align_self": null,
            "border": null,
            "bottom": null,
            "display": null,
            "flex": null,
            "flex_flow": null,
            "grid_area": null,
            "grid_auto_columns": null,
            "grid_auto_flow": null,
            "grid_auto_rows": null,
            "grid_column": null,
            "grid_gap": null,
            "grid_row": null,
            "grid_template_areas": null,
            "grid_template_columns": null,
            "grid_template_rows": null,
            "height": null,
            "justify_content": null,
            "justify_items": null,
            "left": null,
            "margin": null,
            "max_height": null,
            "max_width": null,
            "min_height": null,
            "min_width": null,
            "object_fit": null,
            "object_position": null,
            "order": null,
            "overflow": null,
            "overflow_x": null,
            "overflow_y": null,
            "padding": null,
            "right": null,
            "top": null,
            "visibility": null,
            "width": null
          }
        },
        "4c5ab6b7b6fd45d1a966b6c091ba8ec8": {
          "model_module": "@jupyter-widgets/controls",
          "model_name": "DescriptionStyleModel",
          "model_module_version": "1.5.0",
          "state": {
            "_model_module": "@jupyter-widgets/controls",
            "_model_module_version": "1.5.0",
            "_model_name": "DescriptionStyleModel",
            "_view_count": null,
            "_view_module": "@jupyter-widgets/base",
            "_view_module_version": "1.2.0",
            "_view_name": "StyleView",
            "description_width": ""
          }
        },
        "a5f21eb631334a5582df82cdd440d4ce": {
          "model_module": "@jupyter-widgets/base",
          "model_name": "LayoutModel",
          "model_module_version": "1.2.0",
          "state": {
            "_model_module": "@jupyter-widgets/base",
            "_model_module_version": "1.2.0",
            "_model_name": "LayoutModel",
            "_view_count": null,
            "_view_module": "@jupyter-widgets/base",
            "_view_module_version": "1.2.0",
            "_view_name": "LayoutView",
            "align_content": null,
            "align_items": null,
            "align_self": null,
            "border": null,
            "bottom": null,
            "display": null,
            "flex": null,
            "flex_flow": null,
            "grid_area": null,
            "grid_auto_columns": null,
            "grid_auto_flow": null,
            "grid_auto_rows": null,
            "grid_column": null,
            "grid_gap": null,
            "grid_row": null,
            "grid_template_areas": null,
            "grid_template_columns": null,
            "grid_template_rows": null,
            "height": null,
            "justify_content": null,
            "justify_items": null,
            "left": null,
            "margin": null,
            "max_height": null,
            "max_width": null,
            "min_height": null,
            "min_width": null,
            "object_fit": null,
            "object_position": null,
            "order": null,
            "overflow": null,
            "overflow_x": null,
            "overflow_y": null,
            "padding": null,
            "right": null,
            "top": null,
            "visibility": null,
            "width": null
          }
        },
        "bf1cdd09003c4520ab955db763c4d880": {
          "model_module": "@jupyter-widgets/controls",
          "model_name": "ProgressStyleModel",
          "model_module_version": "1.5.0",
          "state": {
            "_model_module": "@jupyter-widgets/controls",
            "_model_module_version": "1.5.0",
            "_model_name": "ProgressStyleModel",
            "_view_count": null,
            "_view_module": "@jupyter-widgets/base",
            "_view_module_version": "1.2.0",
            "_view_name": "StyleView",
            "bar_color": null,
            "description_width": ""
          }
        },
        "b02b70de2cee466c8e929e8f8e3718b8": {
          "model_module": "@jupyter-widgets/base",
          "model_name": "LayoutModel",
          "model_module_version": "1.2.0",
          "state": {
            "_model_module": "@jupyter-widgets/base",
            "_model_module_version": "1.2.0",
            "_model_name": "LayoutModel",
            "_view_count": null,
            "_view_module": "@jupyter-widgets/base",
            "_view_module_version": "1.2.0",
            "_view_name": "LayoutView",
            "align_content": null,
            "align_items": null,
            "align_self": null,
            "border": null,
            "bottom": null,
            "display": null,
            "flex": null,
            "flex_flow": null,
            "grid_area": null,
            "grid_auto_columns": null,
            "grid_auto_flow": null,
            "grid_auto_rows": null,
            "grid_column": null,
            "grid_gap": null,
            "grid_row": null,
            "grid_template_areas": null,
            "grid_template_columns": null,
            "grid_template_rows": null,
            "height": null,
            "justify_content": null,
            "justify_items": null,
            "left": null,
            "margin": null,
            "max_height": null,
            "max_width": null,
            "min_height": null,
            "min_width": null,
            "object_fit": null,
            "object_position": null,
            "order": null,
            "overflow": null,
            "overflow_x": null,
            "overflow_y": null,
            "padding": null,
            "right": null,
            "top": null,
            "visibility": null,
            "width": null
          }
        },
        "1414ec3b36e1483d8dc305b57b4e8cc7": {
          "model_module": "@jupyter-widgets/controls",
          "model_name": "DescriptionStyleModel",
          "model_module_version": "1.5.0",
          "state": {
            "_model_module": "@jupyter-widgets/controls",
            "_model_module_version": "1.5.0",
            "_model_name": "DescriptionStyleModel",
            "_view_count": null,
            "_view_module": "@jupyter-widgets/base",
            "_view_module_version": "1.2.0",
            "_view_name": "StyleView",
            "description_width": ""
          }
        },
        "2ee42fae5f2f4e448f2c7f5dafb59a86": {
          "model_module": "@jupyter-widgets/controls",
          "model_name": "HBoxModel",
          "model_module_version": "1.5.0",
          "state": {
            "_dom_classes": [],
            "_model_module": "@jupyter-widgets/controls",
            "_model_module_version": "1.5.0",
            "_model_name": "HBoxModel",
            "_view_count": null,
            "_view_module": "@jupyter-widgets/controls",
            "_view_module_version": "1.5.0",
            "_view_name": "HBoxView",
            "box_style": "",
            "children": [
              "IPY_MODEL_7640a95cf5c742f3ba280e143ebbed52",
              "IPY_MODEL_84910eeae3714369933ade555588d5ad",
              "IPY_MODEL_41e06408fa014778864b83a55e02fc2f"
            ],
            "layout": "IPY_MODEL_4c850b1d0cd7477ba4266b9cf4319664"
          }
        },
        "7640a95cf5c742f3ba280e143ebbed52": {
          "model_module": "@jupyter-widgets/controls",
          "model_name": "HTMLModel",
          "model_module_version": "1.5.0",
          "state": {
            "_dom_classes": [],
            "_model_module": "@jupyter-widgets/controls",
            "_model_module_version": "1.5.0",
            "_model_name": "HTMLModel",
            "_view_count": null,
            "_view_module": "@jupyter-widgets/controls",
            "_view_module_version": "1.5.0",
            "_view_name": "HTMLView",
            "description": "",
            "description_tooltip": null,
            "layout": "IPY_MODEL_9894bd6a4dda4994bd212bb4b24cca6a",
            "placeholder": "​",
            "style": "IPY_MODEL_80b3946e8ba74a98a23871df726d4ba8",
            "value": "Downloading (…)olve/main/merges.txt: 100%"
          }
        },
        "84910eeae3714369933ade555588d5ad": {
          "model_module": "@jupyter-widgets/controls",
          "model_name": "FloatProgressModel",
          "model_module_version": "1.5.0",
          "state": {
            "_dom_classes": [],
            "_model_module": "@jupyter-widgets/controls",
            "_model_module_version": "1.5.0",
            "_model_name": "FloatProgressModel",
            "_view_count": null,
            "_view_module": "@jupyter-widgets/controls",
            "_view_module_version": "1.5.0",
            "_view_name": "ProgressView",
            "bar_style": "success",
            "description": "",
            "description_tooltip": null,
            "layout": "IPY_MODEL_7552c3921a484dfda15467dacb8305d4",
            "max": 456318,
            "min": 0,
            "orientation": "horizontal",
            "style": "IPY_MODEL_b33645f11c3341e9a3886f3bb2de9a11",
            "value": 456318
          }
        },
        "41e06408fa014778864b83a55e02fc2f": {
          "model_module": "@jupyter-widgets/controls",
          "model_name": "HTMLModel",
          "model_module_version": "1.5.0",
          "state": {
            "_dom_classes": [],
            "_model_module": "@jupyter-widgets/controls",
            "_model_module_version": "1.5.0",
            "_model_name": "HTMLModel",
            "_view_count": null,
            "_view_module": "@jupyter-widgets/controls",
            "_view_module_version": "1.5.0",
            "_view_name": "HTMLView",
            "description": "",
            "description_tooltip": null,
            "layout": "IPY_MODEL_ca453b9b646f42b4bd6af736f2586f4c",
            "placeholder": "​",
            "style": "IPY_MODEL_b7bde194bdff4f4dab5bcd562e287d4f",
            "value": " 456k/456k [00:00&lt;00:00, 1.52MB/s]"
          }
        },
        "4c850b1d0cd7477ba4266b9cf4319664": {
          "model_module": "@jupyter-widgets/base",
          "model_name": "LayoutModel",
          "model_module_version": "1.2.0",
          "state": {
            "_model_module": "@jupyter-widgets/base",
            "_model_module_version": "1.2.0",
            "_model_name": "LayoutModel",
            "_view_count": null,
            "_view_module": "@jupyter-widgets/base",
            "_view_module_version": "1.2.0",
            "_view_name": "LayoutView",
            "align_content": null,
            "align_items": null,
            "align_self": null,
            "border": null,
            "bottom": null,
            "display": null,
            "flex": null,
            "flex_flow": null,
            "grid_area": null,
            "grid_auto_columns": null,
            "grid_auto_flow": null,
            "grid_auto_rows": null,
            "grid_column": null,
            "grid_gap": null,
            "grid_row": null,
            "grid_template_areas": null,
            "grid_template_columns": null,
            "grid_template_rows": null,
            "height": null,
            "justify_content": null,
            "justify_items": null,
            "left": null,
            "margin": null,
            "max_height": null,
            "max_width": null,
            "min_height": null,
            "min_width": null,
            "object_fit": null,
            "object_position": null,
            "order": null,
            "overflow": null,
            "overflow_x": null,
            "overflow_y": null,
            "padding": null,
            "right": null,
            "top": null,
            "visibility": null,
            "width": null
          }
        },
        "9894bd6a4dda4994bd212bb4b24cca6a": {
          "model_module": "@jupyter-widgets/base",
          "model_name": "LayoutModel",
          "model_module_version": "1.2.0",
          "state": {
            "_model_module": "@jupyter-widgets/base",
            "_model_module_version": "1.2.0",
            "_model_name": "LayoutModel",
            "_view_count": null,
            "_view_module": "@jupyter-widgets/base",
            "_view_module_version": "1.2.0",
            "_view_name": "LayoutView",
            "align_content": null,
            "align_items": null,
            "align_self": null,
            "border": null,
            "bottom": null,
            "display": null,
            "flex": null,
            "flex_flow": null,
            "grid_area": null,
            "grid_auto_columns": null,
            "grid_auto_flow": null,
            "grid_auto_rows": null,
            "grid_column": null,
            "grid_gap": null,
            "grid_row": null,
            "grid_template_areas": null,
            "grid_template_columns": null,
            "grid_template_rows": null,
            "height": null,
            "justify_content": null,
            "justify_items": null,
            "left": null,
            "margin": null,
            "max_height": null,
            "max_width": null,
            "min_height": null,
            "min_width": null,
            "object_fit": null,
            "object_position": null,
            "order": null,
            "overflow": null,
            "overflow_x": null,
            "overflow_y": null,
            "padding": null,
            "right": null,
            "top": null,
            "visibility": null,
            "width": null
          }
        },
        "80b3946e8ba74a98a23871df726d4ba8": {
          "model_module": "@jupyter-widgets/controls",
          "model_name": "DescriptionStyleModel",
          "model_module_version": "1.5.0",
          "state": {
            "_model_module": "@jupyter-widgets/controls",
            "_model_module_version": "1.5.0",
            "_model_name": "DescriptionStyleModel",
            "_view_count": null,
            "_view_module": "@jupyter-widgets/base",
            "_view_module_version": "1.2.0",
            "_view_name": "StyleView",
            "description_width": ""
          }
        },
        "7552c3921a484dfda15467dacb8305d4": {
          "model_module": "@jupyter-widgets/base",
          "model_name": "LayoutModel",
          "model_module_version": "1.2.0",
          "state": {
            "_model_module": "@jupyter-widgets/base",
            "_model_module_version": "1.2.0",
            "_model_name": "LayoutModel",
            "_view_count": null,
            "_view_module": "@jupyter-widgets/base",
            "_view_module_version": "1.2.0",
            "_view_name": "LayoutView",
            "align_content": null,
            "align_items": null,
            "align_self": null,
            "border": null,
            "bottom": null,
            "display": null,
            "flex": null,
            "flex_flow": null,
            "grid_area": null,
            "grid_auto_columns": null,
            "grid_auto_flow": null,
            "grid_auto_rows": null,
            "grid_column": null,
            "grid_gap": null,
            "grid_row": null,
            "grid_template_areas": null,
            "grid_template_columns": null,
            "grid_template_rows": null,
            "height": null,
            "justify_content": null,
            "justify_items": null,
            "left": null,
            "margin": null,
            "max_height": null,
            "max_width": null,
            "min_height": null,
            "min_width": null,
            "object_fit": null,
            "object_position": null,
            "order": null,
            "overflow": null,
            "overflow_x": null,
            "overflow_y": null,
            "padding": null,
            "right": null,
            "top": null,
            "visibility": null,
            "width": null
          }
        },
        "b33645f11c3341e9a3886f3bb2de9a11": {
          "model_module": "@jupyter-widgets/controls",
          "model_name": "ProgressStyleModel",
          "model_module_version": "1.5.0",
          "state": {
            "_model_module": "@jupyter-widgets/controls",
            "_model_module_version": "1.5.0",
            "_model_name": "ProgressStyleModel",
            "_view_count": null,
            "_view_module": "@jupyter-widgets/base",
            "_view_module_version": "1.2.0",
            "_view_name": "StyleView",
            "bar_color": null,
            "description_width": ""
          }
        },
        "ca453b9b646f42b4bd6af736f2586f4c": {
          "model_module": "@jupyter-widgets/base",
          "model_name": "LayoutModel",
          "model_module_version": "1.2.0",
          "state": {
            "_model_module": "@jupyter-widgets/base",
            "_model_module_version": "1.2.0",
            "_model_name": "LayoutModel",
            "_view_count": null,
            "_view_module": "@jupyter-widgets/base",
            "_view_module_version": "1.2.0",
            "_view_name": "LayoutView",
            "align_content": null,
            "align_items": null,
            "align_self": null,
            "border": null,
            "bottom": null,
            "display": null,
            "flex": null,
            "flex_flow": null,
            "grid_area": null,
            "grid_auto_columns": null,
            "grid_auto_flow": null,
            "grid_auto_rows": null,
            "grid_column": null,
            "grid_gap": null,
            "grid_row": null,
            "grid_template_areas": null,
            "grid_template_columns": null,
            "grid_template_rows": null,
            "height": null,
            "justify_content": null,
            "justify_items": null,
            "left": null,
            "margin": null,
            "max_height": null,
            "max_width": null,
            "min_height": null,
            "min_width": null,
            "object_fit": null,
            "object_position": null,
            "order": null,
            "overflow": null,
            "overflow_x": null,
            "overflow_y": null,
            "padding": null,
            "right": null,
            "top": null,
            "visibility": null,
            "width": null
          }
        },
        "b7bde194bdff4f4dab5bcd562e287d4f": {
          "model_module": "@jupyter-widgets/controls",
          "model_name": "DescriptionStyleModel",
          "model_module_version": "1.5.0",
          "state": {
            "_model_module": "@jupyter-widgets/controls",
            "_model_module_version": "1.5.0",
            "_model_name": "DescriptionStyleModel",
            "_view_count": null,
            "_view_module": "@jupyter-widgets/base",
            "_view_module_version": "1.2.0",
            "_view_name": "StyleView",
            "description_width": ""
          }
        },
        "c2de82be40cd4b7b9137790f3867704c": {
          "model_module": "@jupyter-widgets/controls",
          "model_name": "HBoxModel",
          "model_module_version": "1.5.0",
          "state": {
            "_dom_classes": [],
            "_model_module": "@jupyter-widgets/controls",
            "_model_module_version": "1.5.0",
            "_model_name": "HBoxModel",
            "_view_count": null,
            "_view_module": "@jupyter-widgets/controls",
            "_view_module_version": "1.5.0",
            "_view_name": "HBoxView",
            "box_style": "",
            "children": [
              "IPY_MODEL_4d81a57cadb040e990ca00f7fa77a058",
              "IPY_MODEL_f87d828179d8407aac69c44758d0fe52",
              "IPY_MODEL_0de1ee66521441b781ba7a62c13be6c6"
            ],
            "layout": "IPY_MODEL_907720dc2fbc45c0b371d9ceb4eb6128"
          }
        },
        "4d81a57cadb040e990ca00f7fa77a058": {
          "model_module": "@jupyter-widgets/controls",
          "model_name": "HTMLModel",
          "model_module_version": "1.5.0",
          "state": {
            "_dom_classes": [],
            "_model_module": "@jupyter-widgets/controls",
            "_model_module_version": "1.5.0",
            "_model_name": "HTMLModel",
            "_view_count": null,
            "_view_module": "@jupyter-widgets/controls",
            "_view_module_version": "1.5.0",
            "_view_name": "HTMLView",
            "description": "",
            "description_tooltip": null,
            "layout": "IPY_MODEL_7b2014230e06461686efee129e89d090",
            "placeholder": "​",
            "style": "IPY_MODEL_df1f8fb57f3c4bf391dbc469c44fcd6b",
            "value": "Downloading (…)lve/main/config.json: 100%"
          }
        },
        "f87d828179d8407aac69c44758d0fe52": {
          "model_module": "@jupyter-widgets/controls",
          "model_name": "FloatProgressModel",
          "model_module_version": "1.5.0",
          "state": {
            "_dom_classes": [],
            "_model_module": "@jupyter-widgets/controls",
            "_model_module_version": "1.5.0",
            "_model_name": "FloatProgressModel",
            "_view_count": null,
            "_view_module": "@jupyter-widgets/controls",
            "_view_module_version": "1.5.0",
            "_view_name": "ProgressView",
            "bar_style": "success",
            "description": "",
            "description_tooltip": null,
            "layout": "IPY_MODEL_79f214d6671a43cdaa82204e4aa67e4c",
            "max": 481,
            "min": 0,
            "orientation": "horizontal",
            "style": "IPY_MODEL_e3882c6255654c93ac1490f7be813abd",
            "value": 481
          }
        },
        "0de1ee66521441b781ba7a62c13be6c6": {
          "model_module": "@jupyter-widgets/controls",
          "model_name": "HTMLModel",
          "model_module_version": "1.5.0",
          "state": {
            "_dom_classes": [],
            "_model_module": "@jupyter-widgets/controls",
            "_model_module_version": "1.5.0",
            "_model_name": "HTMLModel",
            "_view_count": null,
            "_view_module": "@jupyter-widgets/controls",
            "_view_module_version": "1.5.0",
            "_view_name": "HTMLView",
            "description": "",
            "description_tooltip": null,
            "layout": "IPY_MODEL_b8d3a8ff6abc4d51901cf3c026f3e57b",
            "placeholder": "​",
            "style": "IPY_MODEL_94376a6bafad49748daddf945de30ef3",
            "value": " 481/481 [00:00&lt;00:00, 35.7kB/s]"
          }
        },
        "907720dc2fbc45c0b371d9ceb4eb6128": {
          "model_module": "@jupyter-widgets/base",
          "model_name": "LayoutModel",
          "model_module_version": "1.2.0",
          "state": {
            "_model_module": "@jupyter-widgets/base",
            "_model_module_version": "1.2.0",
            "_model_name": "LayoutModel",
            "_view_count": null,
            "_view_module": "@jupyter-widgets/base",
            "_view_module_version": "1.2.0",
            "_view_name": "LayoutView",
            "align_content": null,
            "align_items": null,
            "align_self": null,
            "border": null,
            "bottom": null,
            "display": null,
            "flex": null,
            "flex_flow": null,
            "grid_area": null,
            "grid_auto_columns": null,
            "grid_auto_flow": null,
            "grid_auto_rows": null,
            "grid_column": null,
            "grid_gap": null,
            "grid_row": null,
            "grid_template_areas": null,
            "grid_template_columns": null,
            "grid_template_rows": null,
            "height": null,
            "justify_content": null,
            "justify_items": null,
            "left": null,
            "margin": null,
            "max_height": null,
            "max_width": null,
            "min_height": null,
            "min_width": null,
            "object_fit": null,
            "object_position": null,
            "order": null,
            "overflow": null,
            "overflow_x": null,
            "overflow_y": null,
            "padding": null,
            "right": null,
            "top": null,
            "visibility": null,
            "width": null
          }
        },
        "7b2014230e06461686efee129e89d090": {
          "model_module": "@jupyter-widgets/base",
          "model_name": "LayoutModel",
          "model_module_version": "1.2.0",
          "state": {
            "_model_module": "@jupyter-widgets/base",
            "_model_module_version": "1.2.0",
            "_model_name": "LayoutModel",
            "_view_count": null,
            "_view_module": "@jupyter-widgets/base",
            "_view_module_version": "1.2.0",
            "_view_name": "LayoutView",
            "align_content": null,
            "align_items": null,
            "align_self": null,
            "border": null,
            "bottom": null,
            "display": null,
            "flex": null,
            "flex_flow": null,
            "grid_area": null,
            "grid_auto_columns": null,
            "grid_auto_flow": null,
            "grid_auto_rows": null,
            "grid_column": null,
            "grid_gap": null,
            "grid_row": null,
            "grid_template_areas": null,
            "grid_template_columns": null,
            "grid_template_rows": null,
            "height": null,
            "justify_content": null,
            "justify_items": null,
            "left": null,
            "margin": null,
            "max_height": null,
            "max_width": null,
            "min_height": null,
            "min_width": null,
            "object_fit": null,
            "object_position": null,
            "order": null,
            "overflow": null,
            "overflow_x": null,
            "overflow_y": null,
            "padding": null,
            "right": null,
            "top": null,
            "visibility": null,
            "width": null
          }
        },
        "df1f8fb57f3c4bf391dbc469c44fcd6b": {
          "model_module": "@jupyter-widgets/controls",
          "model_name": "DescriptionStyleModel",
          "model_module_version": "1.5.0",
          "state": {
            "_model_module": "@jupyter-widgets/controls",
            "_model_module_version": "1.5.0",
            "_model_name": "DescriptionStyleModel",
            "_view_count": null,
            "_view_module": "@jupyter-widgets/base",
            "_view_module_version": "1.2.0",
            "_view_name": "StyleView",
            "description_width": ""
          }
        },
        "79f214d6671a43cdaa82204e4aa67e4c": {
          "model_module": "@jupyter-widgets/base",
          "model_name": "LayoutModel",
          "model_module_version": "1.2.0",
          "state": {
            "_model_module": "@jupyter-widgets/base",
            "_model_module_version": "1.2.0",
            "_model_name": "LayoutModel",
            "_view_count": null,
            "_view_module": "@jupyter-widgets/base",
            "_view_module_version": "1.2.0",
            "_view_name": "LayoutView",
            "align_content": null,
            "align_items": null,
            "align_self": null,
            "border": null,
            "bottom": null,
            "display": null,
            "flex": null,
            "flex_flow": null,
            "grid_area": null,
            "grid_auto_columns": null,
            "grid_auto_flow": null,
            "grid_auto_rows": null,
            "grid_column": null,
            "grid_gap": null,
            "grid_row": null,
            "grid_template_areas": null,
            "grid_template_columns": null,
            "grid_template_rows": null,
            "height": null,
            "justify_content": null,
            "justify_items": null,
            "left": null,
            "margin": null,
            "max_height": null,
            "max_width": null,
            "min_height": null,
            "min_width": null,
            "object_fit": null,
            "object_position": null,
            "order": null,
            "overflow": null,
            "overflow_x": null,
            "overflow_y": null,
            "padding": null,
            "right": null,
            "top": null,
            "visibility": null,
            "width": null
          }
        },
        "e3882c6255654c93ac1490f7be813abd": {
          "model_module": "@jupyter-widgets/controls",
          "model_name": "ProgressStyleModel",
          "model_module_version": "1.5.0",
          "state": {
            "_model_module": "@jupyter-widgets/controls",
            "_model_module_version": "1.5.0",
            "_model_name": "ProgressStyleModel",
            "_view_count": null,
            "_view_module": "@jupyter-widgets/base",
            "_view_module_version": "1.2.0",
            "_view_name": "StyleView",
            "bar_color": null,
            "description_width": ""
          }
        },
        "b8d3a8ff6abc4d51901cf3c026f3e57b": {
          "model_module": "@jupyter-widgets/base",
          "model_name": "LayoutModel",
          "model_module_version": "1.2.0",
          "state": {
            "_model_module": "@jupyter-widgets/base",
            "_model_module_version": "1.2.0",
            "_model_name": "LayoutModel",
            "_view_count": null,
            "_view_module": "@jupyter-widgets/base",
            "_view_module_version": "1.2.0",
            "_view_name": "LayoutView",
            "align_content": null,
            "align_items": null,
            "align_self": null,
            "border": null,
            "bottom": null,
            "display": null,
            "flex": null,
            "flex_flow": null,
            "grid_area": null,
            "grid_auto_columns": null,
            "grid_auto_flow": null,
            "grid_auto_rows": null,
            "grid_column": null,
            "grid_gap": null,
            "grid_row": null,
            "grid_template_areas": null,
            "grid_template_columns": null,
            "grid_template_rows": null,
            "height": null,
            "justify_content": null,
            "justify_items": null,
            "left": null,
            "margin": null,
            "max_height": null,
            "max_width": null,
            "min_height": null,
            "min_width": null,
            "object_fit": null,
            "object_position": null,
            "order": null,
            "overflow": null,
            "overflow_x": null,
            "overflow_y": null,
            "padding": null,
            "right": null,
            "top": null,
            "visibility": null,
            "width": null
          }
        },
        "94376a6bafad49748daddf945de30ef3": {
          "model_module": "@jupyter-widgets/controls",
          "model_name": "DescriptionStyleModel",
          "model_module_version": "1.5.0",
          "state": {
            "_model_module": "@jupyter-widgets/controls",
            "_model_module_version": "1.5.0",
            "_model_name": "DescriptionStyleModel",
            "_view_count": null,
            "_view_module": "@jupyter-widgets/base",
            "_view_module_version": "1.2.0",
            "_view_name": "StyleView",
            "description_width": ""
          }
        }
      }
    }
  },
  "nbformat": 4,
  "nbformat_minor": 0
}